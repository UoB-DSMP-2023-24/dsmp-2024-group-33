{
 "cells": [
  {
   "cell_type": "code",
   "execution_count": null,
   "id": "c4c26c58",
   "metadata": {},
   "outputs": [],
   "source": []
  },
  {
   "cell_type": "markdown",
   "id": "e804f205",
   "metadata": {},
   "source": [
    "\n",
    "# SEGMENTATION\n"
   ]
  },
  {
   "cell_type": "code",
   "execution_count": 1,
   "id": "adcf2f90",
   "metadata": {},
   "outputs": [
    {
     "data": {
      "text/html": [
       "<div>\n",
       "<style scoped>\n",
       "    .dataframe tbody tr th:only-of-type {\n",
       "        vertical-align: middle;\n",
       "    }\n",
       "\n",
       "    .dataframe tbody tr th {\n",
       "        vertical-align: top;\n",
       "    }\n",
       "\n",
       "    .dataframe thead th {\n",
       "        text-align: right;\n",
       "    }\n",
       "</style>\n",
       "<table border=\"1\" class=\"dataframe\">\n",
       "  <thead>\n",
       "    <tr style=\"text-align: right;\">\n",
       "      <th></th>\n",
       "      <th>Date</th>\n",
       "      <th>Timestamp</th>\n",
       "      <th>Account No</th>\n",
       "      <th>Balance</th>\n",
       "      <th>Amount</th>\n",
       "      <th>Third Party Account No</th>\n",
       "      <th>Third Party Name</th>\n",
       "    </tr>\n",
       "  </thead>\n",
       "  <tbody>\n",
       "    <tr>\n",
       "      <th>0</th>\n",
       "      <td>01/01/2023</td>\n",
       "      <td>00:00</td>\n",
       "      <td>678330503.0</td>\n",
       "      <td>2971.0</td>\n",
       "      <td>1584.0</td>\n",
       "      <td>NaN</td>\n",
       "      <td>Westport Care Home</td>\n",
       "    </tr>\n",
       "    <tr>\n",
       "      <th>1</th>\n",
       "      <td>01/01/2023</td>\n",
       "      <td>00:00</td>\n",
       "      <td>472213568.0</td>\n",
       "      <td>3792.0</td>\n",
       "      <td>1950.0</td>\n",
       "      <td>NaN</td>\n",
       "      <td>Barbiee Boutique</td>\n",
       "    </tr>\n",
       "    <tr>\n",
       "      <th>2</th>\n",
       "      <td>01/01/2023</td>\n",
       "      <td>00:00</td>\n",
       "      <td>472213568.0</td>\n",
       "      <td>3012.0</td>\n",
       "      <td>-780.0</td>\n",
       "      <td>283027736.0</td>\n",
       "      <td>NaN</td>\n",
       "    </tr>\n",
       "    <tr>\n",
       "      <th>3</th>\n",
       "      <td>01/01/2023</td>\n",
       "      <td>00:00</td>\n",
       "      <td>283027736.0</td>\n",
       "      <td>1787.0</td>\n",
       "      <td>780.0</td>\n",
       "      <td>472213568.0</td>\n",
       "      <td>NaN</td>\n",
       "    </tr>\n",
       "    <tr>\n",
       "      <th>4</th>\n",
       "      <td>01/01/2023</td>\n",
       "      <td>00:00</td>\n",
       "      <td>624500124.0</td>\n",
       "      <td>3226.0</td>\n",
       "      <td>1825.0</td>\n",
       "      <td>NaN</td>\n",
       "      <td>Fat Face</td>\n",
       "    </tr>\n",
       "  </tbody>\n",
       "</table>\n",
       "</div>"
      ],
      "text/plain": [
       "         Date Timestamp   Account No  Balance  Amount  Third Party Account No  \\\n",
       "0  01/01/2023     00:00  678330503.0   2971.0  1584.0                     NaN   \n",
       "1  01/01/2023     00:00  472213568.0   3792.0  1950.0                     NaN   \n",
       "2  01/01/2023     00:00  472213568.0   3012.0  -780.0             283027736.0   \n",
       "3  01/01/2023     00:00  283027736.0   1787.0   780.0             472213568.0   \n",
       "4  01/01/2023     00:00  624500124.0   3226.0  1825.0                     NaN   \n",
       "\n",
       "     Third Party Name  \n",
       "0  Westport Care Home  \n",
       "1    Barbiee Boutique  \n",
       "2                 NaN  \n",
       "3                 NaN  \n",
       "4            Fat Face  "
      ]
     },
     "execution_count": 1,
     "metadata": {},
     "output_type": "execute_result"
    }
   ],
   "source": [
    "import warnings\n",
    "warnings.filterwarnings('ignore')\n",
    "import pandas as pd\n",
    "import numpy as np\n",
    "import matplotlib.pyplot as plt\n",
    "import seaborn as sns\n",
    "%matplotlib inline\n",
    "\n",
    "# Load the dataset\n",
    "data = pd.read_csv('simulated_transaction_2024.csv')\n",
    "data.head()"
   ]
  },
  {
   "cell_type": "code",
   "execution_count": 2,
   "id": "0f0b66f2",
   "metadata": {},
   "outputs": [
    {
     "name": "stdout",
     "output_type": "stream",
     "text": [
      "<class 'pandas.core.frame.DataFrame'>\n",
      "RangeIndex: 230596 entries, 0 to 230595\n",
      "Data columns (total 7 columns):\n",
      " #   Column                  Non-Null Count   Dtype  \n",
      "---  ------                  --------------   -----  \n",
      " 0   Date                    230367 non-null  object \n",
      " 1   Timestamp               230345 non-null  object \n",
      " 2   Account No              230372 non-null  float64\n",
      " 3   Balance                 230350 non-null  float64\n",
      " 4   Amount                  230387 non-null  float64\n",
      " 5   Third Party Account No  6832 non-null    float64\n",
      " 6   Third Party Name        223517 non-null  object \n",
      "dtypes: float64(4), object(3)\n",
      "memory usage: 12.3+ MB\n"
     ]
    }
   ],
   "source": [
    "data.info()"
   ]
  },
  {
   "cell_type": "code",
   "execution_count": 3,
   "id": "890b892d",
   "metadata": {},
   "outputs": [
    {
     "data": {
      "text/plain": [
       "(230596, 7)"
      ]
     },
     "execution_count": 3,
     "metadata": {},
     "output_type": "execute_result"
    }
   ],
   "source": [
    "data.shape "
   ]
  },
  {
   "cell_type": "code",
   "execution_count": 4,
   "id": "2813040d",
   "metadata": {},
   "outputs": [
    {
     "data": {
      "text/plain": [
       "Index(['Date', 'Timestamp', 'Account No', 'Balance', 'Amount',\n",
       "       'Third Party Account No', 'Third Party Name'],\n",
       "      dtype='object')"
      ]
     },
     "execution_count": 4,
     "metadata": {},
     "output_type": "execute_result"
    }
   ],
   "source": [
    "data.columns"
   ]
  },
  {
   "cell_type": "code",
   "execution_count": 5,
   "id": "55d03c33",
   "metadata": {},
   "outputs": [
    {
     "data": {
      "text/plain": [
       "Date                       object\n",
       "Timestamp                  object\n",
       "Account No                float64\n",
       "Balance                   float64\n",
       "Amount                    float64\n",
       "Third Party Account No    float64\n",
       "Third Party Name           object\n",
       "dtype: object"
      ]
     },
     "execution_count": 5,
     "metadata": {},
     "output_type": "execute_result"
    }
   ],
   "source": [
    "data.dtypes"
   ]
  },
  {
   "cell_type": "code",
   "execution_count": 6,
   "id": "04194698",
   "metadata": {},
   "outputs": [
    {
     "data": {
      "text/html": [
       "<div>\n",
       "<style scoped>\n",
       "    .dataframe tbody tr th:only-of-type {\n",
       "        vertical-align: middle;\n",
       "    }\n",
       "\n",
       "    .dataframe tbody tr th {\n",
       "        vertical-align: top;\n",
       "    }\n",
       "\n",
       "    .dataframe thead th {\n",
       "        text-align: right;\n",
       "    }\n",
       "</style>\n",
       "<table border=\"1\" class=\"dataframe\">\n",
       "  <thead>\n",
       "    <tr style=\"text-align: right;\">\n",
       "      <th></th>\n",
       "      <th>Account No</th>\n",
       "      <th>Balance</th>\n",
       "      <th>Amount</th>\n",
       "      <th>Third Party Account No</th>\n",
       "    </tr>\n",
       "  </thead>\n",
       "  <tbody>\n",
       "    <tr>\n",
       "      <th>count</th>\n",
       "      <td>2.303720e+05</td>\n",
       "      <td>230350.000000</td>\n",
       "      <td>230387.000000</td>\n",
       "      <td>6.832000e+03</td>\n",
       "    </tr>\n",
       "    <tr>\n",
       "      <th>mean</th>\n",
       "      <td>5.505993e+08</td>\n",
       "      <td>3609.351057</td>\n",
       "      <td>6.437717</td>\n",
       "      <td>5.370263e+08</td>\n",
       "    </tr>\n",
       "    <tr>\n",
       "      <th>std</th>\n",
       "      <td>2.560610e+08</td>\n",
       "      <td>5379.331174</td>\n",
       "      <td>508.200101</td>\n",
       "      <td>2.596927e+08</td>\n",
       "    </tr>\n",
       "    <tr>\n",
       "      <th>min</th>\n",
       "      <td>1.015313e+08</td>\n",
       "      <td>-5790.983500</td>\n",
       "      <td>-12240.000000</td>\n",
       "      <td>1.019085e+08</td>\n",
       "    </tr>\n",
       "    <tr>\n",
       "      <th>25%</th>\n",
       "      <td>3.314502e+08</td>\n",
       "      <td>373.453932</td>\n",
       "      <td>-74.000000</td>\n",
       "      <td>3.114679e+08</td>\n",
       "    </tr>\n",
       "    <tr>\n",
       "      <th>50%</th>\n",
       "      <td>5.501698e+08</td>\n",
       "      <td>1686.009850</td>\n",
       "      <td>-28.700000</td>\n",
       "      <td>5.381491e+08</td>\n",
       "    </tr>\n",
       "    <tr>\n",
       "      <th>75%</th>\n",
       "      <td>7.682718e+08</td>\n",
       "      <td>5215.031852</td>\n",
       "      <td>-12.060000</td>\n",
       "      <td>7.485097e+08</td>\n",
       "    </tr>\n",
       "    <tr>\n",
       "      <th>max</th>\n",
       "      <td>9.997527e+08</td>\n",
       "      <td>46804.158837</td>\n",
       "      <td>12240.000000</td>\n",
       "      <td>9.997527e+08</td>\n",
       "    </tr>\n",
       "  </tbody>\n",
       "</table>\n",
       "</div>"
      ],
      "text/plain": [
       "         Account No        Balance         Amount  Third Party Account No\n",
       "count  2.303720e+05  230350.000000  230387.000000            6.832000e+03\n",
       "mean   5.505993e+08    3609.351057       6.437717            5.370263e+08\n",
       "std    2.560610e+08    5379.331174     508.200101            2.596927e+08\n",
       "min    1.015313e+08   -5790.983500  -12240.000000            1.019085e+08\n",
       "25%    3.314502e+08     373.453932     -74.000000            3.114679e+08\n",
       "50%    5.501698e+08    1686.009850     -28.700000            5.381491e+08\n",
       "75%    7.682718e+08    5215.031852     -12.060000            7.485097e+08\n",
       "max    9.997527e+08   46804.158837   12240.000000            9.997527e+08"
      ]
     },
     "execution_count": 6,
     "metadata": {},
     "output_type": "execute_result"
    }
   ],
   "source": [
    "data.describe()"
   ]
  },
  {
   "cell_type": "code",
   "execution_count": 7,
   "id": "782f3693",
   "metadata": {},
   "outputs": [
    {
     "data": {
      "text/plain": [
       "Date                         229\n",
       "Timestamp                    251\n",
       "Account No                   224\n",
       "Balance                      246\n",
       "Amount                       209\n",
       "Third Party Account No    223764\n",
       "Third Party Name            7079\n",
       "dtype: int64"
      ]
     },
     "execution_count": 7,
     "metadata": {},
     "output_type": "execute_result"
    }
   ],
   "source": [
    "data.isnull().sum()"
   ]
  },
  {
   "cell_type": "code",
   "execution_count": 11,
   "id": "ac6dc14b",
   "metadata": {},
   "outputs": [
    {
     "data": {
      "text/plain": [
       "Date              340\n",
       "Timestamp        1401\n",
       "Account No        976\n",
       "Balance        229888\n",
       "Amount          17314\n",
       "Third Party       756\n",
       "dtype: int64"
      ]
     },
     "execution_count": 11,
     "metadata": {},
     "output_type": "execute_result"
    }
   ],
   "source": [
    "data.nunique()"
   ]
  },
  {
   "cell_type": "code",
   "execution_count": 8,
   "id": "f534c5a8",
   "metadata": {},
   "outputs": [],
   "source": [
    "# Convert 'Third Party Account No' to nullable integer type\n",
    "data['Third Party Account No'] = data['Third Party Account No'].astype('Int64')"
   ]
  },
  {
   "cell_type": "code",
   "execution_count": 9,
   "id": "84ca7a64",
   "metadata": {},
   "outputs": [],
   "source": [
    "# Create a new 'Third Party' column\n",
    "data['Third Party'] = data['Third Party Name'].combine_first(data['Third Party Account No'])"
   ]
  },
  {
   "cell_type": "code",
   "execution_count": 10,
   "id": "0c32ae7e",
   "metadata": {},
   "outputs": [],
   "source": [
    "# Drop the original 'Third Party Account No' and 'Third Party Name' columns\n",
    "data.drop(columns=['Third Party Account No', 'Third Party Name'], inplace=True)"
   ]
  },
  {
   "cell_type": "code",
   "execution_count": 12,
   "id": "33832fd7",
   "metadata": {
    "scrolled": true
   },
   "outputs": [
    {
     "data": {
      "text/plain": [
       "Date           229\n",
       "Timestamp      251\n",
       "Account No     224\n",
       "Balance        246\n",
       "Amount         209\n",
       "Third Party    247\n",
       "dtype: int64"
      ]
     },
     "execution_count": 12,
     "metadata": {},
     "output_type": "execute_result"
    }
   ],
   "source": [
    "data.isnull().sum()"
   ]
  },
  {
   "cell_type": "code",
   "execution_count": 13,
   "id": "44aa5b21",
   "metadata": {},
   "outputs": [
    {
     "name": "stdout",
     "output_type": "stream",
     "text": [
      "Date           0\n",
      "Timestamp      0\n",
      "Account No     0\n",
      "Balance        0\n",
      "Amount         0\n",
      "Third Party    0\n",
      "dtype: int64\n"
     ]
    }
   ],
   "source": [
    "data = data.dropna()\n",
    "# Check null values after dropping\n",
    "print(data.isnull().sum())"
   ]
  },
  {
   "cell_type": "code",
   "execution_count": 14,
   "id": "a65629e6",
   "metadata": {},
   "outputs": [],
   "source": [
    "# Identify debits and credits\n",
    "debits = data[data['Amount'] < 0]\n",
    "credits = data[data['Amount'] > 0]"
   ]
  },
  {
   "cell_type": "code",
   "execution_count": 15,
   "id": "4525045d",
   "metadata": {},
   "outputs": [],
   "source": [
    "# nearest integer/ rounding\n",
    "data['Balance'] = data['Balance'].round().astype(int)\n",
    "data['Amount'] = data['Amount'].round().astype(int)"
   ]
  },
  {
   "cell_type": "code",
   "execution_count": 17,
   "id": "5927d011",
   "metadata": {},
   "outputs": [],
   "source": [
    "data['Account No'] = data['Account No'].round().astype(int)"
   ]
  },
  {
   "cell_type": "code",
   "execution_count": 19,
   "id": "956d6c3f",
   "metadata": {},
   "outputs": [
    {
     "data": {
      "text/html": [
       "<div>\n",
       "<style scoped>\n",
       "    .dataframe tbody tr th:only-of-type {\n",
       "        vertical-align: middle;\n",
       "    }\n",
       "\n",
       "    .dataframe tbody tr th {\n",
       "        vertical-align: top;\n",
       "    }\n",
       "\n",
       "    .dataframe thead th {\n",
       "        text-align: right;\n",
       "    }\n",
       "</style>\n",
       "<table border=\"1\" class=\"dataframe\">\n",
       "  <thead>\n",
       "    <tr style=\"text-align: right;\">\n",
       "      <th></th>\n",
       "      <th>Date</th>\n",
       "      <th>Timestamp</th>\n",
       "      <th>Account No</th>\n",
       "      <th>Balance</th>\n",
       "      <th>Amount</th>\n",
       "      <th>Third Party</th>\n",
       "    </tr>\n",
       "  </thead>\n",
       "  <tbody>\n",
       "    <tr>\n",
       "      <th>0</th>\n",
       "      <td>01/01/2023</td>\n",
       "      <td>00:00</td>\n",
       "      <td>678330503</td>\n",
       "      <td>2971</td>\n",
       "      <td>1584</td>\n",
       "      <td>Westport Care Home</td>\n",
       "    </tr>\n",
       "    <tr>\n",
       "      <th>1</th>\n",
       "      <td>01/01/2023</td>\n",
       "      <td>00:00</td>\n",
       "      <td>472213568</td>\n",
       "      <td>3792</td>\n",
       "      <td>1950</td>\n",
       "      <td>Barbiee Boutique</td>\n",
       "    </tr>\n",
       "    <tr>\n",
       "      <th>2</th>\n",
       "      <td>01/01/2023</td>\n",
       "      <td>00:00</td>\n",
       "      <td>472213568</td>\n",
       "      <td>3012</td>\n",
       "      <td>-780</td>\n",
       "      <td>283027736</td>\n",
       "    </tr>\n",
       "    <tr>\n",
       "      <th>3</th>\n",
       "      <td>01/01/2023</td>\n",
       "      <td>00:00</td>\n",
       "      <td>283027736</td>\n",
       "      <td>1787</td>\n",
       "      <td>780</td>\n",
       "      <td>472213568</td>\n",
       "    </tr>\n",
       "    <tr>\n",
       "      <th>4</th>\n",
       "      <td>01/01/2023</td>\n",
       "      <td>00:00</td>\n",
       "      <td>624500124</td>\n",
       "      <td>3226</td>\n",
       "      <td>1825</td>\n",
       "      <td>Fat Face</td>\n",
       "    </tr>\n",
       "    <tr>\n",
       "      <th>...</th>\n",
       "      <td>...</td>\n",
       "      <td>...</td>\n",
       "      <td>...</td>\n",
       "      <td>...</td>\n",
       "      <td>...</td>\n",
       "      <td>...</td>\n",
       "    </tr>\n",
       "    <tr>\n",
       "      <th>230591</th>\n",
       "      <td>06/12/2023</td>\n",
       "      <td>20:54</td>\n",
       "      <td>581655972</td>\n",
       "      <td>45935</td>\n",
       "      <td>-41</td>\n",
       "      <td>Tesco</td>\n",
       "    </tr>\n",
       "    <tr>\n",
       "      <th>230592</th>\n",
       "      <td>06/12/2023</td>\n",
       "      <td>20:55</td>\n",
       "      <td>786141370</td>\n",
       "      <td>-245</td>\n",
       "      <td>-62</td>\n",
       "      <td>Sainsbury Local</td>\n",
       "    </tr>\n",
       "    <tr>\n",
       "      <th>230593</th>\n",
       "      <td>06/12/2023</td>\n",
       "      <td>21:05</td>\n",
       "      <td>824916823</td>\n",
       "      <td>9709</td>\n",
       "      <td>-33</td>\n",
       "      <td>Deliveroo</td>\n",
       "    </tr>\n",
       "    <tr>\n",
       "      <th>230594</th>\n",
       "      <td>06/12/2023</td>\n",
       "      <td>21:13</td>\n",
       "      <td>366550080</td>\n",
       "      <td>26834</td>\n",
       "      <td>-19</td>\n",
       "      <td>Amazon</td>\n",
       "    </tr>\n",
       "    <tr>\n",
       "      <th>230595</th>\n",
       "      <td>06/12/2023</td>\n",
       "      <td>21:32</td>\n",
       "      <td>259015404</td>\n",
       "      <td>1145</td>\n",
       "      <td>-38</td>\n",
       "      <td>JustEat</td>\n",
       "    </tr>\n",
       "  </tbody>\n",
       "</table>\n",
       "<p>229194 rows × 6 columns</p>\n",
       "</div>"
      ],
      "text/plain": [
       "              Date Timestamp  Account No  Balance  Amount         Third Party\n",
       "0       01/01/2023     00:00   678330503     2971    1584  Westport Care Home\n",
       "1       01/01/2023     00:00   472213568     3792    1950    Barbiee Boutique\n",
       "2       01/01/2023     00:00   472213568     3012    -780           283027736\n",
       "3       01/01/2023     00:00   283027736     1787     780           472213568\n",
       "4       01/01/2023     00:00   624500124     3226    1825            Fat Face\n",
       "...            ...       ...         ...      ...     ...                 ...\n",
       "230591  06/12/2023     20:54   581655972    45935     -41               Tesco\n",
       "230592  06/12/2023     20:55   786141370     -245     -62     Sainsbury Local\n",
       "230593  06/12/2023     21:05   824916823     9709     -33           Deliveroo\n",
       "230594  06/12/2023     21:13   366550080    26834     -19              Amazon\n",
       "230595  06/12/2023     21:32   259015404     1145     -38             JustEat\n",
       "\n",
       "[229194 rows x 6 columns]"
      ]
     },
     "execution_count": 19,
     "metadata": {},
     "output_type": "execute_result"
    }
   ],
   "source": [
    "data"
   ]
  },
  {
   "cell_type": "code",
   "execution_count": null,
   "id": "10f1da03",
   "metadata": {},
   "outputs": [],
   "source": []
  },
  {
   "cell_type": "code",
   "execution_count": null,
   "id": "216697ea",
   "metadata": {},
   "outputs": [],
   "source": []
  },
  {
   "cell_type": "code",
   "execution_count": null,
   "id": "4f97c906",
   "metadata": {},
   "outputs": [],
   "source": []
  },
  {
   "cell_type": "markdown",
   "id": "43f9a075",
   "metadata": {},
   "source": [
    "# Segmentation by Transaction Amount"
   ]
  },
  {
   "cell_type": "code",
   "execution_count": null,
   "id": "27619e23",
   "metadata": {},
   "outputs": [],
   "source": [
    "# Define bins and labels for transaction amount segmentation\n",
    "amount_bins = [-float('inf'), 25, 50, float('inf')]\n",
    "amount_labels = ['Low', 'Medium', 'High']\n",
    "\n",
    "# Segment transactions based on Amount\n",
    "data['Amount_Segment'] = pd.cut(data['Amount'], bins=amount_bins, labels=amount_labels)\n",
    "print(data['Amount_Segment'].value_counts())\n"
   ]
  },
  {
   "cell_type": "markdown",
   "id": "5ad8dcda",
   "metadata": {},
   "source": [
    "# Transaction Frequency Segmentation"
   ]
  },
  {
   "cell_type": "code",
   "execution_count": null,
   "id": "9166de68",
   "metadata": {},
   "outputs": [],
   "source": [
    "# Count the number of transactions per account\n",
    "transaction_freq = data['Account No'].value_counts()\n",
    "\n",
    "# Define thresholds based on quantiles for segmentation\n",
    "freq_thresholds = [0, transaction_freq.quantile(0.33), transaction_freq.quantile(0.66), float('inf')]\n",
    "freq_labels = ['Low', 'Medium', 'High']\n",
    "\n",
    "# Segment customers based on transaction frequency\n",
    "data['Freq_Segment'] = pd.cut(data['Account No'].map(transaction_freq), bins=freq_thresholds, labels=freq_labels)\n",
    "print(data['Freq_Segment'].value_counts())"
   ]
  },
  {
   "cell_type": "code",
   "execution_count": null,
   "id": "bbedad83",
   "metadata": {},
   "outputs": [],
   "source": [
    "## monthly"
   ]
  },
  {
   "cell_type": "code",
   "execution_count": null,
   "id": "2e9e3cc3",
   "metadata": {},
   "outputs": [],
   "source": [
    "# Count the number of outlier transactions for each account\n",
    "account_outlier_counts = outlier_transactions['Account No'].value_counts()\n",
    "\n",
    "# Merge this with the main data to see if these accounts also show unusual transaction times\n",
    "outlier_accounts = pd.DataFrame(account_outlier_counts).reset_index()\n",
    "outlier_accounts.columns = ['Account No', 'Outlier Count']\n",
    "\n",
    "# Examine accounts with the highest number of outlier transactions\n",
    "high_outlier_accounts = outlier_accounts[outlier_accounts['Outlier Count'] > outlier_accounts['Outlier Count'].quantile(0.95)]\n",
    "\n",
    "# Display the details of accounts with high outlier transactions\n",
    "high_outlier_accounts.head(), high_outlier_accounts.describe()\n"
   ]
  },
  {
   "cell_type": "code",
   "execution_count": null,
   "id": "a5a443b5",
   "metadata": {},
   "outputs": [],
   "source": [
    "data['Third Party'].nunique()"
   ]
  },
  {
   "cell_type": "code",
   "execution_count": null,
   "id": "944a3e1e",
   "metadata": {},
   "outputs": [],
   "source": [
    "top_parties = data['Third Party'].value_counts().head(10)\n",
    "\n",
    "plt.figure(figsize=(7,3))\n",
    "sns.barplot(x=top_parties.values, y=top_parties.index, palette='viridis')\n",
    "plt.title('Top 10 Third Parties by Transaction Frequency', fontsize=16)\n",
    "plt.xlabel('Number of Transactions', fontsize=14)\n",
    "plt.ylabel('Third Party', fontsize=14)\n",
    "plt.grid(True, axis='x')\n",
    "plt.show()"
   ]
  },
  {
   "cell_type": "code",
   "execution_count": null,
   "id": "5d3062e8",
   "metadata": {},
   "outputs": [],
   "source": []
  },
  {
   "cell_type": "markdown",
   "id": "e8461c99",
   "metadata": {},
   "source": [
    "# Temporal analysis:"
   ]
  },
  {
   "cell_type": "code",
   "execution_count": null,
   "id": "60c89d8a",
   "metadata": {},
   "outputs": [],
   "source": [
    "## EDA\n",
    "\n",
    "# Assuming 'data' is your DataFrame\n",
    "data['Datetime'] = pd.to_datetime(data['Datetime'])\n",
    "\n",
    "# Descriptive statistics\n",
    "print(data.describe())\n",
    "print(data['Transaction Type'].value_counts())\n",
    "\n",
    "# Missing values check\n",
    "print(data.isnull().sum())\n",
    "\n",
    "# New features\n",
    "data['Day of Week'] = data['Datetime'].dt.day_name()\n",
    "data['Hour of Day'] = data['Datetime'].dt.hour\n",
    "\n",
    "# Transaction trends\n",
    "plt.figure(figsize=(14, 7))\n",
    "sns.lineplot(x='Datetime', y='Amount', data=data)\n",
    "plt.title('Transaction Amount Over Time')\n",
    "plt.xlabel('Datetime')\n",
    "plt.ylabel('Amount')\n",
    "plt.show()\n",
    "\n",
    "# Distribution of transactions\n",
    "plt.figure(figsize=(10, 6))\n",
    "sns.histplot(data['Amount'], bins=30, kde=True)\n",
    "plt.title('Distribution of Transaction Amounts')\n",
    "plt.xlabel('Transaction Amount')\n",
    "plt.show()\n",
    "\n",
    "# Balance over time for a specific account\n",
    "sample_account = data[data['Account No'] == data['Account No'].unique()[0]]\n",
    "plt.figure(figsize=(14, 7))\n",
    "plt.plot(sample_account['Datetime'], sample_account['Balance'], marker='o')\n",
    "plt.title('Balance Over Time for Account No: {}'.format(sample_account['Account No'].iloc[0]))\n",
    "plt.xlabel('Datetime')\n",
    "plt.ylabel('Balance')\n",
    "plt.grid(True)\n",
    "plt.show()\n",
    "\n",
    "# Correlation matrix\n",
    "corr = data[['Balance', 'Amount']].corr()\n",
    "sns.heatmap(corr, annot=True, cmap='coolwarm')\n",
    "plt.title('Correlation Matrix')\n",
    "plt.show()"
   ]
  },
  {
   "cell_type": "code",
   "execution_count": null,
   "id": "66a11acc",
   "metadata": {},
   "outputs": [],
   "source": [
    "data"
   ]
  },
  {
   "cell_type": "code",
   "execution_count": null,
   "id": "55daaff4",
   "metadata": {},
   "outputs": [],
   "source": [
    "# Assuming data is already loaded into a DataFrame named `data`\n",
    "# Convert 'Datetime' from string to datetime format if not already done\n",
    "data['Datetime'] = pd.to_datetime(data['Datetime'])\n",
    "\n",
    "# Create time-based features\n",
    "data['Hour'] = data['Datetime'].dt.hour\n",
    "data['Day of Week'] = data['Datetime'].dt.day_name()\n",
    "data['Month'] = data['Datetime'].dt.month\n",
    "\n",
    "# Plot transactions over time to identify peaks\n",
    "plt.figure(figsize=(12, 6))\n",
    "sns.lineplot(x='Hour', y='Amount', data=data, estimator=sum, ci=None)\n",
    "plt.title('Total Transaction Amount by Hour of Day')\n",
    "plt.show()\n",
    "\n",
    "# Analyzing transactions by day of week\n",
    "plt.figure(figsize=(12, 6))\n",
    "sns.barplot(x='Day of Week', y='Amount', data=data, estimator=sum)\n",
    "plt.title('Total Transaction Amount by Day of Week')\n",
    "plt.show()"
   ]
  },
  {
   "cell_type": "code",
   "execution_count": null,
   "id": "f39cdbae",
   "metadata": {},
   "outputs": [],
   "source": [
    "import pandas as pd\n",
    "import matplotlib.pyplot as plt\n",
    "import seaborn as sns\n",
    "\n",
    "# Load and prepare the data\n",
    "data['Month-Year'] = data['Datetime'].dt.to_period('M')\n",
    "monthly_data = data.groupby('Month-Year')['Amount'].sum()\n",
    "\n",
    "# Plotting a line graph of monthly transaction volumes over multiple years\n",
    "plt.figure(figsize=(14, 7))\n",
    "monthly_data.plot(title='Monthly Transaction Volumes Over Years')\n",
    "plt.xlabel('Month-Year')\n",
    "plt.ylabel('Total Transaction Volume')\n",
    "plt.grid(True)\n",
    "plt.show()\n",
    "\n",
    "# Creating a heatmap of monthly data for multiple years\n",
    "data['Year'] = data['Datetime'].dt.year\n",
    "data['Month'] = data['Datetime'].dt.month\n",
    "pivot_table = data.pivot_table(values='Amount', index='Month', columns='Year', aggfunc='sum')\n",
    "\n",
    "plt.figure(figsize=(12, 8))\n",
    "sns.heatmap(pivot_table, annot=True, fmt=\".0f\", linewidths=.5, cmap='Blues')\n",
    "plt.title('Heatmap of Transaction Volumes by Month and Year')\n",
    "plt.xlabel('Year')\n",
    "plt.ylabel('Month')\n",
    "plt.show()\n"
   ]
  },
  {
   "cell_type": "code",
   "execution_count": null,
   "id": "557003b9",
   "metadata": {},
   "outputs": [],
   "source": []
  },
  {
   "cell_type": "code",
   "execution_count": null,
   "id": "f74b07cb",
   "metadata": {},
   "outputs": [],
   "source": [
    "## marketing"
   ]
  },
  {
   "cell_type": "code",
   "execution_count": null,
   "id": "52d72af9",
   "metadata": {},
   "outputs": [],
   "source": [
    "data['Third Party Name'] = data['Third Party'].apply(lambda x: x if isinstance(x, str) else None)\n",
    "data['Third Party Account No'] = data['Third Party'].apply(lambda x: x if isinstance(x, int) else None)"
   ]
  },
  {
   "cell_type": "code",
   "execution_count": null,
   "id": "08dcf05b",
   "metadata": {},
   "outputs": [],
   "source": [
    "data['Third Party Name'] = data['Third Party Name'].str.upper().str.strip()"
   ]
  },
  {
   "cell_type": "code",
   "execution_count": null,
   "id": "0e0b9795",
   "metadata": {},
   "outputs": [],
   "source": [
    "frequent_parties = data['Third Party Name'].value_counts().head(10)"
   ]
  },
  {
   "cell_type": "code",
   "execution_count": null,
   "id": "3996eba2",
   "metadata": {},
   "outputs": [],
   "source": [
    "frequent_parties"
   ]
  },
  {
   "cell_type": "code",
   "execution_count": null,
   "id": "1d297b0b",
   "metadata": {},
   "outputs": [],
   "source": [
    "pivot_data = data.pivot_table(values='Amount', index='Third Party Name', aggfunc=['sum', 'count'])"
   ]
  },
  {
   "cell_type": "code",
   "execution_count": null,
   "id": "f477a90b",
   "metadata": {},
   "outputs": [],
   "source": [
    "import seaborn as sns\n",
    "import matplotlib.pyplot as plt\n",
    "\n",
    "# Top third parties by transaction count\n",
    "plt.figure(figsize=(10, 6))\n",
    "sns.barplot(x=frequent_parties.values, y=frequent_parties.index)\n",
    "plt.title('Most Frequent Third Parties')\n",
    "plt.xlabel('Number of Transactions')\n",
    "plt.ylabel('Third Party')\n",
    "plt.show()"
   ]
  },
  {
   "cell_type": "code",
   "execution_count": null,
   "id": "0bab7e0e",
   "metadata": {},
   "outputs": [],
   "source": [
    "import pandas as pd\n",
    "\n",
    "# Assuming 'data' is your DataFrame already loaded from previous analysis or an external file\n",
    "\n",
    "# Define the top third parties from your provided list\n",
    "frequent_parties = ['Tesco', 'Sports Direct', 'Topshop', 'Amazon', 'Fat Face', \n",
    "                    'PureGym', 'Matalan', 'Netflix', 'JustEat', 'Deliveroo']\n",
    "\n",
    "# Filter your data to include only transactions with these top third parties\n",
    "top_data = data[data['Third Party'].isin(frequent_parties)]\n",
    "\n",
    "# Customer Profiling\n",
    "# Define a function to create profiles based on transactions with specific third parties\n",
    "def identify_profile(third_party):\n",
    "    if third_party in ['Amazon']:\n",
    "        return 'Tech-Savvy Shopper'\n",
    "    elif third_party in ['PureGym']:\n",
    "        return 'Fitness Enthusiast'\n",
    "    elif third_party in ['Sports Direct']:\n",
    "        return 'Sports Equipment Lover'\n",
    "    elif third_party in ['Tesco', 'Topshop', 'Fat Face', 'Matalan']:\n",
    "        return 'Regular Retail Shopper'\n",
    "    elif third_party in ['Netflix', 'JustEat', 'Deliveroo']:\n",
    "        return 'Home Entertainment Lover'\n",
    "    else:\n",
    "        return 'General Shopper'\n",
    "\n",
    "top_data['Customer Profile'] = top_data['Third Party'].apply(identify_profile)\n",
    "\n",
    "# Personalized Communication\n",
    "# Map personalized messages to different customer segments\n",
    "personalized_messages = {\n",
    "    'Tech-Savvy Shopper': \"Explore the latest tech gadgets on Amazon with our exclusive card rewards!\",\n",
    "    'Fitness Enthusiast': \"Stay fit and healthy! Enjoy special offers from PureGym just for you.\",\n",
    "    'Sports Equipment Lover': \"Get ready to elevate your game with the best deals from Sports Direct!\",\n",
    "    'Regular Retail Shopper': \"Discover the best shopping deals and enjoy exclusive rewards at Tesco and more!\",\n",
    "    'Home Entertainment Lover': \"Enhance your home entertainment with exclusive offers from Netflix, JustEat, and Deliveroo!\"\n",
    "}\n",
    "\n",
    "top_data['Personalized Message'] = top_data['Customer Profile'].map(personalized_messages)\n",
    "\n",
    "# Product Customization\n",
    "# Suggest products based on customer profiles\n",
    "product_suggestions = {\n",
    "    'Tech-Savvy Shopper': 'High-Tech Rewards Card',\n",
    "    'Fitness Enthusiast': 'Fitness Fanatic Credit Card',\n",
    "    'Sports Equipment Lover': 'Sports Rewards Card',\n",
    "    'Regular Retail Shopper': 'Premium Retail Rewards Card',\n",
    "    'Home Entertainment Lover': 'Entertainment Rewards Card'\n",
    "}\n",
    "\n",
    "top_data['Suggested Product'] = top_data['Customer Profile'].map(product_suggestions)\n",
    "\n",
    "# Display the enhanced dataset with profiles, messages, and product suggestions\n",
    "print(top_data[['Account No', 'Third Party', 'Customer Profile', 'Personalized Message', 'Suggested Product']])\n"
   ]
  },
  {
   "cell_type": "code",
   "execution_count": null,
   "id": "fc5e3c70",
   "metadata": {},
   "outputs": [],
   "source": []
  },
  {
   "cell_type": "code",
   "execution_count": null,
   "id": "5d9f9086",
   "metadata": {},
   "outputs": [],
   "source": [
    "import pandas as pd\n",
    "\n",
    "# Assuming 'data' is your DataFrame already loaded from previous analysis\n",
    "\n",
    "# Filter data for only the top third parties you are interested in\n",
    "frequent_parties = ['Tesco', 'Sports Direct', 'Topshop', 'Amazon', 'Fat Face', \n",
    "                    'PureGym', 'Matalan', 'Netflix', 'JustEat', 'Deliveroo']\n",
    "top_data = data[data['Third Party'].isin(frequent_parties)]\n",
    "\n",
    "# Calculate frequency of transactions for each third party\n",
    "transaction_frequencies = top_data['Third Party'].value_counts()\n",
    "\n",
    "# Calculate total amount spent at each third party\n",
    "total_spent = top_data.groupby('Third Party')['Amount'].sum()\n",
    "\n",
    "# Calculate the number of unique users (accounts) for each third party\n",
    "unique_users = top_data.groupby('Third Party')['Account No'].nunique()\n",
    "\n",
    "# Combine all these metrics into a single DataFrame for a comprehensive overview\n",
    "third_party_analysis = pd.DataFrame({\n",
    "    'Frequency of Transactions': transaction_frequencies,\n",
    "    'Total Amount Spent': total_spent,\n",
    "    'Unique Users': unique_users\n",
    "})\n",
    "\n",
    "# Print the combined analysis\n",
    "print(third_party_analysis)\n"
   ]
  },
  {
   "cell_type": "markdown",
   "id": "5a33fb00",
   "metadata": {},
   "source": [
    "### Analaysis\n",
    "Transaction Frequencies: This metric shows how many transactions each third party has, which helps identify the most frequented businesses by your customers.\n",
    "\n",
    "Total Amount Spent: Knowing the total amount spent can indicate the financial significance of each third party in your customers' spending habits.\n",
    "\n",
    "Unique Users: The number of unique users transacting with each third party highlights how widely used a third party is among your customer base, which can be crucial for targeted marketing strategies."
   ]
  },
  {
   "cell_type": "code",
   "execution_count": null,
   "id": "c4153aa2",
   "metadata": {},
   "outputs": [],
   "source": [
    "import pandas as pd\n",
    "import matplotlib.pyplot as plt\n",
    "import seaborn as sns\n",
    "\n",
    "# Assuming 'top_data' is already loaded and filtered for top third parties\n",
    "\n",
    "# Calculate necessary metrics\n",
    "transaction_frequencies = top_data['Third Party'].value_counts()\n",
    "total_spent = top_data.groupby('Third Party')['Amount'].sum()\n",
    "unique_users = top_data.groupby('Third Party')['Account No'].nunique()\n",
    "\n",
    "# Creating a DataFrame for easy visualization\n",
    "third_party_metrics = pd.DataFrame({\n",
    "    'Transaction Frequencies': transaction_frequencies,\n",
    "    'Total Amount Spent': total_spent,\n",
    "    'Unique Users': unique_users\n",
    "}).sort_values(by='Transaction Frequencies', ascending=False)  # Sorting for better visual representation\n",
    "\n",
    "# Plotting\n",
    "plt.figure(figsize=(14, 7))\n",
    "\n",
    "# Subplot 1: Transaction Frequencies\n",
    "plt.subplot(1, 3, 1)\n",
    "sns.barplot(x=third_party_metrics['Transaction Frequencies'], y=third_party_metrics.index, palette='viridis')\n",
    "plt.title('Transaction Frequencies')\n",
    "plt.xlabel('Number of Transactions')\n",
    "plt.ylabel('Third Party')\n",
    "\n",
    "# Subplot 2: Total Amount Spent\n",
    "plt.subplot(1, 3, 2)\n",
    "sns.barplot(x=third_party_metrics['Total Amount Spent'], y=third_party_metrics.index, palette='viridis')\n",
    "plt.title('Total Amount Spent')\n",
    "plt.xlabel('Total Spent ($)')\n",
    "plt.ylabel('')\n",
    "\n",
    "# Subplot 3: Unique Users\n",
    "plt.subplot(1, 3, 3)\n",
    "sns.barplot(x=third_party_metrics['Unique Users'], y=third_party_metrics.index, palette='viridis')\n",
    "plt.title('Unique Users')\n",
    "plt.xlabel('Number of Unique Users')\n",
    "plt.ylabel('')\n",
    "\n",
    "plt.tight_layout()\n",
    "plt.show()"
   ]
  },
  {
   "cell_type": "code",
   "execution_count": null,
   "id": "322b7a0b",
   "metadata": {},
   "outputs": [],
   "source": [
    "import pandas as pd\n",
    "import seaborn as sns\n",
    "import matplotlib.pyplot as plt\n",
    "\n",
    "# Assuming 'top_data' is already loaded and filtered for top third parties\n",
    "\n",
    "# Calculate the metrics for each third party\n",
    "transaction_frequencies = top_data['Third Party'].value_counts()\n",
    "total_spent = top_data.groupby('Third Party')['Amount'].sum()\n",
    "unique_users = top_data.groupby('Third Party')['Account No'].nunique()\n",
    "\n",
    "# Creating a DataFrame for the analysis\n",
    "analysis_df = pd.DataFrame({\n",
    "    'Transaction Frequencies': transaction_frequencies,\n",
    "    'Total Amount Spent': total_spent,\n",
    "    'Unique Users': unique_users\n",
    "})\n",
    "\n",
    "# Ensure the DataFrame only contains the top ten third parties based on transaction frequencies\n",
    "top_ten_third_parties = analysis_df.nlargest(10, 'Transaction Frequencies')\n",
    "\n",
    "# Generating a pairplot of the top ten third parties\n",
    "sns.pairplot(top_ten_third_parties, kind='scatter', diag_kind='kde', plot_kws={'alpha': 0.6, 's': 80, 'edgecolor': 'k'})\n",
    "plt.suptitle('Pairplot of Transaction Metrics for Top Ten Third Parties')\n",
    "plt.show()"
   ]
  },
  {
   "cell_type": "code",
   "execution_count": null,
   "id": "622e355e",
   "metadata": {},
   "outputs": [],
   "source": []
  },
  {
   "cell_type": "code",
   "execution_count": null,
   "id": "b0e5f020",
   "metadata": {},
   "outputs": [],
   "source": []
  },
  {
   "cell_type": "code",
   "execution_count": null,
   "id": "859fba96",
   "metadata": {},
   "outputs": [],
   "source": []
  },
  {
   "cell_type": "code",
   "execution_count": null,
   "id": "91a3a7e6",
   "metadata": {},
   "outputs": [],
   "source": []
  },
  {
   "cell_type": "code",
   "execution_count": null,
   "id": "3814fa13",
   "metadata": {},
   "outputs": [],
   "source": [
    "from sklearn.cluster import KMeans\n",
    "import pandas as pd\n",
    "import seaborn as sns\n",
    "import matplotlib.pyplot as plt\n",
    "\n",
    "# Assuming 'data' is your DataFrame and has the necessary columns\n",
    "# Select the features you want to use for clustering\n",
    "X = data[['Balance', 'Amount']].dropna()  # Dropping NA values to avoid errors during fitting\n",
    "\n",
    "# Scale the data if necessary - Here we are assuming it's already appropriately scaled for simplicity\n",
    "\n",
    "# Initialize KMeans with three clusters\n",
    "kmeans = KMeans(n_clusters=3, random_state=0)\n",
    "# Fit the model and predict cluster indices for X\n",
    "X['Cluster'] = kmeans.fit_predict(X)\n",
    "\n",
    "# Append cluster information back to the original data\n",
    "data = data.join(X['Cluster'], how='left', rsuffix='_cluster')\n",
    "\n",
    "# Analyze the characteristics of each cluster\n",
    "cluster_summary = data.groupby('Cluster').agg({\n",
    "    'Balance': ['mean', 'std'],\n",
    "    'Amount': ['mean', 'std', 'count']\n",
    "})\n",
    "print(cluster_summary)\n",
    "\n",
    "# Visualize the clusters\n",
    "sns.scatterplot(x='Balance', y='Amount', hue='Cluster', data=X, palette='viridis')\n",
    "plt.title('Customer Segmentation by Balance and Transaction Amount')\n",
    "plt.xlabel('Balance')\n",
    "plt.ylabel('Amount')\n",
    "plt.legend(title='Cluster')\n",
    "plt.show()\n"
   ]
  },
  {
   "cell_type": "code",
   "execution_count": null,
   "id": "523c868b",
   "metadata": {},
   "outputs": [],
   "source": [
    "data"
   ]
  },
  {
   "cell_type": "code",
   "execution_count": null,
   "id": "2fb21b20",
   "metadata": {},
   "outputs": [],
   "source": []
  },
  {
   "cell_type": "code",
   "execution_count": null,
   "id": "54b26f6e",
   "metadata": {},
   "outputs": [],
   "source": []
  },
  {
   "cell_type": "code",
   "execution_count": null,
   "id": "c4f6f706",
   "metadata": {},
   "outputs": [],
   "source": []
  },
  {
   "cell_type": "markdown",
   "id": "a8117a9f",
   "metadata": {},
   "source": [
    "## Transactions that are several standard deviations away from the mean might be considered suspicious:\n",
    "- Transactions that are several standard deviations away from the mean might be considered suspicious:"
   ]
  },
  {
   "cell_type": "code",
   "execution_count": null,
   "id": "57aa305f",
   "metadata": {},
   "outputs": [],
   "source": [
    "# Calculate the mean and standard deviation\n",
    "mean_amount = data['Amount'].mean()\n",
    "std_amount = data['Amount'].std()\n",
    "\n",
    "# Identify outliers as transactions that are more than 3 standard deviations from the mean\n",
    "outliers = data[np.abs(data['Amount'] - mean_amount) > 3 * std_amount]\n",
    "\n",
    "# Display outliers\n",
    "outliers[['Datetime', 'Amount', 'Account No', 'Third Party', 'Transaction Type']]"
   ]
  },
  {
   "cell_type": "markdown",
   "id": "9b9b1144",
   "metadata": {},
   "source": [
    "## transactions occurring repeatedly at the same time to the same third party, which could indicate automated or scripted fraud:\n",
    "- more than 5 times"
   ]
  },
  {
   "cell_type": "code",
   "execution_count": null,
   "id": "0a3c92db",
   "metadata": {
    "scrolled": true
   },
   "outputs": [],
   "source": [
    "# Group by account number, third party, and hour to see repetitive patterns\n",
    "repetitive_patterns = data.groupby(['Account No', 'Third Party', 'Timestamp']).size().reset_index(name='Count')\n",
    "\n",
    "# Filter for patterns that occur more than a threshold, e.g., more than 5 times\n",
    "suspicious_patterns = repetitive_patterns[repetitive_patterns['Count'] > 5]\n",
    "\n",
    "# Display suspicious repetitive patterns\n",
    "suspicious_patterns\n"
   ]
  },
  {
   "cell_type": "code",
   "execution_count": null,
   "id": "0d2269bb",
   "metadata": {},
   "outputs": [],
   "source": []
  },
  {
   "cell_type": "markdown",
   "id": "4b282c0d",
   "metadata": {},
   "source": [
    "## Visualisations"
   ]
  },
  {
   "cell_type": "code",
   "execution_count": null,
   "id": "3a029e25",
   "metadata": {},
   "outputs": [],
   "source": [
    "import seaborn as sns\n",
    "import matplotlib.pyplot as plt\n",
    "\n",
    "# Plot transaction amounts for outliers\n",
    "plt.figure(figsize=(10, 6))\n",
    "sns.scatterplot(x='Date', y='Amount', hue='Transaction Direction', data=outliers)\n",
    "plt.title('Outlier Transactions Over Time')\n",
    "plt.xlabel('Date')\n",
    "plt.ylabel('Transaction Amount')\n",
    "plt.show()"
   ]
  },
  {
   "cell_type": "code",
   "execution_count": null,
   "id": "f6745f2b",
   "metadata": {},
   "outputs": [],
   "source": [
    "import seaborn as sns\n",
    "import matplotlib.pyplot as plt\n",
    "\n",
    "# Plot transaction amounts for potential outliers\n",
    "plt.figure(figsize=(10, 6))\n",
    "sns.scatterplot(x='Date', y='Amount', hue='Transaction Direction', style='Day of Week', data=data)\n",
    "plt.title('Transaction Amounts Over Time')\n",
    "plt.xlabel('Date')\n",
    "plt.ylabel('Transaction Amount')\n",
    "plt.show()\n"
   ]
  },
  {
   "cell_type": "code",
   "execution_count": null,
   "id": "1c4458fc",
   "metadata": {},
   "outputs": [],
   "source": [
    "# Create pairplot for selected columns to visualize relationships and distributions\n",
    "sns.pairplot(data[['Amount', 'Balance', 'Transaction Direction']], hue='Transaction Direction', plot_kws={'alpha': 0.5})\n",
    "plt.suptitle('Pairplot of Transactions', size=16, y=1.02)\n",
    "plt.show()"
   ]
  },
  {
   "cell_type": "code",
   "execution_count": null,
   "id": "f35b99e7",
   "metadata": {},
   "outputs": [],
   "source": [
    "##"
   ]
  },
  {
   "cell_type": "code",
   "execution_count": null,
   "id": "afb5d9c4",
   "metadata": {},
   "outputs": [],
   "source": [
    "# Create individual scatter plots instead of a pairplot to avoid issues with KDE and non-numeric data types\n",
    "fig, axs = plt.subplots(1, 2, figsize=(14, 6))\n",
    "\n",
    "# Scatter plot of Amount vs. Balance\n",
    "sns.scatterplot(x='Amount', y='Balance', hue='Transaction Direction', data=data, ax=axs[0], alpha=0.5)\n",
    "axs[0].set_title('Scatter Plot of Amount vs. Balance')\n",
    "axs[0].set_xlabel('Amount')\n",
    "axs[0].set_ylabel('Balance')\n",
    "\n",
    "# Scatter plot of Amount vs. Hour of Transaction\n",
    "sns.scatterplot(x='Amount', y='Timestamp', hue='Transaction Direction', data=data, ax=axs[1], alpha=0.5)\n",
    "axs[1].set_title('Scatter Plot of Amount vs. Hour of Transaction')\n",
    "axs[1].set_xlabel('Amount')\n",
    "axs[1].set_ylabel('Hour of Transaction')\n",
    "\n",
    "plt.tight_layout()\n",
    "plt.show()"
   ]
  },
  {
   "cell_type": "code",
   "execution_count": null,
   "id": "8c6ee226",
   "metadata": {},
   "outputs": [],
   "source": []
  },
  {
   "cell_type": "markdown",
   "id": "ccaad85b",
   "metadata": {},
   "source": [
    "## Monthly Banking Activity: Insights from Total Spent, Total Credited, and Transaction Count"
   ]
  },
  {
   "cell_type": "code",
   "execution_count": null,
   "id": "4b06a4be",
   "metadata": {},
   "outputs": [],
   "source": [
    "\n",
    "# Using 'Grouper' to group by month directly\n",
    "\n",
    "monthly_data = data.groupby(['Account No', pd.Grouper(key='Date', freq='M')]).agg(\n",
    "    Total_Spent=pd.NamedAgg(column='Amount', aggfunc=lambda x: x[x < 0].sum()),\n",
    "    Total_Credited=pd.NamedAgg(column='Amount', aggfunc=lambda x: x[x >= 0].sum()),\n",
    "    Transaction_Count=pd.NamedAgg(column='Amount', aggfunc='count')\n",
    ").reset_index()\n",
    "\n",
    "# Converting 'Date' to 'Year-Month' format for easier reading\n",
    "monthly_data['Date'] = monthly_data['Date'].dt.to_period('M')\n",
    "\n",
    "# Display the first few rows of the modified monthly statistics\n",
    "monthly_data.head(5)\n"
   ]
  },
  {
   "cell_type": "code",
   "execution_count": null,
   "id": "9f37596b",
   "metadata": {},
   "outputs": [],
   "source": [
    "monthly_data.shape"
   ]
  },
  {
   "cell_type": "code",
   "execution_count": null,
   "id": "60aae7e7",
   "metadata": {},
   "outputs": [],
   "source": [
    "data['Account No'].unique().shape"
   ]
  },
  {
   "cell_type": "markdown",
   "id": "4f76e3ac",
   "metadata": {},
   "source": [
    "## checking all the users spending evry month or not"
   ]
  },
  {
   "cell_type": "code",
   "execution_count": null,
   "id": "84253c2e",
   "metadata": {},
   "outputs": [],
   "source": [
    "# To ensure each account's activity is accounted for in every expected month of the dataset, \n",
    "# we'll check which months each account has transactions and list any missing months.\n",
    "\n",
    "# First, get the full range of months from the dataset\n",
    "full_date_range = pd.period_range(data['Date'].min(), data['Date'].max(), freq='M')\n",
    "\n",
    "# Dictionary to store missing months for each account\n",
    "missing_months_dict = {}\n",
    "\n",
    "# Iterating over each account\n",
    "for account, group in data.groupby('Account No'):\n",
    "    present_months = group['Date'].dt.to_period('M').unique()\n",
    "    missing_months = full_date_range[~full_date_range.isin(present_months)]\n",
    "    if len(missing_months) > 0:\n",
    "        missing_months_dict[account] = missing_months\n",
    "\n",
    "# Create a list to store tuples of account number and missing month\n",
    "missing_months_list = []\n",
    "\n",
    "# Iterate over the dictionary and append tuples to the list\n",
    "for account, missing_months in missing_months_dict.items():\n",
    "    for month in missing_months:\n",
    "        missing_months_list.append((account, month))\n",
    "\n",
    "# Create a DataFrame from the list\n",
    "missing_months_df = pd.DataFrame(missing_months_list, columns=['Account No', 'Missing Month'])\n",
    "\n",
    "# Display the DataFrame\n",
    "print(missing_months_df)\n"
   ]
  },
  {
   "cell_type": "code",
   "execution_count": null,
   "id": "abc13c63",
   "metadata": {},
   "outputs": [],
   "source": [
    "## no.of transactions on each day..smtwthfss..\n",
    "# find any trends\n",
    "## his status at the end of month- whether he is in debt or credit"
   ]
  },
  {
   "cell_type": "code",
   "execution_count": null,
   "id": "0ed20890",
   "metadata": {},
   "outputs": [],
   "source": [
    "data"
   ]
  },
  {
   "cell_type": "markdown",
   "id": "0e46bff1",
   "metadata": {},
   "source": [
    "## fraud detection using transactional data"
   ]
  },
  {
   "cell_type": "code",
   "execution_count": null,
   "id": "a2f103de",
   "metadata": {},
   "outputs": [],
   "source": [
    "# Convert 'Date' and 'Timestamp' into a single datetime column for easier manipulation\n",
    "#data['Timestamp'] = pd.to_datetime(data['Date'] + ' ' + data['Timestamp'], errors='coerce')\n",
    "\n",
    "# Calculate mean and standard deviation for each account without storing them as columns\n",
    "mean_amounts = data.groupby('Account No')['Amount'].transform('mean')\n",
    "std_amounts = data.groupby('Account No')['Amount'].transform('std')\n",
    "\n",
    "# Identify high-value transactions\n",
    "high_value = data['Amount'] > (mean_amounts + 3 * std_amounts)\n",
    "\n",
    "# Detect frequent transactions in short times by counting the transactions per minute for each account\n",
    "frequent_transactions = data.groupby(['Account No', data['Timestamp'].dt.floor('min')])['Amount'].transform('size') > 3\n",
    "\n",
    "# Check for transactions that are round figures\n",
    "round_figure_transaction = data['Amount'].mod(1000) == 0\n",
    "\n",
    "# Combine the criteria to filter potential fraudulent transactions\n",
    "suspicious_transactions = data[high_value | frequent_transactions | round_figure_transaction]\n",
    "\n",
    "# Display the suspicious transactions\n",
    "print(suspicious_transactions[['Date', 'Timestamp', 'Account No', 'Amount', 'Third Party', 'Transaction Direction']])\n"
   ]
  },
  {
   "cell_type": "code",
   "execution_count": null,
   "id": "c3e44743",
   "metadata": {},
   "outputs": [],
   "source": [
    "suspicious_transactions"
   ]
  },
  {
   "cell_type": "code",
   "execution_count": null,
   "id": "41de204b",
   "metadata": {},
   "outputs": [],
   "source": [
    "import matplotlib.pyplot as plt\n",
    "import seaborn as sns\n",
    "\n",
    "# Assuming suspicious_transactions is already defined\n",
    "# and data['Timestamp'] has been created and is the datetime combination of 'Date' and 'Timestamp'\n",
    "\n",
    "# 1. Scatter Plot of Transaction Amounts Over Time\n",
    "plt.figure(figsize=(10, 6))\n",
    "sns.scatterplot(x='Timestamp', y='Amount', data=suspicious_transactions, hue='Transaction Direction', style='Transaction Direction')\n",
    "plt.title('Suspicious Transactions Over Time')\n",
    "plt.xlabel('Timestamp')\n",
    "plt.ylabel('Transaction Amount')\n",
    "plt.xticks(rotation=45)\n",
    "plt.legend(title='Transaction Type')\n",
    "plt.tight_layout()\n",
    "plt.show()\n",
    "\n",
    "# 2. Histogram of Transaction Amounts\n",
    "plt.figure(figsize=(10, 6))\n",
    "sns.histplot(suspicious_transactions['Amount'], bins=30, kde=False, color='red')\n",
    "plt.title('Distribution of Suspicious Transaction Amounts')\n",
    "plt.xlabel('Transaction Amount')\n",
    "plt.ylabel('Frequency')\n",
    "plt.show()\n"
   ]
  },
  {
   "cell_type": "code",
   "execution_count": null,
   "id": "470d9960",
   "metadata": {},
   "outputs": [],
   "source": [
    "import seaborn as sns\n",
    "import matplotlib.pyplot as plt\n",
    "\n",
    "# Assuming suspicious_transactions is already defined\n",
    "# and data['Timestamp'] has been created and is the datetime combination of 'Date' and 'Timestamp'\n",
    "\n",
    "# Extract more features from 'Timestamp' if needed\n",
    "suspicious_transactions['Hour of Day'] = suspicious_transactions['Timestamp'].dt.hour\n",
    "suspicious_transactions['Day of Week'] = suspicious_transactions['Timestamp'].dt.dayofweek\n",
    "\n",
    "# Select columns to include in the pairplot\n",
    "# Including 'Amount', 'Hour of Day', and 'Day of Week'\n",
    "# If 'Transaction Direction' is categorical, it can be used as a hue\n",
    "plot_data = suspicious_transactions[['Amount', 'Hour of Day', 'Day of Week', 'Transaction Direction']]\n",
    "\n",
    "# Create the pairplot\n",
    "sns.pairplot(plot_data, hue='Transaction Direction', diag_kind='kde', plot_kws={'alpha': 0.6, 's': 60, 'edgecolor': 'k'}, height=3)\n",
    "plt.suptitle('Pairplot of Suspicious Transactions')\n",
    "plt.show()\n"
   ]
  },
  {
   "cell_type": "code",
   "execution_count": null,
   "id": "24aa2ab2",
   "metadata": {},
   "outputs": [],
   "source": []
  }
 ],
 "metadata": {
  "kernelspec": {
   "display_name": "Python 3 (ipykernel)",
   "language": "python",
   "name": "python3"
  },
  "language_info": {
   "codemirror_mode": {
    "name": "ipython",
    "version": 3
   },
   "file_extension": ".py",
   "mimetype": "text/x-python",
   "name": "python",
   "nbconvert_exporter": "python",
   "pygments_lexer": "ipython3",
   "version": "3.11.4"
  }
 },
 "nbformat": 4,
 "nbformat_minor": 5
}
