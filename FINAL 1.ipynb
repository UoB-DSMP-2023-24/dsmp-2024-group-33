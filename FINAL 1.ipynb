{
 "cells": [
  {
   "cell_type": "code",
   "execution_count": null,
   "id": "72750617",
   "metadata": {},
   "outputs": [],
   "source": []
  },
  {
   "cell_type": "markdown",
   "id": "5cf3e9ac",
   "metadata": {},
   "source": [
    "## Import required libraries:"
   ]
  },
  {
   "cell_type": "code",
   "execution_count": 1,
   "id": "83dc427f",
   "metadata": {},
   "outputs": [],
   "source": [
    "import warnings\n",
    "warnings.filterwarnings('ignore')\n",
    "import pandas as pd\n",
    "import numpy as np\n",
    "import matplotlib.pyplot as plt\n",
    "import seaborn as sns\n",
    "%matplotlib inline"
   ]
  },
  {
   "cell_type": "markdown",
   "id": "d3b76734",
   "metadata": {},
   "source": [
    "## Load dataset"
   ]
  },
  {
   "cell_type": "code",
   "execution_count": 2,
   "id": "5a1009bf",
   "metadata": {
    "scrolled": true
   },
   "outputs": [
    {
     "data": {
      "text/html": [
       "<div>\n",
       "<style scoped>\n",
       "    .dataframe tbody tr th:only-of-type {\n",
       "        vertical-align: middle;\n",
       "    }\n",
       "\n",
       "    .dataframe tbody tr th {\n",
       "        vertical-align: top;\n",
       "    }\n",
       "\n",
       "    .dataframe thead th {\n",
       "        text-align: right;\n",
       "    }\n",
       "</style>\n",
       "<table border=\"1\" class=\"dataframe\">\n",
       "  <thead>\n",
       "    <tr style=\"text-align: right;\">\n",
       "      <th></th>\n",
       "      <th>from_totally_fake_account</th>\n",
       "      <th>monopoly_money_amount</th>\n",
       "      <th>to_randomly_generated_account</th>\n",
       "      <th>not_happened_yet_date</th>\n",
       "    </tr>\n",
       "  </thead>\n",
       "  <tbody>\n",
       "    <tr>\n",
       "      <th>0</th>\n",
       "      <td>10371.0</td>\n",
       "      <td>4.00</td>\n",
       "      <td>CINEMA</td>\n",
       "      <td>01/01/2025</td>\n",
       "    </tr>\n",
       "    <tr>\n",
       "      <th>1</th>\n",
       "      <td>88339.0</td>\n",
       "      <td>2.40</td>\n",
       "      <td>40544</td>\n",
       "      <td>01/01/2025</td>\n",
       "    </tr>\n",
       "    <tr>\n",
       "      <th>2</th>\n",
       "      <td>18555.0</td>\n",
       "      <td>2.40</td>\n",
       "      <td>85149</td>\n",
       "      <td>01/01/2025</td>\n",
       "    </tr>\n",
       "    <tr>\n",
       "      <th>3</th>\n",
       "      <td>18555.0</td>\n",
       "      <td>4.10</td>\n",
       "      <td>HIPSTER_COFFEE_SHOP</td>\n",
       "      <td>01/01/2025</td>\n",
       "    </tr>\n",
       "    <tr>\n",
       "      <th>4</th>\n",
       "      <td>80792.0</td>\n",
       "      <td>1.95</td>\n",
       "      <td>18555</td>\n",
       "      <td>01/01/2025</td>\n",
       "    </tr>\n",
       "  </tbody>\n",
       "</table>\n",
       "</div>"
      ],
      "text/plain": [
       "   from_totally_fake_account  monopoly_money_amount  \\\n",
       "0                    10371.0                   4.00   \n",
       "1                    88339.0                   2.40   \n",
       "2                    18555.0                   2.40   \n",
       "3                    18555.0                   4.10   \n",
       "4                    80792.0                   1.95   \n",
       "\n",
       "  to_randomly_generated_account not_happened_yet_date  \n",
       "0                        CINEMA            01/01/2025  \n",
       "1                         40544            01/01/2025  \n",
       "2                         85149            01/01/2025  \n",
       "3           HIPSTER_COFFEE_SHOP            01/01/2025  \n",
       "4                         18555            01/01/2025  "
      ]
     },
     "execution_count": 2,
     "metadata": {},
     "output_type": "execute_result"
    }
   ],
   "source": [
    "## load data set\n",
    "data = pd.read_csv('fake_transactional_data_24.csv')\n",
    "## head\n",
    "data.head()"
   ]
  },
  {
   "cell_type": "markdown",
   "id": "5c3f1c44",
   "metadata": {},
   "source": [
    "## Explore data "
   ]
  },
  {
   "cell_type": "code",
   "execution_count": 3,
   "id": "cff2d6dd",
   "metadata": {},
   "outputs": [
    {
     "data": {
      "text/plain": [
       "(10148280, 4)"
      ]
     },
     "execution_count": 3,
     "metadata": {},
     "output_type": "execute_result"
    }
   ],
   "source": [
    "data.shape"
   ]
  },
  {
   "cell_type": "code",
   "execution_count": 4,
   "id": "79d1ceed",
   "metadata": {},
   "outputs": [
    {
     "name": "stdout",
     "output_type": "stream",
     "text": [
      "<class 'pandas.core.frame.DataFrame'>\n",
      "RangeIndex: 10148280 entries, 0 to 10148279\n",
      "Data columns (total 4 columns):\n",
      " #   Column                         Dtype  \n",
      "---  ------                         -----  \n",
      " 0   from_totally_fake_account      float64\n",
      " 1   monopoly_money_amount          float64\n",
      " 2   to_randomly_generated_account  object \n",
      " 3   not_happened_yet_date          object \n",
      "dtypes: float64(2), object(2)\n",
      "memory usage: 309.7+ MB\n"
     ]
    }
   ],
   "source": [
    "data.info()"
   ]
  },
  {
   "cell_type": "code",
   "execution_count": 5,
   "id": "bdf1105b",
   "metadata": {},
   "outputs": [
    {
     "data": {
      "text/plain": [
       "from_totally_fake_account        float64\n",
       "monopoly_money_amount            float64\n",
       "to_randomly_generated_account     object\n",
       "not_happened_yet_date             object\n",
       "dtype: object"
      ]
     },
     "execution_count": 5,
     "metadata": {},
     "output_type": "execute_result"
    }
   ],
   "source": [
    "data.dtypes"
   ]
  },
  {
   "cell_type": "code",
   "execution_count": 6,
   "id": "37f9ca8a",
   "metadata": {},
   "outputs": [
    {
     "data": {
      "text/plain": [
       "Index(['from_totally_fake_account', 'monopoly_money_amount',\n",
       "       'to_randomly_generated_account', 'not_happened_yet_date'],\n",
       "      dtype='object')"
      ]
     },
     "execution_count": 6,
     "metadata": {},
     "output_type": "execute_result"
    }
   ],
   "source": [
    "data.columns "
   ]
  },
  {
   "cell_type": "code",
   "execution_count": 7,
   "id": "1faa3ac7",
   "metadata": {},
   "outputs": [
    {
     "data": {
      "text/plain": [
       "from_totally_fake_account        float64\n",
       "monopoly_money_amount            float64\n",
       "to_randomly_generated_account     object\n",
       "not_happened_yet_date             object\n",
       "dtype: object"
      ]
     },
     "execution_count": 7,
     "metadata": {},
     "output_type": "execute_result"
    }
   ],
   "source": [
    "data.dtypes"
   ]
  },
  {
   "cell_type": "code",
   "execution_count": null,
   "id": "e545a4a3",
   "metadata": {},
   "outputs": [],
   "source": []
  },
  {
   "cell_type": "code",
   "execution_count": null,
   "id": "d98f66da",
   "metadata": {},
   "outputs": [],
   "source": []
  },
  {
   "cell_type": "markdown",
   "id": "042f11b0",
   "metadata": {},
   "source": [
    "## Missing values "
   ]
  },
  {
   "cell_type": "code",
   "execution_count": 8,
   "id": "556cab39",
   "metadata": {},
   "outputs": [
    {
     "data": {
      "text/html": [
       "<div>\n",
       "<style scoped>\n",
       "    .dataframe tbody tr th:only-of-type {\n",
       "        vertical-align: middle;\n",
       "    }\n",
       "\n",
       "    .dataframe tbody tr th {\n",
       "        vertical-align: top;\n",
       "    }\n",
       "\n",
       "    .dataframe thead th {\n",
       "        text-align: right;\n",
       "    }\n",
       "</style>\n",
       "<table border=\"1\" class=\"dataframe\">\n",
       "  <thead>\n",
       "    <tr style=\"text-align: right;\">\n",
       "      <th></th>\n",
       "      <th>from_totally_fake_account</th>\n",
       "      <th>monopoly_money_amount</th>\n",
       "      <th>to_randomly_generated_account</th>\n",
       "      <th>not_happened_yet_date</th>\n",
       "    </tr>\n",
       "  </thead>\n",
       "  <tbody>\n",
       "    <tr>\n",
       "      <th>0</th>\n",
       "      <td>False</td>\n",
       "      <td>False</td>\n",
       "      <td>False</td>\n",
       "      <td>False</td>\n",
       "    </tr>\n",
       "    <tr>\n",
       "      <th>1</th>\n",
       "      <td>False</td>\n",
       "      <td>False</td>\n",
       "      <td>False</td>\n",
       "      <td>False</td>\n",
       "    </tr>\n",
       "    <tr>\n",
       "      <th>2</th>\n",
       "      <td>False</td>\n",
       "      <td>False</td>\n",
       "      <td>False</td>\n",
       "      <td>False</td>\n",
       "    </tr>\n",
       "    <tr>\n",
       "      <th>3</th>\n",
       "      <td>False</td>\n",
       "      <td>False</td>\n",
       "      <td>False</td>\n",
       "      <td>False</td>\n",
       "    </tr>\n",
       "    <tr>\n",
       "      <th>4</th>\n",
       "      <td>False</td>\n",
       "      <td>False</td>\n",
       "      <td>False</td>\n",
       "      <td>False</td>\n",
       "    </tr>\n",
       "    <tr>\n",
       "      <th>...</th>\n",
       "      <td>...</td>\n",
       "      <td>...</td>\n",
       "      <td>...</td>\n",
       "      <td>...</td>\n",
       "    </tr>\n",
       "    <tr>\n",
       "      <th>10148275</th>\n",
       "      <td>False</td>\n",
       "      <td>False</td>\n",
       "      <td>False</td>\n",
       "      <td>False</td>\n",
       "    </tr>\n",
       "    <tr>\n",
       "      <th>10148276</th>\n",
       "      <td>False</td>\n",
       "      <td>False</td>\n",
       "      <td>False</td>\n",
       "      <td>False</td>\n",
       "    </tr>\n",
       "    <tr>\n",
       "      <th>10148277</th>\n",
       "      <td>False</td>\n",
       "      <td>False</td>\n",
       "      <td>False</td>\n",
       "      <td>False</td>\n",
       "    </tr>\n",
       "    <tr>\n",
       "      <th>10148278</th>\n",
       "      <td>False</td>\n",
       "      <td>False</td>\n",
       "      <td>False</td>\n",
       "      <td>False</td>\n",
       "    </tr>\n",
       "    <tr>\n",
       "      <th>10148279</th>\n",
       "      <td>False</td>\n",
       "      <td>False</td>\n",
       "      <td>False</td>\n",
       "      <td>False</td>\n",
       "    </tr>\n",
       "  </tbody>\n",
       "</table>\n",
       "<p>10148280 rows × 4 columns</p>\n",
       "</div>"
      ],
      "text/plain": [
       "          from_totally_fake_account  monopoly_money_amount  \\\n",
       "0                             False                  False   \n",
       "1                             False                  False   \n",
       "2                             False                  False   \n",
       "3                             False                  False   \n",
       "4                             False                  False   \n",
       "...                             ...                    ...   \n",
       "10148275                      False                  False   \n",
       "10148276                      False                  False   \n",
       "10148277                      False                  False   \n",
       "10148278                      False                  False   \n",
       "10148279                      False                  False   \n",
       "\n",
       "          to_randomly_generated_account  not_happened_yet_date  \n",
       "0                                 False                  False  \n",
       "1                                 False                  False  \n",
       "2                                 False                  False  \n",
       "3                                 False                  False  \n",
       "4                                 False                  False  \n",
       "...                                 ...                    ...  \n",
       "10148275                          False                  False  \n",
       "10148276                          False                  False  \n",
       "10148277                          False                  False  \n",
       "10148278                          False                  False  \n",
       "10148279                          False                  False  \n",
       "\n",
       "[10148280 rows x 4 columns]"
      ]
     },
     "execution_count": 8,
     "metadata": {},
     "output_type": "execute_result"
    }
   ],
   "source": [
    "data.isnull()"
   ]
  },
  {
   "cell_type": "code",
   "execution_count": 9,
   "id": "dd9b5cdf",
   "metadata": {},
   "outputs": [
    {
     "name": "stdout",
     "output_type": "stream",
     "text": [
      "Missing Values:\n",
      " from_totally_fake_account        0\n",
      "monopoly_money_amount            0\n",
      "to_randomly_generated_account    0\n",
      "not_happened_yet_date            0\n",
      "dtype: int64\n"
     ]
    }
   ],
   "source": [
    "missing_values = data.isnull().sum()\n",
    "print(\"Missing Values:\\n\", missing_values)"
   ]
  },
  {
   "cell_type": "markdown",
   "id": "aaeaba10",
   "metadata": {},
   "source": [
    "### Statistical information of given data"
   ]
  },
  {
   "cell_type": "code",
   "execution_count": 10,
   "id": "c54f0b10",
   "metadata": {},
   "outputs": [
    {
     "data": {
      "text/html": [
       "<div>\n",
       "<style scoped>\n",
       "    .dataframe tbody tr th:only-of-type {\n",
       "        vertical-align: middle;\n",
       "    }\n",
       "\n",
       "    .dataframe tbody tr th {\n",
       "        vertical-align: top;\n",
       "    }\n",
       "\n",
       "    .dataframe thead th {\n",
       "        text-align: right;\n",
       "    }\n",
       "</style>\n",
       "<table border=\"1\" class=\"dataframe\">\n",
       "  <thead>\n",
       "    <tr style=\"text-align: right;\">\n",
       "      <th></th>\n",
       "      <th>from_totally_fake_account</th>\n",
       "      <th>monopoly_money_amount</th>\n",
       "    </tr>\n",
       "  </thead>\n",
       "  <tbody>\n",
       "    <tr>\n",
       "      <th>count</th>\n",
       "      <td>1.014828e+07</td>\n",
       "      <td>1.014828e+07</td>\n",
       "    </tr>\n",
       "    <tr>\n",
       "      <th>mean</th>\n",
       "      <td>5.080502e+04</td>\n",
       "      <td>1.839348e+01</td>\n",
       "    </tr>\n",
       "    <tr>\n",
       "      <th>std</th>\n",
       "      <td>2.893710e+04</td>\n",
       "      <td>8.612323e+01</td>\n",
       "    </tr>\n",
       "    <tr>\n",
       "      <th>min</th>\n",
       "      <td>1.000000e+03</td>\n",
       "      <td>1.450000e+00</td>\n",
       "    </tr>\n",
       "    <tr>\n",
       "      <th>25%</th>\n",
       "      <td>2.530400e+04</td>\n",
       "      <td>2.650000e+00</td>\n",
       "    </tr>\n",
       "    <tr>\n",
       "      <th>50%</th>\n",
       "      <td>5.078100e+04</td>\n",
       "      <td>6.000000e+00</td>\n",
       "    </tr>\n",
       "    <tr>\n",
       "      <th>75%</th>\n",
       "      <td>7.563300e+04</td>\n",
       "      <td>1.200000e+01</td>\n",
       "    </tr>\n",
       "    <tr>\n",
       "      <th>max</th>\n",
       "      <td>1.009880e+05</td>\n",
       "      <td>1.995000e+03</td>\n",
       "    </tr>\n",
       "  </tbody>\n",
       "</table>\n",
       "</div>"
      ],
      "text/plain": [
       "       from_totally_fake_account  monopoly_money_amount\n",
       "count               1.014828e+07           1.014828e+07\n",
       "mean                5.080502e+04           1.839348e+01\n",
       "std                 2.893710e+04           8.612323e+01\n",
       "min                 1.000000e+03           1.450000e+00\n",
       "25%                 2.530400e+04           2.650000e+00\n",
       "50%                 5.078100e+04           6.000000e+00\n",
       "75%                 7.563300e+04           1.200000e+01\n",
       "max                 1.009880e+05           1.995000e+03"
      ]
     },
     "execution_count": 10,
     "metadata": {},
     "output_type": "execute_result"
    }
   ],
   "source": [
    "data.describe()"
   ]
  },
  {
   "cell_type": "code",
   "execution_count": 11,
   "id": "468dba2e",
   "metadata": {},
   "outputs": [
    {
     "data": {
      "text/html": [
       "<div>\n",
       "<style scoped>\n",
       "    .dataframe tbody tr th:only-of-type {\n",
       "        vertical-align: middle;\n",
       "    }\n",
       "\n",
       "    .dataframe tbody tr th {\n",
       "        vertical-align: top;\n",
       "    }\n",
       "\n",
       "    .dataframe thead th {\n",
       "        text-align: right;\n",
       "    }\n",
       "</style>\n",
       "<table border=\"1\" class=\"dataframe\">\n",
       "  <thead>\n",
       "    <tr style=\"text-align: right;\">\n",
       "      <th></th>\n",
       "      <th>count</th>\n",
       "      <th>mean</th>\n",
       "      <th>std</th>\n",
       "      <th>min</th>\n",
       "      <th>25%</th>\n",
       "      <th>50%</th>\n",
       "      <th>75%</th>\n",
       "      <th>max</th>\n",
       "    </tr>\n",
       "  </thead>\n",
       "  <tbody>\n",
       "    <tr>\n",
       "      <th>from_totally_fake_account</th>\n",
       "      <td>10148280.0</td>\n",
       "      <td>50805.021701</td>\n",
       "      <td>28937.100678</td>\n",
       "      <td>1000.00</td>\n",
       "      <td>25304.00</td>\n",
       "      <td>50781.0</td>\n",
       "      <td>75633.0</td>\n",
       "      <td>100988.0</td>\n",
       "    </tr>\n",
       "    <tr>\n",
       "      <th>monopoly_money_amount</th>\n",
       "      <td>10148280.0</td>\n",
       "      <td>18.393485</td>\n",
       "      <td>86.123232</td>\n",
       "      <td>1.45</td>\n",
       "      <td>2.65</td>\n",
       "      <td>6.0</td>\n",
       "      <td>12.0</td>\n",
       "      <td>1995.0</td>\n",
       "    </tr>\n",
       "  </tbody>\n",
       "</table>\n",
       "</div>"
      ],
      "text/plain": [
       "                                count          mean           std      min  \\\n",
       "from_totally_fake_account  10148280.0  50805.021701  28937.100678  1000.00   \n",
       "monopoly_money_amount      10148280.0     18.393485     86.123232     1.45   \n",
       "\n",
       "                                25%      50%      75%       max  \n",
       "from_totally_fake_account  25304.00  50781.0  75633.0  100988.0  \n",
       "monopoly_money_amount          2.65      6.0     12.0    1995.0  "
      ]
     },
     "execution_count": 11,
     "metadata": {},
     "output_type": "execute_result"
    }
   ],
   "source": [
    "data.describe().transpose()"
   ]
  },
  {
   "cell_type": "code",
   "execution_count": 12,
   "id": "153b6b0b",
   "metadata": {},
   "outputs": [
    {
     "data": {
      "text/html": [
       "<div>\n",
       "<style scoped>\n",
       "    .dataframe tbody tr th:only-of-type {\n",
       "        vertical-align: middle;\n",
       "    }\n",
       "\n",
       "    .dataframe tbody tr th {\n",
       "        vertical-align: top;\n",
       "    }\n",
       "\n",
       "    .dataframe thead th {\n",
       "        text-align: right;\n",
       "    }\n",
       "</style>\n",
       "<table border=\"1\" class=\"dataframe\">\n",
       "  <thead>\n",
       "    <tr style=\"text-align: right;\">\n",
       "      <th></th>\n",
       "      <th>to_randomly_generated_account</th>\n",
       "      <th>not_happened_yet_date</th>\n",
       "    </tr>\n",
       "  </thead>\n",
       "  <tbody>\n",
       "    <tr>\n",
       "      <th>count</th>\n",
       "      <td>10148280</td>\n",
       "      <td>10148280</td>\n",
       "    </tr>\n",
       "    <tr>\n",
       "      <th>unique</th>\n",
       "      <td>14300</td>\n",
       "      <td>364</td>\n",
       "    </tr>\n",
       "    <tr>\n",
       "      <th>top</th>\n",
       "      <td>PUB</td>\n",
       "      <td>12/12/2025</td>\n",
       "    </tr>\n",
       "    <tr>\n",
       "      <th>freq</th>\n",
       "      <td>834380</td>\n",
       "      <td>52379</td>\n",
       "    </tr>\n",
       "  </tbody>\n",
       "</table>\n",
       "</div>"
      ],
      "text/plain": [
       "       to_randomly_generated_account not_happened_yet_date\n",
       "count                       10148280              10148280\n",
       "unique                         14300                   364\n",
       "top                              PUB            12/12/2025\n",
       "freq                          834380                 52379"
      ]
     },
     "execution_count": 12,
     "metadata": {},
     "output_type": "execute_result"
    }
   ],
   "source": [
    "data.describe(include=['O'])"
   ]
  },
  {
   "cell_type": "code",
   "execution_count": 13,
   "id": "bd6cb5f6",
   "metadata": {},
   "outputs": [
    {
     "data": {
      "text/html": [
       "<div>\n",
       "<style scoped>\n",
       "    .dataframe tbody tr th:only-of-type {\n",
       "        vertical-align: middle;\n",
       "    }\n",
       "\n",
       "    .dataframe tbody tr th {\n",
       "        vertical-align: top;\n",
       "    }\n",
       "\n",
       "    .dataframe thead th {\n",
       "        text-align: right;\n",
       "    }\n",
       "</style>\n",
       "<table border=\"1\" class=\"dataframe\">\n",
       "  <thead>\n",
       "    <tr style=\"text-align: right;\">\n",
       "      <th></th>\n",
       "      <th>from_totally_fake_account</th>\n",
       "      <th>monopoly_money_amount</th>\n",
       "    </tr>\n",
       "  </thead>\n",
       "  <tbody>\n",
       "    <tr>\n",
       "      <th>count</th>\n",
       "      <td>10148280</td>\n",
       "      <td>10148280</td>\n",
       "    </tr>\n",
       "    <tr>\n",
       "      <th>mean</th>\n",
       "      <td>50805</td>\n",
       "      <td>18</td>\n",
       "    </tr>\n",
       "    <tr>\n",
       "      <th>std</th>\n",
       "      <td>28937</td>\n",
       "      <td>86</td>\n",
       "    </tr>\n",
       "    <tr>\n",
       "      <th>min</th>\n",
       "      <td>1000</td>\n",
       "      <td>1</td>\n",
       "    </tr>\n",
       "    <tr>\n",
       "      <th>25%</th>\n",
       "      <td>25304</td>\n",
       "      <td>2</td>\n",
       "    </tr>\n",
       "    <tr>\n",
       "      <th>50%</th>\n",
       "      <td>50781</td>\n",
       "      <td>6</td>\n",
       "    </tr>\n",
       "    <tr>\n",
       "      <th>75%</th>\n",
       "      <td>75633</td>\n",
       "      <td>12</td>\n",
       "    </tr>\n",
       "    <tr>\n",
       "      <th>max</th>\n",
       "      <td>100988</td>\n",
       "      <td>1995</td>\n",
       "    </tr>\n",
       "  </tbody>\n",
       "</table>\n",
       "</div>"
      ],
      "text/plain": [
       "       from_totally_fake_account  monopoly_money_amount\n",
       "count                   10148280               10148280\n",
       "mean                       50805                     18\n",
       "std                        28937                     86\n",
       "min                         1000                      1\n",
       "25%                        25304                      2\n",
       "50%                        50781                      6\n",
       "75%                        75633                     12\n",
       "max                       100988                   1995"
      ]
     },
     "execution_count": 13,
     "metadata": {},
     "output_type": "execute_result"
    }
   ],
   "source": [
    "data.describe().astype(int)"
   ]
  },
  {
   "cell_type": "code",
   "execution_count": 14,
   "id": "f350dccb",
   "metadata": {},
   "outputs": [
    {
     "data": {
      "text/html": [
       "<div>\n",
       "<style scoped>\n",
       "    .dataframe tbody tr th:only-of-type {\n",
       "        vertical-align: middle;\n",
       "    }\n",
       "\n",
       "    .dataframe tbody tr th {\n",
       "        vertical-align: top;\n",
       "    }\n",
       "\n",
       "    .dataframe thead th {\n",
       "        text-align: right;\n",
       "    }\n",
       "</style>\n",
       "<table border=\"1\" class=\"dataframe\">\n",
       "  <thead>\n",
       "    <tr style=\"text-align: right;\">\n",
       "      <th></th>\n",
       "      <th>from_totally_fake_account</th>\n",
       "      <th>monopoly_money_amount</th>\n",
       "      <th>to_randomly_generated_account</th>\n",
       "      <th>not_happened_yet_date</th>\n",
       "    </tr>\n",
       "  </thead>\n",
       "  <tbody>\n",
       "    <tr>\n",
       "      <th>count</th>\n",
       "      <td>1.014828e+07</td>\n",
       "      <td>1.014828e+07</td>\n",
       "      <td>10148280</td>\n",
       "      <td>10148280</td>\n",
       "    </tr>\n",
       "    <tr>\n",
       "      <th>unique</th>\n",
       "      <td>NaN</td>\n",
       "      <td>NaN</td>\n",
       "      <td>14300</td>\n",
       "      <td>364</td>\n",
       "    </tr>\n",
       "    <tr>\n",
       "      <th>top</th>\n",
       "      <td>NaN</td>\n",
       "      <td>NaN</td>\n",
       "      <td>PUB</td>\n",
       "      <td>12/12/2025</td>\n",
       "    </tr>\n",
       "    <tr>\n",
       "      <th>freq</th>\n",
       "      <td>NaN</td>\n",
       "      <td>NaN</td>\n",
       "      <td>834380</td>\n",
       "      <td>52379</td>\n",
       "    </tr>\n",
       "    <tr>\n",
       "      <th>mean</th>\n",
       "      <td>5.080502e+04</td>\n",
       "      <td>1.839348e+01</td>\n",
       "      <td>NaN</td>\n",
       "      <td>NaN</td>\n",
       "    </tr>\n",
       "    <tr>\n",
       "      <th>std</th>\n",
       "      <td>2.893710e+04</td>\n",
       "      <td>8.612323e+01</td>\n",
       "      <td>NaN</td>\n",
       "      <td>NaN</td>\n",
       "    </tr>\n",
       "    <tr>\n",
       "      <th>min</th>\n",
       "      <td>1.000000e+03</td>\n",
       "      <td>1.450000e+00</td>\n",
       "      <td>NaN</td>\n",
       "      <td>NaN</td>\n",
       "    </tr>\n",
       "    <tr>\n",
       "      <th>25%</th>\n",
       "      <td>2.530400e+04</td>\n",
       "      <td>2.650000e+00</td>\n",
       "      <td>NaN</td>\n",
       "      <td>NaN</td>\n",
       "    </tr>\n",
       "    <tr>\n",
       "      <th>50%</th>\n",
       "      <td>5.078100e+04</td>\n",
       "      <td>6.000000e+00</td>\n",
       "      <td>NaN</td>\n",
       "      <td>NaN</td>\n",
       "    </tr>\n",
       "    <tr>\n",
       "      <th>75%</th>\n",
       "      <td>7.563300e+04</td>\n",
       "      <td>1.200000e+01</td>\n",
       "      <td>NaN</td>\n",
       "      <td>NaN</td>\n",
       "    </tr>\n",
       "    <tr>\n",
       "      <th>max</th>\n",
       "      <td>1.009880e+05</td>\n",
       "      <td>1.995000e+03</td>\n",
       "      <td>NaN</td>\n",
       "      <td>NaN</td>\n",
       "    </tr>\n",
       "  </tbody>\n",
       "</table>\n",
       "</div>"
      ],
      "text/plain": [
       "        from_totally_fake_account  monopoly_money_amount  \\\n",
       "count                1.014828e+07           1.014828e+07   \n",
       "unique                        NaN                    NaN   \n",
       "top                           NaN                    NaN   \n",
       "freq                          NaN                    NaN   \n",
       "mean                 5.080502e+04           1.839348e+01   \n",
       "std                  2.893710e+04           8.612323e+01   \n",
       "min                  1.000000e+03           1.450000e+00   \n",
       "25%                  2.530400e+04           2.650000e+00   \n",
       "50%                  5.078100e+04           6.000000e+00   \n",
       "75%                  7.563300e+04           1.200000e+01   \n",
       "max                  1.009880e+05           1.995000e+03   \n",
       "\n",
       "       to_randomly_generated_account not_happened_yet_date  \n",
       "count                       10148280              10148280  \n",
       "unique                         14300                   364  \n",
       "top                              PUB            12/12/2025  \n",
       "freq                          834380                 52379  \n",
       "mean                             NaN                   NaN  \n",
       "std                              NaN                   NaN  \n",
       "min                              NaN                   NaN  \n",
       "25%                              NaN                   NaN  \n",
       "50%                              NaN                   NaN  \n",
       "75%                              NaN                   NaN  \n",
       "max                              NaN                   NaN  "
      ]
     },
     "execution_count": 14,
     "metadata": {},
     "output_type": "execute_result"
    }
   ],
   "source": [
    "data.describe(include='all')"
   ]
  },
  {
   "cell_type": "code",
   "execution_count": 15,
   "id": "57e5a13f",
   "metadata": {},
   "outputs": [],
   "source": [
    "#data.transpose()"
   ]
  },
  {
   "cell_type": "code",
   "execution_count": 16,
   "id": "2cc6f5e0",
   "metadata": {},
   "outputs": [],
   "source": [
    "##sns.heatmap(data.corr(),annot=True)-- char to int"
   ]
  },
  {
   "cell_type": "code",
   "execution_count": 17,
   "id": "28ce72ed",
   "metadata": {},
   "outputs": [],
   "source": [
    "## convert data (char to int) to plot heatmap"
   ]
  },
  {
   "cell_type": "code",
   "execution_count": null,
   "id": "89db2944",
   "metadata": {},
   "outputs": [],
   "source": []
  },
  {
   "cell_type": "code",
   "execution_count": 18,
   "id": "08ae2cef",
   "metadata": {},
   "outputs": [],
   "source": [
    "## float to integer\n",
    "data['from_totally_fake_account'] = data['from_totally_fake_account'].astype(int)"
   ]
  },
  {
   "cell_type": "code",
   "execution_count": 19,
   "id": "1236b465",
   "metadata": {},
   "outputs": [],
   "source": [
    "# nearest integer/ rounding\n",
    "data['monopoly_money_amount'] = data['monopoly_money_amount'].round().astype(int)"
   ]
  },
  {
   "cell_type": "code",
   "execution_count": 20,
   "id": "bf18ec1f",
   "metadata": {},
   "outputs": [
    {
     "data": {
      "text/html": [
       "<div>\n",
       "<style scoped>\n",
       "    .dataframe tbody tr th:only-of-type {\n",
       "        vertical-align: middle;\n",
       "    }\n",
       "\n",
       "    .dataframe tbody tr th {\n",
       "        vertical-align: top;\n",
       "    }\n",
       "\n",
       "    .dataframe thead th {\n",
       "        text-align: right;\n",
       "    }\n",
       "</style>\n",
       "<table border=\"1\" class=\"dataframe\">\n",
       "  <thead>\n",
       "    <tr style=\"text-align: right;\">\n",
       "      <th></th>\n",
       "      <th>from_totally_fake_account</th>\n",
       "      <th>monopoly_money_amount</th>\n",
       "      <th>to_randomly_generated_account</th>\n",
       "      <th>not_happened_yet_date</th>\n",
       "    </tr>\n",
       "  </thead>\n",
       "  <tbody>\n",
       "    <tr>\n",
       "      <th>0</th>\n",
       "      <td>10371</td>\n",
       "      <td>4</td>\n",
       "      <td>CINEMA</td>\n",
       "      <td>01/01/2025</td>\n",
       "    </tr>\n",
       "    <tr>\n",
       "      <th>1</th>\n",
       "      <td>88339</td>\n",
       "      <td>2</td>\n",
       "      <td>40544</td>\n",
       "      <td>01/01/2025</td>\n",
       "    </tr>\n",
       "    <tr>\n",
       "      <th>2</th>\n",
       "      <td>18555</td>\n",
       "      <td>2</td>\n",
       "      <td>85149</td>\n",
       "      <td>01/01/2025</td>\n",
       "    </tr>\n",
       "  </tbody>\n",
       "</table>\n",
       "</div>"
      ],
      "text/plain": [
       "   from_totally_fake_account  monopoly_money_amount  \\\n",
       "0                      10371                      4   \n",
       "1                      88339                      2   \n",
       "2                      18555                      2   \n",
       "\n",
       "  to_randomly_generated_account not_happened_yet_date  \n",
       "0                        CINEMA            01/01/2025  \n",
       "1                         40544            01/01/2025  \n",
       "2                         85149            01/01/2025  "
      ]
     },
     "execution_count": 20,
     "metadata": {},
     "output_type": "execute_result"
    }
   ],
   "source": [
    "data.head(3)"
   ]
  },
  {
   "cell_type": "code",
   "execution_count": null,
   "id": "9122ed9e",
   "metadata": {},
   "outputs": [],
   "source": []
  },
  {
   "cell_type": "markdown",
   "id": "8b1c5131",
   "metadata": {},
   "source": [
    "## Visualisations:"
   ]
  },
  {
   "cell_type": "code",
   "execution_count": null,
   "id": "f3b76137",
   "metadata": {},
   "outputs": [],
   "source": []
  },
  {
   "cell_type": "code",
   "execution_count": null,
   "id": "52730370",
   "metadata": {},
   "outputs": [],
   "source": []
  },
  {
   "cell_type": "code",
   "execution_count": null,
   "id": "649a88c0",
   "metadata": {},
   "outputs": [],
   "source": []
  },
  {
   "cell_type": "code",
   "execution_count": null,
   "id": "53b1cc50",
   "metadata": {},
   "outputs": [],
   "source": []
  },
  {
   "cell_type": "markdown",
   "id": "45b86c50",
   "metadata": {},
   "source": [
    "# Customer segmentation\n",
    "1. Segmentation by 'Monopoly Money Amount' (Transaction Amount of user)\n",
    "2. Segmentation by (count) Transaction Frequency (No. of transactions)\n",
    "3. Segmentation by 'To Randomly Generated Account' (to whoom they are paying)\n",
    "4. Segmentation by Date (On which date)\n",
    "5. Combination of Segmentation Criteria (To get targets)"
   ]
  },
  {
   "cell_type": "markdown",
   "id": "a46e35f1",
   "metadata": {},
   "source": [
    "### 1. Segmentation by 'Monopoly Money Amount' (Transaction Amount of user)"
   ]
  },
  {
   "cell_type": "code",
   "execution_count": 21,
   "id": "1a98e145",
   "metadata": {},
   "outputs": [],
   "source": [
    "transaction_amount = data['monopoly_money_amount'].describe()\n",
    "#transaction_amount"
   ]
  },
  {
   "cell_type": "code",
   "execution_count": 22,
   "id": "afe91a46",
   "metadata": {},
   "outputs": [
    {
     "data": {
      "text/plain": [
       "1995"
      ]
     },
     "execution_count": 22,
     "metadata": {},
     "output_type": "execute_result"
    }
   ],
   "source": [
    "highest_spent_amount = data['monopoly_money_amount'].max()\n",
    "highest_spent_amount"
   ]
  },
  {
   "cell_type": "code",
   "execution_count": 23,
   "id": "926e43b1",
   "metadata": {},
   "outputs": [],
   "source": [
    "# Segmentation for customers based on transaction amount ranges\n",
    "\n",
    "# bins for segmentation\n",
    "#bins = [-float('inf'), 100, 800, 1000, float('inf')] ##  dividing range of values based on monopoly amount\n",
    "#labels = ['Less', 'Medium', 'High', 'Very-High']  ## grouping bins.\n",
    "\n",
    "# Create a new column for segment labels\n",
    "#data['transaction_amount_segment'] = pd.cut(data['monopoly_money_amount'], bins=bins, labels=labels)\n",
    "## pd.cut()- segment and sort data values into bins\n",
    "\n",
    "## data['transaction_amount_segment']\n",
    "#data['transaction_amount_segment'].value_counts()  ###count "
   ]
  },
  {
   "cell_type": "code",
   "execution_count": 24,
   "id": "0aeb0b94",
   "metadata": {},
   "outputs": [
    {
     "name": "stdout",
     "output_type": "stream",
     "text": [
      "monopoly_money_amount\n",
      "Low segment     3599719\n",
      "Medium          3409943\n",
      "High segment    3138618\n",
      "Name: count, dtype: int64\n"
     ]
    }
   ],
   "source": [
    "# Automatic segmentation based on quantiles\n",
    "transaction_amount_segment = pd.qcut(data['monopoly_money_amount'], q=3, labels=['Low segment', 'Medium', 'High segment'])\n",
    "\n",
    "# Count the number of transactions in each segment\n",
    "segment_counts = transaction_amount_segment.value_counts()\n",
    "print(segment_counts)"
   ]
  },
  {
   "cell_type": "code",
   "execution_count": 25,
   "id": "3ff0bb26",
   "metadata": {},
   "outputs": [
    {
     "name": "stdout",
     "output_type": "stream",
     "text": [
      "Average Transaction Amounts by Segment:\n",
      " monopoly_money_amount\n",
      "Low segment      2.599610\n",
      "Medium           7.054123\n",
      "High segment    48.744555\n",
      "Name: monopoly_money_amount, dtype: float64\n"
     ]
    }
   ],
   "source": [
    "# average transaction amounts for each segment\n",
    "average_amounts = data.groupby(transaction_amount_segment)['monopoly_money_amount'].mean()\n",
    "print(\"Average Transaction Amounts by Segment:\\n\", average_amounts)"
   ]
  },
  {
   "cell_type": "code",
   "execution_count": 26,
   "id": "a2279389",
   "metadata": {},
   "outputs": [
    {
     "data": {
      "image/png": "[encoded data removed]",
      "text/plain": [
       "<Figure size 500x200 with 1 Axes>"
      ]
     },
     "metadata": {},
     "output_type": "display_data"
    }
   ],
   "source": [
    "# Visualize customer patterns using transaction frequency\n",
    "plt.figure(figsize=(5,2))\n",
    "sns.countplot(x=transaction_amount_segment, edgecolor='black')\n",
    "plt.xlabel('Segment')\n",
    "plt.ylabel('Transaction Frequency')\n",
    "plt.title('Transaction Frequency by Segment')\n",
    "plt.show()"
   ]
  },
  {
   "cell_type": "code",
   "execution_count": 27,
   "id": "4e8dbbc5",
   "metadata": {},
   "outputs": [],
   "source": [
    "## might be useful for marketing"
   ]
  },
  {
   "cell_type": "code",
   "execution_count": null,
   "id": "52f33bfb",
   "metadata": {},
   "outputs": [],
   "source": []
  },
  {
   "cell_type": "markdown",
   "id": "620dc2ac",
   "metadata": {},
   "source": [
    "### 2. Segmentation by (count) Transaction Frequency (No. of transactions)"
   ]
  },
  {
   "cell_type": "code",
   "execution_count": 28,
   "id": "4a114ca0",
   "metadata": {},
   "outputs": [
    {
     "name": "stdout",
     "output_type": "stream",
     "text": [
      "   from_totally_fake_account                       frequency_segment\n",
      "0                      10371        Segment 0: 1 - 55.0 transactions\n",
      "1                      88339  Segment 3: More than 65.0 transactions\n",
      "2                      18555  Segment 3: More than 65.0 transactions\n",
      "3                      18555  Segment 3: More than 65.0 transactions\n",
      "4                      80792     Segment 1: 56.0 - 61.0 transactions\n"
     ]
    }
   ],
   "source": [
    "# Count unique transactions per account\n",
    "unique_transactions = data.groupby('from_totally_fake_account')['to_randomly_generated_account'].nunique()\n",
    "\n",
    "# Define thresholds for segmentation (e.g., based on quartiles)\n",
    "quantiles = unique_transactions.quantile([0.25, 0.5, 0.75])\n",
    "thresholds = [0, quantiles.iloc[0], quantiles.iloc[1], quantiles.iloc[2], float('inf')]\n",
    "\n",
    "# Function to categorize transaction frequency\n",
    "def categorize_frequency(count):\n",
    "    for i in range(1, len(thresholds)):\n",
    "        if thresholds[i] == float('inf'):\n",
    "            return f\"Segment {i-1}: More than {thresholds[i-1]} transactions\"\n",
    "        elif count <= thresholds[i]:\n",
    "            return f\"Segment {i-1}: {thresholds[i-1]+1} - {thresholds[i]} transactions\"\n",
    "\n",
    "# Apply categorization to create a new column for transaction frequency segment\n",
    "data['frequency_segment'] = data['from_totally_fake_account'].map(unique_transactions.apply(categorize_frequency))\n",
    "\n",
    "# Display the segmentation results\n",
    "print(data[['from_totally_fake_account', 'frequency_segment']].head())\n"
   ]
  },
  {
   "cell_type": "code",
   "execution_count": 29,
   "id": "59a1ae4c",
   "metadata": {},
   "outputs": [
    {
     "data": {
      "text/plain": [
       "from_totally_fake_account\n",
       "1000      65\n",
       "1002      63\n",
       "1006      65\n",
       "1018      55\n",
       "1053      73\n",
       "          ..\n",
       "100931    75\n",
       "100934    59\n",
       "100947    71\n",
       "100986    65\n",
       "100988    66\n",
       "Name: to_randomly_generated_account, Length: 8142, dtype: int64"
      ]
     },
     "execution_count": 29,
     "metadata": {},
     "output_type": "execute_result"
    }
   ],
   "source": [
    "unique_transactions"
   ]
  },
  {
   "cell_type": "code",
   "execution_count": 30,
   "id": "c90de87d",
   "metadata": {},
   "outputs": [],
   "source": [
    "\n",
    "# Sort the unique transaction counts in descending order\n",
    "sorted_unique_transactions = unique_transactions.sort_values(ascending=False)\n",
    "\n",
    "# Extract the customers with the highest and lowest transaction frequencies\n",
    "highest_transaction_customers = sorted_unique_transactions.head(2)  # count\n",
    "lowest_transaction_customers = sorted_unique_transactions.tail(2)  # Count"
   ]
  },
  {
   "cell_type": "code",
   "execution_count": 31,
   "id": "330b914a",
   "metadata": {},
   "outputs": [
    {
     "data": {
      "text/html": [
       "<div>\n",
       "<style scoped>\n",
       "    .dataframe tbody tr th:only-of-type {\n",
       "        vertical-align: middle;\n",
       "    }\n",
       "\n",
       "    .dataframe tbody tr th {\n",
       "        vertical-align: top;\n",
       "    }\n",
       "\n",
       "    .dataframe thead th {\n",
       "        text-align: right;\n",
       "    }\n",
       "</style>\n",
       "<table border=\"1\" class=\"dataframe\">\n",
       "  <thead>\n",
       "    <tr style=\"text-align: right;\">\n",
       "      <th></th>\n",
       "      <th>from_totally_fake_account</th>\n",
       "      <th>monopoly_money_amount</th>\n",
       "      <th>to_randomly_generated_account</th>\n",
       "      <th>not_happened_yet_date</th>\n",
       "      <th>frequency_segment</th>\n",
       "    </tr>\n",
       "  </thead>\n",
       "  <tbody>\n",
       "    <tr>\n",
       "      <th>0</th>\n",
       "      <td>10371</td>\n",
       "      <td>4</td>\n",
       "      <td>CINEMA</td>\n",
       "      <td>01/01/2025</td>\n",
       "      <td>Segment 0: 1 - 55.0 transactions</td>\n",
       "    </tr>\n",
       "    <tr>\n",
       "      <th>1</th>\n",
       "      <td>88339</td>\n",
       "      <td>2</td>\n",
       "      <td>40544</td>\n",
       "      <td>01/01/2025</td>\n",
       "      <td>Segment 3: More than 65.0 transactions</td>\n",
       "    </tr>\n",
       "    <tr>\n",
       "      <th>2</th>\n",
       "      <td>18555</td>\n",
       "      <td>2</td>\n",
       "      <td>85149</td>\n",
       "      <td>01/01/2025</td>\n",
       "      <td>Segment 3: More than 65.0 transactions</td>\n",
       "    </tr>\n",
       "  </tbody>\n",
       "</table>\n",
       "</div>"
      ],
      "text/plain": [
       "   from_totally_fake_account  monopoly_money_amount  \\\n",
       "0                      10371                      4   \n",
       "1                      88339                      2   \n",
       "2                      18555                      2   \n",
       "\n",
       "  to_randomly_generated_account not_happened_yet_date  \\\n",
       "0                        CINEMA            01/01/2025   \n",
       "1                         40544            01/01/2025   \n",
       "2                         85149            01/01/2025   \n",
       "\n",
       "                        frequency_segment  \n",
       "0        Segment 0: 1 - 55.0 transactions  \n",
       "1  Segment 3: More than 65.0 transactions  \n",
       "2  Segment 3: More than 65.0 transactions  "
      ]
     },
     "execution_count": 31,
     "metadata": {},
     "output_type": "execute_result"
    }
   ],
   "source": [
    "data.head(3)"
   ]
  },
  {
   "cell_type": "code",
   "execution_count": 32,
   "id": "2e148964",
   "metadata": {},
   "outputs": [
    {
     "data": {
      "image/png": "[encoded data removed]",
      "text/plain": [
       "<Figure size 500x200 with 1 Axes>"
      ]
     },
     "metadata": {},
     "output_type": "display_data"
    }
   ],
   "source": [
    "# Plot pie chart\n",
    "plt.figure(figsize=(5,2))\n",
    "plt.pie(segment_counts, labels=segment_counts.index, autopct='%1.1f%%', startangle=100)\n",
    "plt.title('Customer Segmentation by Unique transactions')\n",
    "plt.axis('equal')  #to draw a circle.\n",
    "plt.show()"
   ]
  },
  {
   "cell_type": "code",
   "execution_count": null,
   "id": "ae2139c8",
   "metadata": {},
   "outputs": [],
   "source": []
  },
  {
   "cell_type": "code",
   "execution_count": null,
   "id": "7e55dd4b",
   "metadata": {},
   "outputs": [],
   "source": []
  },
  {
   "cell_type": "markdown",
   "id": "d8f65360",
   "metadata": {},
   "source": [
    "### 3. Segmentation by 'To Randomly Generated Account' (to whoom they are paying)"
   ]
  },
  {
   "cell_type": "code",
   "execution_count": 33,
   "id": "4a2ebb98",
   "metadata": {},
   "outputs": [
    {
     "data": {
      "text/plain": [
       "to_randomly_generated_account\n",
       "PUB                           834380\n",
       "BAR                           770414\n",
       "LOCAL_WATERING_HOLE           649043\n",
       "COFFEE_SHOP                   476099\n",
       "TOTALLY_A_REAL_COFFEE_SHOP    476064\n",
       "                               ...  \n",
       "74519                              2\n",
       "24699                              2\n",
       "1243                               2\n",
       "95337                              2\n",
       "20594                              1\n",
       "Name: count, Length: 14300, dtype: int64"
      ]
     },
     "execution_count": 33,
     "metadata": {},
     "output_type": "execute_result"
    }
   ],
   "source": [
    "# Count the number of transactions for each account type\n",
    "account_type_counts = data['to_randomly_generated_account'].value_counts()\n",
    "account_type_counts"
   ]
  },
  {
   "cell_type": "code",
   "execution_count": 34,
   "id": "cb50dc42",
   "metadata": {},
   "outputs": [
    {
     "data": {
      "text/html": [
       "<div>\n",
       "<style scoped>\n",
       "    .dataframe tbody tr th:only-of-type {\n",
       "        vertical-align: middle;\n",
       "    }\n",
       "\n",
       "    .dataframe tbody tr th {\n",
       "        vertical-align: top;\n",
       "    }\n",
       "\n",
       "    .dataframe thead th {\n",
       "        text-align: right;\n",
       "    }\n",
       "</style>\n",
       "<table border=\"1\" class=\"dataframe\">\n",
       "  <thead>\n",
       "    <tr style=\"text-align: right;\">\n",
       "      <th></th>\n",
       "      <th>from_totally_fake_account</th>\n",
       "      <th>to_randomly_generated_account</th>\n",
       "      <th>transaction_count</th>\n",
       "    </tr>\n",
       "  </thead>\n",
       "  <tbody>\n",
       "    <tr>\n",
       "      <th>0</th>\n",
       "      <td>1000</td>\n",
       "      <td>16354</td>\n",
       "      <td>55</td>\n",
       "    </tr>\n",
       "    <tr>\n",
       "      <th>1</th>\n",
       "      <td>1000</td>\n",
       "      <td>18013</td>\n",
       "      <td>14</td>\n",
       "    </tr>\n",
       "    <tr>\n",
       "      <th>2</th>\n",
       "      <td>1000</td>\n",
       "      <td>30208</td>\n",
       "      <td>6</td>\n",
       "    </tr>\n",
       "    <tr>\n",
       "      <th>3</th>\n",
       "      <td>1000</td>\n",
       "      <td>31489</td>\n",
       "      <td>12</td>\n",
       "    </tr>\n",
       "    <tr>\n",
       "      <th>4</th>\n",
       "      <td>1000</td>\n",
       "      <td>36647</td>\n",
       "      <td>1</td>\n",
       "    </tr>\n",
       "    <tr>\n",
       "      <th>...</th>\n",
       "      <td>...</td>\n",
       "      <td>...</td>\n",
       "      <td>...</td>\n",
       "    </tr>\n",
       "    <tr>\n",
       "      <th>490955</th>\n",
       "      <td>100988</td>\n",
       "      <td>WE_HAVE_BEAN_WEIGHTING</td>\n",
       "      <td>1</td>\n",
       "    </tr>\n",
       "    <tr>\n",
       "      <th>490956</th>\n",
       "      <td>100988</td>\n",
       "      <td>WHISKEY_BAR</td>\n",
       "      <td>27</td>\n",
       "    </tr>\n",
       "    <tr>\n",
       "      <th>490957</th>\n",
       "      <td>100988</td>\n",
       "      <td>WHISKEY_SHOP</td>\n",
       "      <td>5</td>\n",
       "    </tr>\n",
       "    <tr>\n",
       "      <th>490958</th>\n",
       "      <td>100988</td>\n",
       "      <td>WINE_BAR</td>\n",
       "      <td>48</td>\n",
       "    </tr>\n",
       "    <tr>\n",
       "      <th>490959</th>\n",
       "      <td>100988</td>\n",
       "      <td>WINE_CELLAR</td>\n",
       "      <td>1</td>\n",
       "    </tr>\n",
       "  </tbody>\n",
       "</table>\n",
       "<p>490960 rows × 3 columns</p>\n",
       "</div>"
      ],
      "text/plain": [
       "        from_totally_fake_account to_randomly_generated_account  \\\n",
       "0                            1000                         16354   \n",
       "1                            1000                         18013   \n",
       "2                            1000                         30208   \n",
       "3                            1000                         31489   \n",
       "4                            1000                         36647   \n",
       "...                           ...                           ...   \n",
       "490955                     100988        WE_HAVE_BEAN_WEIGHTING   \n",
       "490956                     100988                   WHISKEY_BAR   \n",
       "490957                     100988                  WHISKEY_SHOP   \n",
       "490958                     100988                      WINE_BAR   \n",
       "490959                     100988                   WINE_CELLAR   \n",
       "\n",
       "        transaction_count  \n",
       "0                      55  \n",
       "1                      14  \n",
       "2                       6  \n",
       "3                      12  \n",
       "4                       1  \n",
       "...                   ...  \n",
       "490955                  1  \n",
       "490956                 27  \n",
       "490957                  5  \n",
       "490958                 48  \n",
       "490959                  1  \n",
       "\n",
       "[490960 rows x 3 columns]"
      ]
     },
     "execution_count": 34,
     "metadata": {},
     "output_type": "execute_result"
    }
   ],
   "source": [
    "# Group the data by 'from_totally_fake_account' and 'to_randomly_generated_account', then count occurrences\n",
    "user_spending = data.groupby(['from_totally_fake_account', 'to_randomly_generated_account']).size().reset_index(name='transaction_count')\n",
    "user_spending"
   ]
  },
  {
   "cell_type": "code",
   "execution_count": 35,
   "id": "8254aab9",
   "metadata": {},
   "outputs": [
    {
     "data": {
      "text/html": [
       "<div>\n",
       "<style scoped>\n",
       "    .dataframe tbody tr th:only-of-type {\n",
       "        vertical-align: middle;\n",
       "    }\n",
       "\n",
       "    .dataframe tbody tr th {\n",
       "        vertical-align: top;\n",
       "    }\n",
       "\n",
       "    .dataframe thead th {\n",
       "        text-align: right;\n",
       "    }\n",
       "</style>\n",
       "<table border=\"1\" class=\"dataframe\">\n",
       "  <thead>\n",
       "    <tr style=\"text-align: right;\">\n",
       "      <th></th>\n",
       "      <th>from_totally_fake_account</th>\n",
       "      <th>to_randomly_generated_account</th>\n",
       "      <th>monopoly_money_amount</th>\n",
       "    </tr>\n",
       "  </thead>\n",
       "  <tbody>\n",
       "    <tr>\n",
       "      <th>5062638</th>\n",
       "      <td>1000</td>\n",
       "      <td>31489</td>\n",
       "      <td>1960</td>\n",
       "    </tr>\n",
       "    <tr>\n",
       "      <th>69652</th>\n",
       "      <td>1002</td>\n",
       "      <td>23010</td>\n",
       "      <td>325</td>\n",
       "    </tr>\n",
       "    <tr>\n",
       "      <th>173473</th>\n",
       "      <td>1006</td>\n",
       "      <td>80751</td>\n",
       "      <td>205</td>\n",
       "    </tr>\n",
       "    <tr>\n",
       "      <th>602608</th>\n",
       "      <td>1018</td>\n",
       "      <td>11822</td>\n",
       "      <td>297</td>\n",
       "    </tr>\n",
       "    <tr>\n",
       "      <th>32808</th>\n",
       "      <td>1053</td>\n",
       "      <td>57069</td>\n",
       "      <td>369</td>\n",
       "    </tr>\n",
       "    <tr>\n",
       "      <th>...</th>\n",
       "      <td>...</td>\n",
       "      <td>...</td>\n",
       "      <td>...</td>\n",
       "    </tr>\n",
       "    <tr>\n",
       "      <th>261196</th>\n",
       "      <td>100931</td>\n",
       "      <td>88568</td>\n",
       "      <td>323</td>\n",
       "    </tr>\n",
       "    <tr>\n",
       "      <th>109740</th>\n",
       "      <td>100934</td>\n",
       "      <td>82585</td>\n",
       "      <td>262</td>\n",
       "    </tr>\n",
       "    <tr>\n",
       "      <th>9373566</th>\n",
       "      <td>100947</td>\n",
       "      <td>ELECTRONICS_SHOP</td>\n",
       "      <td>276</td>\n",
       "    </tr>\n",
       "    <tr>\n",
       "      <th>8891691</th>\n",
       "      <td>100986</td>\n",
       "      <td>FASHION_SHOP</td>\n",
       "      <td>197</td>\n",
       "    </tr>\n",
       "    <tr>\n",
       "      <th>482181</th>\n",
       "      <td>100988</td>\n",
       "      <td>51576</td>\n",
       "      <td>287</td>\n",
       "    </tr>\n",
       "  </tbody>\n",
       "</table>\n",
       "<p>8142 rows × 3 columns</p>\n",
       "</div>"
      ],
      "text/plain": [
       "         from_totally_fake_account to_randomly_generated_account  \\\n",
       "5062638                       1000                         31489   \n",
       "69652                         1002                         23010   \n",
       "173473                        1006                         80751   \n",
       "602608                        1018                         11822   \n",
       "32808                         1053                         57069   \n",
       "...                            ...                           ...   \n",
       "261196                      100931                         88568   \n",
       "109740                      100934                         82585   \n",
       "9373566                     100947              ELECTRONICS_SHOP   \n",
       "8891691                     100986                  FASHION_SHOP   \n",
       "482181                      100988                         51576   \n",
       "\n",
       "         monopoly_money_amount  \n",
       "5062638                   1960  \n",
       "69652                      325  \n",
       "173473                     205  \n",
       "602608                     297  \n",
       "32808                      369  \n",
       "...                        ...  \n",
       "261196                     323  \n",
       "109740                     262  \n",
       "9373566                    276  \n",
       "8891691                    197  \n",
       "482181                     287  \n",
       "\n",
       "[8142 rows x 3 columns]"
      ]
     },
     "execution_count": 35,
     "metadata": {},
     "output_type": "execute_result"
    }
   ],
   "source": [
    "# Find the index of the maximum spending for each user\n",
    "max_spending_index = data.groupby('from_totally_fake_account')['monopoly_money_amount'].idxmax()\n",
    "\n",
    "# Use the index to retrieve the corresponding 'to_randomly_generated_account' for the maximum spending\n",
    "max_spending_by_user = data.loc[max_spending_index, ['from_totally_fake_account', 'to_randomly_generated_account', 'monopoly_money_amount']]\n",
    "max_spending_by_user"
   ]
  },
  {
   "cell_type": "code",
   "execution_count": null,
   "id": "57cc4beb",
   "metadata": {},
   "outputs": [],
   "source": []
  },
  {
   "cell_type": "code",
   "execution_count": null,
   "id": "3b1d4655",
   "metadata": {},
   "outputs": [],
   "source": []
  },
  {
   "cell_type": "code",
   "execution_count": null,
   "id": "f4fabfaf",
   "metadata": {},
   "outputs": [],
   "source": []
  },
  {
   "cell_type": "code",
   "execution_count": 36,
   "id": "c95f3de4",
   "metadata": {},
   "outputs": [
    {
     "name": "stdout",
     "output_type": "stream",
     "text": [
      "Numeric values count: 14221\n",
      "Categorical values count: 79\n"
     ]
    }
   ],
   "source": [
    "# Initialize counters\n",
    "numeric_count = 0\n",
    "categorical_count = 0\n",
    "\n",
    "# Iterate through unique values in the column\n",
    "for value in data['to_randomly_generated_account'].unique():\n",
    "    # Try to convert the value to a numeric type\n",
    "    try:\n",
    "        float(value)\n",
    "        # If successful, increment numeric count\n",
    "        numeric_count += 1\n",
    "    except ValueError:\n",
    "        # If conversion fails, it's categorical\n",
    "        categorical_count += 1\n",
    "\n",
    "# Print the counts\n",
    "print(\"Numeric values count:\", numeric_count)\n",
    "print(\"Categorical values count:\", categorical_count)"
   ]
  },
  {
   "cell_type": "code",
   "execution_count": 37,
   "id": "76c5d7be",
   "metadata": {},
   "outputs": [
    {
     "name": "stdout",
     "output_type": "stream",
     "text": [
      "Unique categorical values:\n",
      "['CINEMA' 'HIPSTER_COFFEE_SHOP' 'TOTALLY_A_REAL_COFFEE_SHOP' 'COFFEE_SHOP'\n",
      " 'CAFE' 'A_CAFE' 'LOCAL_RESTAURANT' 'A_LOCAL_COFFEE_SHOP'\n",
      " 'GOURMET_COFFEE_SHOP' 'LOCAL_WATERING_HOLE' 'SANDWICH_SHOP' 'TOY_SHOP'\n",
      " 'PRETENTIOUS_COFFEE_SHOP' 'BAR' 'PUB' 'COMIC_BOOK_SHOP' 'LUNCH_VAN'\n",
      " 'DEPARTMENT_STORE' 'KEBAB_SHOP' 'WINE_BAR' 'ELECTRONICS_SHOP'\n",
      " 'RESTAURANT' 'LOCAL_PUB' 'LUNCH_PLACE' 'FASHION_SHOP'\n",
      " 'FASHIONABLE_SPORTSWARE_SHOP' 'SCHOOL_SUPPLY_STORE' 'LOCAL_BOOKSHOP'\n",
      " 'TRAINER_SHOP' 'BOOKSHOP' 'KIDS_ACTIVITY_CENTRE' 'VIDEO_GAME_STORE'\n",
      " 'CLOTHES_SHOP' 'TAKEAWAY_CURRY' 'TECH_SHOP' 'NERDY_BOOK_STORE'\n",
      " 'WHISKEY_BAR' 'PET_TOY_SHOP' 'DVD_SHOP' 'CHILDRENDS_SHOP' 'GAME_SHOP'\n",
      " 'INDIAN_RESTAURANT' 'COCKTAIL_BAR' 'RUNNING_SHOP' 'DIY_STORE' 'COOKSHOP'\n",
      " 'HOME_IMPROVEMENT_STORE' 'PET_SHOP' 'CHINESE_TAKEAWAY' 'BUTCHERS'\n",
      " 'SECOND_HAND_BOOKSHOP' 'G&T_BAR' 'GREENGROCER' 'JEWLLERY_SHOP'\n",
      " 'ACCESSORY_SHOP' 'TAKEAWAY' 'KIDS_CLOTHING_SHOP' 'SPORT_SHOP'\n",
      " 'STEAK_HOUSE' 'HIPSTER_ELECTRONICS_SHOP' 'CHINESE_RESTAURANT'\n",
      " 'SEAFOOD_RESAURANT' 'STREAMING_SERVICE' 'GYM' 'WHISKEY_SHOP' 'TEA_SHOP'\n",
      " 'RESTAURANT_VOUCHER' 'ROASTERIE' 'LIQUOR_STORE' 'TO_BEAN_OR_NOT_TO_BEAN'\n",
      " 'WINE_CELLAR' 'WE_HAVE_BEAN_WEIGHTING' 'LARGE_SUPERMARKET'\n",
      " 'EXPRESS_SUPERMARKET' 'BUTCHER' 'A_SUPERMARKET' 'THE_SUPERMARKET'\n",
      " 'FLORIST' 'TURKEY_FARM']\n"
     ]
    }
   ],
   "source": [
    "# Print out the unique categorical values\n",
    "categorical_values = data.loc[~data['to_randomly_generated_account'].apply(lambda x: str(x).replace('.', '').isdigit()), 'to_randomly_generated_account'].unique()\n",
    "print(\"Unique categorical values:\")\n",
    "print(categorical_values)"
   ]
  },
  {
   "cell_type": "code",
   "execution_count": null,
   "id": "3bc930e4",
   "metadata": {},
   "outputs": [],
   "source": []
  },
  {
   "cell_type": "code",
   "execution_count": null,
   "id": "1fdf02c2",
   "metadata": {},
   "outputs": [],
   "source": []
  },
  {
   "cell_type": "markdown",
   "id": "c5e2677b",
   "metadata": {},
   "source": [
    "### 4. Segmentation by Date (On which date)"
   ]
  },
  {
   "cell_type": "code",
   "execution_count": 38,
   "id": "dc20c518",
   "metadata": {},
   "outputs": [],
   "source": [
    "# Convert 'not_happened_yet_date' column to datetime\n",
    "data['not_happened_yet_date'] = pd.to_datetime(data['not_happened_yet_date'], format='%d/%m/%Y')"
   ]
  },
  {
   "cell_type": "markdown",
   "id": "43ec363b",
   "metadata": {},
   "source": [
    "### A. Weekly Segmentation "
   ]
  },
  {
   "cell_type": "code",
   "execution_count": 39,
   "id": "2c133ebb",
   "metadata": {},
   "outputs": [
    {
     "name": "stdout",
     "output_type": "stream",
     "text": [
      "Weekly Spend by User:\n",
      "not_happened_yet_date      2024-12-30/2025-01-05  2025-01-06/2025-01-12  \\\n",
      "from_totally_fake_account                                                 \n",
      "1000                                       354.0                 1752.0   \n",
      "1002                                       484.0                  154.0   \n",
      "1006                                       133.0                  531.0   \n",
      "1018                                       118.0                  292.0   \n",
      "1053                                       502.0                  142.0   \n",
      "...                                          ...                    ...   \n",
      "100931                                     282.0                  651.0   \n",
      "100934                                     465.0                  356.0   \n",
      "100947                                     320.0                  281.0   \n",
      "100986                                      91.0                  552.0   \n",
      "100988                                     183.0                  375.0   \n",
      "\n",
      "not_happened_yet_date      2025-01-13/2025-01-19  2025-01-20/2025-01-26  \\\n",
      "from_totally_fake_account                                                 \n",
      "1000                                       258.0                  166.0   \n",
      "1002                                       281.0                  117.0   \n",
      "1006                                       238.0                  360.0   \n",
      "1018                                       183.0                  468.0   \n",
      "1053                                        45.0                  106.0   \n",
      "...                                          ...                    ...   \n",
      "100931                                     375.0                  411.0   \n",
      "100934                                     224.0                  410.0   \n",
      "100947                                     489.0                  178.0   \n",
      "100986                                     157.0                  286.0   \n",
      "100988                                     733.0                  246.0   \n",
      "\n",
      "not_happened_yet_date      2025-01-27/2025-02-02  2025-02-03/2025-02-09  \\\n",
      "from_totally_fake_account                                                 \n",
      "1000                                       132.0                  329.0   \n",
      "1002                                       191.0                  594.0   \n",
      "1006                                       431.0                  424.0   \n",
      "1018                                       255.0                  166.0   \n",
      "1053                                       826.0                  409.0   \n",
      "...                                          ...                    ...   \n",
      "100931                                     214.0                  225.0   \n",
      "100934                                     233.0                  677.0   \n",
      "100947                                     522.0                  316.0   \n",
      "100986                                     365.0                  277.0   \n",
      "100988                                     307.0                  312.0   \n",
      "\n",
      "not_happened_yet_date      2025-02-10/2025-02-16  2025-02-17/2025-02-23  \\\n",
      "from_totally_fake_account                                                 \n",
      "1000                                       286.0                 2034.0   \n",
      "1002                                        53.0                  417.0   \n",
      "1006                                       278.0                  267.0   \n",
      "1018                                       118.0                  427.0   \n",
      "1053                                       284.0                  335.0   \n",
      "...                                          ...                    ...   \n",
      "100931                                     727.0                  285.0   \n",
      "100934                                     256.0                  264.0   \n",
      "100947                                     281.0                  207.0   \n",
      "100986                                     378.0                  337.0   \n",
      "100988                                     309.0                  638.0   \n",
      "\n",
      "not_happened_yet_date      2025-02-24/2025-03-02  2025-03-03/2025-03-09  ...  \\\n",
      "from_totally_fake_account                                                ...   \n",
      "1000                                       266.0                  339.0  ...   \n",
      "1002                                       301.0                  639.0  ...   \n",
      "1006                                       186.0                  381.0  ...   \n",
      "1018                                       151.0                  148.0  ...   \n",
      "1053                                       574.0                  506.0  ...   \n",
      "...                                          ...                    ...  ...   \n",
      "100931                                     467.0                  193.0  ...   \n",
      "100934                                     434.0                  463.0  ...   \n",
      "100947                                     485.0                  288.0  ...   \n",
      "100986                                     118.0                  318.0  ...   \n",
      "100988                                     324.0                  265.0  ...   \n",
      "\n",
      "not_happened_yet_date      2025-10-27/2025-11-02  2025-11-03/2025-11-09  \\\n",
      "from_totally_fake_account                                                 \n",
      "1000                                       208.0                  325.0   \n",
      "1002                                       193.0                  498.0   \n",
      "1006                                       206.0                  568.0   \n",
      "1018                                       256.0                  286.0   \n",
      "1053                                       552.0                  369.0   \n",
      "...                                          ...                    ...   \n",
      "100931                                     369.0                  397.0   \n",
      "100934                                     263.0                  348.0   \n",
      "100947                                     409.0                  393.0   \n",
      "100986                                     361.0                  321.0   \n",
      "100988                                     234.0                  345.0   \n",
      "\n",
      "not_happened_yet_date      2025-11-10/2025-11-16  2025-11-17/2025-11-23  \\\n",
      "from_totally_fake_account                                                 \n",
      "1000                                       195.0                 1123.0   \n",
      "1002                                       413.0                  116.0   \n",
      "1006                                       324.0                  299.0   \n",
      "1018                                       217.0                  506.0   \n",
      "1053                                       258.0                  340.0   \n",
      "...                                          ...                    ...   \n",
      "100931                                     618.0                  155.0   \n",
      "100934                                     295.0                  279.0   \n",
      "100947                                     284.0                  415.0   \n",
      "100986                                     441.0                  409.0   \n",
      "100988                                     382.0                  653.0   \n",
      "\n",
      "not_happened_yet_date      2025-11-24/2025-11-30  2025-12-01/2025-12-07  \\\n",
      "from_totally_fake_account                                                 \n",
      "1000                                       146.0                  472.0   \n",
      "1002                                       149.0                  623.0   \n",
      "1006                                       347.0                  614.0   \n",
      "1018                                       101.0                  371.0   \n",
      "1053                                       255.0                  821.0   \n",
      "...                                          ...                    ...   \n",
      "100931                                     284.0                  500.0   \n",
      "100934                                     423.0                  664.0   \n",
      "100947                                     336.0                  989.0   \n",
      "100986                                     249.0                  338.0   \n",
      "100988                                     490.0                  219.0   \n",
      "\n",
      "not_happened_yet_date      2025-12-08/2025-12-14  2025-12-15/2025-12-21  \\\n",
      "from_totally_fake_account                                                 \n",
      "1000                                      1526.0                  336.0   \n",
      "1002                                       528.0                  264.0   \n",
      "1006                                       312.0                  366.0   \n",
      "1018                                       262.0                  447.0   \n",
      "1053                                       445.0                  435.0   \n",
      "...                                          ...                    ...   \n",
      "100931                                     966.0                  444.0   \n",
      "100934                                     636.0                  286.0   \n",
      "100947                                     567.0                  736.0   \n",
      "100986                                     263.0                  363.0   \n",
      "100988                                     393.0                  838.0   \n",
      "\n",
      "not_happened_yet_date      2025-12-22/2025-12-28  2025-12-29/2026-01-04  \n",
      "from_totally_fake_account                                                \n",
      "1000                                       245.0                   25.0  \n",
      "1002                                       146.0                   36.0  \n",
      "1006                                       370.0                   81.0  \n",
      "1018                                       454.0                   36.0  \n",
      "1053                                       431.0                   34.0  \n",
      "...                                          ...                    ...  \n",
      "100931                                     246.0                   31.0  \n",
      "100934                                     282.0                    9.0  \n",
      "100947                                     375.0                   42.0  \n",
      "100986                                     339.0                  119.0  \n",
      "100988                                     383.0                   72.0  \n",
      "\n",
      "[8142 rows x 53 columns]\n"
     ]
    }
   ],
   "source": [
    "# Grouping by User and Week, calculating weekly spend\n",
    "weekly_spending = data.groupby([data['from_totally_fake_account'], data['not_happened_yet_date'].dt.to_period('W')])['monopoly_money_amount'].sum()\n",
    "\n",
    "# Resetting index and pivoting the data\n",
    "weekly_spending = weekly_spending.reset_index().pivot(index='from_totally_fake_account', columns='not_happened_yet_date', values='monopoly_money_amount')\n",
    "\n",
    "# Printing the weekly spend for each user\n",
    "print(\"Weekly Spend by User:\")\n",
    "print(weekly_spending)"
   ]
  },
  {
   "cell_type": "code",
   "execution_count": 40,
   "id": "74822ac0",
   "metadata": {},
   "outputs": [
    {
     "name": "stdout",
     "output_type": "stream",
     "text": [
      "Top 10 Users by Weekly Spending:\n",
      "not_happened_yet_date      2024-12-30/2025-01-05  2025-01-06/2025-01-12  \\\n",
      "from_totally_fake_account                                                 \n",
      "17398                                      452.0                 2106.0   \n",
      "18827                                      105.0                 2309.0   \n",
      "72758                                      220.0                  283.0   \n",
      "64691                                      253.0                  522.0   \n",
      "3458                                       226.0                  813.0   \n",
      "62998                                      269.0                 1758.0   \n",
      "42371                                      587.0                  518.0   \n",
      "7791                                       325.0                 2268.0   \n",
      "33739                                      319.0                 2337.0   \n",
      "82953                                      314.0                  286.0   \n",
      "\n",
      "not_happened_yet_date      2025-01-13/2025-01-19  2025-01-20/2025-01-26  \\\n",
      "from_totally_fake_account                                                 \n",
      "17398                                      427.0                  605.0   \n",
      "18827                                      705.0                  253.0   \n",
      "72758                                     1516.0                  430.0   \n",
      "64691                                     1205.0                  556.0   \n",
      "3458                                       116.0                 2255.0   \n",
      "62998                                      389.0                  358.0   \n",
      "42371                                      456.0                 1699.0   \n",
      "7791                                       504.0                  306.0   \n",
      "33739                                      187.0                  411.0   \n",
      "82953                                     2370.0                  177.0   \n",
      "\n",
      "not_happened_yet_date      2025-01-27/2025-02-02  2025-02-03/2025-02-09  \\\n",
      "from_totally_fake_account                                                 \n",
      "17398                                      461.0                  424.0   \n",
      "18827                                      400.0                 2400.0   \n",
      "72758                                     1298.0                  604.0   \n",
      "64691                                      692.0                  414.0   \n",
      "3458                                       323.0                  303.0   \n",
      "62998                                      417.0                 2509.0   \n",
      "42371                                      456.0                  463.0   \n",
      "7791                                       274.0                  336.0   \n",
      "33739                                      331.0                 2231.0   \n",
      "82953                                      210.0                  201.0   \n",
      "\n",
      "not_happened_yet_date      2025-02-10/2025-02-16  2025-02-17/2025-02-23  \\\n",
      "from_totally_fake_account                                                 \n",
      "17398                                     1843.0                  343.0   \n",
      "18827                                      299.0                  210.0   \n",
      "72758                                      543.0                  421.0   \n",
      "64691                                      555.0                  178.0   \n",
      "3458                                       313.0                 2316.0   \n",
      "62998                                      409.0                  368.0   \n",
      "42371                                      526.0                  584.0   \n",
      "7791                                      2304.0                  381.0   \n",
      "33739                                      240.0                  332.0   \n",
      "82953                                      170.0                 2311.0   \n",
      "\n",
      "not_happened_yet_date      2025-02-24/2025-03-02  2025-03-03/2025-03-09  ...  \\\n",
      "from_totally_fake_account                                                ...   \n",
      "17398                                      756.0                  492.0  ...   \n",
      "18827                                      501.0                 2332.0  ...   \n",
      "72758                                     1352.0                  617.0  ...   \n",
      "64691                                     2453.0                  418.0  ...   \n",
      "3458                                       560.0                  326.0  ...   \n",
      "62998                                      545.0                 1316.0  ...   \n",
      "42371                                     1350.0                  668.0  ...   \n",
      "7791                                       130.0                  226.0  ...   \n",
      "33739                                      372.0                 2132.0  ...   \n",
      "82953                                      346.0                  265.0  ...   \n",
      "\n",
      "not_happened_yet_date      2025-11-03/2025-11-09  2025-11-10/2025-11-16  \\\n",
      "from_totally_fake_account                                                 \n",
      "17398                                     1274.0                  603.0   \n",
      "18827                                     2276.0                  455.0   \n",
      "72758                                     1976.0                  382.0   \n",
      "64691                                     2038.0                  367.0   \n",
      "3458                                       429.0                  314.0   \n",
      "62998                                      407.0                 2366.0   \n",
      "42371                                      276.0                  433.0   \n",
      "7791                                       489.0                 2342.0   \n",
      "33739                                     2218.0                  454.0   \n",
      "82953                                      324.0                  346.0   \n",
      "\n",
      "not_happened_yet_date      2025-11-17/2025-11-23  2025-11-24/2025-11-30  \\\n",
      "from_totally_fake_account                                                 \n",
      "17398                                      500.0                  668.0   \n",
      "18827                                      619.0                  543.0   \n",
      "72758                                      641.0                  488.0   \n",
      "64691                                      478.0                  563.0   \n",
      "3458                                      2307.0                  562.0   \n",
      "62998                                      890.0                  370.0   \n",
      "42371                                      390.0                  483.0   \n",
      "7791                                       503.0                  312.0   \n",
      "33739                                      274.0                  665.0   \n",
      "82953                                     2291.0                  288.0   \n",
      "\n",
      "not_happened_yet_date      2025-12-01/2025-12-07  2025-12-08/2025-12-14  \\\n",
      "from_totally_fake_account                                                 \n",
      "17398                                      550.0                  457.0   \n",
      "18827                                      225.0                 2113.0   \n",
      "72758                                     2277.0                  923.0   \n",
      "64691                                      412.0                  670.0   \n",
      "3458                                       423.0                  473.0   \n",
      "62998                                      524.0                 1149.0   \n",
      "42371                                     1395.0                  772.0   \n",
      "7791                                       408.0                 2378.0   \n",
      "33739                                      482.0                 2642.0   \n",
      "82953                                      588.0                  793.0   \n",
      "\n",
      "not_happened_yet_date      2025-12-15/2025-12-21  2025-12-22/2025-12-28  \\\n",
      "from_totally_fake_account                                                 \n",
      "17398                                      819.0                 2748.0   \n",
      "18827                                      608.0                  394.0   \n",
      "72758                                      619.0                  332.0   \n",
      "64691                                      781.0                 2440.0   \n",
      "3458                                      2177.0                  464.0   \n",
      "62998                                     1797.0                  635.0   \n",
      "42371                                      535.0                  225.0   \n",
      "7791                                       863.0                  327.0   \n",
      "33739                                      278.0                  106.0   \n",
      "82953                                     2468.0                  487.0   \n",
      "\n",
      "not_happened_yet_date      2025-12-29/2026-01-04    Total  \n",
      "from_totally_fake_account                                  \n",
      "17398                                       25.0  45029.0  \n",
      "18827                                       28.0  42735.0  \n",
      "72758                                      107.0  42242.0  \n",
      "64691                                      250.0  41912.0  \n",
      "3458                                       121.0  41847.0  \n",
      "62998                                       29.0  41622.0  \n",
      "42371                                      141.0  41607.0  \n",
      "7791                                         NaN  41288.0  \n",
      "33739                                       11.0  41281.0  \n",
      "82953                                       16.0  41116.0  \n",
      "\n",
      "[10 rows x 54 columns]\n"
     ]
    }
   ],
   "source": [
    "# Summing up the weekly spending for each user\n",
    "weekly_spending['Total'] = weekly_spending.sum(axis=1)\n",
    "\n",
    "# Sorting users based on their total spending\n",
    "w_top_10_users = weekly_spending.nlargest(10, 'Total')\n",
    "\n",
    "# Printing the top 10 users\n",
    "print(\"Top 10 Users by Weekly Spending:\")\n",
    "print(w_top_10_users)"
   ]
  },
  {
   "cell_type": "markdown",
   "id": "9e5708f7",
   "metadata": {},
   "source": [
    "### B. Monthly Segmentation: "
   ]
  },
  {
   "cell_type": "code",
   "execution_count": 41,
   "id": "dcceb4a2",
   "metadata": {},
   "outputs": [
    {
     "name": "stdout",
     "output_type": "stream",
     "text": [
      "m Spend by User:\n",
      "not_happened_yet_date      2025-01  2025-02  2025-03  2025-04  2025-05  \\\n",
      "from_totally_fake_account                                                \n",
      "1000                          2566     2868     2333     1872     1831   \n",
      "1002                          1087     1414     1263     1126     1516   \n",
      "1006                          1484     1279     1449     1723     1635   \n",
      "1018                          1151      976     1118     1517     1086   \n",
      "1053                          1030     1767     1683     1485     1521   \n",
      "...                            ...      ...      ...      ...      ...   \n",
      "100931                        1849     1527     1804     1750     2109   \n",
      "100934                        1552     1563     1883     1285     1424   \n",
      "100947                        1565     1172     1439     1664     2007   \n",
      "100986                        1276     1179     1442      871     1015   \n",
      "100988                        1651     1684     1590     1877     1550   \n",
      "\n",
      "not_happened_yet_date      2025-06  2025-07  2025-08  2025-09  2025-10  \\\n",
      "from_totally_fake_account                                                \n",
      "1000                          2552     2939     2500     2165     2497   \n",
      "1002                          1145     1564     1067     1118     1421   \n",
      "1006                          1678     1390     1740     1449     1503   \n",
      "1018                          1691     1245     1452     1295     1420   \n",
      "1053                          1207     1547     1885     1951     1516   \n",
      "...                            ...      ...      ...      ...      ...   \n",
      "100931                        2192     1917     1550     1816     1950   \n",
      "100934                        1385     1290     1801     1654     1287   \n",
      "100947                        1424     2182     1775     1502     1675   \n",
      "100986                        1321     1386     1569      967     1202   \n",
      "100988                        1541     1369     1353     1462     1682   \n",
      "\n",
      "not_happened_yet_date      2025-11  2025-12  \n",
      "from_totally_fake_account                    \n",
      "1000                          1876     2604  \n",
      "1002                          1272     1597  \n",
      "1006                          1642     1743  \n",
      "1018                          1176     1570  \n",
      "1053                          1639     2166  \n",
      "...                            ...      ...  \n",
      "100931                        1638     2187  \n",
      "100934                        1540     1877  \n",
      "100947                        1651     2709  \n",
      "100986                        1634     1422  \n",
      "100988                        1987     1905  \n",
      "\n",
      "[8142 rows x 12 columns]\n"
     ]
    }
   ],
   "source": [
    "# Grouping by User and Week, calculating weekly spend\n",
    "m_spending = data.groupby([data['from_totally_fake_account'], data['not_happened_yet_date'].dt.to_period('M')])['monopoly_money_amount'].sum()\n",
    "\n",
    "# Resetting index and pivoting the data\n",
    "m_spending =m_spending.reset_index().pivot(index='from_totally_fake_account', columns='not_happened_yet_date', values='monopoly_money_amount')\n",
    "\n",
    "# Printing the weekly spend for each user\n",
    "print(\"m Spend by User:\")\n",
    "print(m_spending)"
   ]
  },
  {
   "cell_type": "code",
   "execution_count": 42,
   "id": "a80182ce",
   "metadata": {},
   "outputs": [
    {
     "data": {
      "text/html": [
       "<div>\n",
       "<style scoped>\n",
       "    .dataframe tbody tr th:only-of-type {\n",
       "        vertical-align: middle;\n",
       "    }\n",
       "\n",
       "    .dataframe tbody tr th {\n",
       "        vertical-align: top;\n",
       "    }\n",
       "\n",
       "    .dataframe thead th {\n",
       "        text-align: right;\n",
       "    }\n",
       "</style>\n",
       "<table border=\"1\" class=\"dataframe\">\n",
       "  <thead>\n",
       "    <tr style=\"text-align: right;\">\n",
       "      <th>not_happened_yet_date</th>\n",
       "      <th>2025-01</th>\n",
       "      <th>2025-02</th>\n",
       "      <th>2025-03</th>\n",
       "      <th>2025-04</th>\n",
       "      <th>2025-05</th>\n",
       "      <th>2025-06</th>\n",
       "      <th>2025-07</th>\n",
       "      <th>2025-08</th>\n",
       "      <th>2025-09</th>\n",
       "      <th>2025-10</th>\n",
       "      <th>2025-11</th>\n",
       "      <th>2025-12</th>\n",
       "    </tr>\n",
       "    <tr>\n",
       "      <th>from_totally_fake_account</th>\n",
       "      <th></th>\n",
       "      <th></th>\n",
       "      <th></th>\n",
       "      <th></th>\n",
       "      <th></th>\n",
       "      <th></th>\n",
       "      <th></th>\n",
       "      <th></th>\n",
       "      <th></th>\n",
       "      <th></th>\n",
       "      <th></th>\n",
       "      <th></th>\n",
       "    </tr>\n",
       "  </thead>\n",
       "  <tbody>\n",
       "    <tr>\n",
       "      <th>1000</th>\n",
       "      <td>2566</td>\n",
       "      <td>2868</td>\n",
       "      <td>2333</td>\n",
       "      <td>1872</td>\n",
       "      <td>1831</td>\n",
       "      <td>2552</td>\n",
       "      <td>2939</td>\n",
       "      <td>2500</td>\n",
       "      <td>2165</td>\n",
       "      <td>2497</td>\n",
       "      <td>1876</td>\n",
       "      <td>2604</td>\n",
       "    </tr>\n",
       "    <tr>\n",
       "      <th>1002</th>\n",
       "      <td>1087</td>\n",
       "      <td>1414</td>\n",
       "      <td>1263</td>\n",
       "      <td>1126</td>\n",
       "      <td>1516</td>\n",
       "      <td>1145</td>\n",
       "      <td>1564</td>\n",
       "      <td>1067</td>\n",
       "      <td>1118</td>\n",
       "      <td>1421</td>\n",
       "      <td>1272</td>\n",
       "      <td>1597</td>\n",
       "    </tr>\n",
       "    <tr>\n",
       "      <th>1006</th>\n",
       "      <td>1484</td>\n",
       "      <td>1279</td>\n",
       "      <td>1449</td>\n",
       "      <td>1723</td>\n",
       "      <td>1635</td>\n",
       "      <td>1678</td>\n",
       "      <td>1390</td>\n",
       "      <td>1740</td>\n",
       "      <td>1449</td>\n",
       "      <td>1503</td>\n",
       "      <td>1642</td>\n",
       "      <td>1743</td>\n",
       "    </tr>\n",
       "  </tbody>\n",
       "</table>\n",
       "</div>"
      ],
      "text/plain": [
       "not_happened_yet_date      2025-01  2025-02  2025-03  2025-04  2025-05  \\\n",
       "from_totally_fake_account                                                \n",
       "1000                          2566     2868     2333     1872     1831   \n",
       "1002                          1087     1414     1263     1126     1516   \n",
       "1006                          1484     1279     1449     1723     1635   \n",
       "\n",
       "not_happened_yet_date      2025-06  2025-07  2025-08  2025-09  2025-10  \\\n",
       "from_totally_fake_account                                                \n",
       "1000                          2552     2939     2500     2165     2497   \n",
       "1002                          1145     1564     1067     1118     1421   \n",
       "1006                          1678     1390     1740     1449     1503   \n",
       "\n",
       "not_happened_yet_date      2025-11  2025-12  \n",
       "from_totally_fake_account                    \n",
       "1000                          1876     2604  \n",
       "1002                          1272     1597  \n",
       "1006                          1642     1743  "
      ]
     },
     "execution_count": 42,
     "metadata": {},
     "output_type": "execute_result"
    }
   ],
   "source": [
    "m_spending.head(3)\n",
    "#m_spending.shape"
   ]
  },
  {
   "cell_type": "code",
   "execution_count": 43,
   "id": "e3509721",
   "metadata": {},
   "outputs": [
    {
     "name": "stdout",
     "output_type": "stream",
     "text": [
      "Top 10 Users by monthly Spending:\n",
      "not_happened_yet_date      2025-01  2025-02  2025-03  2025-04  2025-05  \\\n",
      "from_totally_fake_account                                                \n",
      "17398                         3688     3438     3890     3702     3968   \n",
      "18827                         3586     3370     3721     3000     3731   \n",
      "72758                         2755     2955     3387     3318     3125   \n",
      "64691                         2859     3713     3404     3717     4023   \n",
      "3458                          3678     3222     3496     3020     3534   \n",
      "62998                         3018     3619     2919     3874     3780   \n",
      "42371                         3591     2976     3969     3200     3999   \n",
      "7791                          3584     3175     3511     3225     3163   \n",
      "33739                         3516     3084     3221     3635     3518   \n",
      "82953                         3170     3041     3147     3354     3136   \n",
      "\n",
      "not_happened_yet_date      2025-06  2025-07  2025-08  2025-09  2025-10  \\\n",
      "from_totally_fake_account                                                \n",
      "17398                         3822     3391     3725     4253     3416   \n",
      "18827                         3508     3847     3138     3859     3528   \n",
      "72758                         3311     3714     3569     3823     4340   \n",
      "64691                         3522     3429     3125     2995     3032   \n",
      "3458                          3617     3251     3671     3841     3041   \n",
      "62998                         3286     3206     2854     3852     2958   \n",
      "42371                         2613     4629     3888     3114     2907   \n",
      "7791                          3226     3455     3278     3147     3779   \n",
      "33739                         3424     3448     3296     3430     3460   \n",
      "82953                         3435     3710     3491     3410     3405   \n",
      "\n",
      "not_happened_yet_date      2025-11  2025-12  Total  \n",
      "from_totally_fake_account                           \n",
      "17398                         3137     4599  45029  \n",
      "18827                         4079     3368  42735  \n",
      "72758                         3687     4258  42242  \n",
      "64691                         3540     4553  41912  \n",
      "3458                          3818     3658  41847  \n",
      "62998                         4122     4134  41622  \n",
      "42371                         3653     3068  41607  \n",
      "7791                          3769     3976  41288  \n",
      "33739                         3730     3519  41281  \n",
      "82953                         3465     4352  41116  \n"
     ]
    }
   ],
   "source": [
    "# Summing up the weekly spending for each user\n",
    "m_spending['Total'] = m_spending.sum(axis=1)\n",
    "\n",
    "# Sorting users based on their total spending\n",
    "m_top_10_users = m_spending.nlargest(10, 'Total')\n",
    "\n",
    "# Printing the top 10 users\n",
    "print(\"Top 10 Users by monthly Spending:\")\n",
    "print(m_top_10_users)"
   ]
  },
  {
   "cell_type": "markdown",
   "id": "b0b92bf7",
   "metadata": {},
   "source": [
    "### Yearly Segmentation:"
   ]
  },
  {
   "cell_type": "code",
   "execution_count": 44,
   "id": "ef6c0441",
   "metadata": {},
   "outputs": [
    {
     "name": "stdout",
     "output_type": "stream",
     "text": [
      "yearly Spend by User:\n",
      "not_happened_yet_date       2025\n",
      "from_totally_fake_account       \n",
      "1000                       28603\n",
      "1002                       15590\n",
      "1006                       18715\n",
      "1018                       15697\n",
      "1053                       19397\n",
      "...                          ...\n",
      "100931                     22289\n",
      "100934                     18541\n",
      "100947                     20765\n",
      "100986                     15284\n",
      "100988                     19651\n",
      "\n",
      "[8142 rows x 1 columns]\n"
     ]
    }
   ],
   "source": [
    "# Grouping by User and Week, calculating weekly spend\n",
    "y_spending = data.groupby([data['from_totally_fake_account'], data['not_happened_yet_date'].dt.to_period('Y')])['monopoly_money_amount'].sum()\n",
    "\n",
    "# Resetting index and pivoting the data\n",
    "y_spending =y_spending.reset_index().pivot(index='from_totally_fake_account', columns='not_happened_yet_date', values='monopoly_money_amount')\n",
    "\n",
    "# Printing the weekly spend for each user\n",
    "print(\"yearly Spend by User:\")\n",
    "print(y_spending)"
   ]
  },
  {
   "cell_type": "code",
   "execution_count": 45,
   "id": "2806e547",
   "metadata": {},
   "outputs": [
    {
     "name": "stdout",
     "output_type": "stream",
     "text": [
      "Top 10 Users by monthly Spending:\n",
      "not_happened_yet_date       2025  Total\n",
      "from_totally_fake_account              \n",
      "17398                      45029  45029\n",
      "18827                      42735  42735\n",
      "72758                      42242  42242\n",
      "64691                      41912  41912\n",
      "3458                       41847  41847\n",
      "62998                      41622  41622\n",
      "42371                      41607  41607\n",
      "7791                       41288  41288\n",
      "33739                      41281  41281\n",
      "82953                      41116  41116\n"
     ]
    }
   ],
   "source": [
    "# Summing up the weekly spending for each user\n",
    "y_spending['Total'] = y_spending.sum(axis=1)\n",
    "\n",
    "# Sorting users based on their total spending\n",
    "y_top_10_users = y_spending.nlargest(10, 'Total')\n",
    "\n",
    "# Printing the top 10 users\n",
    "print(\"Top 10 Users by monthly Spending:\")\n",
    "print(y_top_10_users)"
   ]
  },
  {
   "cell_type": "markdown",
   "id": "d70fb45c",
   "metadata": {},
   "source": [
    "### Lets see who spent more and where..... in whole data"
   ]
  },
  {
   "cell_type": "code",
   "execution_count": 46,
   "id": "7941d26b",
   "metadata": {},
   "outputs": [
    {
     "name": "stdout",
     "output_type": "stream",
     "text": [
      "User with the most spending: 17398\n",
      "Total amount spent by the user: 45029\n",
      "Transaction type where the user spent the most money: 23639\n"
     ]
    }
   ],
   "source": [
    "# Calculate total amount spent by each user\n",
    "user_spending = data.groupby('from_totally_fake_account')['monopoly_money_amount'].sum()\n",
    "\n",
    "# Find the user who spent the most money\n",
    "user_with_max_spending = user_spending.idxmax()\n",
    "max_spending_amount = user_spending.max()\n",
    "\n",
    "print(\"User with the most spending:\", user_with_max_spending)\n",
    "print(\"Total amount spent by the user:\", max_spending_amount)\n",
    "\n",
    "# Find the transaction types where the user spent the most money\n",
    "transactions_of_max_spender = data[data['from_totally_fake_account'] == user_with_max_spending]\n",
    "max_spending_transaction_type = transactions_of_max_spender.groupby('to_randomly_generated_account')['monopoly_money_amount'].sum().idxmax()\n",
    "\n",
    "print(\"Transaction type where the user spent the most money:\", max_spending_transaction_type)"
   ]
  },
  {
   "cell_type": "markdown",
   "id": "3c5057d6",
   "metadata": {},
   "source": [
    "### WEEKLY MONTHLY YEARLY TOP USER PLOTS"
   ]
  },
  {
   "cell_type": "code",
   "execution_count": 47,
   "id": "46a51d2d",
   "metadata": {},
   "outputs": [
    {
     "data": {
      "image/png": "[encoded data removed]",
      "text/plain": [
       "<Figure size 2500x800 with 3 Axes>"
      ]
     },
     "metadata": {},
     "output_type": "display_data"
    }
   ],
   "source": [
    "# Define a colormap\n",
    "colors = plt.cm.tab10.colors  # You can choose any other colormap\n",
    "\n",
    "# Create subplots\n",
    "fig, axes = plt.subplots(1, 3, figsize=(25, 8))\n",
    "\n",
    "# Plot for weekly spending\n",
    "w_top_10_users.plot(kind='bar', y='Total', ax=axes[0], color=colors)\n",
    "axes[0].set_title('Top 10 Users by Weekly Spending')\n",
    "axes[0].set_xlabel('from_totally_fake_account')\n",
    "axes[0].set_ylabel('monopoly_money_amount')\n",
    "\n",
    "# Plot for monthly spending\n",
    "m_top_10_users.plot(kind='bar', y='Total', ax=axes[1], color=colors)\n",
    "axes[1].set_title('Top 10 Users by Monthly Spending')\n",
    "axes[1].set_xlabel('from_totally_fake_account')\n",
    "axes[1].set_ylabel('monopoly_money_amount')\n",
    "\n",
    "# Plot for yearly spending\n",
    "y_top_10_users.plot(kind='bar', y='Total', ax=axes[2], color=colors)\n",
    "axes[2].set_title('Top 10 Users by Yearly Spending')\n",
    "axes[2].set_xlabel('from_totally_fake_account')\n",
    "axes[2].set_ylabel('monopoly_money_amount')\n",
    "\n",
    "# Adjust layout\n",
    "plt.tight_layout()\n",
    "\n",
    "# Show plot\n",
    "plt.show()"
   ]
  },
  {
   "cell_type": "code",
   "execution_count": null,
   "id": "a8c4c273",
   "metadata": {},
   "outputs": [],
   "source": []
  },
  {
   "cell_type": "code",
   "execution_count": null,
   "id": "d02bae98",
   "metadata": {},
   "outputs": [],
   "source": []
  },
  {
   "cell_type": "markdown",
   "id": "e81bf36f",
   "metadata": {},
   "source": [
    "### 5. Combination of Segmentation Criteria (To get targets)"
   ]
  },
  {
   "cell_type": "code",
   "execution_count": 48,
   "id": "b8dc131b",
   "metadata": {},
   "outputs": [
    {
     "name": "stdout",
     "output_type": "stream",
     "text": [
      "Targeted Segment (High-Value Customers for Specific Businesses):\n",
      "{32768, 98305, 65538, 98316, 32790, 98332, 65564, 32798, 98336, 32807, 32808, 65578, 98346, 65581, 98354, 98363, 32827, 32832, 98373, 32838, 65612, 65615, 32854, 32858, 32859, 65634, 98405, 65639, 98410, 65643, 65649, 32889, 32891, 98434, 32898, 98443, 98452, 98458, 98468, 98473, 98475, 98476, 98491, 32955, 65732, 98502, 65744, 32978, 98522, 32988, 65757, 32991, 32997, 32998, 98542, 98543, 65781, 33015, 98552, 33018, 65786, 98556, 98560, 65800, 98569, 65802, 98574, 65807, 98578, 33047, 33051, 98590, 65824, 65826, 33065, 65834, 98606, 98611, 33082, 33086, 98626, 33092, 65861, 98634, 65870, 98646, 33112, 98650, 65883, 65884, 33121, 33124, 65897, 33131, 33132, 98674, 98679, 65913, 65917, 65922, 33156, 98693, 65929, 98701, 65935, 98722, 33192, 65978, 65979, 98751, 65991, 98761, 98762, 66006, 98783, 66020, 33257, 66029, 33266, 33270, 66041, 66049, 33284, 66064, 66065, 33298, 98837, 98842, 98847, 33313, 33321, 98861, 66097, 66099, 33334, 33335, 66106, 66113, 98889, 98898, 33362, 66136, 66154, 98923, 98924, 66170, 33411, 66182, 66183, 66188, 66196, 66200, 66203, 33443, 98985, 98987, 66220, 98994, 66232, 99007, 99012, 66244, 66250, 33483, 33486, 99025, 33491, 66261, 33506, 33512, 99051, 33516, 99057, 66290, 99059, 33524, 66294, 99064, 33536, 66314, 66315, 33549, 99092, 33557, 99095, 33562, 99102, 33571, 66350, 33583, 33585, 33588, 33591, 99127, 33594, 66363, 33608, 33611, 99152, 66387, 33620, 66397, 33631, 33633, 33641, 99182, 66414, 33650, 66418, 66428, 33661, 66433, 66436, 99211, 99214, 99215, 33683, 66455, 66456, 99238, 66476, 33710, 33714, 66483, 33725, 33732, 66503, 33739, 99275, 33744, 99283, 66515, 99288, 1000, 1002, 66539, 1006, 33783, 1018, 32767, 99325, 99326, 66566, 33799, 99335, 66568, 33803, 99339, 66580, 66581, 33814, 99351, 1053, 99363, 1059, 99365, 99368, 33833, 66604, 66605, 1071, 66611, 1078, 1086, 1087, 66623, 66627, 66635, 99408, 66642, 33875, 99410, 33878, 1113, 33882, 1120, 66657, 1122, 1125, 99434, 33899, 1133, 33904, 1142, 99447, 33916, 33922, 33923, 33926, 66699, 33942, 1174, 99481, 99483, 1180, 1179, 1186, 66723, 99492, 33958, 66729, 66742, 33975, 1210, 1214, 1217, 66759, 33991, 99536, 99539, 66774, 1258, 66799, 99569, 66807, 34041, 99578, 99580, 99581, 34046, 66817, 66821, 34054, 34055, 1299, 34072, 1304, 99609, 1309, 66852, 99623, 66859, 1323, 34092, 34096, 34097, 66866, 66869, 34107, 34114, 66886, 66887, 99657, 99658, 34123, 66892, 1357, 99663, 34128, 66898, 99666, 66899, 34134, 34136, 34142, 34144, 1382, 99689, 99691, 66923, 99693, 34160, 1393, 66931, 66933, 1399, 34168, 66941, 66944, 34180, 66949, 66956, 34189, 99726, 66958, 66961, 34196, 66965, 99735, 1433, 66973, 1443, 34218, 66986, 1460, 34232, 99769, 99772, 67005, 1471, 34239, 67016, 67017, 99790, 1487, 1490, 99794, 99799, 34263, 99807, 1505, 1507, 34275, 99815, 99826, 99833, 1529, 99836, 99840, 67074, 67081, 99851, 67098, 1563, 99868, 34332, 1569, 1572, 99884, 67117, 67119, 99887, 67120, 99895, 1596, 67135, 1607, 67143, 1615, 67152, 1623, 67160, 34394, 1631, 1634, 99939, 1639, 67176, 34409, 1642, 1644, 99949, 67182, 34414, 99952, 1661, 34431, 67203, 1675, 67215, 34450, 99988, 1689, 34462, 99998, 100000, 1697, 100002, 1703, 67244, 1715, 67252, 100019, 1718, 1717, 67259, 1730, 34501, 67270, 1736, 100053, 100060, 1757, 67297, 34532, 34533, 34539, 67308, 34542, 34546, 1784, 1786, 34554, 100094, 1793, 100098, 1799, 1800, 100105, 34568, 67338, 34573, 1808, 100115, 67349, 1815, 100126, 1823, 1827, 100137, 67370, 67371, 1835, 67373, 1838, 100144, 34610, 67382, 100155, 100159, 100166, 100169, 100171, 67410, 67414, 34659, 100197, 100198, 34665, 67440, 34672, 1908, 1910, 34678, 100214, 100223, 100224, 67457, 34689, 100233, 34698, 1931, 67467, 67475, 100250, 67486, 34721, 34722, 100264, 67497, 34734, 67503, 34736, 100282, 67515, 34748, 67516, 34753, 1990, 67532, 100301, 100300, 67539, 34772, 2004, 67549, 34785, 2019, 100324, 67559, 34794, 34797, 2030, 2029, 100338, 2035, 67574, 34808, 67579, 2044, 100348, 67584, 67591, 67592, 67599, 67603, 2069, 2071, 100376, 2076, 67613, 100384, 34851, 2090, 67626, 34861, 2097, 2100, 67640, 34874, 2108, 34880, 2116, 100420, 67652, 100423, 34888, 2126, 34897, 34899, 2137, 100445, 34915, 2152, 34923, 67693, 67695, 100466, 100472, 2171, 2182, 100489, 100493, 67725, 34962, 34969, 2211, 2213, 2214, 100537, 2236, 100541, 67778, 67779, 35011, 35013, 67784, 2249, 35020, 67792, 2258, 67795, 35028, 2260, 100569, 67804, 100573, 35038, 2274, 35044, 100583, 2288, 100593, 67827, 2294, 35064, 100608, 35072, 2306, 67840, 2308, 100613, 100614, 100618, 2315, 35083, 100621, 67853, 67863, 2331, 100636, 35104, 67873, 100640, 100645, 35110, 35112, 35113, 35121, 100658, 67891, 67897, 35130, 67899, 67909, 35148, 100687, 100688, 100690, 2387, 67924, 2390, 35159, 100694, 35158, 35165, 35166, 100703, 67943, 35177, 67945, 67946, 35180, 67954, 35189, 35190, 67962, 2430, 67966, 67968, 100736, 35200, 67977, 35212, 2446, 67983, 100751, 100766, 35238, 35239, 35242, 35244, 100782, 68018, 35252, 68022, 2487, 2486, 35259, 100796, 100800, 68033, 100805, 68037, 68039, 35272, 68042, 100818, 100820, 2518, 100827, 2528, 35298, 68067, 35302, 35303, 2538, 35307, 68078, 100848, 68085, 35317, 100859, 35327, 68097, 100866, 68105, 100873, 68108, 2574, 2580, 2585, 35362, 100901, 68134, 68137, 100906, 100909, 35375, 68152, 35386, 100925, 100927, 100931, 68163, 100934, 2632, 35403, 2641, 100947, 2647, 35419, 35429, 68198, 2663, 35433, 2666, 68207, 68212, 2677, 100986, 100988, 35457, 68230, 35463, 35468, 68236, 68242, 68243, 2710, 2711, 2719, 35504, 68275, 68276, 35516, 68290, 35527, 2760, 68297, 68301, 2767, 35535, 2771, 2778, 2779, 35551, 35552, 2795, 35565, 2817, 68360, 68362, 2838, 68374, 68376, 68378, 2844, 35614, 2852, 2854, 68390, 35625, 2858, 2862, 68398, 35632, 2876, 35646, 68414, 2881, 35659, 68429, 2895, 35664, 68438, 68445, 2910, 68455, 35691, 35693, 35709, 68478, 68482, 68493, 68501, 68511, 68513, 68514, 35746, 35747, 68520, 2984, 2987, 68529, 35762, 2997, 35774, 35781, 3017, 68562, 35802, 68580, 3045, 35813, 3048, 35820, 35823, 35837, 3070, 68605, 35840, 68609, 68618, 3083, 35851, 35855, 3093, 68639, 3107, 35875, 3109, 68650, 35883, 68656, 68657, 3143, 3145, 35915, 3158, 68704, 68705, 35940, 68711, 35944, 68716, 68720, 35953, 35960, 35961, 35976, 68749, 35982, 3217, 68755, 3226, 3237, 3241, 68780, 36015, 3252, 36035, 3269, 3285, 3287, 3291, 68828, 68829, 3296, 68833, 68836, 36073, 68848, 36083, 3317, 68855, 3329, 68870, 68873, 36117, 68890, 3362, 36130, 36145, 3378, 3381, 36150, 68926, 36160, 3395, 68934, 3402, 36179, 3417, 68957, 3431, 36202, 36205, 68978, 68979, 68986, 3456, 3458, 3465, 3472, 69030, 3498, 36270, 69043, 36276, 69044, 36280, 3512, 36285, 3521, 36316, 3559, 69096, 36335, 3575, 3577, 3580, 3582, 36350, 36352, 36353, 3599, 3602, 36379, 36380, 3615, 36391, 69160, 36393, 3634, 36402, 3638, 69176, 36409, 3642, 36416, 3650, 36426, 36436, 36440, 3675, 36460, 69228, 3694, 3704, 3712, 69250, 69266, 36501, 36502, 69277, 36510, 69279, 69286, 36523, 36540, 3776, 36544, 69330, 3800, 36570, 69340, 36580, 69352, 3822, 69373, 3838, 3868, 69405, 36642, 69411, 36647, 3880, 36648, 3890, 36659, 36660, 3896, 36669, 3905, 3907, 69449, 3939, 69481, 69488, 36725, 3958, 69499, 36732, 36733, 3970, 69512, 36754, 69523, 36757, 36760, 3994, 69533, 36773, 4009, 69547, 69549, 4018, 4021, 69562, 69564, 36802, 4044, 36815, 4047, 36833, 36838, 36840, 69617, 4081, 4083, 36855, 36856, 69632, 69639, 4106, 4107, 36877, 69652, 36888, 4125, 36893, 69669, 4141, 4142, 69680, 4148, 36919, 4154, 36923, 36929, 69698, 4171, 69710, 69711, 4177, 69728, 36964, 4206, 69744, 4212, 4230, 69769, 69773, 69775, 4239, 37009, 69780, 37014, 69788, 69792, 69794, 4265, 4276, 4279, 4301, 69839, 4305, 37074, 4309, 69847, 37080, 4313, 37083, 69854, 4324, 37094, 37100, 4336, 69872, 4343, 69880, 69891, 37139, 37152, 69920, 4386, 69924, 4403, 69941, 37177, 4416, 69959, 4428, 37200, 37223, 37225, 4463, 4465, 37235, 37245, 70014, 70013, 37249, 37250, 70026, 4494, 37263, 4497, 4498, 70037, 70046, 4511, 37281, 4516, 37285, 4518, 70057, 4526, 70070, 37305, 70075, 4548, 4549, 70088, 4555, 4558, 4559, 4572, 37340, 4585, 70146, 4614, 37383, 70152, 70154, 4621, 4623, 70162, 70163, 70164, 4651, 37425, 37432, 70215, 4690, 4691, 4695, 4697, 70238, 4708, 4710, 70248, 4717, 37490, 37495, 4731, 37500, 37507, 70276, 4739, 37519, 70290, 4754, 37524, 37526, 4759, 70299, 70302, 4767, 37538, 37539, 70318, 70322, 70337, 70342, 4809, 4815, 4818, 4819, 4820, 70357, 4823, 4824, 37593, 37596, 4832, 4837, 4838, 4840, 37618, 70391, 4861, 37633, 4871, 4875, 70417, 37653, 4888, 4898, 70435, 37671, 4903, 4905, 70442, 70452, 37684, 37687, 37688, 4930, 4931, 37707, 70476, 70478, 70484, 4955, 4958, 70494, 70503, 70505, 70507, 4976, 4993, 37764, 37765, 5001, 70539, 37775, 37783, 5039, 37820, 5057, 5058, 37827, 70597, 37832, 70629, 5093, 70632, 70643, 5108, 37882, 5119, 5127, 37897, 37901, 37913, 70683, 37918, 37919, 37924, 5164, 5167, 70709, 5174, 5173, 5180, 37949, 37953, 70729, 37963, 5198, 5200, 37978, 5215, 5219, 37988, 37990, 5222, 70759, 70772, 5237, 5241, 5248, 38018, 5251, 38020, 38026, 5261, 38031, 5266, 5276, 70814, 38048, 5280, 70819, 5283, 70821, 38051, 38056, 5289, 38057, 70827, 5291, 70830, 5298, 5299, 38067, 5307, 38086, 5319, 5322, 70873, 5338, 70875, 38114, 5347, 70887, 5353, 5357, 38145, 70923, 5391, 5394, 70939, 38171, 5403, 5412, 38184, 38187, 38188, 38193, 70965, 38199, 70969, 70975, 5439, 38214, 70982, 70985, 70993, 5457, 38226, 5462, 71000, 71001, 71006, 71007, 38240, 71008, 71011, 38247, 71015, 5486, 5491, 5494, 5499, 5500, 71037, 5501, 5511, 71049, 5514, 71056, 38289, 5522, 38288, 5525, 38302, 5538, 38315, 38320, 5556, 5569, 71107, 5580, 5589, 71132, 38365, 38369, 38372, 5615, 71156, 5620, 71159, 38394, 38408, 38419, 5653, 71190, 38429, 71199, 38433, 71202, 71201, 71204, 38435, 5671, 5679, 38448, 38455, 38461, 71234, 5701, 5706, 38476, 38480, 5720, 71257, 38494, 5733, 5740, 71282, 71288, 38526, 71296, 38534, 71317, 5782, 5784, 38552, 71327, 5797, 5803, 5805, 5809, 38580, 38583, 5831, 5844, 5852, 5853, 38625, 5876, 71412, 38646, 5882, 38651, 5889, 5890, 38659, 71431, 38663, 5919, 71467, 71469, 5936, 38707, 38709, 5941, 38712, 71493, 5960, 71496, 71499, 38742, 38747, 38748, 5979, 5984, 71520, 71531, 38764, 71540, 71541, 6010, 71546, 38780, 6016, 71556, 38790, 38797, 6030, 6031, 71571, 6046, 6048, 38820, 6053, 6058, 6059, 6060, 71607, 71625, 38858, 71627, 6094, 71631, 71633, 6097, 6100, 6104, 71642, 6107, 71647, 38881, 71651, 71670, 38905, 38906, 71683, 71684, 6154, 71690, 71696, 71699, 71712, 6186, 38962, 6194, 38966, 71740, 6211, 38982, 38983, 71752, 71751, 38984, 38986, 71760, 71763, 6233, 6234, 6246, 39017, 71788, 39027, 39033, 39034, 71804, 39037, 71805, 39040, 71809, 71812, 71814, 71817, 71821, 6286, 71827, 6293, 6295, 6296, 71837, 6302, 71841, 39078, 6315, 39083, 71859, 6327, 39097, 39101, 6339, 39108, 39111, 6347, 39119, 6360, 6361, 6362, 71899, 39131, 71909, 39151, 71920, 71928, 71939, 6406, 6415, 39190, 39192, 6431, 6445, 71988, 71991, 6459, 39233, 6468, 39239, 39262, 72034, 72043, 6508, 6517, 6518, 72066, 39298, 39300, 39301, 6536, 72075, 6540, 6545, 39315, 39316, 39321, 6563, 6567, 39335, 6574, 6575, 72112, 39347, 72121, 39354, 6589, 72132, 72137, 39372, 39383, 6616, 39388, 6627, 72164, 72166, 39399, 72167, 72174, 72182, 6650, 6653, 39427, 72198, 39437, 72206, 6677, 6679, 39452, 72226, 6692, 39464, 39467, 39470, 72248, 39483, 72253, 72256, 39495, 39498, 72272, 39511, 72283, 39518, 39521, 6754, 72295, 39527, 72302, 39540, 39543, 6782, 72323, 39555, 72327, 39565, 39566, 39567, 6809, 72347, 72352, 39589, 39595, 39596, 39597, 6829, 72370, 39605, 72374, 6842, 39618, 39637, 6874, 6889, 6892, 6900, 72438, 39676, 39680, 39683, 6919, 39688, 6920, 39690, 6922, 6924, 72470, 6935, 72473, 39706, 39707, 6947, 72491, 6957, 39733, 39754, 72532, 7002, 72541, 39779, 39780, 7014, 39782, 7018, 7020, 7025, 72568, 39803, 7039, 7041, 72581, 39817, 7058, 7059, 39829, 39834, 7072, 39841, 7073, 72614, 7088, 7104, 39877, 72646, 72647, 72654, 7120, 72657, 72662, 7129, 39906, 7143, 72682, 7150, 39927, 72700, 72704, 39937, 7170, 39945, 72720, 39953, 72723, 39956, 72725, 7192, 39970, 72745, 7214, 72754, 39989, 72758, 39993, 72765, 72766, 7234, 7235, 7239, 72775, 7246, 7248, 72789, 7257, 7269, 7272, 40047, 72818, 40051, 40054, 7292, 7293, 72831, 7296, 7300, 7301, 7310, 40080, 7312, 40083, 7317, 7318, 7330, 7337, 40106, 72881, 72888, 40131, 72900, 40136, 7369, 40137, 72909, 40141, 7373, 72919, 72920, 7389, 40160, 7395, 72931, 72945, 72946, 72951, 7417, 72954, 7421, 72960, 72966, 40207, 7446, 72984, 7453, 40225, 72995, 7475, 73011, 40243, 40246, 40249, 73017, 7485, 40254, 73029, 73031, 40288, 40289, 73068, 7534, 7538, 40308, 73077, 7550, 40321, 73092, 7572, 7582, 40356, 40367, 7601, 40371, 40373, 73142, 73146, 73155, 7623, 40392, 40396, 73171, 7637, 40407, 40409, 7659, 7664, 73205, 40444, 7680, 73219, 40451, 40454, 7686, 40459, 7692, 40461, 7694, 40494, 7746, 40521, 73292, 73293, 40532, 40536, 40538, 7783, 7791, 40565, 40576, 7809, 73344, 7810, 73353, 73362, 40598, 7831, 40602, 40610, 7843, 7851, 7853, 73393, 7857, 73395, 40634, 40636, 73405, 73409, 7875, 40644, 7877, 73416, 40665, 73435, 7909, 40679, 40683, 73456, 40695, 73468, 40706, 73474, 40716, 7949, 7964, 40735, 7970, 40739, 40745, 73513, 7979, 40752, 73521, 73526, 8001, 40771, 40775, 73545, 8024, 73562, 8031, 73571, 73575, 73591, 8058, 40827, 40828, 40829, 8059, 73599, 8065, 40836, 73608, 73612, 73615, 8089, 8094, 8097, 73639, 8109, 40895, 40896, 73668, 40901, 40903, 73672, 8135, 8143, 40913, 73684, 40921, 40926, 8164, 40933, 8166, 40940, 73708, 8179, 40951, 40953, 40959, 8194, 40965, 8197, 73735, 8203, 73744, 8221, 8232, 41000, 8236, 8250, 73788, 8253, 41027, 8260, 8266, 8267, 8268, 41042, 73821, 8295, 41067, 73837, 73842, 41075, 8306, 8307, 73846, 73848, 41088, 73858, 41093, 8327, 8328, 8331, 41100, 8334, 73878, 73880, 41113, 73891, 73893, 73895, 41130, 41138, 73907, 73908, 8377, 41147, 8381, 73922, 8387, 41165, 41170, 73944, 73947, 8418, 73960, 8431, 41202, 41205, 8438, 73994, 41230, 41238, 8473, 8474, 8487, 74027, 8506, 41275, 8507, 74045, 74051, 41283, 74054, 8518, 41304, 74075, 74077, 74081, 8556, 8568, 8572, 41347, 74119, 8583, 74123, 41359, 74127, 41360, 74134, 41369, 8607, 41378, 74151, 74155, 8625, 41401, 74169, 8633, 41404, 74173, 74182, 8655, 8661, 41434, 8668, 8682, 74218, 41458, 8691, 41463, 41467, 41469, 8718, 41487, 41495, 74265, 41505, 74275, 8741, 8744, 41513, 74280, 74285, 41518, 41523, 74308, 74312, 41545, 41560, 74337, 8801, 74339, 74341, 74349, 8815, 41590, 74361, 41594, 74378, 41621, 74393, 8864, 74400, 74408, 8880, 41657, 74438, 8906, 8907, 74446, 74448, 41682, 8919, 74456, 41688, 74469, 41707, 8943, 74483, 8947, 41718, 8968, 41750, 74519, 8982, 74520, 8994, 74531, 74534, 74536, 74550, 41784, 9022, 41792, 74564, 9029, 9030, 9041, 74577, 9048, 41816, 41830, 74600, 41833, 74604, 9075, 41846, 74619, 74621, 9088, 74627, 41864, 41865, 74632, 41873, 74646, 9120, 41889, 41893, 9133, 74676, 74677, 74694, 74697, 9162, 74700, 41936, 9172, 9173, 74718, 41950, 41952, 9186, 74725, 9189, 41967, 74739, 9204, 41980, 9218, 41986, 41988, 9225, 74767, 9239, 9250, 42023, 9255, 42026, 74797, 9262, 9267, 74804, 42040, 42056, 74831, 42065, 9300, 9303, 74841, 74847, 74851, 42085, 74863, 74869, 9333, 9337, 74876, 9341, 74881, 9347, 9360, 42134, 42141, 74909, 42143, 9381, 9399, 42172, 9407, 42196, 74973, 9453, 9460, 9474, 42247, 9480, 9479, 75016, 9499, 75041, 75043, 9508, 75049, 9518, 42289, 42294, 42296, 42309, 75079, 42313, 42323, 75093, 42329, 75108, 75114, 9579, 42347, 9580, 42360, 9600, 42371, 75147, 42383, 42394, 75163, 75170, 9642, 75181, 75182, 42415, 42418, 9660, 75201, 75207, 75213, 9678, 75219, 75220, 9685, 9687, 75231, 75239, 75250, 42484, 75254, 9724, 42495, 75264, 42497, 9740, 42509, 75286, 9756, 75305, 42541, 75319, 75338, 75345, 42587, 9820, 75362, 42595, 75369, 42603, 75374, 75376, 75379, 42611, 75381, 42616, 75396, 9869, 42638, 9874, 42644, 75414, 9880, 75429, 9894, 42665, 75435, 9900, 42673, 75448, 9916, 9925, 9928, 9936, 75477, 42725, 75501, 42740, 42749, 9983, 10000, 75537, 75539, 10004, 42773, 75547, 75552, 10021, 42792, 75566, 75588, 10062, 75600, 75603, 75608, 42842, 75611, 42851, 75621, 42858, 10092, 75633, 42867, 10099, 42885, 75661, 10126, 75662, 75665, 10130, 42900, 75669, 10134, 10141, 10145, 75682, 10147, 42922, 10156, 42936, 75708, 10179, 75715, 10180, 42951, 42977, 10209, 75748, 42981, 10215, 42991, 42992, 75761, 42994, 75771, 75772, 43010, 43016, 10253, 43021, 10254, 10259, 43029, 43036, 10280, 75816, 75823, 75833, 10300, 75836, 75841, 75846, 10314, 10320, 43089, 75857, 75862, 75868, 43109, 75881, 43115, 10356, 75893, 75897, 43130, 75904, 10371, 75908, 43141, 10386, 75924, 43157, 43163, 10402, 75941, 75944, 10410, 43194, 43198, 10432, 10442, 43215, 43217, 10451, 43221, 10454, 76002, 43241, 10479, 43248, 43249, 10485, 76022, 76037, 76040, 43281, 10514, 10520, 76062, 43295, 76065, 10538, 43313, 76086, 76093, 76098, 76101, 76105, 76107, 43340, 10572, 76112, 10581, 43357, 10592, 76131, 43369, 10605, 10606, 43379, 43380, 76149, 76152, 43398, 10634, 10636, 43424, 10659, 43432, 43441, 43447, 10693, 10695, 10696, 43463, 76235, 76240, 10709, 10716, 43485, 43487, 43489, 76258, 43504, 10740, 10743, 76280, 76287, 43522, 43524, 76295, 76313, 43550, 76328, 10794, 10813, 10819, 10826, 43595, 43594, 43599, 76369, 76370, 43602, 43611, 43621, 10855, 76393, 76394, 10866, 76402, 43637, 76410, 43659, 43668, 43675, 10913, 43681, 76456, 76468, 10937, 10944, 76492, 76498, 76511, 43747, 10983, 76527, 43775, 11008, 76546, 11012, 76564, 76569, 11039, 43810, 76581, 43814, 76584, 76588, 11054, 11056, 11057, 76604, 43839, 76607, 43844, 43858, 11096, 76635, 43868, 11099, 43870, 11100, 11105, 43875, 43877, 11111, 76648, 76654, 11120, 76659, 11124, 43896, 76665, 11133, 43902, 43904, 11137, 11143, 11145, 76687, 43924, 76697, 11167, 11171, 76710, 11177, 43946, 43947, 11182, 11197, 43966, 76734, 11202, 43977, 76746, 11211, 11213, 76757, 76758, 76760, 43998, 11232, 44005, 11237, 11239, 44012, 76786, 11252, 44034, 76804, 76808, 76811, 76812, 44047, 44049, 76824, 44057, 44068, 44069, 11303, 76839, 11314, 76856, 44089, 44096, 44102, 76872, 44107, 11343, 11347, 44121, 44128, 44131, 44133, 76906, 11379, 11382, 76922, 44155, 76924, 44159, 76930, 76933, 11401, 76941, 11405, 44174, 76946, 76947, 76950, 11417, 11420, 44189, 11421, 11426, 76974, 44210, 11448, 11451, 11454, 76993, 11460, 11466, 77003, 11475, 44252, 11494, 77038, 11505, 77064, 77071, 77084, 11550, 44320, 11559, 11563, 44336, 11568, 11570, 11577, 44346, 44350, 77120, 77126, 77136, 44370, 44380, 11613, 11619, 11620, 77159, 44394, 11628, 11630, 77167, 77171, 11636, 77173, 77183, 44423, 77195, 11662, 44432, 44435, 77214, 11680, 77217, 11683, 77222, 44457, 77237, 44472, 44474, 77243, 44480, 44483, 77253, 44491, 44497, 11729, 11734, 77273, 44506, 11742, 44517, 11755, 11756, 11762, 44533, 11765, 77301, 11786, 11813, 11821, 11822, 11823, 44592, 77357, 11827, 77363, 77369, 44608, 77380, 77395, 77400, 44635, 77407, 11872, 77410, 44648, 44661, 11907, 44678, 77446, 77452, 11921, 77458, 11926, 77464, 77476, 77479, 44724, 77493, 11964, 11965, 77506, 11971, 11976, 77512, 77514, 44747, 11988, 77527, 77534, 44768, 12001, 12006, 44779, 77557, 77560, 12026, 12035, 44813, 12048, 77584, 44820, 12060, 12069, 44847, 77620, 12095, 44863, 44868, 12101, 77656, 44888, 12122, 44892, 12127, 44898, 77669, 12144, 12148, 12154, 77699, 12164, 44938, 12179, 12182, 12184, 12190, 12197, 44968, 12202, 44974, 77753, 44990, 44992, 77761, 77763, 12229, 45000, 45017, 77787, 12259, 45037, 45039, 12290, 77832, 45069, 45079, 12316, 45087, 45092, 45093, 45096, 12329, 77868, 45102, 45106, 45115, 12351, 12356, 12359, 45140, 77913, 12378, 45149, 12384, 77922, 12387, 12391, 45161, 45164, 45165, 12396, 12403, 12407, 77948, 12424, 45199, 12435, 77974, 45207, 45208, 12443, 45214, 45219, 77993, 45230, 78000, 45237, 12470, 12478, 78017, 78033, 12501, 78049, 45282, 78055, 78056, 78057, 12520, 45292, 12525, 78062, 45295, 78067, 45309, 12542, 78078, 45311, 78092, 78093, 45331, 12563, 12568, 78110, 78115, 78116, 12585, 45355, 78125, 78137, 78140, 45375, 12630, 78177, 12649, 12650, 12652, 45421, 12658, 78197, 78198, 45432, 12665, 12673, 45454, 78223, 78224, 12695, 12699, 45476, 45477, 12709, 45481, 78253, 45487, 78258, 12728, 12733, 78273, 12738, 78275, 45512, 45518, 45528, 78306, 12774, 45549, 45550, 12782, 45553, 12800, 45570, 78345, 45582, 12818, 78360, 12831, 45599, 45606, 78380, 45620, 78389, 45627, 78401, 78414, 78415, 45648, 78418, 78419, 78422, 78423, 78430, 12903, 78440, 78445, 12913, 45685, 78458, 45692, 12929, 45700, 78468, 45702, 12935, 78472, 45705, 78478, 45712, 78482, 45728, 12971, 78509, 45745, 45748, 12988, 12993, 78533, 45772, 45774, 78548, 13019, 45799, 78568, 45800, 78576, 13047, 78589, 13054, 45821, 13055, 78603, 45836, 13069, 45835, 45850, 45857, 78628, 13100, 78647, 78652, 45890, 45895, 78668, 45901, 13133, 78671, 78673, 45906, 45909, 78681, 45915, 13148, 45917, 13152, 45924, 13165, 78704, 45945, 78719, 45952, 78720, 13205, 45979, 45980, 13219, 13225, 13226, 13243, 78780, 13246, 13252, 78790, 78794, 78801, 78802, 78804, 13270, 13273, 13278, 78824, 78828, 13299, 46071, 46074, 13311, 46088, 78864, 78868, 13344, 78886, 46122, 46129, 46131, 46134, 78904, 46143, 13375, 78915, 46150, 78918, 13384, 13392, 46161, 78946, 46184, 46185, 78963, 78964, 13429, 78974, 46217, 78988, 13453, 78993, 46234, 13485, 79033, 46268, 13502, 79051, 79064, 13536, 79079, 46315, 46317, 46319, 79091, 79100, 46343, 46351, 79121, 79123, 46358, 79132, 79141, 46376, 79147, 13611, 79149, 13613, 79162, 46400, 13633, 79174, 79175, 46412, 46413, 46421, 79196, 13677, 46451, 13690, 13724, 46494, 79273, 46507, 79277, 79283, 46516, 46519, 79304, 46537, 46539, 46540, 46545, 13778, 46548, 46551, 46556, 46557, 46565, 13798, 13808, 46578, 46580, 13822, 46591, 46605, 46609, 46610, 79384, 79386, 79391, 13865, 46633, 46638, 46642, 79411, 79412, 79415, 13881, 13886, 46660, 13903, 13904, 79442, 79456, 46700, 46707, 46710, 13944, 79480, 46714, 46722, 46724, 79495, 46727, 79500, 46740, 79510, 79512, 13977, 79518, 79519, 13991, 46759, 13993, 79531, 79546, 46779, 79550, 79551, 79554, 46788, 46796, 46799, 14032, 46802, 14036, 14040, 79591, 46835, 14069, 14074, 46847, 14084, 46853, 46860, 14097, 14101, 46872, 46877, 14124, 46895, 46896, 79669, 14135, 79674, 14139, 79677, 46911, 79680, 14147, 14154, 14160, 79698, 46930, 14167, 14179, 79716, 46953, 46956, 14202, 79739, 79746, 14214, 46983, 46986, 46993, 79769, 47003, 47006, 14243, 79779, 47025, 47027, 47032, 14270, 14272, 14277, 47050, 14289, 79829, 47070, 79841, 47078, 79863, 14345, 47114, 47115, 79889, 79891, 79893, 14358, 79895, 79896, 14360, 47133, 79904, 47138, 47140, 14372, 79910, 79924, 14388, 79941, 47173, 79947, 79951, 14420, 14424, 47193, 14426, 79963, 79971, 47203, 14446, 14448, 79987, 14452, 47223, 79993, 14458, 14460, 79999, 14467, 47236, 80005, 80006, 14468, 47249, 14496, 14500, 47271, 80047, 47286, 14520, 14527, 80064, 80065, 47296, 47299, 80068, 14534, 80073, 47306, 47309, 14543, 80080, 14547, 80083, 14556, 14563, 80106, 47342, 14577, 14582, 47354, 14590, 14593, 14598, 47369, 14601, 80140, 47374, 80144, 47377, 47379, 80149, 80150, 47381, 14634, 47413, 80186, 47424, 47426, 80202, 47440, 80211, 47445, 80216, 14685, 14692, 14697, 80245, 80250, 80252, 14724, 47502, 47507, 47509, 47515, 14754, 80293, 14769, 47552, 80323, 14788, 14793, 80333, 47565, 80336, 47578, 47583, 47584, 80353, 47588, 47602, 14837, 47607, 14845, 47617, 14850, 14865, 14867, 14877, 80414, 14879, 47645, 47654, 80424, 14894, 80430, 47665, 14899, 80438, 80448, 14913, 14918, 80455, 80463, 14929, 47698, 47699, 14930, 14935, 80477, 47718, 14955, 80492, 47725, 80498, 47734, 47735, 47738, 80507, 80508, 80512, 80526, 14995, 80536, 80540, 47774, 80558, 47798, 80580, 47819, 80590, 80592, 47827, 80597, 80598, 15063, 47832, 80606, 47838, 15078, 15083, 15086, 47856, 80626, 80627, 47861, 80632, 80638, 47873, 80654, 47890, 80658, 80661, 80667, 15132, 47902, 15135, 47911, 15148, 80685, 80697, 15165, 47936, 15171, 15173, 80711, 15184, 47959, 47961, 15197, 47976, 15214, 15219, 80758, 80762, 80763, 80767, 48001, 48004, 80772, 15239, 15240, 48016, 80785, 15250, 80792, 15258, 48028, 48031, 15264, 80801, 15265, 80808, 15274, 15277, 48058, 48062, 80844, 80850, 48085, 15320, 80869, 15343, 15347, 80884, 15350, 48119, 15354, 80895, 48135, 15377, 15381, 15382, 80917, 15387, 80925, 48159, 80929, 15393, 48166, 15400, 48173, 80950, 15418, 80956, 15424, 48195, 15431, 48200, 15438, 80975, 15444, 80985, 48217, 48220, 15454, 15460, 48233, 15468, 48238, 15471, 81012, 48245, 81014, 48250, 15483, 48254, 48258, 81026, 48275, 15515, 81055, 48300, 48304, 15538, 15550, 48323, 48334, 48342, 15575, 48349, 15585, 81121, 48375, 15613, 15618, 81160, 15629, 48401, 81179, 48413, 81185, 15663, 48432, 81202, 48446, 48449, 81218, 81219, 81220, 48463, 48465, 81237, 48473, 15711, 48479, 15717, 48490, 81259, 15730, 81270, 15737, 15738, 81295, 48529, 48531, 81302, 48553, 15788, 48558, 48563, 81352, 15823, 15829, 81373, 15838, 81375, 81381, 81384, 48620, 81402, 15867, 81404, 48645, 15880, 48650, 48652, 48655, 48662, 15896, 81434, 15911, 81451, 48685, 81455, 48693, 48694, 15929, 15935, 15938, 15944, 48713, 81480, 81487, 15952, 81488, 15954, 81493, 81497, 15964, 48732, 81504, 15975, 48753, 48760, 81529, 48764, 16006, 16007, 16015, 16016, 16019, 16020, 48791, 16029, 48797, 81568, 16034, 48807, 48810, 16056, 81593, 16066, 48853, 81637, 48872, 16105, 81648, 81649, 81650, 81652, 81657, 48894, 16128, 48900, 16133, 81676, 16141, 48917, 81687, 16155, 48924, 48935, 81705, 48950, 81719, 48952, 16183, 16187, 16192, 81729, 81736, 81738, 16210, 16213, 16216, 48993, 48994, 48997, 49005, 49010, 16246, 16247, 49016, 16249, 81784, 81785, 49022, 81793, 49026, 16257, 16272, 16274, 16275, 81823, 16287, 81825, 81826, 16291, 81834, 16299, 16306, 16308, 81845, 16318, 81855, 49092, 49094, 16334, 16338, 16339, 16357, 49125, 81897, 81901, 16365, 16367, 49136, 49137, 81911, 81912, 49145, 49149, 81918, 81919, 49153, 16392, 16401, 49174, 16406, 81946, 16414, 81956, 16425, 81963, 16429, 49200, 49205, 49222, 16464, 16468, 16469, 16475, 82011, 49245, 49246, 82015, 82019, 49261, 49267, 16503, 16506, 16509, 49284, 49289, 16523, 16532, 49301, 82073, 16539, 49307, 49308, 16544, 16546, 82082, 49326, 82104, 49343, 82112, 16588, 16601, 16615, 16616, 49386, 49387, 49388, 49398, 16634, 16638, 82181, 16647, 16649, 49420, 49421, 16652, 82199, 49433, 49436, 49443, 82224, 16689, 16698, 82240, 16706, 16709, 49480, 16715, 16731, 82267, 49499, 49505, 16739, 82287, 16751, 16753, 49531, 49536, 49541, 49542, 82313, 16779, 82317, 16784, 49569, 16801, 16802, 82341, 16817, 49586, 49589, 82362, 16834, 49602, 49604, 49609, 49617, 49619, 49628, 82398, 82399, 82406, 16870, 16882, 49658, 49659, 82427, 16902, 49673, 16907, 82447, 16913, 82452, 82454, 16918, 49690, 49699, 49704, 49705, 16941, 16944, 16952, 82490, 49730, 49739, 82519, 16986, 82527, 49759, 16993, 49762, 17004, 49776, 49782, 17016, 49786, 17027, 17034, 82572, 49808, 17041, 49812, 82585, 17052, 82590, 17056, 17057, 49824, 82617, 49850, 49854, 49855, 17089, 49861, 17098, 82638, 82647, 49880, 82648, 82651, 82652, 49888, 49889, 17127, 82665, 17130, 49901, 82671, 17137, 17143, 82680, 82687, 17151, 17155, 17158, 49927, 17161, 17163, 82700, 17169, 82706, 82707, 17181, 82719, 17185, 82725, 17191, 17195, 17196, 82744, 17213, 49982, 82752, 49985, 17225, 82765, 82767, 50005, 50006, 17243, 82780, 82787, 17259, 82796, 50031, 82802, 17267, 82806, 17276, 82816, 82818, 82823, 17287, 17291, 50061, 17294, 17311, 50085, 82853, 82856, 17323, 82861, 82862, 50093, 17328, 82865, 82874, 82886, 82887, 17360, 82909, 82912, 17379, 17382, 17383, 82931, 17397, 17398, 50172, 50181, 17413, 82953, 17419, 82958, 17424, 50194, 17434, 17443, 50212, 82980, 50234, 17467, 17469, 17479, 17487, 83030, 83036, 83037, 83041, 50280, 83050, 50287, 50289, 17526, 17528, 83067, 83068, 17539, 17555, 83092, 50329, 83100, 17569, 50344, 83121, 83127, 17608, 17613, 17622, 17624, 83164, 50407, 83177, 83178, 50412, 17647, 50421, 50423, 83195, 17662, 83201, 83210, 83215, 17679, 17682, 50452, 83222, 50454, 50465, 83236, 50474, 17707, 50477, 50481, 17717, 83264, 50498, 17730, 17735, 17741, 50511, 17744, 50513, 50515, 17750, 17756, 83295, 17761, 50531, 17763, 17765, 83304, 50536, 17769, 17781, 83323, 83325, 50561, 50562, 50563, 17794, 83345, 17813, 50582, 50584, 17830, 17844, 50618, 17857, 50628, 50630, 83402, 50635, 50648, 17884, 83427, 17905, 83454, 83457, 83462, 50706, 17938, 50709, 83481, 17946, 17947, 83493, 50726, 50725, 50740, 50741, 50744, 17977, 83525, 83533, 50781, 50783, 50784, 83551, 18035, 83574, 18041, 83578, 83585, 50817, 83591, 18057, 83593, 18061, 83599, 83601, 18075, 50854, 50867, 18105, 50873, 18107, 50874, 50881, 18114, 50899, 18142, 50919, 18153, 50921, 83689, 50927, 18161, 18164, 50933, 18168, 83704, 18179, 83719, 50952, 50953, 50955, 83726, 18195, 18199, 83741, 83742, 18208, 18219, 50993, 83765, 83788, 83789, 18252, 51023, 51027, 83810, 83818, 51059, 51066, 83845, 83848, 51087, 51091, 51094, 18328, 83870, 51108, 51111, 18353, 18358, 51132, 18364, 18365, 83907, 83910, 51156, 83926, 83928, 51162, 83934, 18399, 83935, 18402, 18405, 83951, 51185, 51186, 83960, 18430, 83968, 83981, 83984, 83985, 51221, 83998, 84000, 51233, 18472, 18488, 18495, 84041, 84051, 18520, 51288, 51289, 51291, 51292, 51294, 51295, 18528, 84070, 51306, 18538, 18545, 18555, 51335, 84119, 51353, 51359, 84128, 18595, 84132, 84131, 84134, 84136, 84138, 18602, 18604, 84143, 84151, 51387, 84162, 84169, 18634, 51408, 18648, 84189, 18654, 84192, 84193, 18666, 51439, 84224, 18690, 51465, 51472, 84242, 84251, 84262, 18732, 51509, 51514, 84283, 51517, 51520, 18754, 18758, 18761, 84298, 84302, 51542, 51544, 84316, 18788, 18793, 51565, 84336, 18802, 51576, 84354, 51590, 84358, 84363, 18827, 18834, 18836, 18840, 84377, 18852, 18858, 51627, 18860, 18865, 18881, 18882, 84417, 51654, 84432, 84437, 51671, 51674, 18909, 51680, 51681, 84454, 84459, 51695, 18928, 51697, 51698, 51703, 84472, 51705, 18945, 84484, 84496, 84498, 51732, 51736, 84504, 51737, 18981, 51751, 51752, 18986, 18987, 18993, 51766, 84535, 19005, 19014, 19015, 84553, 51790, 19036, 51810, 84579, 51811, 84583, 84594, 51837, 19071, 84609, 84613, 19079, 84625, 19093, 51861, 84632, 51872, 84655, 51889, 84658, 51893, 19143, 84687, 84699, 84702, 51937, 84708, 51950, 19183, 19185, 19195, 51972, 84740, 51973, 19207, 19212, 51982, 19214, 84757, 51989, 84763, 84766, 19236, 52007, 84779, 52012, 19245, 84786, 84791, 19255, 84803, 19268, 84818, 84840, 52073, 19305, 52075, 52078, 52083, 19316, 19322, 19325, 84863, 19327, 19328, 84876, 52122, 84893, 84897, 84905, 19369, 19370, 52141, 52150, 52153, 19388, 84925, 52158, 84926, 84931, 84934, 19399, 19407, 84945, 84946, 84948, 19413, 84959, 84961, 19425, 19429, 52200, 19441, 84999, 52235, 52239, 52247, 19481, 19486, 19489, 19491, 85030, 52269, 52272, 85045, 19519, 52287, 85062, 52295, 19533, 52302, 85079, 19545, 52316, 52317, 52318, 19553, 19561, 19566, 19572, 85119, 19589, 52365, 19608, 52377, 85144, 19613, 85153, 85162, 19633, 85170, 19641, 52410, 85179, 52415, 52422, 85199, 85200, 19668, 19672, 19676, 19680, 52481, 85262, 85270, 85278, 19744, 19757, 85293, 85294, 19758, 19761, 52536, 85311, 85314, 19785, 85323, 52561, 52571, 85345, 19810, 52580, 19816, 19818, 52587, 52591, 85362, 52597, 85368, 52604, 19841, 85378, 52609, 52614, 52617, 52621, 52625, 52636, 85411, 19878, 19884, 85422, 52658, 85436, 19900, 19907, 52682, 52689, 85457, 19927, 19928, 52704, 19936, 85477, 19947, 19949, 19950, 19952, 19954, 85492, 52725, 52731, 19964, 52735, 52738, 85508, 52742, 52746, 85517, 85519, 52756, 19993, 85529, 85532, 52766, 85536, 85539, 20004, 20005, 52774, 20003, 85545, 20011, 20017, 52790, 20029, 52798, 85568, 52800, 52808, 52815, 20050, 85593, 20063, 20076, 20089, 52864, 85635, 20100, 20099, 52871, 52873, 85642, 52881, 52897, 20130, 20133, 20145, 20147, 85684, 20148, 85691, 52924, 20164, 85701, 52934, 52955, 20191, 52964, 20197, 52969, 20207, 52977, 85755, 85764, 85767, 53000, 85774, 53016, 20251, 20253, 53043, 53055, 85824, 53062, 53066, 20304, 53100, 53105, 20339, 85883, 85885, 53125, 85898, 53137, 53145, 85917, 20381, 85921, 20388, 53165, 53166, 53173, 53177, 85945, 85948, 53181, 53182, 85958, 20424, 20431, 20434, 85983, 85984, 20449, 53217, 53215, 53229, 53235, 86008, 20486, 53258, 20500, 20502, 53271, 20505, 53275, 20510, 53280, 20514, 86072, 86073, 53310, 53315, 53329, 20568, 86107, 20577, 86121, 53354, 20594, 20597, 53367, 20610, 86156, 53388, 86161, 53399, 86178, 20652, 53425, 86194, 86195, 20661, 86199, 53431, 86203, 20669, 53440, 53441, 53444, 53449, 53453, 53457, 53471, 20710, 86253, 86256, 20724, 20725, 53494, 20726, 20729, 86266, 86267, 86269, 86272, 53511, 53512, 20755, 20756, 53525, 20757, 53527, 86294, 20764, 53532, 53534, 53536, 20769, 20770, 20772, 53545, 86320, 20786, 20790, 20791, 20801, 20804, 20815, 20818, 86355, 20823, 53592, 20833, 53605, 20840, 20841, 86380, 86381, 53615, 20847, 53618, 53637, 86417, 53668, 86440, 53674, 53677, 53678, 20911, 86448, 20912, 20921, 86458, 20923, 53693, 53703, 53710, 20952, 20955, 20957, 53730, 20965, 53734, 86503, 53737, 20981, 86519, 20984, 53759, 21000, 86539, 21006, 53781, 21015, 21016, 86551, 86554, 21021, 86558, 86560, 21025, 53795, 86572, 53806, 53807, 86580, 53813, 86583, 53816, 53826, 21066, 53842, 21075, 21087, 86624, 21088, 21101, 86637, 53873, 53898, 21153, 86693, 21159, 53929, 86698, 53932, 21164, 21174, 86710, 21177, 21178, 86739, 21206, 53974, 53981, 21222, 21230, 53998, 86772, 21237, 54013, 86782, 86803, 21278, 86819, 21299, 54075, 54088, 21321, 54096, 86881, 54117, 54126, 54128, 86899, 21368, 21370, 54140, 54148, 21382, 54151, 21385, 86922, 54155, 54154, 21389, 54159, 54161, 86933, 54176, 86959, 86965, 86967, 54200, 21435, 86984, 54218, 54221, 87005, 87006, 87017, 87018, 54255, 87025, 54260, 21496, 54265, 54264, 87036, 21507, 87048, 21515, 54289, 87061, 54294, 54297, 87068, 21532, 87080, 87087, 54322, 21555, 54327, 54329, 87098, 21563, 21568, 54336, 87108, 54340, 21573, 21575, 87118, 21583, 21586, 21593, 54369, 21603, 21618, 54397, 21631, 87175, 54419, 21655, 21667, 54445, 87217, 87218, 54451, 21686, 87226, 54469, 21718, 54487, 21725, 54495, 21727, 87263, 87264, 87271, 87273, 54512, 54518, 87302, 87308, 21772, 21775, 54548, 21781, 54550, 87324, 54559, 87330, 87332, 21802, 87344, 87355, 21822, 21826, 87369, 54602, 21835, 87372, 87388, 21859, 54640, 54641, 21887, 21890, 54663, 87439, 21920, 21921, 21922, 21928, 21937, 54709, 21949, 87486, 54728, 21960, 54731, 54733, 54740, 87516, 54752, 21987, 21992, 87528, 87531, 87545, 22009, 87547, 87549, 22016, 22020, 54791, 22026, 87568, 22033, 22035, 87573, 87578, 22044, 87582, 54818, 87595, 87599, 87604, 54847, 87615, 87617, 22085, 54859, 87633, 22106, 54877, 87651, 54886, 22121, 87662, 87668, 54900, 87674, 22141, 22148, 22149, 54921, 87692, 54926, 54940, 54941, 22181, 87718, 22188, 54977, 54983, 22222, 87762, 54995, 22228, 22229, 87768, 87769, 87770, 87771, 22245, 22253, 55024, 55030, 55042, 22275, 87815, 55051, 55052, 87821, 55055, 22291, 55061, 22299, 55069, 22305, 55075, 55077, 22314, 22315, 87861, 22328, 87865, 55099, 87867, 22336, 87873, 55110, 55112, 22345, 55115, 87886, 22351, 55119, 55122, 22362, 55134, 22368, 22382, 55151, 87926, 55165, 87935, 55170, 55179, 22418, 87954, 22425, 55196, 22429, 22432, 55201, 87971, 55206, 87980, 55218, 87995, 87997, 55236, 88014, 88017, 22482, 55251, 55254, 88027, 88029, 55270, 22503, 88041, 22506, 55286, 22520, 55294, 88064, 55302, 55303, 22540, 88076, 88080, 55314, 88084, 22554, 55326, 55328, 22567, 88122, 88124, 88126, 22598, 55372, 55374, 55375, 22607, 88148, 88151, 88155, 22622, 55393, 22627, 22629, 55404, 55416, 88188, 88189, 55424, 55431, 88203, 55446, 22683, 55457, 55467, 55472, 55474, 55475, 88244, 88245, 55481, 55491, 22725, 88267, 22741, 88281, 88283, 88284, 22749, 22751, 88298, 55532, 88301, 55538, 55540, 55544, 88314, 55547, 55548, 88315, 22778, 55551, 88316, 22786, 55561, 55565, 55567, 55569, 88339, 22814, 88350, 55586, 55587, 55588, 22824, 88363, 22828, 88371, 22835, 88373, 22849, 88385, 55618, 88389, 88390, 55626, 22861, 55634, 22871, 22873, 88410, 88411, 88412, 22877, 55646, 22884, 55655, 55657, 55658, 88429, 88448, 55681, 55684, 22916, 22917, 55685, 55699, 22937, 55705, 55706, 55709, 88477, 88481, 22950, 88494, 55728, 55733, 55739, 55744, 22976, 22984, 22985, 55760, 88528, 23000, 55772, 23004, 23007, 23010, 23019, 88555, 55787, 88558, 88560, 23029, 88569, 55810, 55812, 88582, 23047, 55817, 23056, 55827, 88598, 88603, 23067, 23076, 23078, 55850, 23086, 55856, 23090, 55862, 55868, 88637, 55873, 23110, 23119, 55890, 88664, 23130, 55904, 88673, 88676, 23145, 23151, 88697, 88698, 55931, 88700, 55936, 55937, 55938, 88707, 88706, 88709, 88710, 55944, 23181, 55952, 88721, 23185, 23192, 88729, 55964, 55976, 88746, 88754, 55986, 55991, 88761, 23229, 23230, 23234, 56002, 23240, 56012, 23265, 23275, 88821, 23290, 23296, 56065, 23298, 56067, 88837, 56069, 56071, 56074, 23306, 56077, 88846, 23311, 23314, 56083, 56087, 88859, 88860, 88862, 88863, 23329, 56099, 23336, 56105, 88876, 56132, 23369, 56140, 23387, 56158, 23393, 56174, 88944, 23425, 23428, 23437, 23448, 56218, 88987, 88992, 23456, 88996, 56233, 23466, 56235, 56239, 23479, 23486, 56260, 23502, 89050, 23514, 23521, 89061, 89073, 56313, 23546, 56325, 89094, 56327, 23561, 56337, 23572, 89112, 23579, 56352, 23585, 23590, 89126, 23598, 89140, 89141, 23607, 56377, 23612, 23613, 56404, 56405, 89173, 23637, 89175, 56412, 56434, 23671, 89210, 56444, 89213, 89215, 23685, 56458, 23700, 23706, 89249, 56482, 23714, 23718, 23727, 23733, 23740, 23748, 23754, 89294, 56527, 56533, 89305, 56542, 56543, 23776, 56551, 23805, 89350, 23819, 56592, 23824, 56597, 56599, 23836, 23839, 23846, 23849, 89393, 89399, 23866, 56636, 23872, 23883, 23896, 23906, 23907, 23909, 89451, 89455, 56688, 89459, 89461, 56704, 23936, 56707, 89478, 89485, 23951, 89487, 23958, 56726, 23969, 23970, 23972, 89512, 56748, 89517, 23981, 23982, 89525, 23991, 89530, 89542, 24009, 89545, 24013, 24024, 24030, 24032, 24033, 24035, 56814, 89585, 56819, 24053, 56826, 89594, 89596, 56828, 24059, 89599, 89603, 56849, 56851, 89619, 89625, 24095, 89637, 89638, 24112, 56882, 89659, 89660, 56896, 24128, 89673, 24138, 56907, 56920, 89698, 56932, 89719, 24185, 24186, 89728, 24193, 24198, 24202, 56976, 56979, 24211, 56983, 24217, 89756, 24221, 56990, 24223, 24230, 24232, 89770, 89771, 24237, 24247, 57015, 24252, 24254, 24271, 57045, 24278, 57047, 57059, 24291, 89830, 57064, 89833, 57069, 57070, 24301, 57078, 57079, 57080, 89847, 57098, 57103, 24343, 89889, 24365, 57137, 24375, 24380, 89920, 57161, 24398, 57171, 89944, 89957, 89967, 57204, 89974, 24441, 89980, 57213, 89982, 89984, 89985, 24449, 57219, 89993, 57225, 24469, 57237, 24475, 24476, 90028, 24495, 57276, 90045, 24515, 90068, 24540, 90077, 24544, 24547, 57317, 90098, 90105, 24570, 24571, 24575, 24576, 24592, 57365, 24600, 24602, 57372, 90147, 57379, 90153, 24618, 57389, 57400, 57404, 24639, 90176, 24641, 57425, 24658, 57429, 24663, 57433, 24676, 24677, 57450, 90218, 24698, 57468, 57473, 24714, 24719, 24726, 24731, 24733, 90269, 24739, 90276, 24753, 24757, 24760, 24766, 90304, 90311, 24778, 57549, 24787, 90330, 57564, 24803, 90349, 24815, 90352, 90357, 24831, 57609, 24842, 24848, 24849, 57622, 57624, 24860, 90400, 24867, 57639, 90408, 57645, 24882, 57655, 57657, 24890, 24889, 57662, 90435, 57668, 24903, 57672, 90448, 24920, 57690, 90482, 57717, 24954, 90492, 24960, 24964, 90502, 24966, 57736, 90505, 57740, 90512, 57745, 24988, 90524, 24990, 90533, 57778, 25011, 90550, 25015, 90561, 90563, 57799, 25032, 90574, 90576, 25040, 25046, 25050, 57828, 90601, 90613, 25080, 57850, 90620, 25093, 25097, 90638, 25106, 90650, 25117, 57888, 25120, 25125, 57893, 90681, 90684, 25153, 25155, 25162, 25168, 57942, 90711, 90714, 90715, 57949, 57950, 25185, 90728, 25192, 57964, 25198, 25202, 90745, 25209, 25212, 90749, 90751, 90752, 25219, 57987, 90756, 57993, 57995, 90764, 25233, 58008, 25240, 90783, 90784, 25253, 58022, 58032, 90817, 25286, 90822, 90829, 90830, 90831, 90838, 25304, 90840, 25305, 58076, 58078, 90847, 58086, 90861, 25330, 90869, 58104, 58105, 58108, 90877, 58115, 25361, 25362, 90898, 25365, 90903, 58141, 90910, 58144, 58147, 90916, 58150, 90923, 58160, 90931, 25399, 58168, 58170, 58178, 25412, 25415, 90958, 90963, 25429, 58200, 25450, 25451, 25453, 58223, 91010, 91014, 25480, 91035, 58269, 25503, 25505, 25513, 91054, 91055, 25518, 25539, 25543, 58317, 25551, 58322, 91091, 91096, 91107, 91110, 25574, 58346, 58351, 25584, 58354, 25586, 25589, 25594, 91134, 58372, 91145, 91147, 25613, 25615, 25630, 25631, 58400, 91169, 58398, 91172, 25637, 91174, 25639, 25646, 25649, 91186, 25652, 91189, 25657, 58427, 58428, 91202, 58439, 91212, 58450, 25691, 91230, 25696, 25711, 58479, 58481, 25714, 25716, 91253, 25718, 91252, 91258, 91261, 91268, 91276, 25745, 58523, 25756, 91294, 25758, 58531, 91305, 25778, 25779, 25781, 91324, 25798, 91338, 58571, 25807, 91359, 91360, 58592, 25834, 25837, 25838, 58611, 58626, 25859, 25860, 25866, 91403, 25867, 91407, 91409, 58652, 91421, 91427, 91431, 58665, 91436, 25901, 25906, 25908, 58676, 91447, 91456, 58689, 58697, 25930, 91468, 58701, 25933, 25942, 25945, 58731, 91508, 25975, 91520, 91522, 25990, 91532, 25997, 26003, 26016, 91561, 58798, 58813, 26047, 26052, 91593, 26061, 91601, 91609, 91615, 91618, 91625, 91626, 26091, 91627, 58870, 91641, 58881, 91660, 26127, 58898, 58904, 91672, 58910, 26146, 91684, 26149, 91686, 58922, 91695, 58933, 26170, 26173, 26176, 91719, 58959, 58961, 91733, 26197, 58967, 58969, 91741, 58977, 91748, 91749, 91760, 91761, 26230, 59000, 59001, 26232, 59005, 26242, 26244, 91789, 59024, 91792, 26258, 91795, 26263, 59036, 59042, 26278, 59047, 91819, 91835, 59067, 91844, 59081, 26316, 91858, 26322, 59092, 59100, 59103, 91890, 91906, 91908, 26374, 59151, 91919, 59155, 59156, 26390, 26397, 59180, 59183, 91964, 26439, 26447, 91987, 91996, 59228, 26464, 26470, 59239, 26475, 59247, 92018, 59255, 59256, 92030, 26499, 26507, 26508, 92045, 26523, 26524, 92061, 59294, 59298, 92067, 59300, 26534, 26536, 26542, 59317, 59318, 59320, 92091, 26558, 92097, 26568, 92113, 59352, 59356, 59370, 59374, 59376, 59389, 59394, 92165, 26630, 92172, 92174, 92175, 59410, 26646, 92185, 26652, 59429, 59436, 92205, 92209, 92210, 59444, 26688, 92226, 59458, 92229, 92237, 59479, 26714, 92253, 92265, 26731, 92278, 59511, 92283, 92284, 92296, 59533, 59539, 59544, 59553, 59555, 92336, 26805, 92346, 59579, 26814, 92351, 59583, 26819, 92356, 26824, 59593, 59605, 59606, 59609, 26846, 26847, 92386, 92396, 92399, 59639, 92413, 92415, 59654, 26890, 92430, 59680, 92463, 59697, 92468, 92469, 59704, 26937, 59712, 92488, 26955, 92498, 92499, 26969, 92506, 92524, 92527, 59765, 92540, 27006, 59775, 59777, 92551, 92552, 59791, 92566, 27035, 59803, 59810, 27046, 59816, 92591, 59828, 92601, 59834, 59835, 92603, 92610, 92614, 59847, 59846, 27082, 92626, 92631, 59864, 92633, 92635, 92639, 59873, 59874, 92649, 59886, 59887, 59889, 27124, 59899, 92667, 27135, 59905, 92675, 59923, 92692, 92693, 59926, 92696, 27168, 92705, 27173, 92710, 59943, 92715, 27180, 92721, 59959, 59969, 27204, 59973, 27223, 92768, 92774, 92775, 92777, 92778, 92785, 92793, 27266, 92813, 27287, 60056, 27292, 92830, 27295, 27296, 27300, 27308, 60079, 92848, 92852, 60086, 60097, 27331, 27333, 27338, 27342, 92882, 27355, 92892, 60126, 60137, 27372, 60145, 92918, 92920, 92925, 27399, 92936, 27402, 27406, 92943, 92945, 27409, 27411, 60186, 60188, 27422, 92959, 27425, 60197, 92970, 92973, 92977, 60223, 27459, 92998, 27467, 60237, 60242, 93012, 93024, 93025, 60260, 60261, 93051, 60284, 27522, 60295, 60308, 93083, 27548, 27547, 27550, 27552, 27555, 60326, 60330, 60341, 27575, 60345, 27585, 60371, 60373, 60376, 93144, 27618, 93167, 60402, 93176, 93177, 93178, 27641, 60416, 27649, 27650, 93187, 27655, 60424, 27661, 27662, 27678, 93215, 60452, 93228, 27697, 27700, 27704, 93241, 60475, 60476, 60485, 60504, 27746, 93283, 60525, 27758, 60535, 93303, 93313, 27784, 60554, 60555, 60558, 60565, 93333, 27801, 27826, 60597, 93372, 93375, 27860, 60631, 93399, 93401, 27867, 93407, 27872, 93420, 93426, 27892, 27895, 60666, 27899, 60668, 27903, 60672, 60674, 60678, 93458, 60695, 27940, 27941, 60709, 60712, 93492, 27971, 27975, 93514, 27979, 60749, 27983, 27990, 93528, 93530, 60765, 60780, 60785, 28032, 60816, 93588, 28056, 93608, 60841, 60846, 60852, 93624, 60859, 28095, 60871, 60882, 93653, 93656, 60888, 93658, 60891, 93665, 93678, 60910, 93680, 60912, 93683, 60919, 28155, 93692, 60925, 93694, 28173, 28181, 60959, 60960, 60964, 60971, 28225, 93765, 61001, 28234, 93771, 61005, 28242, 28247, 93787, 28251, 93790, 61024, 28272, 61041, 28288, 93827, 93841, 28313, 93850, 61083, 28316, 61086, 93862, 28329, 61098, 93867, 93866, 93870, 93871, 61106, 93884, 93893, 61127, 61128, 28366, 28381, 61150, 61152, 28386, 61158, 28391, 93932, 61165, 61166, 28399, 93952, 28420, 61195, 93971, 28441, 28445, 61215, 28448, 61219, 93990, 61222, 93992, 61225, 28474, 28476, 94012, 28479, 61250, 94025, 28492, 94032, 61275, 28513, 28516, 94054, 28521, 94072, 61307, 28542, 28551, 61320, 94088, 94090, 28559, 28572, 61341, 28574, 61344, 28582, 94130, 28603, 94142, 94152, 94153, 28620, 94157, 61389, 94164, 94171, 94172, 94177, 28641, 61411, 94178, 61409, 94182, 94186, 61422, 28656, 94200, 28669, 28672, 28673, 94209, 28676, 94213, 28684, 94220, 28690, 61459, 28692, 61464, 61467, 61484, 28717, 28719, 28721, 61497, 94272, 61506, 61512, 28744, 28750, 61519, 28753, 28767, 28776, 94318, 61554, 28787, 94324, 61558, 28790, 61560, 94332, 94333, 28803, 61572, 94343, 61584, 94357, 94358, 28823, 94368, 61604, 94374, 28845, 94385, 94388, 94394, 61630, 28862, 28873, 61643, 94420, 28887, 61656, 94432, 61666, 94438, 94441, 94463, 61713, 94487, 94497, 28972, 61744, 28976, 61751, 28993, 94532, 61764, 61767, 29008, 94547, 29030, 94569, 61802, 61805, 29038, 94580, 61816, 29051, 61819, 29058, 94598, 61832, 29069, 94609, 61869, 61871, 61872, 29111, 29113, 94652, 94659, 61897, 94666, 29136, 29141, 29151, 61922, 29164, 29168, 29172, 29173, 94708, 61950, 29198, 29202, 94744, 29211, 61981, 61983, 61985, 61997, 61998, 62005, 29240, 29242, 29245, 62014, 29259, 94799, 29264, 62036, 29270, 62041, 62047, 62049, 62053, 29292, 94829, 62065, 94833, 94835, 62069, 29302, 29303, 62073, 29305, 29308, 62078, 29312, 29314, 62083, 94863, 62099, 62105, 62106, 29340, 94879, 62116, 62124, 62131, 29366, 94908, 94923, 94925, 29401, 29403, 94941, 29410, 94948, 29414, 62183, 29418, 94958, 29422, 94959, 94965, 94975, 29443, 94981, 62213, 62214, 29448, 29449, 62217, 94991, 29460, 95000, 95001, 62232, 95009, 62242, 95011, 29491, 95032, 95039, 62274, 95044, 95048, 95067, 95069, 29536, 29546, 62322, 95092, 62328, 62338, 95108, 95109, 95132, 29600, 95139, 62371, 62377, 95149, 62384, 62387, 95160, 62396, 62401, 62406, 62407, 29648, 29649, 95185, 62417, 62423, 62428, 62429, 62440, 29677, 95213, 29686, 95222, 62456, 62457, 62458, 29692, 29699, 29702, 95241, 62474, 29707, 29708, 95243, 62485, 29720, 95267, 62501, 29756, 62524, 95294, 95299, 29764, 62541, 95314, 62562, 95330, 29798, 62567, 95339, 62575, 29810, 62580, 95349, 29813, 95351, 29825, 62598, 62608, 62613, 62615, 29848, 62617, 29859, 29861, 95398, 29869, 62639, 95414, 95418, 29890, 95429, 95445, 95452, 29918, 29922, 29926, 95463, 95467, 62701, 29934, 62702, 62707, 95478, 62727, 95497, 29962, 95503, 95504, 95505, 29974, 62746, 95518, 29987, 62758, 29993, 62768, 62771, 95543, 62782, 62786, 95556, 95559, 62797, 30037, 30040, 30041, 62810, 95578, 30050, 30053, 30072, 62841, 62842, 30075, 30077, 30084, 95627, 62863, 30096, 95633, 30101, 62873, 62876, 62884, 62885, 30122, 30125, 30129, 62907, 62909, 30143, 95681, 62917, 95690, 62923, 30158, 30161, 62936, 95710, 95712, 95714, 30179, 95719, 62964, 30197, 30198, 62966, 30200, 30204, 95744, 30208, 30211, 95749, 30216, 30217, 95754, 62987, 62989, 95757, 95763, 95765, 62998, 95783, 95785, 30254, 95802, 30269, 63045, 30277, 30279, 63048, 30289, 63059, 30292, 95828, 63060, 63070, 30302, 30305, 95843, 30311, 63083, 95862, 95870, 95876, 63110, 30342, 95880, 63111, 95882, 30350, 30352, 30365, 95906, 63143, 30379, 63150, 30386, 95924, 63157, 30397, 95936, 63170, 63180, 95949, 95957, 30430, 95970, 95988, 63224, 95994, 63232, 30473, 30475, 63250, 96019, 63256, 30489, 63258, 30497, 63273, 30508, 96051, 63284, 63292, 63300, 30536, 96085, 30553, 63335, 96107, 63357, 30605, 96142, 63374, 30621, 63390, 30625, 96162, 63394, 63399, 30638, 63408, 96177, 63410, 30643, 96184, 96188, 30655, 30659, 63430, 30673, 63446, 96218, 96219, 63452, 96236, 63471, 96239, 63478, 63490, 96262, 30728, 63497, 63501, 96273, 63507, 96280, 63515, 96284, 96290, 30758, 63527, 30760, 63529, 63530, 30772, 63548, 63564, 63569, 96340, 63574, 96342, 96360, 63594, 63605, 63610, 63614, 63615, 96382, 96390, 63625, 96395, 63629, 96404, 30868, 96407, 30873, 30875, 96416, 30885, 63654, 30886, 96425, 96430, 30894, 63664, 63665, 96436, 63669, 63676, 96447, 30913, 96474, 30942, 63715, 30949, 63721, 30962, 96498, 63738, 96509, 30976, 96514, 96517, 30986, 30999, 63779, 31018, 96560, 96564, 31030, 96570, 63803, 31043, 96579, 96585, 31053, 96593, 96595, 31063, 96602, 96622, 96627, 63860, 63862, 63865, 63867, 31105, 96641, 96643, 96653, 31119, 63890, 96660, 63892, 63898, 31134, 96671, 96673, 96675, 31140, 63909, 31151, 31155, 63924, 63927, 96706, 63945, 96722, 63967, 96740, 96759, 64000, 64008, 31243, 31249, 31267, 96804, 96808, 64056, 96825, 96827, 31291, 64062, 64064, 31299, 96838, 31303, 31302, 96852, 96861, 31329, 64099, 64100, 64101, 96870, 96873, 64111, 96882, 96883, 96886, 64123, 96902, 96905, 31370, 64147, 96916, 96921, 96923, 31400, 96940, 96941, 64176, 64181, 64184, 96952, 31418, 64188, 64191, 64192, 64198, 64200, 96975, 64208, 64210, 64218, 64225, 31467, 31468, 64241, 97015, 64251, 31489, 31494, 97033, 31502, 64272, 31509, 31514, 31522, 64292, 97069, 97071, 31540, 31543, 31544, 64314, 31550, 31551, 97094, 64327, 97097, 31562, 97116, 64354, 97124, 64357, 97131, 31596, 97138, 64384, 97163, 64397, 97171, 64406, 31650, 31655, 31659, 31664, 31673, 31681, 31686, 64455, 97224, 97236, 31703, 64472, 97241, 31707, 64476, 97250, 31726, 97272, 97275, 64509, 31749, 64528, 31763, 31770, 64543, 64555, 31789, 64559, 31792, 31797, 97337, 31803, 64573, 97348, 64581, 64583, 31817, 31827, 31832, 97369, 31834, 97372, 64605, 97374, 31840, 64608, 31842, 97381, 64619, 64627, 64639, 31871, 97419, 64653, 64658, 31891, 31898, 64671, 31907, 97446, 64679, 31910, 97454, 64691, 97460, 97469, 97471, 31938, 64715, 31948, 31949, 64722, 31957, 31962, 97503, 64738, 97507, 31974, 97517, 97523, 64761, 97530, 64772, 64774, 64781, 32016, 97554, 32029, 64800, 32035, 97573, 64806, 97581, 97587, 64827, 97595, 32065, 97602, 32075, 64850, 97633, 97640, 32108, 32109, 32112, 97649, 64884, 97657, 64890, 97659, 32131, 97670, 97671, 64904, 32146, 32150, 64923, 32156, 64930, 32166, 32167, 32168, 64943, 97714, 32185, 32186, 64960, 32197, 97735, 64972, 32209, 97747, 64983, 32221, 64993, 64994, 97768, 65002, 97772, 65010, 32242, 65012, 97786, 97790, 97791, 65023, 32260, 97803, 65036, 97806, 65044, 32283, 97829, 97831, 65063, 97833, 97832, 32308, 65080, 65081, 97854, 32326, 97867, 32333, 97873, 65108, 65112, 32345, 97886, 65128, 97898, 65133, 97914, 32382, 65151, 97921, 97922, 97923, 32387, 32391, 32392, 97928, 32402, 65171, 97940, 65178, 32413, 32418, 97960, 97961, 65197, 32437, 97979, 65219, 32452, 32491, 98031, 32498, 65280, 32516, 65285, 32521, 65293, 65294, 98062, 98064, 98065, 98066, 32534, 98072, 32541, 65310, 98083, 98099, 98102, 32573, 65342, 65347, 65350, 98119, 98135, 65369, 32614, 32619, 98159, 65396, 65400, 65401, 32635, 98171, 32641, 98184, 32649, 98187, 65427, 32661, 98203, 98219, 65456, 98225, 32692, 98230, 98238, 65471, 32706, 98245, 65478, 65481, 98249, 65491, 65496, 65497, 65499, 98271, 32737, 32754, 65522, 32757, 65526, 32759, 32760, 98303}\n"
     ]
    }
   ],
   "source": [
    "\n",
    "# Define segmentation criteria\n",
    "high_spend_threshold = 100  # Define the threshold for high spenders\n",
    "targeted_account_types = ['HIPSTER_COFFEE_SHOP', 'CINEMA']  # Define targeted account types\n",
    "\n",
    "# Calculate total transaction amount for each customer\n",
    "customer_transaction_amount = data.groupby('from_totally_fake_account')['monopoly_money_amount'].sum()\n",
    "\n",
    "# Identify high spenders\n",
    "high_value_customers = customer_transaction_amount[customer_transaction_amount > high_spend_threshold].index.tolist()\n",
    "\n",
    "# Segment customers based on account type\n",
    "specific_business_customers = data[data['to_randomly_generated_account'].isin(targeted_account_types)]['from_totally_fake_account'].unique()\n",
    "\n",
    "# Combine segmentation criteria\n",
    "targeted_segment = set(high_value_customers).intersection(set(specific_business_customers))\n",
    "\n",
    "# Display the targeted segment\n",
    "print(\"Targeted Segment (High-Value Customers for Specific Businesses):\")\n",
    "print(targeted_segment)"
   ]
  },
  {
   "cell_type": "code",
   "execution_count": null,
   "id": "397aa7f0",
   "metadata": {},
   "outputs": [],
   "source": []
  },
  {
   "cell_type": "code",
   "execution_count": null,
   "id": "bfb64931",
   "metadata": {},
   "outputs": [],
   "source": []
  },
  {
   "cell_type": "code",
   "execution_count": null,
   "id": "384c74ce",
   "metadata": {},
   "outputs": [],
   "source": []
  }
 ],
 "metadata": {
  "kernelspec": {
   "display_name": "Python 3 (ipykernel)",
   "language": "python",
   "name": "python3"
  },
  "language_info": {
   "codemirror_mode": {
    "name": "ipython",
    "version": 3
   },
   "file_extension": ".py",
   "mimetype": "text/x-python",
   "name": "python",
   "nbconvert_exporter": "python",
   "pygments_lexer": "ipython3",
   "version": "3.11.5"
  }
 },
 "nbformat": 4,
 "nbformat_minor": 5
}
