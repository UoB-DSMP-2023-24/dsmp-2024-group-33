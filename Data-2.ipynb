{
 "cells": [
  {
   "cell_type": "markdown",
   "id": "1220a79f",
   "metadata": {},
   "source": [
    "# "
   ]
  },
  {
   "cell_type": "markdown",
   "id": "4b27521a",
   "metadata": {},
   "source": [
    "# What I did:\n",
    "\n",
    "-  First I checked the null values, instead removing the null values I used imputation methods.\n",
    "-  I generated one unique account number for 224 null values in account number column."
   ]
  },
  {
   "cell_type": "code",
   "execution_count": 3,
   "id": "adcf2f90",
   "metadata": {},
   "outputs": [
    {
     "data": {
      "text/html": [
       "<div>\n",
       "<style scoped>\n",
       "    .dataframe tbody tr th:only-of-type {\n",
       "        vertical-align: middle;\n",
       "    }\n",
       "\n",
       "    .dataframe tbody tr th {\n",
       "        vertical-align: top;\n",
       "    }\n",
       "\n",
       "    .dataframe thead th {\n",
       "        text-align: right;\n",
       "    }\n",
       "</style>\n",
       "<table border=\"1\" class=\"dataframe\">\n",
       "  <thead>\n",
       "    <tr style=\"text-align: right;\">\n",
       "      <th></th>\n",
       "      <th>Date</th>\n",
       "      <th>Timestamp</th>\n",
       "      <th>Account No</th>\n",
       "      <th>Balance</th>\n",
       "      <th>Amount</th>\n",
       "      <th>Third Party Account No</th>\n",
       "      <th>Third Party Name</th>\n",
       "    </tr>\n",
       "  </thead>\n",
       "  <tbody>\n",
       "    <tr>\n",
       "      <th>0</th>\n",
       "      <td>01/01/2023</td>\n",
       "      <td>00:00</td>\n",
       "      <td>678330503.0</td>\n",
       "      <td>2971.0</td>\n",
       "      <td>1584.0</td>\n",
       "      <td>NaN</td>\n",
       "      <td>Westport Care Home</td>\n",
       "    </tr>\n",
       "    <tr>\n",
       "      <th>1</th>\n",
       "      <td>01/01/2023</td>\n",
       "      <td>00:00</td>\n",
       "      <td>472213568.0</td>\n",
       "      <td>3792.0</td>\n",
       "      <td>1950.0</td>\n",
       "      <td>NaN</td>\n",
       "      <td>Barbiee Boutique</td>\n",
       "    </tr>\n",
       "    <tr>\n",
       "      <th>2</th>\n",
       "      <td>01/01/2023</td>\n",
       "      <td>00:00</td>\n",
       "      <td>472213568.0</td>\n",
       "      <td>3012.0</td>\n",
       "      <td>-780.0</td>\n",
       "      <td>283027736.0</td>\n",
       "      <td>NaN</td>\n",
       "    </tr>\n",
       "    <tr>\n",
       "      <th>3</th>\n",
       "      <td>01/01/2023</td>\n",
       "      <td>00:00</td>\n",
       "      <td>283027736.0</td>\n",
       "      <td>1787.0</td>\n",
       "      <td>780.0</td>\n",
       "      <td>472213568.0</td>\n",
       "      <td>NaN</td>\n",
       "    </tr>\n",
       "    <tr>\n",
       "      <th>4</th>\n",
       "      <td>01/01/2023</td>\n",
       "      <td>00:00</td>\n",
       "      <td>624500124.0</td>\n",
       "      <td>3226.0</td>\n",
       "      <td>1825.0</td>\n",
       "      <td>NaN</td>\n",
       "      <td>Fat Face</td>\n",
       "    </tr>\n",
       "  </tbody>\n",
       "</table>\n",
       "</div>"
      ],
      "text/plain": [
       "         Date Timestamp   Account No  Balance  Amount  Third Party Account No  \\\n",
       "0  01/01/2023     00:00  678330503.0   2971.0  1584.0                     NaN   \n",
       "1  01/01/2023     00:00  472213568.0   3792.0  1950.0                     NaN   \n",
       "2  01/01/2023     00:00  472213568.0   3012.0  -780.0             283027736.0   \n",
       "3  01/01/2023     00:00  283027736.0   1787.0   780.0             472213568.0   \n",
       "4  01/01/2023     00:00  624500124.0   3226.0  1825.0                     NaN   \n",
       "\n",
       "     Third Party Name  \n",
       "0  Westport Care Home  \n",
       "1    Barbiee Boutique  \n",
       "2                 NaN  \n",
       "3                 NaN  \n",
       "4            Fat Face  "
      ]
     },
     "execution_count": 3,
     "metadata": {},
     "output_type": "execute_result"
    }
   ],
   "source": [
    "import warnings\n",
    "warnings.filterwarnings('ignore')\n",
    "import pandas as pd\n",
    "import numpy as np\n",
    "import matplotlib.pyplot as plt\n",
    "import seaborn as sns\n",
    "%matplotlib inline\n",
    "\n",
    "# Load the dataset\n",
    "data = pd.read_csv('simulated_transaction_2024.csv')\n",
    "data.head()"
   ]
  },
  {
   "cell_type": "code",
   "execution_count": null,
   "id": "420e901c",
   "metadata": {},
   "outputs": [],
   "source": []
  },
  {
   "cell_type": "code",
   "execution_count": 2,
   "id": "0f0b66f2",
   "metadata": {},
   "outputs": [
    {
     "name": "stdout",
     "output_type": "stream",
     "text": [
      "<class 'pandas.core.frame.DataFrame'>\n",
      "RangeIndex: 230596 entries, 0 to 230595\n",
      "Data columns (total 7 columns):\n",
      " #   Column                  Non-Null Count   Dtype  \n",
      "---  ------                  --------------   -----  \n",
      " 0   Date                    230367 non-null  object \n",
      " 1   Timestamp               230345 non-null  object \n",
      " 2   Account No              230372 non-null  float64\n",
      " 3   Balance                 230350 non-null  float64\n",
      " 4   Amount                  230387 non-null  float64\n",
      " 5   Third Party Account No  6832 non-null    float64\n",
      " 6   Third Party Name        223517 non-null  object \n",
      "dtypes: float64(4), object(3)\n",
      "memory usage: 12.3+ MB\n"
     ]
    }
   ],
   "source": [
    "data.info()"
   ]
  },
  {
   "cell_type": "code",
   "execution_count": 3,
   "id": "890b892d",
   "metadata": {},
   "outputs": [
    {
     "data": {
      "text/plain": [
       "(230596, 7)"
      ]
     },
     "execution_count": 3,
     "metadata": {},
     "output_type": "execute_result"
    }
   ],
   "source": [
    "data.shape"
   ]
  },
  {
   "cell_type": "code",
   "execution_count": 4,
   "id": "2813040d",
   "metadata": {},
   "outputs": [
    {
     "data": {
      "text/plain": [
       "Index(['Date', 'Timestamp', 'Account No', 'Balance', 'Amount',\n",
       "       'Third Party Account No', 'Third Party Name'],\n",
       "      dtype='object')"
      ]
     },
     "execution_count": 4,
     "metadata": {},
     "output_type": "execute_result"
    }
   ],
   "source": [
    "data.columns"
   ]
  },
  {
   "cell_type": "code",
   "execution_count": 5,
   "id": "782f3693",
   "metadata": {},
   "outputs": [
    {
     "data": {
      "text/plain": [
       "Date                         229\n",
       "Timestamp                    251\n",
       "Account No                   224\n",
       "Balance                      246\n",
       "Amount                       209\n",
       "Third Party Account No    223764\n",
       "Third Party Name            7079\n",
       "dtype: int64"
      ]
     },
     "execution_count": 5,
     "metadata": {},
     "output_type": "execute_result"
    }
   ],
   "source": [
    "data.isnull().sum()"
   ]
  },
  {
   "cell_type": "code",
   "execution_count": null,
   "id": "7b1b7869",
   "metadata": {},
   "outputs": [],
   "source": []
  },
  {
   "cell_type": "code",
   "execution_count": 6,
   "id": "652281bf",
   "metadata": {},
   "outputs": [
    {
     "data": {
      "text/html": [
       "<div>\n",
       "<style scoped>\n",
       "    .dataframe tbody tr th:only-of-type {\n",
       "        vertical-align: middle;\n",
       "    }\n",
       "\n",
       "    .dataframe tbody tr th {\n",
       "        vertical-align: top;\n",
       "    }\n",
       "\n",
       "    .dataframe thead th {\n",
       "        text-align: right;\n",
       "    }\n",
       "</style>\n",
       "<table border=\"1\" class=\"dataframe\">\n",
       "  <thead>\n",
       "    <tr style=\"text-align: right;\">\n",
       "      <th></th>\n",
       "      <th>Account No</th>\n",
       "      <th>Number of Transactions</th>\n",
       "    </tr>\n",
       "  </thead>\n",
       "  <tbody>\n",
       "    <tr>\n",
       "      <th>0</th>\n",
       "      <td>101531259.0</td>\n",
       "      <td>123</td>\n",
       "    </tr>\n",
       "    <tr>\n",
       "      <th>1</th>\n",
       "      <td>104832000.0</td>\n",
       "      <td>164</td>\n",
       "    </tr>\n",
       "    <tr>\n",
       "      <th>2</th>\n",
       "      <td>105375973.0</td>\n",
       "      <td>158</td>\n",
       "    </tr>\n",
       "    <tr>\n",
       "      <th>3</th>\n",
       "      <td>106601471.0</td>\n",
       "      <td>193</td>\n",
       "    </tr>\n",
       "    <tr>\n",
       "      <th>4</th>\n",
       "      <td>108481285.0</td>\n",
       "      <td>368</td>\n",
       "    </tr>\n",
       "  </tbody>\n",
       "</table>\n",
       "</div>"
      ],
      "text/plain": [
       "    Account No  Number of Transactions\n",
       "0  101531259.0                     123\n",
       "1  104832000.0                     164\n",
       "2  105375973.0                     158\n",
       "3  106601471.0                     193\n",
       "4  108481285.0                     368"
      ]
     },
     "execution_count": 6,
     "metadata": {},
     "output_type": "execute_result"
    }
   ],
   "source": [
    "# Grouping the dataset by 'Account No' and counting the number of transactions for each account\n",
    "transactions_per_user = data.groupby('Account No').size()\n",
    "\n",
    "# Converting the series to a DataFrame for better readability\n",
    "transactions_per_user_df = transactions_per_user.reset_index(name='Number of Transactions')\n",
    "\n",
    "# Displaying the first few rows to verify\n",
    "transactions_per_user_df.head()"
   ]
  },
  {
   "cell_type": "code",
   "execution_count": 7,
   "id": "19b23361",
   "metadata": {},
   "outputs": [
    {
     "data": {
      "text/plain": [
       "236.03688524590163"
      ]
     },
     "execution_count": 7,
     "metadata": {},
     "output_type": "execute_result"
    }
   ],
   "source": [
    "# Calculating the average number of transactions across all users\n",
    "average_transactions_per_user = transactions_per_user.mean()\n",
    "\n",
    "average_transactions_per_user"
   ]
  },
  {
   "cell_type": "code",
   "execution_count": 8,
   "id": "0815ef79",
   "metadata": {},
   "outputs": [
    {
     "data": {
      "text/plain": [
       "(999752673, 0)"
      ]
     },
     "execution_count": 8,
     "metadata": {},
     "output_type": "execute_result"
    }
   ],
   "source": [
    "# Generate a unique account number\n",
    "# Assuming account numbers are numeric, we'll find a number not present in the current dataset\n",
    "\n",
    "existing_account_numbers = pd.to_numeric(data['Account No'], errors='coerce').dropna().unique()\n",
    "new_account_number = int(max(existing_account_numbers) + 1)\n",
    "\n",
    "# Replace null values in the \"Account No\" column with the new account number\n",
    "data['Account No'].fillna(new_account_number, inplace=True)\n",
    "\n",
    "# Verify that there are no longer null values in the \"Account No\" column\n",
    "verification_result = data['Account No'].isnull().sum()\n",
    "\n",
    "new_account_number, verification_result"
   ]
  },
  {
   "cell_type": "code",
   "execution_count": 9,
   "id": "9be41bce",
   "metadata": {},
   "outputs": [
    {
     "data": {
      "text/plain": [
       "Date                       0.099308\n",
       "Timestamp                  0.108848\n",
       "Account No                 0.000000\n",
       "Balance                    0.106680\n",
       "Amount                     0.090635\n",
       "Third Party Account No    97.037243\n",
       "Third Party Name           3.069871\n",
       "dtype: float64"
      ]
     },
     "execution_count": 9,
     "metadata": {},
     "output_type": "execute_result"
    }
   ],
   "source": [
    "# Calculate the percentage of null values for each column\n",
    "null_percentage = data.isnull().mean() * 100\n",
    "\n",
    "null_percentage"
   ]
  },
  {
   "cell_type": "code",
   "execution_count": 10,
   "id": "12954939",
   "metadata": {},
   "outputs": [
    {
     "data": {
      "text/html": [
       "<div>\n",
       "<style scoped>\n",
       "    .dataframe tbody tr th:only-of-type {\n",
       "        vertical-align: middle;\n",
       "    }\n",
       "\n",
       "    .dataframe tbody tr th {\n",
       "        vertical-align: top;\n",
       "    }\n",
       "\n",
       "    .dataframe thead th {\n",
       "        text-align: right;\n",
       "    }\n",
       "</style>\n",
       "<table border=\"1\" class=\"dataframe\">\n",
       "  <thead>\n",
       "    <tr style=\"text-align: right;\">\n",
       "      <th></th>\n",
       "      <th>Date</th>\n",
       "      <th>Timestamp</th>\n",
       "      <th>Account No</th>\n",
       "      <th>Balance</th>\n",
       "      <th>Amount</th>\n",
       "      <th>Third Party Name</th>\n",
       "    </tr>\n",
       "  </thead>\n",
       "  <tbody>\n",
       "    <tr>\n",
       "      <th>0</th>\n",
       "      <td>01/01/2023</td>\n",
       "      <td>00:00</td>\n",
       "      <td>678330503.0</td>\n",
       "      <td>2971.0</td>\n",
       "      <td>1584.0</td>\n",
       "      <td>Westport Care Home</td>\n",
       "    </tr>\n",
       "    <tr>\n",
       "      <th>1</th>\n",
       "      <td>01/01/2023</td>\n",
       "      <td>00:00</td>\n",
       "      <td>472213568.0</td>\n",
       "      <td>3792.0</td>\n",
       "      <td>1950.0</td>\n",
       "      <td>Barbiee Boutique</td>\n",
       "    </tr>\n",
       "    <tr>\n",
       "      <th>2</th>\n",
       "      <td>01/01/2023</td>\n",
       "      <td>00:00</td>\n",
       "      <td>472213568.0</td>\n",
       "      <td>3012.0</td>\n",
       "      <td>-780.0</td>\n",
       "      <td>NaN</td>\n",
       "    </tr>\n",
       "    <tr>\n",
       "      <th>3</th>\n",
       "      <td>01/01/2023</td>\n",
       "      <td>00:00</td>\n",
       "      <td>283027736.0</td>\n",
       "      <td>1787.0</td>\n",
       "      <td>780.0</td>\n",
       "      <td>NaN</td>\n",
       "    </tr>\n",
       "    <tr>\n",
       "      <th>4</th>\n",
       "      <td>01/01/2023</td>\n",
       "      <td>00:00</td>\n",
       "      <td>624500124.0</td>\n",
       "      <td>3226.0</td>\n",
       "      <td>1825.0</td>\n",
       "      <td>Fat Face</td>\n",
       "    </tr>\n",
       "  </tbody>\n",
       "</table>\n",
       "</div>"
      ],
      "text/plain": [
       "         Date Timestamp   Account No  Balance  Amount    Third Party Name\n",
       "0  01/01/2023     00:00  678330503.0   2971.0  1584.0  Westport Care Home\n",
       "1  01/01/2023     00:00  472213568.0   3792.0  1950.0    Barbiee Boutique\n",
       "2  01/01/2023     00:00  472213568.0   3012.0  -780.0                 NaN\n",
       "3  01/01/2023     00:00  283027736.0   1787.0   780.0                 NaN\n",
       "4  01/01/2023     00:00  624500124.0   3226.0  1825.0            Fat Face"
      ]
     },
     "execution_count": 10,
     "metadata": {},
     "output_type": "execute_result"
    }
   ],
   "source": [
    "# Step 1: Drop the \"Third Party Account No\" column\n",
    "data.drop(columns=['Third Party Account No'],inplace=True)\n",
    "data.head()"
   ]
  },
  {
   "cell_type": "code",
   "execution_count": null,
   "id": "08beb693",
   "metadata": {},
   "outputs": [],
   "source": []
  },
  {
   "cell_type": "code",
   "execution_count": 13,
   "id": "61beccfb",
   "metadata": {},
   "outputs": [
    {
     "data": {
      "text/plain": [
       "Date                0.0\n",
       "Timestamp           0.0\n",
       "Account No          0.0\n",
       "Balance             0.0\n",
       "Amount              0.0\n",
       "Third Party Name    0.0\n",
       "dtype: float64"
      ]
     },
     "execution_count": 13,
     "metadata": {},
     "output_type": "execute_result"
    }
   ],
   "source": [
    "\n",
    "\n",
    "# Step 2: Handle null values in other columns\n",
    "# For numerical columns (Balance, Amount), we'll use median imputation\n",
    "# For categorical columns (Date, Timestamp, Account No, Third Party Name), we'll use the mode or a placeholder\n",
    "\n",
    "numerical_columns = ['Balance', 'Amount']\n",
    "categorical_columns = ['Date', 'Timestamp', 'Account No', 'Third Party Name']\n",
    "\n",
    "# Fill numerical columns with their median\n",
    "for col in numerical_columns:\n",
    "    data[col].fillna(data[col].median(), inplace=True)\n",
    "\n",
    "# Fill categorical columns with the mode or a placeholder\n",
    "for col in categorical_columns:\n",
    "    if col in ['Date', 'Timestamp', 'Account No']:  # These can be filled with mode\n",
    "        mode_value = data[col].mode()[0]\n",
    "        data[col].fillna(mode_value, inplace=True)\n",
    "    else:  # \"Third Party Name\" can be filled with \"Unknown\"\n",
    "        data[col].fillna('Unknown', inplace=True)\n",
    "\n",
    "# Verify the manipulations by checking the new percentage of null values\n",
    "new_null_percentage = data.isnull().mean() * 100\n",
    "\n",
    "new_null_percentage\n"
   ]
  },
  {
   "cell_type": "code",
   "execution_count": 15,
   "id": "567b318c",
   "metadata": {},
   "outputs": [
    {
     "data": {
      "text/plain": [
       "Date                0\n",
       "Timestamp           0\n",
       "Account No          0\n",
       "Balance             0\n",
       "Amount              0\n",
       "Third Party Name    0\n",
       "dtype: int64"
      ]
     },
     "execution_count": 15,
     "metadata": {},
     "output_type": "execute_result"
    }
   ],
   "source": [
    "data.isnull().sum()"
   ]
  },
  {
   "cell_type": "code",
   "execution_count": null,
   "id": "b6d93822",
   "metadata": {},
   "outputs": [],
   "source": []
  },
  {
   "cell_type": "code",
   "execution_count": null,
   "id": "0fd5241b",
   "metadata": {},
   "outputs": [],
   "source": []
  }
 ],
 "metadata": {
  "kernelspec": {
   "display_name": "Python 3 (ipykernel)",
   "language": "python",
   "name": "python3"
  },
  "language_info": {
   "codemirror_mode": {
    "name": "ipython",
    "version": 3
   },
   "file_extension": ".py",
   "mimetype": "text/x-python",
   "name": "python",
   "nbconvert_exporter": "python",
   "pygments_lexer": "ipython3",
   "version": "3.11.5"
  }
 },
 "nbformat": 4,
 "nbformat_minor": 5
}
