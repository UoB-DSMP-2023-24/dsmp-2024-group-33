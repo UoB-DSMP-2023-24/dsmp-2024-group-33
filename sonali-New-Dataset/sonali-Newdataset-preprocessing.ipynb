{
 "cells": [
  {
   "cell_type": "code",
   "execution_count": 16,
   "id": "d15afc43",
   "metadata": {},
   "outputs": [
    {
     "name": "stdout",
     "output_type": "stream",
     "text": [
      "(261716, 4)\n"
     ]
    }
   ],
   "source": [
    "#Extract dataset from original for testing \n",
    "##first dataset\n",
    "\n",
    "import pandas as pd\n",
    "\n",
    "# Read the dataset\n",
    "df = pd.read_csv('C:\\\\Users\\\\prane\\\\Documents\\\\Univ_of_Bristol\\\\mini-project\\\\backup-file\\\\fake_transactional_data_24.csv')\n",
    "\n",
    "# Convert not_happened_yet_date to datetime\n",
    "df['not_happened_yet_date'] = pd.to_datetime(df['not_happened_yet_date'], format='%d/%m/%Y')\n",
    "\n",
    "# Take 200 unique from_totally_fake_account values\n",
    "unique_accounts = df['from_totally_fake_account'].unique()[:200]\n",
    "\n",
    "# Filter data to include only transactions from these 100 accounts\n",
    "filtered_df = df[df['from_totally_fake_account'].isin(unique_accounts)]\n",
    "\n",
    "# Output the final DataFrame\n",
    "print(filtered_df.shape)\n",
    "#filtered_df.to_csv('C:\\\\Users\\\\prane\\\\Documents\\\\Univ_of_Bristol\\\\mini-project\\\\filtered-result.csv', index=False)\n",
    "\n"
   ]
  },
  {
   "cell_type": "code",
   "execution_count": 2,
   "id": "6d225935",
   "metadata": {},
   "outputs": [
    {
     "name": "stdout",
     "output_type": "stream",
     "text": [
      "(230596, 7)\n"
     ]
    },
    {
     "data": {
      "text/html": [
       "<div>\n",
       "<style scoped>\n",
       "    .dataframe tbody tr th:only-of-type {\n",
       "        vertical-align: middle;\n",
       "    }\n",
       "\n",
       "    .dataframe tbody tr th {\n",
       "        vertical-align: top;\n",
       "    }\n",
       "\n",
       "    .dataframe thead th {\n",
       "        text-align: right;\n",
       "    }\n",
       "</style>\n",
       "<table border=\"1\" class=\"dataframe\">\n",
       "  <thead>\n",
       "    <tr style=\"text-align: right;\">\n",
       "      <th></th>\n",
       "      <th>Account No</th>\n",
       "      <th>Balance</th>\n",
       "      <th>Amount</th>\n",
       "      <th>Third Party Account No</th>\n",
       "    </tr>\n",
       "  </thead>\n",
       "  <tbody>\n",
       "    <tr>\n",
       "      <th>count</th>\n",
       "      <td>2.303720e+05</td>\n",
       "      <td>230350.000000</td>\n",
       "      <td>230387.000000</td>\n",
       "      <td>6.832000e+03</td>\n",
       "    </tr>\n",
       "    <tr>\n",
       "      <th>mean</th>\n",
       "      <td>5.505993e+08</td>\n",
       "      <td>3609.351057</td>\n",
       "      <td>6.437717</td>\n",
       "      <td>5.370263e+08</td>\n",
       "    </tr>\n",
       "    <tr>\n",
       "      <th>std</th>\n",
       "      <td>2.560610e+08</td>\n",
       "      <td>5379.331174</td>\n",
       "      <td>508.200101</td>\n",
       "      <td>2.596927e+08</td>\n",
       "    </tr>\n",
       "    <tr>\n",
       "      <th>min</th>\n",
       "      <td>1.015313e+08</td>\n",
       "      <td>-5790.983500</td>\n",
       "      <td>-12240.000000</td>\n",
       "      <td>1.019085e+08</td>\n",
       "    </tr>\n",
       "    <tr>\n",
       "      <th>25%</th>\n",
       "      <td>3.314502e+08</td>\n",
       "      <td>373.453932</td>\n",
       "      <td>-74.000000</td>\n",
       "      <td>3.114679e+08</td>\n",
       "    </tr>\n",
       "    <tr>\n",
       "      <th>50%</th>\n",
       "      <td>5.501698e+08</td>\n",
       "      <td>1686.009850</td>\n",
       "      <td>-28.700000</td>\n",
       "      <td>5.381491e+08</td>\n",
       "    </tr>\n",
       "    <tr>\n",
       "      <th>75%</th>\n",
       "      <td>7.682718e+08</td>\n",
       "      <td>5215.031852</td>\n",
       "      <td>-12.060000</td>\n",
       "      <td>7.485097e+08</td>\n",
       "    </tr>\n",
       "    <tr>\n",
       "      <th>max</th>\n",
       "      <td>9.997527e+08</td>\n",
       "      <td>46804.158837</td>\n",
       "      <td>12240.000000</td>\n",
       "      <td>9.997527e+08</td>\n",
       "    </tr>\n",
       "  </tbody>\n",
       "</table>\n",
       "</div>"
      ],
      "text/plain": [
       "         Account No        Balance         Amount  Third Party Account No\n",
       "count  2.303720e+05  230350.000000  230387.000000            6.832000e+03\n",
       "mean   5.505993e+08    3609.351057       6.437717            5.370263e+08\n",
       "std    2.560610e+08    5379.331174     508.200101            2.596927e+08\n",
       "min    1.015313e+08   -5790.983500  -12240.000000            1.019085e+08\n",
       "25%    3.314502e+08     373.453932     -74.000000            3.114679e+08\n",
       "50%    5.501698e+08    1686.009850     -28.700000            5.381491e+08\n",
       "75%    7.682718e+08    5215.031852     -12.060000            7.485097e+08\n",
       "max    9.997527e+08   46804.158837   12240.000000            9.997527e+08"
      ]
     },
     "execution_count": 2,
     "metadata": {},
     "output_type": "execute_result"
    }
   ],
   "source": [
    "##new dataset -2L records so no need to extract subset\n",
    "\n",
    "import pandas as pd\n",
    "\n",
    "# Read the dataset\n",
    "df = pd.read_csv('C:\\\\Users\\\\prane\\\\Documents\\\\Univ_of_Bristol\\\\mini-project\\\\simulated_transaction_2024.csv')\n",
    "print(df.shape)\n",
    "\n",
    "df.describe()\n"
   ]
  },
  {
   "cell_type": "code",
   "execution_count": 20,
   "id": "8b52e594",
   "metadata": {},
   "outputs": [
    {
     "name": "stdout",
     "output_type": "stream",
     "text": [
      "<class 'pandas.core.frame.DataFrame'>\n",
      "RangeIndex: 230596 entries, 0 to 230595\n",
      "Data columns (total 7 columns):\n",
      " #   Column                  Non-Null Count   Dtype  \n",
      "---  ------                  --------------   -----  \n",
      " 0   Date                    230367 non-null  object \n",
      " 1   Timestamp               230345 non-null  object \n",
      " 2   Account No              230372 non-null  float64\n",
      " 3   Balance                 230350 non-null  float64\n",
      " 4   Amount                  230387 non-null  float64\n",
      " 5   Third Party Account No  6832 non-null    float64\n",
      " 6   Third Party Name        223517 non-null  object \n",
      "dtypes: float64(4), object(3)\n",
      "memory usage: 12.3+ MB\n"
     ]
    }
   ],
   "source": [
    "df.info()"
   ]
  },
  {
   "cell_type": "code",
   "execution_count": 21,
   "id": "000d8b32",
   "metadata": {},
   "outputs": [
    {
     "data": {
      "text/plain": [
       "Date                         340\n",
       "Timestamp                   1401\n",
       "Account No                   976\n",
       "Balance                   229888\n",
       "Amount                     17314\n",
       "Third Party Account No       673\n",
       "Third Party Name              83\n",
       "dtype: int64"
      ]
     },
     "execution_count": 21,
     "metadata": {},
     "output_type": "execute_result"
    }
   ],
   "source": [
    "df.nunique()"
   ]
  },
  {
   "cell_type": "code",
   "execution_count": 3,
   "id": "9dcbe6de",
   "metadata": {},
   "outputs": [
    {
     "name": "stdout",
     "output_type": "stream",
     "text": [
      "Null values for features:\n",
      "Date:229\n",
      "Timestamp:251\n",
      "Account No:224\n",
      "Balance:246\n",
      "Amount:209\n",
      "Third Party Account No:223764\n",
      "Third Party Name:7079\n",
      "\n",
      "----------------------------------------------\n",
      "Shape of cleaned DataFrame: (229689, 7)\n",
      "Total records dropped for null values:907\n"
     ]
    }
   ],
   "source": [
    "# Check for null values\n",
    "print(\"Null values for features:\")\n",
    "print(\"Date:\" + str(df['Date'].isnull().sum()))\n",
    "print(\"Timestamp:\" + str(df['Timestamp'].isnull().sum()))\n",
    "print(\"Account No:\" + str(df['Account No'].isnull().sum()))\n",
    "print(\"Balance:\" + str(df['Balance'].isnull().sum()))\n",
    "print(\"Amount:\" + str(df['Amount'].isnull().sum()))\n",
    "print(\"Third Party Account No:\" + str(df['Third Party Account No'].isnull().sum()))\n",
    "print(\"Third Party Name:\" + str(df['Third Party Name'].isnull().sum()))\n",
    "print(\"\")\n",
    "print(\"----------------------------------------------\")\n",
    "\n",
    "# Remove records with null values for Date, Account No, Amount\n",
    "df_cleaned = df.dropna(subset=['Date', 'Account No', 'Amount'])\n",
    "\n",
    "# Remove records where both Third Party Account No and Third Party Name are null\n",
    "df_cleaned = df_cleaned.dropna(subset=['Third Party Account No', 'Third Party Name'], how='all')\n",
    "#print(df[(df['Third Party Account No'].isnull()) & (df['Third Party Name'].isnull())]) #247\n",
    "\n",
    "# Print the shape of the cleaned DataFrame\n",
    "print(\"Shape of cleaned DataFrame:\", df_cleaned.shape)\n",
    "#Original df shape: (230596, 7)\n",
    "print(\"Total records dropped for null values:\" + str(df.shape[0] - df_cleaned.shape[0]))"
   ]
  },
  {
   "cell_type": "code",
   "execution_count": 10,
   "id": "8861e70a",
   "metadata": {},
   "outputs": [],
   "source": [
    "#testing\n"
   ]
  },
  {
   "cell_type": "code",
   "execution_count": 71,
   "id": "5885b1d0",
   "metadata": {},
   "outputs": [
    {
     "name": "stdout",
     "output_type": "stream",
     "text": [
      "No unexpected values found in 'Date'.\n"
     ]
    }
   ],
   "source": [
    "# Check for non-date values in feature Date\n",
    "\n",
    "try:\n",
    "    pd.to_datetime(df_cleaned['Date'], format='%d/%m/%Y', errors='raise')\n",
    "    print(\"No unexpected values found in 'Date'.\")\n",
    "except ValueError as e:\n",
    "    print(f\"Unexpected values found in 'Date': {e}\")"
   ]
  },
  {
   "cell_type": "code",
   "execution_count": 43,
   "id": "1d3a3872",
   "metadata": {
    "scrolled": true
   },
   "outputs": [
    {
     "name": "stdout",
     "output_type": "stream",
     "text": [
      "[9]\n",
      "[3 9]\n"
     ]
    }
   ],
   "source": [
    "#Validating lengths of from account no's\n",
    "print(df_cleaned['Account No'].astype(str).str.split('.').str[0].apply(len).unique())\n",
    "print(df_cleaned['Third Party Account No'].astype(str).str.split('.').str[0].apply(len).unique())\n",
    "\n",
    "#print(df_cleaned[df_cleaned['Third Party Account No'].astype(str).str.split('.').str[0].apply(len) == 3])\n",
    "#Here 'Third Party Account No' has account no. len 3 for NaN values which is expected."
   ]
  },
  {
   "cell_type": "code",
   "execution_count": 46,
   "id": "15c73159",
   "metadata": {},
   "outputs": [
    {
     "name": "stdout",
     "output_type": "stream",
     "text": [
      "Blank values or special characters found in 'Third Party Name':\n",
      "['Rose & Crown' \"Blackwell's\" 'Coffee #1' 'Frankie & Bennies'\n",
      " 'Mamas & Papas']\n",
      "6274\n"
     ]
    }
   ],
   "source": [
    "# Validation for string values in Third Party Name: check if empty or special characters are present\n",
    "import re\n",
    "\n",
    "str_validation = df_cleaned['Third Party Name'][~df_cleaned['Third Party Name'].astype(str).str.match('^[a-zA-Z ]*$')]\n",
    "if not str_validation.empty:\n",
    "    print(\"Blank values or special characters found in 'Third Party Name':\")\n",
    "    print(str_validation.unique())\n",
    "    print(len(str_validation))\n",
    "else:\n",
    "    print(\"No blank values or special characters found in 'Third Party Name'.\")\n",
    "    \n",
    "#The values looks expected, so not dropping"
   ]
  },
  {
   "cell_type": "code",
   "execution_count": 48,
   "id": "f4413fe3",
   "metadata": {},
   "outputs": [
    {
     "data": {
      "text/plain": [
       "array(['Westport Care Home', 'Barbiee Boutique', nan, 'Fat Face',\n",
       "       'Lavender Primary', 'A Cut Above', 'Tesco', 'Brilliant Brushes',\n",
       "       'Costa Coffee', 'Premier Finance', 'North Face', 'Craftastic',\n",
       "       'Fitted Stitch', 'Selfridges', 'Starbucks', 'The Crown',\n",
       "       'Cass Art', 'Green Park Academy', 'Rose & Crown', 'Kings Arms',\n",
       "       'Sunny Care Nursery', 'A Yarn Story', 'Pets Corner',\n",
       "       'Lavender Fields', 'Victoria Park', 'Halifax', 'LBG', 'Blizzard',\n",
       "       'Xbox', 'Mojang Studios', 'PureGym', 'Disney', 'Netflix',\n",
       "       'Grand Union BJJ', 'Amazon', 'SquareOnix', 'Deliveroo', 'JustEat',\n",
       "       'Coop Local', 'Sainsbury', 'AMAZON', 'The Works', \"Blackwell's\",\n",
       "       'Topshop', 'Matalan', 'Foyles', 'Wool', 'Hobby Lobby', 'Revella',\n",
       "       'Sainsbury Local', 'Loosely Fitted', 'Stitch By Stitch',\n",
       "       'Coffee #1', 'Hobbycraft', 'Lloyds Pharmacy', 'Gamestation', 'CeX',\n",
       "       'Etsy', 'Five Senses Art', 'Sports Direct', 'Boots', 'Reebok',\n",
       "       'JD Sports', 'Head', 'Frankie & Bennies', 'Gap Kids',\n",
       "       'University College Hospital', 'CPA', 'Happy Days Home',\n",
       "       'Pets at Home', 'Jollyes', 'Collector Cave', 'Vision Express',\n",
       "       'Green Park', 'Remedy plus care', 'Town High', 'RugbyFields',\n",
       "       'Mamas & Papas', 'Specsavers', 'Kew House', 'HMV', 'Millets',\n",
       "       'Mothercare', 'Mountain Warehouse'], dtype=object)"
      ]
     },
     "execution_count": 48,
     "metadata": {},
     "output_type": "execute_result"
    }
   ],
   "source": [
    "#Distinct Third Party Name values for categorization\n",
    "\n",
    "df_cleaned['Third Party Name'].unique() #count=83"
   ]
  },
  {
   "cell_type": "code",
   "execution_count": null,
   "id": "77fde7fe",
   "metadata": {},
   "outputs": [],
   "source": [
    "Date                         340\n",
    "Timestamp                   1401\n",
    "Account No                   976\n",
    "Balance                   229888\n",
    "Amount                     17314\n",
    "Third Party Account No       673\n",
    "Third Party Name              83"
   ]
  },
  {
   "cell_type": "code",
   "execution_count": 67,
   "id": "2a284f4e",
   "metadata": {},
   "outputs": [
    {
     "name": "stdout",
     "output_type": "stream",
     "text": [
      "        Date Timestamp   Account No  Balance  Amount  Third Party Account No  \\\n",
      "0 2023-01-01     00:00  678330503.0   2971.0  1584.0                     NaN   \n",
      "1 2023-01-01     00:00  472213568.0   3792.0  1950.0                     NaN   \n",
      "2 2023-01-01     00:00  472213568.0   3012.0  -780.0             283027736.0   \n",
      "3 2023-01-01     00:00  283027736.0   1787.0   780.0             472213568.0   \n",
      "4 2023-01-01     00:00  624500124.0   3226.0  1825.0                     NaN   \n",
      "\n",
      "     Third Party Name  total_revenue_per_customer  \\\n",
      "0  Westport Care Home                     1267.32   \n",
      "1    Barbiee Boutique                    -2281.85   \n",
      "2                 NaN                    -2281.85   \n",
      "3                 NaN                    -1075.81   \n",
      "4            Fat Face                     2175.27   \n",
      "\n",
      "   total_transactions_per_customer  avg_revenue_per_transaction  total_days  \\\n",
      "0                              423                     2.996028         340   \n",
      "1                              213                   -10.712911         340   \n",
      "2                              213                   -10.712911         340   \n",
      "3                              205                    -5.247854         340   \n",
      "4                              350                     6.215057         340   \n",
      "\n",
      "   avg_transaction_frequency       clv  \n",
      "0                   1.244118  3.727412  \n",
      "1                   0.626471 -6.711324  \n",
      "2                   0.626471 -6.711324  \n",
      "3                   0.602941 -3.164147  \n",
      "4                   1.029412  6.397853  \n"
     ]
    }
   ],
   "source": [
    "#do not take as it should be relevant to business/classification as did earlier and not on overall transactions\n",
    "\n",
    "#Clustering: Based on Customer lifetime value (CLV)\n",
    "#CLV = avg revenue per transaction * avg transaction frequency\n",
    "\n",
    "df_clv = df_cleaned.copy()\n",
    "df_clv['Date'] = pd.to_datetime(df_clv['Date'], format='%d/%m/%Y')\n",
    "\n",
    "# Calculate total revenue per customer\n",
    "df_clv['total_revenue_per_customer'] = df_clv.groupby('Account No')['Amount'].transform('sum')\n",
    "\n",
    "# Calculate total number of transactions per customer\n",
    "df_clv['total_transactions_per_customer'] = df_clv.groupby('Account No').transform('size')\n",
    "\n",
    "# Calculate average revenue per transaction\n",
    "df_clv['avg_revenue_per_transaction'] = df_clv['total_revenue_per_customer'] / df_clv['total_transactions_per_customer']\n",
    "\n",
    "# Calculate average transaction frequency\n",
    "df_clv['total_days'] = (df_clv['Date'].max() - df_clv['Date'].min()).days + 1  # Total number of days in the dataset\n",
    "df_clv['avg_transaction_frequency'] = df_clv['total_transactions_per_customer'] / df_clv['total_days']\n",
    "\n",
    "# Calculate CLV\n",
    "df_clv['clv'] = df_clv['avg_revenue_per_transaction'] * df_clv['avg_transaction_frequency']\n",
    "\n",
    "print(df_clv.head())\n",
    "\n"
   ]
  },
  {
   "cell_type": "code",
   "execution_count": 69,
   "id": "26e657c4",
   "metadata": {},
   "outputs": [
    {
     "name": "stdout",
     "output_type": "stream",
     "text": [
      "['Westport Care Home' 'Barbiee Boutique' nan 'Fat Face' 'Lavender Primary'\n",
      " 'A Cut Above' 'Tesco' 'Brilliant Brushes' 'Costa Coffee'\n",
      " 'Premier Finance' 'North Face' 'Craftastic' 'Fitted Stitch' 'Selfridges'\n",
      " 'Starbucks' 'The Crown' 'Cass Art' 'Green Park Academy' 'Rose & Crown'\n",
      " 'Kings Arms' 'Sunny Care Nursery' 'A Yarn Story' 'Pets Corner'\n",
      " 'Lavender Fields' 'Victoria Park' 'Sainsbury' 'Hobby Lobby' 'Hobbycraft'\n",
      " 'Lloyds Pharmacy' 'Boots' 'University College Hospital' 'LBG' 'Head'\n",
      " 'CPA' 'Matalan' 'Happy Days Home' 'CeX' 'Pets at Home' 'Stitch By Stitch'\n",
      " 'Jollyes' 'Collector Cave' 'Vision Express' 'Green Park'\n",
      " 'Remedy plus care' 'Halifax' 'Gamestation' 'Grand Union BJJ']\n"
     ]
    }
   ],
   "source": [
    "#print(df_clv[df_clv['Account No'] == 678330503].groupby('Account No').size())\n",
    "\n",
    "#print(df_clv[df_clv['Account No'] == 678330503])\n",
    "\n",
    "test_df = df_cleaned[df_cleaned['Amount'] > 0]\n",
    "print(test_df['Third Party Name'].unique())\n"
   ]
  },
  {
   "cell_type": "code",
   "execution_count": null,
   "id": "0f7383ff",
   "metadata": {},
   "outputs": [],
   "source": []
  }
 ],
 "metadata": {
  "kernelspec": {
   "display_name": "Python 3 (ipykernel)",
   "language": "python",
   "name": "python3"
  },
  "language_info": {
   "codemirror_mode": {
    "name": "ipython",
    "version": 3
   },
   "file_extension": ".py",
   "mimetype": "text/x-python",
   "name": "python",
   "nbconvert_exporter": "python",
   "pygments_lexer": "ipython3",
   "version": "3.11.4"
  }
 },
 "nbformat": 4,
 "nbformat_minor": 5
}
