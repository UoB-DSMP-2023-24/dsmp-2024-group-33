{
 "cells": [
  {
   "cell_type": "code",
   "execution_count": 1,
   "id": "5fa1c640",
   "metadata": {},
   "outputs": [
    {
     "name": "stdout",
     "output_type": "stream",
     "text": [
      "   from_totally_fake_account  monopoly_money_amount  \\\n",
      "0                    10371.0                   4.00   \n",
      "1                    88339.0                   2.40   \n",
      "2                    18555.0                   2.40   \n",
      "3                    18555.0                   4.10   \n",
      "4                    80792.0                   1.95   \n",
      "\n",
      "  to_randomly_generated_account not_happened_yet_date  \n",
      "0                        CINEMA            01/01/2025  \n",
      "1                         40544            01/01/2025  \n",
      "2                         85149            01/01/2025  \n",
      "3           HIPSTER_COFFEE_SHOP            01/01/2025  \n",
      "4                         18555            01/01/2025  \n"
     ]
    }
   ],
   "source": [
    "from sklearn.cluster import KMeans\n",
    "import pandas as pd\n",
    "import matplotlib.pyplot as plt\n",
    "\n",
    "# Read file\n",
    "csv_file_path = '/Users/liwenxuan/data.csv'\n",
    "data = pd.read_csv(csv_file_path)\n",
    "print(data.head())"
   ]
  },
  {
   "cell_type": "code",
   "execution_count": 2,
   "id": "98f6fda4",
   "metadata": {},
   "outputs": [
    {
     "name": "stdout",
     "output_type": "stream",
     "text": [
      "   from_totally_fake_account  monopoly_money_amount  \\\n",
      "0                     1000.0                   8.99   \n",
      "1                     1000.0                   2.40   \n",
      "2                     1000.0                   2.55   \n",
      "3                     1000.0                   2.20   \n",
      "4                     1000.0                  13.06   \n",
      "\n",
      "  to_randomly_generated_account not_happened_yet_date  \n",
      "0             STREAMING_SERVICE            01/01/2025  \n",
      "1           GOURMET_COFFEE_SHOP            01/01/2025  \n",
      "2           GOURMET_COFFEE_SHOP            01/01/2025  \n",
      "3           A_LOCAL_COFFEE_SHOP            01/01/2025  \n",
      "4                     LOCAL_PUB            01/01/2025  \n"
     ]
    }
   ],
   "source": [
    "# Count the occurrences of each account\n",
    "account_counts = data['from_totally_fake_account'].value_counts()\n",
    "\n",
    "# Get the sorted list of accounts based on their occurrence counts\n",
    "sorted_accounts = account_counts.index.sort_values()\n",
    "\n",
    "# Create an empty list to store the grouped dataframes\n",
    "grouped_dfs = []\n",
    "\n",
    "# Iterate over each account and append the grouped dataframe to the list\n",
    "for account in sorted_accounts:\n",
    "    account_data = data[data['from_totally_fake_account'] == account]\n",
    "    grouped_dfs.append(account_data)\n",
    "\n",
    "# Concatenate the grouped dataframes into a single dataframe\n",
    "new_table = pd.concat(grouped_dfs)\n",
    "\n",
    "# Reset index\n",
    "new_table.reset_index(drop=True, inplace=True)\n",
    "\n",
    "# Print the new table\n",
    "print(new_table.head())"
   ]
  },
  {
   "cell_type": "code",
   "execution_count": 3,
   "id": "c4b076fb",
   "metadata": {},
   "outputs": [
    {
     "name": "stdout",
     "output_type": "stream",
     "text": [
      "      from_totally_fake_account  0-50  50-100  100-200  200-300  300-400  \\\n",
      "0                        1000.0  1667      27        4        0        0   \n",
      "1                        1002.0  1000      24        7        0       12   \n",
      "2                        1006.0  1800      29        0       12        0   \n",
      "3                        1018.0   749      29       15       12        0   \n",
      "4                        1053.0  1251      36       20        0       12   \n",
      "...                         ...   ...     ...      ...      ...      ...   \n",
      "8137                   100931.0  1614      29        9        0       12   \n",
      "8138                   100934.0  1026      47       26       12        0   \n",
      "8139                   100947.0  1499      48       38        1        0   \n",
      "8140                   100986.0   972      39       23        0        0   \n",
      "8141                   100988.0  1268      53       18       12        0   \n",
      "\n",
      "      400-500  500+  \n",
      "0           0    12  \n",
      "1           0     0  \n",
      "2           0     0  \n",
      "3           0     0  \n",
      "4           0     0  \n",
      "...       ...   ...  \n",
      "8137        0     0  \n",
      "8138        0     0  \n",
      "8139        0     0  \n",
      "8140        0     0  \n",
      "8141        0     0  \n",
      "\n",
      "[8142 rows x 8 columns]\n"
     ]
    }
   ],
   "source": [
    "import numpy as np\n",
    "\n",
    "# Define the bins for different spending ranges\n",
    "bins = [0, 50, 100, 200, 300, 400, 500, np.inf]\n",
    "labels = ['0-50', '50-100', '100-200', '200-300', '300-400', '400-500', '500+']\n",
    "\n",
    "# Create a new column to represent spending range\n",
    "data['Spending_Range'] = pd.cut(data['monopoly_money_amount'], bins=bins, labels=labels, right=False)\n",
    "\n",
    "# Group the data by account and spending range, then count the occurrences\n",
    "grouped_counts = data.groupby(['from_totally_fake_account', 'Spending_Range']).size().unstack(fill_value=0)\n",
    "\n",
    "# Reset index to make the dataframe flat\n",
    "grouped_counts.reset_index(inplace=True)\n",
    "\n",
    "# Rename the columns\n",
    "grouped_counts.columns.name = None\n",
    "\n",
    "# Display the table\n",
    "print(grouped_counts)"
   ]
  },
  {
   "cell_type": "code",
   "execution_count": 4,
   "id": "968ab70b",
   "metadata": {},
   "outputs": [
    {
     "name": "stderr",
     "output_type": "stream",
     "text": [
      "/var/folders/08/8xyjghbx4p34yd4h1myb66ph0000gn/T/ipykernel_56887/2067290956.py:2: UserWarning: Parsing dates in DD/MM/YYYY format when dayfirst=False (the default) was specified. This may lead to inconsistently parsed dates! Specify a format to ensure consistent parsing.\n",
      "  data['date'] = pd.to_datetime(data['not_happened_yet_date'])\n"
     ]
    },
    {
     "name": "stdout",
     "output_type": "stream",
     "text": [
      "       from_totally_fake_account  Month  Total_Spending  Max_Spending  \\\n",
      "0                         1000.0      1          999.16         57.96   \n",
      "1                         1000.0      2         4764.97       1960.00   \n",
      "2                         1000.0      3         2191.80       1125.00   \n",
      "3                         1000.0      4         1976.93       1000.00   \n",
      "4                         1000.0      5          950.09         54.31   \n",
      "...                          ...    ...             ...           ...   \n",
      "97699                   100988.0      8         1719.01        287.00   \n",
      "97700                   100988.0      9         1242.55        287.00   \n",
      "97701                   100988.0     10         1791.95        287.00   \n",
      "97702                   100988.0     11         2077.19        287.00   \n",
      "97703                   100988.0     12         2059.79        287.00   \n",
      "\n",
      "       Min_Spending  Average_Spending  \n",
      "0              1.45          6.244750  \n",
      "1              1.45         33.556127  \n",
      "2              1.45         16.604545  \n",
      "3              1.45         14.222518  \n",
      "4              1.45          6.738227  \n",
      "...             ...               ...  \n",
      "97699          1.80         15.770734  \n",
      "97700          1.80         15.153049  \n",
      "97701          1.45         17.066190  \n",
      "97702          1.45         15.736288  \n",
      "97703          1.80         14.404126  \n",
      "\n",
      "[97704 rows x 6 columns]\n"
     ]
    }
   ],
   "source": [
    "# Convert the 'date' column to datetime if it's not already\n",
    "data['date'] = pd.to_datetime(data['not_happened_yet_date'])\n",
    "\n",
    "# Extract month from the 'date' column\n",
    "data['Month'] = data['date'].dt.month\n",
    "\n",
    "# Group the data by account and month, then calculate total, max, min, and mean spending\n",
    "monthly_summary = data.groupby(['from_totally_fake_account', 'Month']).agg(\n",
    "    Total_Spending=('monopoly_money_amount', 'sum'),\n",
    "    Max_Spending=('monopoly_money_amount', 'max'),\n",
    "    Min_Spending=('monopoly_money_amount', 'min'),\n",
    "    Average_Spending=('monopoly_money_amount', 'mean')\n",
    ")\n",
    "\n",
    "# Reset index to make the dataframe flat\n",
    "monthly_summary.reset_index(inplace=True)\n",
    "\n",
    "# Display the table\n",
    "print(monthly_summary)"
   ]
  },
  {
   "cell_type": "code",
   "execution_count": 6,
   "id": "0f0330d6",
   "metadata": {},
   "outputs": [
    {
     "name": "stderr",
     "output_type": "stream",
     "text": [
      "/var/folders/08/8xyjghbx4p34yd4h1myb66ph0000gn/T/ipykernel_57015/781605027.py:11: UserWarning: Parsing dates in DD/MM/YYYY format when dayfirst=False (the default) was specified. This may lead to inconsistently parsed dates! Specify a format to ensure consistent parsing.\n",
      "  data['date'] = pd.to_datetime(data['not_happened_yet_date'])\n"
     ]
    },
    {
     "name": "stdout",
     "output_type": "stream",
     "text": [
      "Spending_Range1  from_totally_fake_account  Month  0-50  50-100  100-200  \\\n",
      "0                                   1000.0      1   158       2        0   \n",
      "1                                   1000.0      2   139       1        0   \n",
      "2                                   1000.0      3   129       1        1   \n",
      "3                                   1000.0      4   137       1        0   \n",
      "4                                   1000.0      5   139       2        0   \n",
      "...                                    ...    ...   ...     ...      ...   \n",
      "97699                             100988.0      8   101       5        2   \n",
      "97700                             100988.0      9    76       4        1   \n",
      "97701                             100988.0     10    95       7        2   \n",
      "97702                             100988.0     11   121       7        3   \n",
      "97703                             100988.0     12   133       8        1   \n",
      "\n",
      "Spending_Range1  200-300  300-400  400-500  500+  Total_Count  \n",
      "0                      0        0        0     0          160  \n",
      "1                      0        0        0     2          142  \n",
      "2                      0        0        0     1          132  \n",
      "3                      0        0        0     1          139  \n",
      "4                      0        0        0     0          141  \n",
      "...                  ...      ...      ...   ...          ...  \n",
      "97699                  1        0        0     0          109  \n",
      "97700                  1        0        0     0           82  \n",
      "97701                  1        0        0     0          105  \n",
      "97702                  1        0        0     0          132  \n",
      "97703                  1        0        0     0          143  \n",
      "\n",
      "[97704 rows x 10 columns]\n"
     ]
    }
   ],
   "source": [
    "import numpy as np\n",
    "import pandas as pd\n",
    "# Read file\n",
    "csv_file_path = '/Users/liwenxuan/data.csv'\n",
    "data = pd.read_csv(csv_file_path)\n",
    "# Define the bins for different spending ranges\n",
    "bins = [0, 50, 100, 200, 300, 400, 500, np.inf]\n",
    "labels = ['0-50', '50-100', '100-200', '200-300', '300-400', '400-500', '500+']\n",
    "\n",
    "# Convert the 'date' column to datetime if it's not already\n",
    "data['date'] = pd.to_datetime(data['not_happened_yet_date'])\n",
    "\n",
    "# Extract month from the 'date' column\n",
    "data['Month'] = data['date'].dt.month\n",
    "\n",
    "# Create a new column to represent spending range\n",
    "data['Spending_Range1'] = pd.cut(data['monopoly_money_amount'], bins=bins, labels=labels, right=False)\n",
    "\n",
    "# Group the data by account, month, and spending range, then count the occurrences\n",
    "grouped_counts1 = data.groupby(['from_totally_fake_account', 'Month', 'Spending_Range1']).size().unstack(fill_value=0)\n",
    "\n",
    "# Sum the counts of each spending range for each account and month\n",
    "grouped_counts1['Total_Count'] = grouped_counts1.sum(axis=1)\n",
    "\n",
    "# Reset index to make the dataframe flat\n",
    "grouped_counts1.reset_index(inplace=True)\n",
    "\n",
    "# Display the table\n",
    "print(grouped_counts1)"
   ]
  },
  {
   "cell_type": "code",
   "execution_count": null,
   "id": "4db37c67",
   "metadata": {},
   "outputs": [],
   "source": []
  }
 ],
 "metadata": {
  "kernelspec": {
   "display_name": "Python 3 (ipykernel)",
   "language": "python",
   "name": "python3"
  },
  "language_info": {
   "codemirror_mode": {
    "name": "ipython",
    "version": 3
   },
   "file_extension": ".py",
   "mimetype": "text/x-python",
   "name": "python",
   "nbconvert_exporter": "python",
   "pygments_lexer": "ipython3",
   "version": "3.11.4"
  }
 },
 "nbformat": 4,
 "nbformat_minor": 5
}
