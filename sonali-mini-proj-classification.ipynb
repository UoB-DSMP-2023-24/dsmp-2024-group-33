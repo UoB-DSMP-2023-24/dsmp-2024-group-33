{
 "cells": [
  {
   "cell_type": "code",
   "execution_count": 38,
   "id": "464d7adf",
   "metadata": {},
   "outputs": [
    {
     "name": "stdout",
     "output_type": "stream",
     "text": [
      "      from_totally_fake_account  monopoly_money_amount  \\\n",
      "0                       10371.0                   4.00   \n",
      "3                       18555.0                   4.10   \n",
      "5                       18555.0                   4.45   \n",
      "6                       18555.0                   1.45   \n",
      "7                       18555.0                   5.00   \n",
      "...                         ...                    ...   \n",
      "1000                    36145.0                   2.40   \n",
      "1001                    36145.0                   5.00   \n",
      "1002                    78197.0                   2.40   \n",
      "1003                    19566.0                   5.00   \n",
      "1004                    19566.0                   5.00   \n",
      "\n",
      "     to_randomly_generated_account not_happened_yet_date    predicted_label  \n",
      "0                           CINEMA            01/01/2025             CINEMA  \n",
      "3              HIPSTER_COFFEE_SHOP            01/01/2025               CAFE  \n",
      "5       TOTALLY_A_REAL_COFFEE_SHOP            01/01/2025               CAFE  \n",
      "6                      COFFEE_SHOP            01/01/2025               CAFE  \n",
      "7                             CAFE            01/01/2025               CAFE  \n",
      "...                            ...                   ...                ...  \n",
      "1000                   COFFEE_SHOP            01/01/2025               CAFE  \n",
      "1001          SECOND_HAND_BOOKSHOP            01/01/2025           BOOKSHOP  \n",
      "1002           A_LOCAL_COFFEE_SHOP            01/01/2025               CAFE  \n",
      "1003                    KEBAB_SHOP            01/01/2025           TAKEAWAY  \n",
      "1004                   KEBAB_SHOP2            01/01/2025  CONVENIENCE_STORE  \n",
      "\n",
      "[941 rows x 5 columns]\n"
     ]
    },
    {
     "name": "stderr",
     "output_type": "stream",
     "text": [
      "C:\\Users\\prane\\AppData\\Local\\Temp\\ipykernel_9788\\3496897032.py:29: SettingWithCopyWarning: \n",
      "A value is trying to be set on a copy of a slice from a DataFrame.\n",
      "Try using .loc[row_indexer,col_indexer] = value instead\n",
      "\n",
      "See the caveats in the documentation: https://pandas.pydata.org/pandas-docs/stable/user_guide/indexing.html#returning-a-view-versus-a-copy\n",
      "  df2_filtered['predicted_label'] = predictions\n"
     ]
    }
   ],
   "source": [
    "import pandas as pd\n",
    "from sklearn.model_selection import train_test_split\n",
    "from sklearn.ensemble import RandomForestClassifier\n",
    "from sklearn.metrics import accuracy_score, classification_report\n",
    "\n",
    "df1 = pd.read_csv('C:\\\\Users\\\\prane\\\\Documents\\\\Univ_of_Bristol\\\\mini-project\\\\my_data.csv')\n",
    "# One-hot encode categorical features (if any)\n",
    "df = pd.get_dummies(df1, columns=['to_randomly_generated_account'], prefix='', prefix_sep='')\n",
    "\n",
    "#print(df.iloc[:, 1:].columns)\n",
    "\n",
    "df2 = pd.read_csv('C:\\\\Users\\\\prane\\\\Documents\\\\Univ_of_Bristol\\\\mini-project\\\\dummy\\\\fake_transactional_data_24.csv')\n",
    "df2_filtered = df2[df2['to_randomly_generated_account'].astype(str).str.match('^[a-zA-Z_&]')]\n",
    "df2_encoded = pd.get_dummies(df2_filtered['to_randomly_generated_account'], columns=['to_randomly_generated_account'], prefix='', prefix_sep='')\n",
    "#print(df2_encoded)\n",
    "df2_encoded_sorted = df2_encoded.reindex(columns=df.iloc[:, 1:].columns, fill_value=0)\n",
    "\n",
    "# Assuming 'df' is your DataFrame with features and labels\n",
    "# Splitting the dataset into features (X) and labels (y)\n",
    "X = df.drop('label', axis=1)\n",
    "y = df['label']\n",
    "\n",
    "# Initialize and train the Random Forest model\n",
    "model = RandomForestClassifier()\n",
    "model.fit(X, y)\n",
    "\n",
    "# Predict on the test set\n",
    "predictions = model.predict(df2_encoded_sorted)\n",
    "df2_filtered['predicted_label'] = predictions\n",
    "print(df2_filtered)\n",
    "\n",
    "# Evaluate the model\n",
    "#accuracy = accuracy_score(y, predictions)\n",
    "#classification_rep = classification_report(y_test, predictions)\n",
    "#print(\"Model Evaluation:\")\n",
    "#print(f\"Accuracy: {accuracy:.2f}\")\n",
    "#print(\"Classification Report:\\n\", classification_rep)"
   ]
  },
  {
   "cell_type": "code",
   "execution_count": null,
   "id": "7d9d05b5",
   "metadata": {},
   "outputs": [],
   "source": []
  }
 ],
 "metadata": {
  "kernelspec": {
   "display_name": "Python 3 (ipykernel)",
   "language": "python",
   "name": "python3"
  },
  "language_info": {
   "codemirror_mode": {
    "name": "ipython",
    "version": 3
   },
   "file_extension": ".py",
   "mimetype": "text/x-python",
   "name": "python",
   "nbconvert_exporter": "python",
   "pygments_lexer": "ipython3",
   "version": "3.11.4"
  }
 },
 "nbformat": 4,
 "nbformat_minor": 5
}
