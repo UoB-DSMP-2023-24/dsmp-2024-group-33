{
 "cells": [
  {
   "cell_type": "code",
   "execution_count": null,
   "id": "ee9e5e25-2593-4fe2-b8ad-ca6566dcfdef",
   "metadata": {},
   "outputs": [],
   "source": []
  },
  {
   "cell_type": "code",
   "execution_count": null,
   "id": "5db956bd-e3ec-4b32-91d7-416b3cd32d0b",
   "metadata": {},
   "outputs": [],
   "source": [
    "# Customer Segmentation"
   ]
  },
  {
   "cell_type": "code",
   "execution_count": 1,
   "id": "1f6c929c-20e7-4865-848e-b128d5b06ca5",
   "metadata": {},
   "outputs": [],
   "source": [
    "import warnings\n",
    "warnings.filterwarnings('ignore')\n",
    "import pandas as pd\n",
    "import numpy as np\n",
    "import matplotlib.pyplot as plt\n",
    "import seaborn as sns\n",
    "%matplotlib inline"
   ]
  },
  {
   "cell_type": "code",
   "execution_count": 2,
   "id": "c7633e4b-a8a4-4de0-8138-37276bcdc9fe",
   "metadata": {},
   "outputs": [
    {
     "data": {
      "text/html": [
       "<div>\n",
       "<style scoped>\n",
       "    .dataframe tbody tr th:only-of-type {\n",
       "        vertical-align: middle;\n",
       "    }\n",
       "\n",
       "    .dataframe tbody tr th {\n",
       "        vertical-align: top;\n",
       "    }\n",
       "\n",
       "    .dataframe thead th {\n",
       "        text-align: right;\n",
       "    }\n",
       "</style>\n",
       "<table border=\"1\" class=\"dataframe\">\n",
       "  <thead>\n",
       "    <tr style=\"text-align: right;\">\n",
       "      <th></th>\n",
       "      <th>from_totally_fake_account</th>\n",
       "      <th>monopoly_money_amount</th>\n",
       "      <th>to_randomly_generated_account</th>\n",
       "      <th>not_happened_yet_date</th>\n",
       "    </tr>\n",
       "  </thead>\n",
       "  <tbody>\n",
       "    <tr>\n",
       "      <th>0</th>\n",
       "      <td>10371.0</td>\n",
       "      <td>4.00</td>\n",
       "      <td>CINEMA</td>\n",
       "      <td>01/01/2025</td>\n",
       "    </tr>\n",
       "    <tr>\n",
       "      <th>1</th>\n",
       "      <td>88339.0</td>\n",
       "      <td>2.40</td>\n",
       "      <td>40544</td>\n",
       "      <td>01/01/2025</td>\n",
       "    </tr>\n",
       "    <tr>\n",
       "      <th>2</th>\n",
       "      <td>18555.0</td>\n",
       "      <td>2.40</td>\n",
       "      <td>85149</td>\n",
       "      <td>01/01/2025</td>\n",
       "    </tr>\n",
       "    <tr>\n",
       "      <th>3</th>\n",
       "      <td>18555.0</td>\n",
       "      <td>4.10</td>\n",
       "      <td>HIPSTER_COFFEE_SHOP</td>\n",
       "      <td>01/01/2025</td>\n",
       "    </tr>\n",
       "    <tr>\n",
       "      <th>4</th>\n",
       "      <td>80792.0</td>\n",
       "      <td>1.95</td>\n",
       "      <td>18555</td>\n",
       "      <td>01/01/2025</td>\n",
       "    </tr>\n",
       "  </tbody>\n",
       "</table>\n",
       "</div>"
      ],
      "text/plain": [
       "   from_totally_fake_account  monopoly_money_amount  \\\n",
       "0                    10371.0                   4.00   \n",
       "1                    88339.0                   2.40   \n",
       "2                    18555.0                   2.40   \n",
       "3                    18555.0                   4.10   \n",
       "4                    80792.0                   1.95   \n",
       "\n",
       "  to_randomly_generated_account not_happened_yet_date  \n",
       "0                        CINEMA            01/01/2025  \n",
       "1                         40544            01/01/2025  \n",
       "2                         85149            01/01/2025  \n",
       "3           HIPSTER_COFFEE_SHOP            01/01/2025  \n",
       "4                         18555            01/01/2025  "
      ]
     },
     "execution_count": 2,
     "metadata": {},
     "output_type": "execute_result"
    }
   ],
   "source": [
    "## load data set\n",
    "data = pd.read_csv('fake_transactional_data_24.csv')\n",
    "## head\n",
    "data.head()"
   ]
  },
  {
   "cell_type": "code",
   "execution_count": 3,
   "id": "83daa150-8b36-443d-bb5d-2b5f1bc5d889",
   "metadata": {},
   "outputs": [
    {
     "data": {
      "text/plain": [
       "(10148280, 4)"
      ]
     },
     "execution_count": 3,
     "metadata": {},
     "output_type": "execute_result"
    }
   ],
   "source": [
    "data.shape"
   ]
  },
  {
   "cell_type": "code",
   "execution_count": null,
   "id": "2fdb50c9-7c4e-4050-9605-eb7fe85584f2",
   "metadata": {},
   "outputs": [],
   "source": []
  },
  {
   "cell_type": "code",
   "execution_count": 4,
   "id": "06f34be8-2822-4c43-a9e5-9ac1ee13488a",
   "metadata": {},
   "outputs": [],
   "source": [
    "## Segmentation by \" monopoly_money_amount \""
   ]
  },
  {
   "cell_type": "code",
   "execution_count": 5,
   "id": "4a1522c5-6c5e-49b2-9c9c-3e8509dc7b61",
   "metadata": {},
   "outputs": [
    {
     "data": {
      "text/plain": [
       "count    1.014828e+07\n",
       "mean     1.839348e+01\n",
       "std      8.612323e+01\n",
       "min      1.450000e+00\n",
       "25%      2.650000e+00\n",
       "50%      6.000000e+00\n",
       "75%      1.200000e+01\n",
       "max      1.995000e+03\n",
       "Name: monopoly_money_amount, dtype: float64"
      ]
     },
     "execution_count": 5,
     "metadata": {},
     "output_type": "execute_result"
    }
   ],
   "source": [
    "# Segmentation by Transaction Amount (Monopoly Money Amount)\n",
    "transaction_amount = data['monopoly_money_amount'].describe()\n",
    "transaction_amount"
   ]
  },
  {
   "cell_type": "code",
   "execution_count": 6,
   "id": "6c072de7-9cb2-4162-af34-a0487ff8d672",
   "metadata": {},
   "outputs": [
    {
     "data": {
      "text/plain": [
       "transaction_amount_segment\n",
       "Less         6750136\n",
       "Medium       2491669\n",
       "High          523920\n",
       "Very-High     382555\n",
       "Name: count, dtype: int64"
      ]
     },
     "execution_count": 6,
     "metadata": {},
     "output_type": "execute_result"
    }
   ],
   "source": [
    "# Segmentation for customers based on transaction amount ranges\n",
    "\n",
    "# bins for segmentation\n",
    "bins = [-float('inf'), 10, 30, 60, float('inf')] ##  dividing range of values based on monopoly amount\n",
    "labels = ['Less', 'Medium', 'High', 'Very-High']  ## grouping bins.\n",
    "\n",
    "# Create a new column for segment labels\n",
    "data['transaction_amount_segment'] = pd.cut(data['monopoly_money_amount'], bins=bins, labels=labels)\n",
    "## pd.cut()- segment and sort data values into bins\n",
    "\n",
    "## data['transaction_amount_segment']\n",
    "data['transaction_amount_segment'].value_counts()  ###count "
   ]
  },
  {
   "cell_type": "code",
   "execution_count": null,
   "id": "267d642d-9a22-4ddd-b1e3-fe5817c65fec",
   "metadata": {},
   "outputs": [],
   "source": []
  },
  {
   "cell_type": "code",
   "execution_count": 7,
   "id": "30eecd2a-f5ff-4755-9365-700a6a3dd791",
   "metadata": {},
   "outputs": [],
   "source": [
    "## Transactional frequency\n",
    "## total number of transactions of each account (Unique)"
   ]
  },
  {
   "cell_type": "code",
   "execution_count": 18,
   "id": "cceac987-61d2-47b0-a3ee-b86320ca2b6a",
   "metadata": {},
   "outputs": [
    {
     "data": {
      "text/plain": [
       "transaction_frequency_segment\n",
       "Occasional    5997920\n",
       "Frequent      4150360\n",
       "One-Time            0\n",
       "Name: count, dtype: int64"
      ]
     },
     "execution_count": 18,
     "metadata": {},
     "output_type": "execute_result"
    }
   ],
   "source": [
    "# Count the number of transactions per account\n",
    "transaction_frequency = data['from_totally_fake_account'].value_counts()\n",
    "\n",
    "# Define thresholds for segmentation\n",
    "lowfreq_threshold = 50  # Only one transaction\n",
    "highfreq_threshold = transaction_frequency.quantile(0.70)  # More than low frequwncy\n",
    "\n",
    "# Segment customers based on transaction frequency\n",
    "data['transaction_frequency_segment'] = pd.cut(data['from_totally_fake_account'].map(transaction_frequency), \n",
    "                                                bins=[-float('inf'), lowfreq_threshold, highfreq_threshold, float('inf')],\n",
    "                                                labels=['One-Time', 'Occasional', 'Frequent'])\n",
    "data['transaction_frequency_segment'].value_counts()\n",
    "#print(transaction_frequency)"
   ]
  },
  {
   "cell_type": "code",
   "execution_count": 20,
   "id": "147c1e5a-3f15-40da-a0f9-a084f1003640",
   "metadata": {},
   "outputs": [
    {
     "name": "stdout",
     "output_type": "stream",
     "text": [
      "Quartiles:\n",
      "0.00     436.0\n",
      "0.25     989.0\n",
      "0.50    1154.0\n",
      "0.75    1500.0\n",
      "1.00    2728.0\n",
      "Name: transaction_frequency, dtype: float64\n",
      "\n",
      "Segmented Customers:\n",
      "      from_totally_fake_account  transaction_frequency customer_segment\n",
      "0                        2331.0                   2728   Frequent Buyer\n",
      "1                       74448.0                   2679   Frequent Buyer\n",
      "2                       97033.0                   2665   Frequent Buyer\n",
      "3                       87324.0                   2619   Frequent Buyer\n",
      "4                       14877.0                   2503   Frequent Buyer\n",
      "...                         ...                    ...              ...\n",
      "8137                    30617.0                    537   One-Time Buyer\n",
      "8138                    22078.0                    524   One-Time Buyer\n",
      "8139                    68848.0                    513   One-Time Buyer\n",
      "8140                    19964.0                    504   One-Time Buyer\n",
      "8141                    55938.0                    436   One-Time Buyer\n",
      "\n",
      "[8142 rows x 3 columns]\n"
     ]
    }
   ],
   "source": [
    "# lets look deeper\n",
    "\n",
    "# Create a new DataFrame to store the transaction frequency for each account\n",
    "transaction_frequency_df = pd.DataFrame(transaction_frequency)\n",
    "transaction_frequency_df.reset_index(inplace=True)\n",
    "transaction_frequency_df.columns = ['from_totally_fake_account', 'transaction_frequency']\n",
    "\n",
    "# Segment customers based on transaction frequency\n",
    "# You can define your own thresholds for segmenting customers (e.g., frequent, occasional, one-time buyers)\n",
    "quartiles = transaction_frequency_df['transaction_frequency'].quantile([0.0,0.25, 0.5, 0.75,1.0])\n",
    "print(\"Quartiles:\")\n",
    "print(quartiles)\n",
    "\n",
    "def segment_customer(transaction_frequency):\n",
    "    if transaction_frequency <= quartiles[0.25]:\n",
    "        return 'One-Time Buyer'\n",
    "    elif transaction_frequency <= quartiles[0.5]:\n",
    "        return 'Occasional Buyer'\n",
    "    elif transaction_frequency <= quartiles[0.75]:\n",
    "        return 'Regular Buyer'\n",
    "    else:\n",
    "        return 'Frequent Buyer'\n",
    "\n",
    "# Apply the segmentation function to create a new column 'customer_segment'\n",
    "transaction_frequency_df['customer_segment'] = transaction_frequency_df['transaction_frequency'].apply(segment_customer)\n",
    "\n",
    "# Display the segmented customers\n",
    "print(\"\\nSegmented Customers:\")\n",
    "print(transaction_frequency_df)"
   ]
  },
  {
   "cell_type": "code",
   "execution_count": 21,
   "id": "54d567db-00e9-4d3b-a858-fe2c5da4f0d9",
   "metadata": {},
   "outputs": [
    {
     "data": {
      "text/html": [
       "<div>\n",
       "<style scoped>\n",
       "    .dataframe tbody tr th:only-of-type {\n",
       "        vertical-align: middle;\n",
       "    }\n",
       "\n",
       "    .dataframe tbody tr th {\n",
       "        vertical-align: top;\n",
       "    }\n",
       "\n",
       "    .dataframe thead th {\n",
       "        text-align: right;\n",
       "    }\n",
       "</style>\n",
       "<table border=\"1\" class=\"dataframe\">\n",
       "  <thead>\n",
       "    <tr style=\"text-align: right;\">\n",
       "      <th></th>\n",
       "      <th>from_totally_fake_account</th>\n",
       "      <th>transaction_frequency</th>\n",
       "      <th>customer_segment</th>\n",
       "    </tr>\n",
       "  </thead>\n",
       "  <tbody>\n",
       "    <tr>\n",
       "      <th>0</th>\n",
       "      <td>2331.0</td>\n",
       "      <td>2728</td>\n",
       "      <td>Frequent Buyer</td>\n",
       "    </tr>\n",
       "    <tr>\n",
       "      <th>1</th>\n",
       "      <td>74448.0</td>\n",
       "      <td>2679</td>\n",
       "      <td>Frequent Buyer</td>\n",
       "    </tr>\n",
       "    <tr>\n",
       "      <th>2</th>\n",
       "      <td>97033.0</td>\n",
       "      <td>2665</td>\n",
       "      <td>Frequent Buyer</td>\n",
       "    </tr>\n",
       "  </tbody>\n",
       "</table>\n",
       "</div>"
      ],
      "text/plain": [
       "   from_totally_fake_account  transaction_frequency customer_segment\n",
       "0                     2331.0                   2728   Frequent Buyer\n",
       "1                    74448.0                   2679   Frequent Buyer\n",
       "2                    97033.0                   2665   Frequent Buyer"
      ]
     },
     "execution_count": 21,
     "metadata": {},
     "output_type": "execute_result"
    }
   ],
   "source": [
    "transaction_frequency_df.head(3)\n",
    "#transaction_frequency_df.shape"
   ]
  },
  {
   "cell_type": "code",
   "execution_count": 17,
   "id": "f424911e-f608-4af8-af88-248e02bb774a",
   "metadata": {},
   "outputs": [
    {
     "data": {
      "text/html": [
       "<div>\n",
       "<style scoped>\n",
       "    .dataframe tbody tr th:only-of-type {\n",
       "        vertical-align: middle;\n",
       "    }\n",
       "\n",
       "    .dataframe tbody tr th {\n",
       "        vertical-align: top;\n",
       "    }\n",
       "\n",
       "    .dataframe thead th {\n",
       "        text-align: right;\n",
       "    }\n",
       "</style>\n",
       "<table border=\"1\" class=\"dataframe\">\n",
       "  <thead>\n",
       "    <tr style=\"text-align: right;\">\n",
       "      <th></th>\n",
       "      <th>from_totally_fake_account</th>\n",
       "      <th>monopoly_money_amount</th>\n",
       "      <th>to_randomly_generated_account</th>\n",
       "      <th>not_happened_yet_date</th>\n",
       "      <th>transaction_amount_segment</th>\n",
       "      <th>transaction_frequency_segment</th>\n",
       "    </tr>\n",
       "  </thead>\n",
       "  <tbody>\n",
       "    <tr>\n",
       "      <th>0</th>\n",
       "      <td>10371.0</td>\n",
       "      <td>4.00</td>\n",
       "      <td>CINEMA</td>\n",
       "      <td>01/01/2025</td>\n",
       "      <td>Less</td>\n",
       "      <td>Frequent</td>\n",
       "    </tr>\n",
       "    <tr>\n",
       "      <th>1</th>\n",
       "      <td>88339.0</td>\n",
       "      <td>2.40</td>\n",
       "      <td>40544</td>\n",
       "      <td>01/01/2025</td>\n",
       "      <td>Less</td>\n",
       "      <td>Occasional</td>\n",
       "    </tr>\n",
       "    <tr>\n",
       "      <th>2</th>\n",
       "      <td>18555.0</td>\n",
       "      <td>2.40</td>\n",
       "      <td>85149</td>\n",
       "      <td>01/01/2025</td>\n",
       "      <td>Less</td>\n",
       "      <td>Frequent</td>\n",
       "    </tr>\n",
       "    <tr>\n",
       "      <th>3</th>\n",
       "      <td>18555.0</td>\n",
       "      <td>4.10</td>\n",
       "      <td>HIPSTER_COFFEE_SHOP</td>\n",
       "      <td>01/01/2025</td>\n",
       "      <td>Less</td>\n",
       "      <td>Frequent</td>\n",
       "    </tr>\n",
       "    <tr>\n",
       "      <th>4</th>\n",
       "      <td>80792.0</td>\n",
       "      <td>1.95</td>\n",
       "      <td>18555</td>\n",
       "      <td>01/01/2025</td>\n",
       "      <td>Less</td>\n",
       "      <td>Occasional</td>\n",
       "    </tr>\n",
       "    <tr>\n",
       "      <th>...</th>\n",
       "      <td>...</td>\n",
       "      <td>...</td>\n",
       "      <td>...</td>\n",
       "      <td>...</td>\n",
       "      <td>...</td>\n",
       "      <td>...</td>\n",
       "    </tr>\n",
       "    <tr>\n",
       "      <th>10148275</th>\n",
       "      <td>32185.0</td>\n",
       "      <td>2.65</td>\n",
       "      <td>COFFEE_SHOP</td>\n",
       "      <td>31/12/2025</td>\n",
       "      <td>Less</td>\n",
       "      <td>Occasional</td>\n",
       "    </tr>\n",
       "    <tr>\n",
       "      <th>10148276</th>\n",
       "      <td>32185.0</td>\n",
       "      <td>2.45</td>\n",
       "      <td>COFFEE_SHOP</td>\n",
       "      <td>31/12/2025</td>\n",
       "      <td>Less</td>\n",
       "      <td>Occasional</td>\n",
       "    </tr>\n",
       "    <tr>\n",
       "      <th>10148277</th>\n",
       "      <td>57569.0</td>\n",
       "      <td>14.00</td>\n",
       "      <td>WINE_BAR</td>\n",
       "      <td>31/12/2025</td>\n",
       "      <td>Medium</td>\n",
       "      <td>Occasional</td>\n",
       "    </tr>\n",
       "    <tr>\n",
       "      <th>10148278</th>\n",
       "      <td>1490.0</td>\n",
       "      <td>9.00</td>\n",
       "      <td>57569</td>\n",
       "      <td>31/12/2025</td>\n",
       "      <td>Less</td>\n",
       "      <td>Frequent</td>\n",
       "    </tr>\n",
       "    <tr>\n",
       "      <th>10148279</th>\n",
       "      <td>53444.0</td>\n",
       "      <td>2.65</td>\n",
       "      <td>A_LOCAL_COFFEE_SHOP</td>\n",
       "      <td>31/12/2025</td>\n",
       "      <td>Less</td>\n",
       "      <td>Occasional</td>\n",
       "    </tr>\n",
       "  </tbody>\n",
       "</table>\n",
       "<p>10148280 rows × 6 columns</p>\n",
       "</div>"
      ],
      "text/plain": [
       "          from_totally_fake_account  monopoly_money_amount  \\\n",
       "0                           10371.0                   4.00   \n",
       "1                           88339.0                   2.40   \n",
       "2                           18555.0                   2.40   \n",
       "3                           18555.0                   4.10   \n",
       "4                           80792.0                   1.95   \n",
       "...                             ...                    ...   \n",
       "10148275                    32185.0                   2.65   \n",
       "10148276                    32185.0                   2.45   \n",
       "10148277                    57569.0                  14.00   \n",
       "10148278                     1490.0                   9.00   \n",
       "10148279                    53444.0                   2.65   \n",
       "\n",
       "         to_randomly_generated_account not_happened_yet_date  \\\n",
       "0                               CINEMA            01/01/2025   \n",
       "1                                40544            01/01/2025   \n",
       "2                                85149            01/01/2025   \n",
       "3                  HIPSTER_COFFEE_SHOP            01/01/2025   \n",
       "4                                18555            01/01/2025   \n",
       "...                                ...                   ...   \n",
       "10148275                   COFFEE_SHOP            31/12/2025   \n",
       "10148276                   COFFEE_SHOP            31/12/2025   \n",
       "10148277                      WINE_BAR            31/12/2025   \n",
       "10148278                         57569            31/12/2025   \n",
       "10148279           A_LOCAL_COFFEE_SHOP            31/12/2025   \n",
       "\n",
       "         transaction_amount_segment transaction_frequency_segment  \n",
       "0                              Less                      Frequent  \n",
       "1                              Less                    Occasional  \n",
       "2                              Less                      Frequent  \n",
       "3                              Less                      Frequent  \n",
       "4                              Less                    Occasional  \n",
       "...                             ...                           ...  \n",
       "10148275                       Less                    Occasional  \n",
       "10148276                       Less                    Occasional  \n",
       "10148277                     Medium                    Occasional  \n",
       "10148278                       Less                      Frequent  \n",
       "10148279                       Less                    Occasional  \n",
       "\n",
       "[10148280 rows x 6 columns]"
      ]
     },
     "execution_count": 17,
     "metadata": {},
     "output_type": "execute_result"
    }
   ],
   "source": [
    "data"
   ]
  },
  {
   "cell_type": "code",
   "execution_count": null,
   "id": "34dff3bc-2d0d-4cb8-83f2-e53dd6500615",
   "metadata": {},
   "outputs": [],
   "source": []
  },
  {
   "cell_type": "code",
   "execution_count": 23,
   "id": "b410c5d2-abb4-4e0f-abc3-bbc17874cf81",
   "metadata": {},
   "outputs": [
    {
     "name": "stdout",
     "output_type": "stream",
     "text": [
      "Frequency of transactions for account 80792.0: 950\n"
     ]
    }
   ],
   "source": [
    "\n",
    "# Specify the account number for which you want to get the frequency\n",
    "required_account_number = 80792.0\t  # Example account number, replace with the desired account number\n",
    "\n",
    "# Filter the DataFrame for the required account number\n",
    "required_account_data = data[data['from_totally_fake_account'] == required_account_number]\n",
    "\n",
    "# Count the frequency of transactions for the required account\n",
    "transaction_frequency = len(required_account_data)\n",
    "\n",
    "# Display the frequency of transactions for the required account\n",
    "print(f\"Frequency of transactions for account {required_account_number}: {transaction_frequency}\")"
   ]
  },
  {
   "cell_type": "code",
   "execution_count": null,
   "id": "efc352dc-a7f9-49ed-a5a7-b4c0bd8f36c7",
   "metadata": {},
   "outputs": [],
   "source": []
  },
  {
   "cell_type": "code",
   "execution_count": null,
   "id": "b4df5c80-bce3-48e2-8ec9-ff5df8f7ee16",
   "metadata": {},
   "outputs": [],
   "source": []
  },
  {
   "cell_type": "code",
   "execution_count": null,
   "id": "1e590828-b9f3-468a-a407-f43e0022dfcf",
   "metadata": {},
   "outputs": [],
   "source": [
    "## Segmentation by Account Type (To Randomly Generated Account):"
   ]
  },
  {
   "cell_type": "code",
   "execution_count": 24,
   "id": "3c00233e-e25c-4909-89e6-d0622dff8bc1",
   "metadata": {},
   "outputs": [
    {
     "data": {
      "text/plain": [
       "to_randomly_generated_account\n",
       "PUB                           834380\n",
       "BAR                           770414\n",
       "LOCAL_WATERING_HOLE           649043\n",
       "COFFEE_SHOP                   476099\n",
       "TOTALLY_A_REAL_COFFEE_SHOP    476064\n",
       "                               ...  \n",
       "74519                              2\n",
       "24699                              2\n",
       "1243                               2\n",
       "95337                              2\n",
       "20594                              1\n",
       "Name: count, Length: 14300, dtype: int64"
      ]
     },
     "execution_count": 24,
     "metadata": {},
     "output_type": "execute_result"
    }
   ],
   "source": [
    "# Count the number of transactions for each account type\n",
    "account_type_counts = data['to_randomly_generated_account'].value_counts()\n",
    "account_type_counts"
   ]
  },
  {
   "cell_type": "code",
   "execution_count": null,
   "id": "6a6bf827-5c03-48b4-9ba7-6c7fd7c9a51d",
   "metadata": {},
   "outputs": [],
   "source": []
  },
  {
   "cell_type": "code",
   "execution_count": null,
   "id": "0b87fb50-a2a6-43d6-b72c-0f9e4048d842",
   "metadata": {},
   "outputs": [],
   "source": []
  },
  {
   "cell_type": "code",
   "execution_count": 26,
   "id": "461c2f1c-e6a4-46bc-8d0c-63e74b1b4e8f",
   "metadata": {},
   "outputs": [],
   "source": [
    "## Segmentation based on dates"
   ]
  },
  {
   "cell_type": "code",
   "execution_count": 28,
   "id": "f6eb3324-3eef-4a9f-a9c8-dd74ab25062e",
   "metadata": {},
   "outputs": [
    {
     "name": "stdout",
     "output_type": "stream",
     "text": [
      "         not_happened_yet_date  day_of_week day_segment  month month_segment\n",
      "0                   2025-01-01            2     Weekday      1        Winter\n",
      "1                   2025-01-01            2     Weekday      1        Winter\n",
      "2                   2025-01-01            2     Weekday      1        Winter\n",
      "3                   2025-01-01            2     Weekday      1        Winter\n",
      "4                   2025-01-01            2     Weekday      1        Winter\n",
      "...                        ...          ...         ...    ...           ...\n",
      "10148275            2025-12-31            2     Weekday     12        Winter\n",
      "10148276            2025-12-31            2     Weekday     12        Winter\n",
      "10148277            2025-12-31            2     Weekday     12        Winter\n",
      "10148278            2025-12-31            2     Weekday     12        Winter\n",
      "10148279            2025-12-31            2     Weekday     12        Winter\n",
      "\n",
      "[10148280 rows x 5 columns]\n"
     ]
    }
   ],
   "source": [
    "\n",
    "# Convert 'not_happened_yet_date' column to datetime format\n",
    "data['not_happened_yet_date'] = pd.to_datetime(data['not_happened_yet_date'], format='%d/%m/%Y')\n",
    "\n",
    "# Extract day of the week and month from the date\n",
    "data['day_of_week'] = data['not_happened_yet_date'].dt.dayofweek  # Monday=0, Sunday=6\n",
    "data['month'] = data['not_happened_yet_date'].dt.month\n",
    "\n",
    "# Perform segmentation based on day of the week\n",
    "# Define segmentation criteria (e.g., weekend vs. weekday)\n",
    "def segment_by_day_of_week(day):\n",
    "    if day in [5, 6]:  # Saturday or Sunday\n",
    "        return 'Weekend'\n",
    "    else:\n",
    "        return 'Weekday'\n",
    "\n",
    "data['day_segment'] = data['day_of_week'].apply(segment_by_day_of_week)\n",
    "\n",
    "# Perform segmentation based on month (e.g., seasonal segmentation)\n",
    "# Define segmentation criteria (e.g., summer vs. winter)\n",
    "def segment_by_month(month):\n",
    "    if month in [6, 7, 8]:  # June, July, August (summer months)\n",
    "        return 'Summer'\n",
    "    elif month in [12, 1, 2]:  # December, January, February (winter months)\n",
    "        return 'Winter'\n",
    "    else:\n",
    "        return 'Other'\n",
    "\n",
    "data['month_segment'] = data['month'].apply(segment_by_month)\n",
    "\n",
    "# Display segmented data\n",
    "print(data[['not_happened_yet_date', 'day_of_week', 'day_segment', 'month', 'month_segment']])\n"
   ]
  },
  {
   "cell_type": "code",
   "execution_count": null,
   "id": "363256a5-baf7-4636-8bc4-4807120a3f87",
   "metadata": {},
   "outputs": [],
   "source": []
  },
  {
   "cell_type": "code",
   "execution_count": null,
   "id": "11be0a69-8f4f-4cb7-9603-1670e6658637",
   "metadata": {},
   "outputs": [],
   "source": []
  },
  {
   "cell_type": "code",
   "execution_count": 27,
   "id": "203e7f60-9678-4e81-a52c-dcd746fca0b8",
   "metadata": {},
   "outputs": [
    {
     "data": {
      "image/png": "[encoded data removed]",
      "text/plain": [
       "<Figure size 1200x500 with 2 Axes>"
      ]
     },
     "metadata": {},
     "output_type": "display_data"
    }
   ],
   "source": [
    "import matplotlib.pyplot as plt\n",
    "\n",
    "# Calculate total transaction amounts for each day of the week\n",
    "day_of_week_totals = data.groupby('day_of_week')['monopoly_money_amount'].sum()\n",
    "\n",
    "# Calculate total transaction amounts for each month of the year\n",
    "month_totals = data.groupby('month')['monopoly_money_amount'].sum()\n",
    "\n",
    "# Define day of the week labels\n",
    "day_labels = ['Monday', 'Tuesday', 'Wednesday', 'Thursday', 'Friday', 'Saturday', 'Sunday']\n",
    "\n",
    "# Plot bar chart for total transaction amounts by day of the week\n",
    "plt.figure(figsize=(12, 5))\n",
    "plt.subplot(1, 2, 1)\n",
    "day_of_week_totals.plot(kind='bar', color='skyblue')\n",
    "plt.title('Total Transaction Amount by Day of the Week')\n",
    "plt.xlabel('Day of the Week')\n",
    "plt.ylabel('Total Transaction Amount')\n",
    "plt.xticks(range(7), day_labels)\n",
    "\n",
    "# Plot bar chart for total transaction amounts by month\n",
    "plt.subplot(1, 2, 2)\n",
    "month_totals.plot(kind='bar', color='lightgreen')\n",
    "plt.title('Total Transaction Amount by Month')\n",
    "plt.xlabel('Month')\n",
    "plt.ylabel('Total Transaction Amount')\n",
    "plt.xticks(range(12), range(1, 13))  # Months are indexed from 1 to 12\n",
    "\n",
    "plt.tight_layout()\n",
    "plt.show()\n"
   ]
  },
  {
   "cell_type": "code",
   "execution_count": null,
   "id": "ce64db42-c956-40ac-8048-106068b68bcb",
   "metadata": {},
   "outputs": [],
   "source": []
  }
 ],
 "metadata": {
  "kernelspec": {
   "display_name": "Python 3 (ipykernel)",
   "language": "python",
   "name": "python3"
  },
  "language_info": {
   "codemirror_mode": {
    "name": "ipython",
    "version": 3
   },
   "file_extension": ".py",
   "mimetype": "text/x-python",
   "name": "python",
   "nbconvert_exporter": "python",
   "pygments_lexer": "ipython3",
   "version": "3.11.5"
  }
 },
 "nbformat": 4,
 "nbformat_minor": 5
}
