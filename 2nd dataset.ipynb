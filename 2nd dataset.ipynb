{
 "cells": [
  {
   "cell_type": "code",
   "execution_count": null,
   "id": "c4c26c58",
   "metadata": {},
   "outputs": [],
   "source": []
  },
  {
   "cell_type": "code",
   "execution_count": null,
   "id": "7516fd24",
   "metadata": {},
   "outputs": [],
   "source": []
  },
  {
   "cell_type": "code",
   "execution_count": null,
   "id": "d7f5e5d9",
   "metadata": {},
   "outputs": [],
   "source": []
  },
  {
   "cell_type": "code",
   "execution_count": 1,
   "id": "adcf2f90",
   "metadata": {},
   "outputs": [
    {
     "data": {
      "text/html": [
       "<div>\n",
       "<style scoped>\n",
       "    .dataframe tbody tr th:only-of-type {\n",
       "        vertical-align: middle;\n",
       "    }\n",
       "\n",
       "    .dataframe tbody tr th {\n",
       "        vertical-align: top;\n",
       "    }\n",
       "\n",
       "    .dataframe thead th {\n",
       "        text-align: right;\n",
       "    }\n",
       "</style>\n",
       "<table border=\"1\" class=\"dataframe\">\n",
       "  <thead>\n",
       "    <tr style=\"text-align: right;\">\n",
       "      <th></th>\n",
       "      <th>Date</th>\n",
       "      <th>Timestamp</th>\n",
       "      <th>Account No</th>\n",
       "      <th>Balance</th>\n",
       "      <th>Amount</th>\n",
       "      <th>Third Party Account No</th>\n",
       "      <th>Third Party Name</th>\n",
       "    </tr>\n",
       "  </thead>\n",
       "  <tbody>\n",
       "    <tr>\n",
       "      <th>0</th>\n",
       "      <td>01/01/2023</td>\n",
       "      <td>00:00</td>\n",
       "      <td>678330503.0</td>\n",
       "      <td>2971.0</td>\n",
       "      <td>1584.0</td>\n",
       "      <td>NaN</td>\n",
       "      <td>Westport Care Home</td>\n",
       "    </tr>\n",
       "    <tr>\n",
       "      <th>1</th>\n",
       "      <td>01/01/2023</td>\n",
       "      <td>00:00</td>\n",
       "      <td>472213568.0</td>\n",
       "      <td>3792.0</td>\n",
       "      <td>1950.0</td>\n",
       "      <td>NaN</td>\n",
       "      <td>Barbiee Boutique</td>\n",
       "    </tr>\n",
       "    <tr>\n",
       "      <th>2</th>\n",
       "      <td>01/01/2023</td>\n",
       "      <td>00:00</td>\n",
       "      <td>472213568.0</td>\n",
       "      <td>3012.0</td>\n",
       "      <td>-780.0</td>\n",
       "      <td>283027736.0</td>\n",
       "      <td>NaN</td>\n",
       "    </tr>\n",
       "    <tr>\n",
       "      <th>3</th>\n",
       "      <td>01/01/2023</td>\n",
       "      <td>00:00</td>\n",
       "      <td>283027736.0</td>\n",
       "      <td>1787.0</td>\n",
       "      <td>780.0</td>\n",
       "      <td>472213568.0</td>\n",
       "      <td>NaN</td>\n",
       "    </tr>\n",
       "    <tr>\n",
       "      <th>4</th>\n",
       "      <td>01/01/2023</td>\n",
       "      <td>00:00</td>\n",
       "      <td>624500124.0</td>\n",
       "      <td>3226.0</td>\n",
       "      <td>1825.0</td>\n",
       "      <td>NaN</td>\n",
       "      <td>Fat Face</td>\n",
       "    </tr>\n",
       "  </tbody>\n",
       "</table>\n",
       "</div>"
      ],
      "text/plain": [
       "         Date Timestamp   Account No  Balance  Amount  Third Party Account No  \\\n",
       "0  01/01/2023     00:00  678330503.0   2971.0  1584.0                     NaN   \n",
       "1  01/01/2023     00:00  472213568.0   3792.0  1950.0                     NaN   \n",
       "2  01/01/2023     00:00  472213568.0   3012.0  -780.0             283027736.0   \n",
       "3  01/01/2023     00:00  283027736.0   1787.0   780.0             472213568.0   \n",
       "4  01/01/2023     00:00  624500124.0   3226.0  1825.0                     NaN   \n",
       "\n",
       "     Third Party Name  \n",
       "0  Westport Care Home  \n",
       "1    Barbiee Boutique  \n",
       "2                 NaN  \n",
       "3                 NaN  \n",
       "4            Fat Face  "
      ]
     },
     "execution_count": 1,
     "metadata": {},
     "output_type": "execute_result"
    }
   ],
   "source": [
    "import warnings\n",
    "warnings.filterwarnings('ignore')\n",
    "import pandas as pd\n",
    "import numpy as np\n",
    "import matplotlib.pyplot as plt\n",
    "import seaborn as sns\n",
    "%matplotlib inline\n",
    "\n",
    "# Load the dataset\n",
    "data = pd.read_csv('simulated_transaction_2024.csv')\n",
    "data.head()"
   ]
  },
  {
   "cell_type": "code",
   "execution_count": 2,
   "id": "0f0b66f2",
   "metadata": {},
   "outputs": [
    {
     "name": "stdout",
     "output_type": "stream",
     "text": [
      "<class 'pandas.core.frame.DataFrame'>\n",
      "RangeIndex: 230596 entries, 0 to 230595\n",
      "Data columns (total 7 columns):\n",
      " #   Column                  Non-Null Count   Dtype  \n",
      "---  ------                  --------------   -----  \n",
      " 0   Date                    230367 non-null  object \n",
      " 1   Timestamp               230345 non-null  object \n",
      " 2   Account No              230372 non-null  float64\n",
      " 3   Balance                 230350 non-null  float64\n",
      " 4   Amount                  230387 non-null  float64\n",
      " 5   Third Party Account No  6832 non-null    float64\n",
      " 6   Third Party Name        223517 non-null  object \n",
      "dtypes: float64(4), object(3)\n",
      "memory usage: 12.3+ MB\n"
     ]
    }
   ],
   "source": [
    "data.info()"
   ]
  },
  {
   "cell_type": "code",
   "execution_count": 3,
   "id": "890b892d",
   "metadata": {},
   "outputs": [
    {
     "data": {
      "text/plain": [
       "(230596, 7)"
      ]
     },
     "execution_count": 3,
     "metadata": {},
     "output_type": "execute_result"
    }
   ],
   "source": [
    "data.shape"
   ]
  },
  {
   "cell_type": "code",
   "execution_count": 4,
   "id": "2813040d",
   "metadata": {},
   "outputs": [
    {
     "data": {
      "text/plain": [
       "Index(['Date', 'Timestamp', 'Account No', 'Balance', 'Amount',\n",
       "       'Third Party Account No', 'Third Party Name'],\n",
       "      dtype='object')"
      ]
     },
     "execution_count": 4,
     "metadata": {},
     "output_type": "execute_result"
    }
   ],
   "source": [
    "data.columns"
   ]
  },
  {
   "cell_type": "code",
   "execution_count": 5,
   "id": "55d03c33",
   "metadata": {},
   "outputs": [
    {
     "data": {
      "text/plain": [
       "Date                       object\n",
       "Timestamp                  object\n",
       "Account No                float64\n",
       "Balance                   float64\n",
       "Amount                    float64\n",
       "Third Party Account No    float64\n",
       "Third Party Name           object\n",
       "dtype: object"
      ]
     },
     "execution_count": 5,
     "metadata": {},
     "output_type": "execute_result"
    }
   ],
   "source": [
    "data.dtypes"
   ]
  },
  {
   "cell_type": "code",
   "execution_count": 6,
   "id": "04194698",
   "metadata": {},
   "outputs": [
    {
     "data": {
      "text/html": [
       "<div>\n",
       "<style scoped>\n",
       "    .dataframe tbody tr th:only-of-type {\n",
       "        vertical-align: middle;\n",
       "    }\n",
       "\n",
       "    .dataframe tbody tr th {\n",
       "        vertical-align: top;\n",
       "    }\n",
       "\n",
       "    .dataframe thead th {\n",
       "        text-align: right;\n",
       "    }\n",
       "</style>\n",
       "<table border=\"1\" class=\"dataframe\">\n",
       "  <thead>\n",
       "    <tr style=\"text-align: right;\">\n",
       "      <th></th>\n",
       "      <th>Account No</th>\n",
       "      <th>Balance</th>\n",
       "      <th>Amount</th>\n",
       "      <th>Third Party Account No</th>\n",
       "    </tr>\n",
       "  </thead>\n",
       "  <tbody>\n",
       "    <tr>\n",
       "      <th>count</th>\n",
       "      <td>2.303720e+05</td>\n",
       "      <td>230350.000000</td>\n",
       "      <td>230387.000000</td>\n",
       "      <td>6.832000e+03</td>\n",
       "    </tr>\n",
       "    <tr>\n",
       "      <th>mean</th>\n",
       "      <td>5.505993e+08</td>\n",
       "      <td>3609.351057</td>\n",
       "      <td>6.437717</td>\n",
       "      <td>5.370263e+08</td>\n",
       "    </tr>\n",
       "    <tr>\n",
       "      <th>std</th>\n",
       "      <td>2.560610e+08</td>\n",
       "      <td>5379.331174</td>\n",
       "      <td>508.200101</td>\n",
       "      <td>2.596927e+08</td>\n",
       "    </tr>\n",
       "    <tr>\n",
       "      <th>min</th>\n",
       "      <td>1.015313e+08</td>\n",
       "      <td>-5790.983500</td>\n",
       "      <td>-12240.000000</td>\n",
       "      <td>1.019085e+08</td>\n",
       "    </tr>\n",
       "    <tr>\n",
       "      <th>25%</th>\n",
       "      <td>3.314502e+08</td>\n",
       "      <td>373.453932</td>\n",
       "      <td>-74.000000</td>\n",
       "      <td>3.114679e+08</td>\n",
       "    </tr>\n",
       "    <tr>\n",
       "      <th>50%</th>\n",
       "      <td>5.501698e+08</td>\n",
       "      <td>1686.009850</td>\n",
       "      <td>-28.700000</td>\n",
       "      <td>5.381491e+08</td>\n",
       "    </tr>\n",
       "    <tr>\n",
       "      <th>75%</th>\n",
       "      <td>7.682718e+08</td>\n",
       "      <td>5215.031852</td>\n",
       "      <td>-12.060000</td>\n",
       "      <td>7.485097e+08</td>\n",
       "    </tr>\n",
       "    <tr>\n",
       "      <th>max</th>\n",
       "      <td>9.997527e+08</td>\n",
       "      <td>46804.158837</td>\n",
       "      <td>12240.000000</td>\n",
       "      <td>9.997527e+08</td>\n",
       "    </tr>\n",
       "  </tbody>\n",
       "</table>\n",
       "</div>"
      ],
      "text/plain": [
       "         Account No        Balance         Amount  Third Party Account No\n",
       "count  2.303720e+05  230350.000000  230387.000000            6.832000e+03\n",
       "mean   5.505993e+08    3609.351057       6.437717            5.370263e+08\n",
       "std    2.560610e+08    5379.331174     508.200101            2.596927e+08\n",
       "min    1.015313e+08   -5790.983500  -12240.000000            1.019085e+08\n",
       "25%    3.314502e+08     373.453932     -74.000000            3.114679e+08\n",
       "50%    5.501698e+08    1686.009850     -28.700000            5.381491e+08\n",
       "75%    7.682718e+08    5215.031852     -12.060000            7.485097e+08\n",
       "max    9.997527e+08   46804.158837   12240.000000            9.997527e+08"
      ]
     },
     "execution_count": 6,
     "metadata": {},
     "output_type": "execute_result"
    }
   ],
   "source": [
    "data.describe()"
   ]
  },
  {
   "cell_type": "code",
   "execution_count": 7,
   "id": "782f3693",
   "metadata": {},
   "outputs": [
    {
     "data": {
      "text/plain": [
       "Date                         229\n",
       "Timestamp                    251\n",
       "Account No                   224\n",
       "Balance                      246\n",
       "Amount                       209\n",
       "Third Party Account No    223764\n",
       "Third Party Name            7079\n",
       "dtype: int64"
      ]
     },
     "execution_count": 7,
     "metadata": {},
     "output_type": "execute_result"
    }
   ],
   "source": [
    "data.isnull().sum()"
   ]
  },
  {
   "cell_type": "code",
   "execution_count": 8,
   "id": "f55a1452",
   "metadata": {},
   "outputs": [
    {
     "data": {
      "image/png": "[encoded data removed]",
      "text/plain": [
       "<Figure size 1400x700 with 1 Axes>"
      ]
     },
     "metadata": {},
     "output_type": "display_data"
    }
   ],
   "source": [
    "# Visualize missing values as a heatmap\n",
    "plt.figure(figsize=(14, 7))\n",
    "sns.heatmap(data.isnull(), cbar=False, cmap='viridis')\n",
    "plt.title('Heatmap of Missing Values in Data')\n",
    "plt.show()"
   ]
  },
  {
   "cell_type": "code",
   "execution_count": 9,
   "id": "a1c5c147",
   "metadata": {},
   "outputs": [
    {
     "data": {
      "text/plain": [
       "Date                       0.099308\n",
       "Timestamp                  0.108848\n",
       "Account No                 0.097140\n",
       "Balance                    0.106680\n",
       "Amount                     0.090635\n",
       "Third Party Account No    97.037243\n",
       "Third Party Name           3.069871\n",
       "dtype: float64"
      ]
     },
     "execution_count": 9,
     "metadata": {},
     "output_type": "execute_result"
    }
   ],
   "source": [
    "# Calculate the percentage of null values for each column\n",
    "data.isnull().mean() * 100"
   ]
  },
  {
   "cell_type": "code",
   "execution_count": null,
   "id": "78324e75",
   "metadata": {},
   "outputs": [],
   "source": []
  },
  {
   "cell_type": "markdown",
   "id": "585e1ba0",
   "metadata": {},
   "source": [
    "### i want to to check the number of transactions of other users, to get more details"
   ]
  },
  {
   "cell_type": "code",
   "execution_count": 10,
   "id": "652281bf",
   "metadata": {},
   "outputs": [
    {
     "data": {
      "text/html": [
       "<div>\n",
       "<style scoped>\n",
       "    .dataframe tbody tr th:only-of-type {\n",
       "        vertical-align: middle;\n",
       "    }\n",
       "\n",
       "    .dataframe tbody tr th {\n",
       "        vertical-align: top;\n",
       "    }\n",
       "\n",
       "    .dataframe thead th {\n",
       "        text-align: right;\n",
       "    }\n",
       "</style>\n",
       "<table border=\"1\" class=\"dataframe\">\n",
       "  <thead>\n",
       "    <tr style=\"text-align: right;\">\n",
       "      <th></th>\n",
       "      <th>Account No</th>\n",
       "      <th>Number of Transactions</th>\n",
       "    </tr>\n",
       "  </thead>\n",
       "  <tbody>\n",
       "    <tr>\n",
       "      <th>0</th>\n",
       "      <td>101531259.0</td>\n",
       "      <td>123</td>\n",
       "    </tr>\n",
       "    <tr>\n",
       "      <th>1</th>\n",
       "      <td>104832000.0</td>\n",
       "      <td>164</td>\n",
       "    </tr>\n",
       "    <tr>\n",
       "      <th>2</th>\n",
       "      <td>105375973.0</td>\n",
       "      <td>158</td>\n",
       "    </tr>\n",
       "    <tr>\n",
       "      <th>3</th>\n",
       "      <td>106601471.0</td>\n",
       "      <td>193</td>\n",
       "    </tr>\n",
       "    <tr>\n",
       "      <th>4</th>\n",
       "      <td>108481285.0</td>\n",
       "      <td>368</td>\n",
       "    </tr>\n",
       "  </tbody>\n",
       "</table>\n",
       "</div>"
      ],
      "text/plain": [
       "    Account No  Number of Transactions\n",
       "0  101531259.0                     123\n",
       "1  104832000.0                     164\n",
       "2  105375973.0                     158\n",
       "3  106601471.0                     193\n",
       "4  108481285.0                     368"
      ]
     },
     "execution_count": 10,
     "metadata": {},
     "output_type": "execute_result"
    }
   ],
   "source": [
    "# Grouping the dataset by 'Account No' and counting the number of transactions for each account\n",
    "transactions_per_user = data.groupby('Account No').size()\n",
    "\n",
    "# Converting the series to a DataFrame for better readability\n",
    "transactions_per_user_df = transactions_per_user.reset_index(name='Number of Transactions')\n",
    "\n",
    "# Displaying the first few rows to verify\n",
    "transactions_per_user_df.head()"
   ]
  },
  {
   "cell_type": "code",
   "execution_count": 11,
   "id": "19b23361",
   "metadata": {},
   "outputs": [
    {
     "data": {
      "text/plain": [
       "236.03688524590163"
      ]
     },
     "execution_count": 11,
     "metadata": {},
     "output_type": "execute_result"
    }
   ],
   "source": [
    "# finding average number of transactions of all users\n",
    "average_transactions_per_user = transactions_per_user.mean()\n",
    "\n",
    "average_transactions_per_user"
   ]
  },
  {
   "cell_type": "markdown",
   "id": "b08a399f",
   "metadata": {},
   "source": [
    "### we have 224 missing values in account number, i think we can create a random account number"
   ]
  },
  {
   "cell_type": "code",
   "execution_count": 12,
   "id": "0815ef79",
   "metadata": {},
   "outputs": [
    {
     "data": {
      "text/plain": [
       "(999752673, 0)"
      ]
     },
     "execution_count": 12,
     "metadata": {},
     "output_type": "execute_result"
    }
   ],
   "source": [
    "# Generate a unique account number\n",
    "# Assuming account numbers are numeric, we'll find a number not present in the current dataset\n",
    "\n",
    "existing_account_numbers = pd.to_numeric(data['Account No'], errors='coerce').dropna().unique()\n",
    "new_account_number = int(max(existing_account_numbers) + 1)\n",
    "\n",
    "# Replace null values in the \"Account No\" column with the new account number\n",
    "data['Account No'].fillna(new_account_number, inplace=True)\n",
    "\n",
    "# Verify that there are no longer null values in the \"Account No\" column\n",
    "verification_result = data['Account No'].isnull().sum()\n",
    "\n",
    "new_account_number, verification_result"
   ]
  },
  {
   "cell_type": "code",
   "execution_count": 13,
   "id": "bb2fdf94",
   "metadata": {},
   "outputs": [
    {
     "data": {
      "text/plain": [
       "Date                         229\n",
       "Timestamp                    251\n",
       "Account No                     0\n",
       "Balance                      246\n",
       "Amount                       209\n",
       "Third Party Account No    223764\n",
       "Third Party Name            7079\n",
       "dtype: int64"
      ]
     },
     "execution_count": 13,
     "metadata": {},
     "output_type": "execute_result"
    }
   ],
   "source": [
    "data.isnull().sum() ## no missing values found in account number"
   ]
  },
  {
   "cell_type": "code",
   "execution_count": 14,
   "id": "fb772125",
   "metadata": {},
   "outputs": [
    {
     "name": "stdout",
     "output_type": "stream",
     "text": [
      "              Date Timestamp   Account No       Balance   Amount  \\\n",
      "527     01/01/2023     00:00  999752673.0    813.000000 -1143.00   \n",
      "1295    01/01/2023     00:00  999752673.0   2284.030000   -18.99   \n",
      "1335    01/01/2023     00:00  999752673.0   1542.030000   -18.99   \n",
      "1563    01/01/2023     00:00  999752673.0   3351.010000   -15.99   \n",
      "1703    01/01/2023     00:00  999752673.0   3785.780000   -18.99   \n",
      "...            ...       ...          ...           ...      ...   \n",
      "223332  30/11/2023     23:59  999752673.0  -1043.893200    -7.99   \n",
      "223657  30/11/2023     23:59  999752673.0  11517.049529   -15.99   \n",
      "226353  30/11/2023     23:59  999752673.0  -1692.102105   -15.99   \n",
      "229119  04/12/2023     10:03  999752673.0   2619.340104  -225.37   \n",
      "230360  06/12/2023     11:34  999752673.0     30.958899  -111.36   \n",
      "\n",
      "        Third Party Account No Third Party Name  \n",
      "527                        NaN          Halifax  \n",
      "1295                       NaN          PureGym  \n",
      "1335                       NaN          PureGym  \n",
      "1563                       NaN          Netflix  \n",
      "1703                       NaN          PureGym  \n",
      "...                        ...              ...  \n",
      "223332                     NaN           Disney  \n",
      "223657                     NaN          Netflix  \n",
      "226353                     NaN          Netflix  \n",
      "229119                     NaN          Topshop  \n",
      "230360                     NaN    Fitted Stitch  \n",
      "\n",
      "[224 rows x 7 columns]\n"
     ]
    }
   ],
   "source": [
    "print(data[(data['Account No'] == 999752673)  ])"
   ]
  },
  {
   "cell_type": "code",
   "execution_count": 15,
   "id": "a70e8910",
   "metadata": {},
   "outputs": [],
   "source": [
    "## float to integer\n",
    "data['Account No'] = data['Account No'].astype(int)"
   ]
  },
  {
   "cell_type": "code",
   "execution_count": 16,
   "id": "f534c5a8",
   "metadata": {},
   "outputs": [],
   "source": [
    "# Convert 'Third Party Account No' to nullable integer type\n",
    "data['Third Party Account No'] = data['Third Party Account No'].astype('Int64')"
   ]
  },
  {
   "cell_type": "code",
   "execution_count": 17,
   "id": "0c32ae7e",
   "metadata": {},
   "outputs": [],
   "source": [
    "# Fill missing values in 'Third Party Identifier' with values from 'Third Party Name'\n",
    "data['Third Party'] = data['Third Party Name']\n",
    "\n",
    "# Fill remaining missing values in 'Third Party Identifier' with values from 'Third Party Account No'\n",
    "data.loc[data['Third Party'].isnull(), 'Third Party'] = data['Third Party Account No']\n",
    "\n",
    "# Convert 'Third Party Identifier' column to string type\n",
    "data['Third Party'] = data['Third Party'].astype(str)\n",
    "\n",
    "# Drop the original 'Third Party Account No' and 'Third Party Name' columns\n",
    "data.drop(columns=['Third Party Account No', 'Third Party Name'], inplace=True)\n"
   ]
  },
  {
   "cell_type": "code",
   "execution_count": 18,
   "id": "33832fd7",
   "metadata": {
    "scrolled": true
   },
   "outputs": [
    {
     "data": {
      "text/plain": [
       "Date           229\n",
       "Timestamp      251\n",
       "Account No       0\n",
       "Balance        246\n",
       "Amount         209\n",
       "Third Party      0\n",
       "dtype: int64"
      ]
     },
     "execution_count": 18,
     "metadata": {},
     "output_type": "execute_result"
    }
   ],
   "source": [
    "data.isnull().sum()"
   ]
  },
  {
   "cell_type": "code",
   "execution_count": 19,
   "id": "9d9b8442",
   "metadata": {},
   "outputs": [
    {
     "data": {
      "text/plain": [
       "977"
      ]
     },
     "execution_count": 19,
     "metadata": {},
     "output_type": "execute_result"
    }
   ],
   "source": [
    "data['Account No'].nunique() ## total no.of users"
   ]
  },
  {
   "cell_type": "code",
   "execution_count": 20,
   "id": "44aa5b21",
   "metadata": {},
   "outputs": [],
   "source": [
    "## find unique and similarities"
   ]
  },
  {
   "cell_type": "code",
   "execution_count": 21,
   "id": "64a1cdbb",
   "metadata": {},
   "outputs": [
    {
     "data": {
      "text/plain": [
       "Date              340\n",
       "Timestamp        1401\n",
       "Account No        977\n",
       "Balance        229888\n",
       "Amount          17314\n",
       "Third Party       757\n",
       "dtype: int64"
      ]
     },
     "execution_count": 21,
     "metadata": {},
     "output_type": "execute_result"
    }
   ],
   "source": [
    "data.nunique()"
   ]
  },
  {
   "cell_type": "markdown",
   "id": "3355da7f",
   "metadata": {},
   "source": [
    "1. Date and Timestamp\n",
    "Method Used: Forward Fill\n",
    "Why?\n",
    "Both the Date and Timestamp fields are critical for maintaining the sequence and continuity in time series data.\n",
    "Forward fill is appropriate here because it assumes that the missing date or timestamp can reasonably be replaced by the last known value, which is a common practice in time-sensitive data to maintain alignment in time series analysis.\n",
    "This method helps avoid introducing artificial discontinuities in the time sequence, which could occur if we interpolated times or used backward fill."
   ]
  },
  {
   "cell_type": "code",
   "execution_count": 36,
   "id": "08beb693",
   "metadata": {},
   "outputs": [
    {
     "name": "stdout",
     "output_type": "stream",
     "text": [
      "Date                0\n",
      "Timestamp           0\n",
      "Account No          0\n",
      "Balance             0\n",
      "Amount              0\n",
      "Third Party         0\n",
      "Transaction Type    0\n",
      "dtype: int64\n"
     ]
    }
   ],
   "source": [
    "# Fill missing Date and Timestamp\n",
    "data['Date'] = data['Date'].fillna(method='ffill')\n",
    "data['Timestamp'] = data['Timestamp'].fillna(method='ffill')\n",
    "\n",
    "# Interpolate missing values for Balance and Amount\n",
    "#data['Balance'] = data['Balance'].interpolate(method='linear')\n",
    "#data['Amount'] = data['Amount'].interpolate(method='linear')\n",
    "# Check for remaining missing values\n",
    "print(data.isnull().sum())\n"
   ]
  },
  {
   "cell_type": "code",
   "execution_count": 23,
   "id": "858aed4a",
   "metadata": {},
   "outputs": [],
   "source": [
    "# Convert the 'not_happened_yet_date' column to datetime\n",
    "data['Date'] = pd.to_datetime(data['Date'], format='%d/%m/%Y')"
   ]
  },
  {
   "cell_type": "markdown",
   "id": "5a2fae96",
   "metadata": {},
   "source": [
    "## how to impute amount and balance column \n",
    "\n",
    "## analyze the relationship between transaction direction (debit/credit) and balance:\n",
    "1. Segment the Data\n",
    "2. Statistical Summary\n",
    "3. Visual Analysis"
   ]
  },
  {
   "cell_type": "code",
   "execution_count": 24,
   "id": "34c98fdd",
   "metadata": {},
   "outputs": [],
   "source": [
    "# Identify debits and credits\n",
    "debits = data[data['Amount'] < 0]\n",
    "credits = data[data['Amount'] > 0]"
   ]
  },
  {
   "cell_type": "code",
   "execution_count": 25,
   "id": "276d312e",
   "metadata": {},
   "outputs": [
    {
     "name": "stdout",
     "output_type": "stream",
     "text": [
      "Debit Statistics:\n",
      " count    219720.000000\n",
      "mean       3614.063005\n",
      "std        5413.275727\n",
      "min       -5790.983500\n",
      "25%         353.936729\n",
      "50%        1655.662325\n",
      "75%        5270.588609\n",
      "max       46184.158837\n",
      "Name: Balance, dtype: float64\n",
      "\n",
      "Credit Statistics:\n",
      " count    10412.000000\n",
      "mean      3504.925524\n",
      "std       4583.028230\n",
      "min      -4678.910000\n",
      "25%        868.477202\n",
      "50%       2137.070230\n",
      "75%       4362.312796\n",
      "max      46804.158837\n",
      "Name: Balance, dtype: float64\n"
     ]
    }
   ],
   "source": [
    "# Calculate statistics for debits and credits\n",
    "debit_stats = debits['Balance'].describe()\n",
    "credit_stats = credits['Balance'].describe()\n",
    "\n",
    "print(\"Debit Statistics:\\n\", debit_stats)\n",
    "print(\"\\nCredit Statistics:\\n\", credit_stats)"
   ]
  },
  {
   "cell_type": "code",
   "execution_count": 26,
   "id": "af03b6d8",
   "metadata": {
    "scrolled": true
   },
   "outputs": [
    {
     "data": {
      "image/png": "[encoded data removed]",
      "text/plain": [
       "<Figure size 1000x600 with 1 Axes>"
      ]
     },
     "metadata": {},
     "output_type": "display_data"
    }
   ],
   "source": [
    "import matplotlib.pyplot as plt\n",
    "import seaborn as sns\n",
    "\n",
    "# Label the transactions as debit or credit\n",
    "data['Transaction Type'] = ['Credit' if amt > 0 else 'Debit' for amt in data['Amount']]\n",
    "\n",
    "# Plotting the distribution of Balances for debits and credits\n",
    "plt.figure(figsize=(10, 6))\n",
    "sns.boxplot(x='Transaction Type', y='Balance', data=data)\n",
    "plt.title('Balance Distribution for Debits and Credits')\n",
    "plt.xlabel('Transaction Type')\n",
    "plt.ylabel('Balance')\n",
    "plt.show()"
   ]
  },
  {
   "cell_type": "code",
   "execution_count": 37,
   "id": "cb6eb289",
   "metadata": {},
   "outputs": [],
   "source": [
    "# Interpolate missing values for Balance and Amount\n",
    "data['Balance'] = data['Balance'].interpolate(method='linear')\n",
    "data['Amount'] = data['Amount'].interpolate(method='linear')"
   ]
  },
  {
   "cell_type": "code",
   "execution_count": 35,
   "id": "084a28c9",
   "metadata": {},
   "outputs": [
    {
     "data": {
      "text/plain": [
       "Date                0\n",
       "Timestamp           0\n",
       "Account No          0\n",
       "Balance             0\n",
       "Amount              0\n",
       "Third Party         0\n",
       "Transaction Type    0\n",
       "dtype: int64"
      ]
     },
     "execution_count": 35,
     "metadata": {},
     "output_type": "execute_result"
    }
   ],
   "source": [
    "data.isnull().sum()"
   ]
  },
  {
   "cell_type": "code",
   "execution_count": 38,
   "id": "4525045d",
   "metadata": {},
   "outputs": [],
   "source": [
    "# nearest integer/ rounding\n",
    "data['Balance'] = data['Balance'].round().astype(int)\n",
    "data['Amount'] = data['Amount'].round().astype(int)"
   ]
  },
  {
   "cell_type": "code",
   "execution_count": null,
   "id": "9110e307",
   "metadata": {},
   "outputs": [],
   "source": []
  },
  {
   "cell_type": "code",
   "execution_count": null,
   "id": "49c7dea2",
   "metadata": {},
   "outputs": [],
   "source": []
  },
  {
   "cell_type": "code",
   "execution_count": null,
   "id": "cd7b41fa",
   "metadata": {},
   "outputs": [],
   "source": [
    "# Plot the distribution of transaction amounts\n",
    "plt.figure(figsize=(10, 3))\n",
    "sns.histplot(data['Amount'], bins=50, kde=True)\n",
    "plt.title('Distribution of Transaction Amounts')\n",
    "plt.xlabel('Amount')\n",
    "plt.ylabel('Frequency')\n",
    "plt.show()"
   ]
  },
  {
   "cell_type": "code",
   "execution_count": null,
   "id": "9679ce5e",
   "metadata": {},
   "outputs": [],
   "source": [
    "# Plot the distribution of account balances\n",
    "plt.figure(figsize=(10,3))\n",
    "sns.histplot(data['Balance'], bins=50, kde=True)\n",
    "plt.title('Distribution of Account Balances')\n",
    "plt.xlabel('Balance')\n",
    "plt.ylabel('Frequency')\n",
    "plt.show()"
   ]
  },
  {
   "cell_type": "code",
   "execution_count": null,
   "id": "a55002b0",
   "metadata": {},
   "outputs": [],
   "source": [
    "plt.figure(figsize=(3,3))\n",
    "sns.boxplot(y=data['Balance'], color='purple')\n",
    "plt.title('Distribution of Account Balances', fontsize=16)\n",
    "plt.ylabel('Balance', fontsize=14)\n",
    "plt.grid(True)\n",
    "plt.show()"
   ]
  },
  {
   "cell_type": "code",
   "execution_count": null,
   "id": "944a3e1e",
   "metadata": {},
   "outputs": [],
   "source": [
    "top_parties = data['Third Party'].value_counts().head(10)\n",
    "\n",
    "plt.figure(figsize=(7,3))\n",
    "sns.barplot(x=top_parties.values, y=top_parties.index, palette='viridis')\n",
    "plt.title('Top 10 Third Parties by Transaction Frequency', fontsize=16)\n",
    "plt.xlabel('Number of Transactions', fontsize=14)\n",
    "plt.ylabel('Third Party', fontsize=14)\n",
    "plt.grid(True, axis='x')\n",
    "plt.show()"
   ]
  },
  {
   "cell_type": "code",
   "execution_count": null,
   "id": "7a9d8b56",
   "metadata": {},
   "outputs": [],
   "source": []
  },
  {
   "cell_type": "code",
   "execution_count": null,
   "id": "b98f6004",
   "metadata": {},
   "outputs": [],
   "source": [
    "# Extract day of the week and hour from the 'Date' and 'Timestamp'\n",
    "data['Day of Week'] = data['Date'].dt.day_name()\n",
    "#data['Hour'] = pd.to_datetime(data['Timestamp'], format='%H:%M').dt.hour\n",
    "\n",
    "# Create a binary feature for transaction direction\n",
    "data['Transaction Direction'] = np.where(data['Amount'] >= 0, 'Credit', 'Debit')\n",
    "\n",
    "# Display the updated DataFrame\n",
    "data[['Date', 'Timestamp', 'Day of Week', 'Transaction Direction']].head()"
   ]
  },
  {
   "cell_type": "markdown",
   "id": "a8117a9f",
   "metadata": {},
   "source": [
    "## Transactions that are several standard deviations away from the mean might be considered suspicious:\n",
    "- Transactions that are several standard deviations away from the mean might be considered suspicious:"
   ]
  },
  {
   "cell_type": "code",
   "execution_count": null,
   "id": "57aa305f",
   "metadata": {},
   "outputs": [],
   "source": [
    "# Calculate the mean and standard deviation\n",
    "mean_amount = data['Amount'].mean()\n",
    "std_amount = data['Amount'].std()\n",
    "\n",
    "# Identify outliers as transactions that are more than 3 standard deviations from the mean\n",
    "outliers = data[np.abs(data['Amount'] - mean_amount) > 3 * std_amount]\n",
    "\n",
    "# Display outliers\n",
    "outliers[['Date', 'Amount', 'Account No', 'Third Party', 'Transaction Direction']]"
   ]
  },
  {
   "cell_type": "markdown",
   "id": "9b9b1144",
   "metadata": {},
   "source": [
    "## transactions occurring repeatedly at the same time to the same third party, which could indicate automated or scripted fraud:\n",
    "- more than 5 times"
   ]
  },
  {
   "cell_type": "code",
   "execution_count": null,
   "id": "0a3c92db",
   "metadata": {
    "scrolled": true
   },
   "outputs": [],
   "source": [
    "# Group by account number, third party, and hour to see repetitive patterns\n",
    "repetitive_patterns = data.groupby(['Account No', 'Third Party', 'Timestamp']).size().reset_index(name='Count')\n",
    "\n",
    "# Filter for patterns that occur more than a threshold, e.g., more than 5 times\n",
    "suspicious_patterns = repetitive_patterns[repetitive_patterns['Count'] > 5]\n",
    "\n",
    "# Display suspicious repetitive patterns\n",
    "suspicious_patterns\n"
   ]
  },
  {
   "cell_type": "code",
   "execution_count": null,
   "id": "0d2269bb",
   "metadata": {},
   "outputs": [],
   "source": []
  },
  {
   "cell_type": "markdown",
   "id": "4b282c0d",
   "metadata": {},
   "source": [
    "## Visualisations"
   ]
  },
  {
   "cell_type": "code",
   "execution_count": null,
   "id": "3a029e25",
   "metadata": {},
   "outputs": [],
   "source": [
    "import seaborn as sns\n",
    "import matplotlib.pyplot as plt\n",
    "\n",
    "# Plot transaction amounts for outliers\n",
    "plt.figure(figsize=(10, 6))\n",
    "sns.scatterplot(x='Date', y='Amount', hue='Transaction Direction', data=outliers)\n",
    "plt.title('Outlier Transactions Over Time')\n",
    "plt.xlabel('Date')\n",
    "plt.ylabel('Transaction Amount')\n",
    "plt.show()"
   ]
  },
  {
   "cell_type": "code",
   "execution_count": null,
   "id": "f6745f2b",
   "metadata": {},
   "outputs": [],
   "source": [
    "import seaborn as sns\n",
    "import matplotlib.pyplot as plt\n",
    "\n",
    "# Plot transaction amounts for potential outliers\n",
    "plt.figure(figsize=(10, 6))\n",
    "sns.scatterplot(x='Date', y='Amount', hue='Transaction Direction', style='Day of Week', data=data)\n",
    "plt.title('Transaction Amounts Over Time')\n",
    "plt.xlabel('Date')\n",
    "plt.ylabel('Transaction Amount')\n",
    "plt.show()\n"
   ]
  },
  {
   "cell_type": "code",
   "execution_count": null,
   "id": "1c4458fc",
   "metadata": {},
   "outputs": [],
   "source": [
    "# Create pairplot for selected columns to visualize relationships and distributions\n",
    "sns.pairplot(data[['Amount', 'Balance', 'Transaction Direction']], hue='Transaction Direction', plot_kws={'alpha': 0.5})\n",
    "plt.suptitle('Pairplot of Transactions', size=16, y=1.02)\n",
    "plt.show()"
   ]
  },
  {
   "cell_type": "code",
   "execution_count": null,
   "id": "95825f33",
   "metadata": {},
   "outputs": [],
   "source": [
    "##"
   ]
  },
  {
   "cell_type": "code",
   "execution_count": null,
   "id": "afb5d9c4",
   "metadata": {},
   "outputs": [],
   "source": [
    "# Create individual scatter plots instead of a pairplot to avoid issues with KDE and non-numeric data types\n",
    "fig, axs = plt.subplots(1, 2, figsize=(14, 6))\n",
    "\n",
    "# Scatter plot of Amount vs. Balance\n",
    "sns.scatterplot(x='Amount', y='Balance', hue='Transaction Direction', data=data, ax=axs[0], alpha=0.5)\n",
    "axs[0].set_title('Scatter Plot of Amount vs. Balance')\n",
    "axs[0].set_xlabel('Amount')\n",
    "axs[0].set_ylabel('Balance')\n",
    "\n",
    "# Scatter plot of Amount vs. Hour of Transaction\n",
    "sns.scatterplot(x='Amount', y='Timestamp', hue='Transaction Direction', data=data, ax=axs[1], alpha=0.5)\n",
    "axs[1].set_title('Scatter Plot of Amount vs. Hour of Transaction')\n",
    "axs[1].set_xlabel('Amount')\n",
    "axs[1].set_ylabel('Hour of Transaction')\n",
    "\n",
    "plt.tight_layout()\n",
    "plt.show()"
   ]
  },
  {
   "cell_type": "code",
   "execution_count": null,
   "id": "8c6ee226",
   "metadata": {},
   "outputs": [],
   "source": []
  },
  {
   "cell_type": "markdown",
   "id": "ccaad85b",
   "metadata": {},
   "source": [
    "## Monthly Banking Activity: Insights from Total Spent, Total Credited, and Transaction Count"
   ]
  },
  {
   "cell_type": "code",
   "execution_count": null,
   "id": "4b06a4be",
   "metadata": {},
   "outputs": [],
   "source": [
    "\n",
    "# Using 'Grouper' to group by month directly\n",
    "\n",
    "monthly_data = data.groupby(['Account No', pd.Grouper(key='Date', freq='M')]).agg(\n",
    "    Total_Spent=pd.NamedAgg(column='Amount', aggfunc=lambda x: x[x < 0].sum()),\n",
    "    Total_Credited=pd.NamedAgg(column='Amount', aggfunc=lambda x: x[x >= 0].sum()),\n",
    "    Transaction_Count=pd.NamedAgg(column='Amount', aggfunc='count')\n",
    ").reset_index()\n",
    "\n",
    "# Converting 'Date' to 'Year-Month' format for easier reading\n",
    "monthly_data['Date'] = monthly_data['Date'].dt.to_period('M')\n",
    "\n",
    "# Display the first few rows of the modified monthly statistics\n",
    "monthly_data.head(5)\n"
   ]
  },
  {
   "cell_type": "code",
   "execution_count": null,
   "id": "9f37596b",
   "metadata": {},
   "outputs": [],
   "source": [
    "monthly_data.shape"
   ]
  },
  {
   "cell_type": "code",
   "execution_count": null,
   "id": "60aae7e7",
   "metadata": {},
   "outputs": [],
   "source": [
    "data['Account No'].unique().shape"
   ]
  },
  {
   "cell_type": "markdown",
   "id": "4f76e3ac",
   "metadata": {},
   "source": [
    "## checking all the users spending evry month or not"
   ]
  },
  {
   "cell_type": "code",
   "execution_count": null,
   "id": "84253c2e",
   "metadata": {},
   "outputs": [],
   "source": [
    "# To ensure each account's activity is accounted for in every expected month of the dataset, \n",
    "# we'll check which months each account has transactions and list any missing months.\n",
    "\n",
    "# First, get the full range of months from the dataset\n",
    "full_date_range = pd.period_range(data['Date'].min(), data['Date'].max(), freq='M')\n",
    "\n",
    "# Dictionary to store missing months for each account\n",
    "missing_months_dict = {}\n",
    "\n",
    "# Iterating over each account\n",
    "for account, group in data.groupby('Account No'):\n",
    "    present_months = group['Date'].dt.to_period('M').unique()\n",
    "    missing_months = full_date_range[~full_date_range.isin(present_months)]\n",
    "    if len(missing_months) > 0:\n",
    "        missing_months_dict[account] = missing_months\n",
    "\n",
    "# Create a list to store tuples of account number and missing month\n",
    "missing_months_list = []\n",
    "\n",
    "# Iterate over the dictionary and append tuples to the list\n",
    "for account, missing_months in missing_months_dict.items():\n",
    "    for month in missing_months:\n",
    "        missing_months_list.append((account, month))\n",
    "\n",
    "# Create a DataFrame from the list\n",
    "missing_months_df = pd.DataFrame(missing_months_list, columns=['Account No', 'Missing Month'])\n",
    "\n",
    "# Display the DataFrame\n",
    "print(missing_months_df)\n"
   ]
  },
  {
   "cell_type": "code",
   "execution_count": null,
   "id": "9cce25e1",
   "metadata": {},
   "outputs": [],
   "source": [
    "## no.of transactions on each day..smtwthfss..\n",
    "# find any trends\n",
    "## his status at the end of month- whether he is in debt or credit"
   ]
  },
  {
   "cell_type": "code",
   "execution_count": null,
   "id": "235a42a6",
   "metadata": {},
   "outputs": [],
   "source": [
    "data"
   ]
  },
  {
   "cell_type": "markdown",
   "id": "b6394e06",
   "metadata": {},
   "source": [
    "## fraud detection using transactional data"
   ]
  },
  {
   "cell_type": "code",
   "execution_count": null,
   "id": "10434a34",
   "metadata": {},
   "outputs": [],
   "source": [
    "# Convert 'Date' and 'Timestamp' into a single datetime column for easier manipulation\n",
    "#data['Timestamp'] = pd.to_datetime(data['Date'] + ' ' + data['Timestamp'], errors='coerce')\n",
    "\n",
    "# Calculate mean and standard deviation for each account without storing them as columns\n",
    "mean_amounts = data.groupby('Account No')['Amount'].transform('mean')\n",
    "std_amounts = data.groupby('Account No')['Amount'].transform('std')\n",
    "\n",
    "# Identify high-value transactions\n",
    "high_value = data['Amount'] > (mean_amounts + 3 * std_amounts)\n",
    "\n",
    "# Detect frequent transactions in short times by counting the transactions per minute for each account\n",
    "frequent_transactions = data.groupby(['Account No', data['Timestamp'].dt.floor('min')])['Amount'].transform('size') > 3\n",
    "\n",
    "# Check for transactions that are round figures\n",
    "round_figure_transaction = data['Amount'].mod(1000) == 0\n",
    "\n",
    "# Combine the criteria to filter potential fraudulent transactions\n",
    "suspicious_transactions = data[high_value | frequent_transactions | round_figure_transaction]\n",
    "\n",
    "# Display the suspicious transactions\n",
    "print(suspicious_transactions[['Date', 'Timestamp', 'Account No', 'Amount', 'Third Party', 'Transaction Direction']])\n"
   ]
  },
  {
   "cell_type": "code",
   "execution_count": null,
   "id": "6998a6a7",
   "metadata": {},
   "outputs": [],
   "source": [
    "suspicious_transactions"
   ]
  },
  {
   "cell_type": "code",
   "execution_count": null,
   "id": "85c51037",
   "metadata": {},
   "outputs": [],
   "source": [
    "import matplotlib.pyplot as plt\n",
    "import seaborn as sns\n",
    "\n",
    "# Assuming suspicious_transactions is already defined\n",
    "# and data['Timestamp'] has been created and is the datetime combination of 'Date' and 'Timestamp'\n",
    "\n",
    "# 1. Scatter Plot of Transaction Amounts Over Time\n",
    "plt.figure(figsize=(10, 6))\n",
    "sns.scatterplot(x='Timestamp', y='Amount', data=suspicious_transactions, hue='Transaction Direction', style='Transaction Direction')\n",
    "plt.title('Suspicious Transactions Over Time')\n",
    "plt.xlabel('Timestamp')\n",
    "plt.ylabel('Transaction Amount')\n",
    "plt.xticks(rotation=45)\n",
    "plt.legend(title='Transaction Type')\n",
    "plt.tight_layout()\n",
    "plt.show()\n",
    "\n",
    "# 2. Histogram of Transaction Amounts\n",
    "plt.figure(figsize=(10, 6))\n",
    "sns.histplot(suspicious_transactions['Amount'], bins=30, kde=False, color='red')\n",
    "plt.title('Distribution of Suspicious Transaction Amounts')\n",
    "plt.xlabel('Transaction Amount')\n",
    "plt.ylabel('Frequency')\n",
    "plt.show()\n"
   ]
  },
  {
   "cell_type": "code",
   "execution_count": null,
   "id": "84354759",
   "metadata": {},
   "outputs": [],
   "source": [
    "import seaborn as sns\n",
    "import matplotlib.pyplot as plt\n",
    "\n",
    "# Assuming suspicious_transactions is already defined\n",
    "# and data['Timestamp'] has been created and is the datetime combination of 'Date' and 'Timestamp'\n",
    "\n",
    "# Extract more features from 'Timestamp' if needed\n",
    "suspicious_transactions['Hour of Day'] = suspicious_transactions['Timestamp'].dt.hour\n",
    "suspicious_transactions['Day of Week'] = suspicious_transactions['Timestamp'].dt.dayofweek\n",
    "\n",
    "# Select columns to include in the pairplot\n",
    "# Including 'Amount', 'Hour of Day', and 'Day of Week'\n",
    "# If 'Transaction Direction' is categorical, it can be used as a hue\n",
    "plot_data = suspicious_transactions[['Amount', 'Hour of Day', 'Day of Week', 'Transaction Direction']]\n",
    "\n",
    "# Create the pairplot\n",
    "sns.pairplot(plot_data, hue='Transaction Direction', diag_kind='kde', plot_kws={'alpha': 0.6, 's': 60, 'edgecolor': 'k'}, height=3)\n",
    "plt.suptitle('Pairplot of Suspicious Transactions')\n",
    "plt.show()\n"
   ]
  },
  {
   "cell_type": "code",
   "execution_count": null,
   "id": "6b25a768",
   "metadata": {},
   "outputs": [],
   "source": []
  }
 ],
 "metadata": {
  "kernelspec": {
   "display_name": "Python 3 (ipykernel)",
   "language": "python",
   "name": "python3"
  },
  "language_info": {
   "codemirror_mode": {
    "name": "ipython",
    "version": 3
   },
   "file_extension": ".py",
   "mimetype": "text/x-python",
   "name": "python",
   "nbconvert_exporter": "python",
   "pygments_lexer": "ipython3",
   "version": "3.11.4"
  }
 },
 "nbformat": 4,
 "nbformat_minor": 5
}
