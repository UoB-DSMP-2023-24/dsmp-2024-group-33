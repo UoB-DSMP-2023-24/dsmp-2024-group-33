{
 "cells": [
  {
   "cell_type": "code",
   "execution_count": null,
   "id": "c4c26c58",
   "metadata": {},
   "outputs": [],
   "source": []
  },
  {
   "cell_type": "markdown",
   "id": "bc80483c",
   "metadata": {},
   "source": [
    "# DATA EXPLORATION\n",
    "# FINDING TARGET CUSTOMERS AND MARKETING ANALYSIS\n",
    "# FRAUD DETECTION"
   ]
  },
  {
   "cell_type": "code",
   "execution_count": null,
   "id": "50120536",
   "metadata": {},
   "outputs": [],
   "source": []
  },
  {
   "cell_type": "code",
   "execution_count": 1,
   "id": "adcf2f90",
   "metadata": {},
   "outputs": [
    {
     "data": {
      "text/html": [
       "<div>\n",
       "<style scoped>\n",
       "    .dataframe tbody tr th:only-of-type {\n",
       "        vertical-align: middle;\n",
       "    }\n",
       "\n",
       "    .dataframe tbody tr th {\n",
       "        vertical-align: top;\n",
       "    }\n",
       "\n",
       "    .dataframe thead th {\n",
       "        text-align: right;\n",
       "    }\n",
       "</style>\n",
       "<table border=\"1\" class=\"dataframe\">\n",
       "  <thead>\n",
       "    <tr style=\"text-align: right;\">\n",
       "      <th></th>\n",
       "      <th>Date</th>\n",
       "      <th>Timestamp</th>\n",
       "      <th>Account No</th>\n",
       "      <th>Balance</th>\n",
       "      <th>Amount</th>\n",
       "      <th>Third Party Account No</th>\n",
       "      <th>Third Party Name</th>\n",
       "    </tr>\n",
       "  </thead>\n",
       "  <tbody>\n",
       "    <tr>\n",
       "      <th>0</th>\n",
       "      <td>01/01/2023</td>\n",
       "      <td>00:00</td>\n",
       "      <td>678330503.0</td>\n",
       "      <td>2971.0</td>\n",
       "      <td>1584.0</td>\n",
       "      <td>NaN</td>\n",
       "      <td>Westport Care Home</td>\n",
       "    </tr>\n",
       "    <tr>\n",
       "      <th>1</th>\n",
       "      <td>01/01/2023</td>\n",
       "      <td>00:00</td>\n",
       "      <td>472213568.0</td>\n",
       "      <td>3792.0</td>\n",
       "      <td>1950.0</td>\n",
       "      <td>NaN</td>\n",
       "      <td>Barbiee Boutique</td>\n",
       "    </tr>\n",
       "    <tr>\n",
       "      <th>2</th>\n",
       "      <td>01/01/2023</td>\n",
       "      <td>00:00</td>\n",
       "      <td>472213568.0</td>\n",
       "      <td>3012.0</td>\n",
       "      <td>-780.0</td>\n",
       "      <td>283027736.0</td>\n",
       "      <td>NaN</td>\n",
       "    </tr>\n",
       "    <tr>\n",
       "      <th>3</th>\n",
       "      <td>01/01/2023</td>\n",
       "      <td>00:00</td>\n",
       "      <td>283027736.0</td>\n",
       "      <td>1787.0</td>\n",
       "      <td>780.0</td>\n",
       "      <td>472213568.0</td>\n",
       "      <td>NaN</td>\n",
       "    </tr>\n",
       "    <tr>\n",
       "      <th>4</th>\n",
       "      <td>01/01/2023</td>\n",
       "      <td>00:00</td>\n",
       "      <td>624500124.0</td>\n",
       "      <td>3226.0</td>\n",
       "      <td>1825.0</td>\n",
       "      <td>NaN</td>\n",
       "      <td>Fat Face</td>\n",
       "    </tr>\n",
       "  </tbody>\n",
       "</table>\n",
       "</div>"
      ],
      "text/plain": [
       "         Date Timestamp   Account No  Balance  Amount  Third Party Account No  \\\n",
       "0  01/01/2023     00:00  678330503.0   2971.0  1584.0                     NaN   \n",
       "1  01/01/2023     00:00  472213568.0   3792.0  1950.0                     NaN   \n",
       "2  01/01/2023     00:00  472213568.0   3012.0  -780.0             283027736.0   \n",
       "3  01/01/2023     00:00  283027736.0   1787.0   780.0             472213568.0   \n",
       "4  01/01/2023     00:00  624500124.0   3226.0  1825.0                     NaN   \n",
       "\n",
       "     Third Party Name  \n",
       "0  Westport Care Home  \n",
       "1    Barbiee Boutique  \n",
       "2                 NaN  \n",
       "3                 NaN  \n",
       "4            Fat Face  "
      ]
     },
     "execution_count": 1,
     "metadata": {},
     "output_type": "execute_result"
    }
   ],
   "source": [
    "import warnings\n",
    "warnings.filterwarnings('ignore')\n",
    "import pandas as pd\n",
    "import numpy as np\n",
    "import matplotlib.pyplot as plt\n",
    "import seaborn as sns\n",
    "%matplotlib inline\n",
    "\n",
    "# Load the dataset\n",
    "data = pd.read_csv('simulated_transaction_2024.csv')\n",
    "data.head()"
   ]
  },
  {
   "cell_type": "code",
   "execution_count": 2,
   "id": "0f0b66f2",
   "metadata": {},
   "outputs": [
    {
     "name": "stdout",
     "output_type": "stream",
     "text": [
      "<class 'pandas.core.frame.DataFrame'>\n",
      "RangeIndex: 230596 entries, 0 to 230595\n",
      "Data columns (total 7 columns):\n",
      " #   Column                  Non-Null Count   Dtype  \n",
      "---  ------                  --------------   -----  \n",
      " 0   Date                    230367 non-null  object \n",
      " 1   Timestamp               230345 non-null  object \n",
      " 2   Account No              230372 non-null  float64\n",
      " 3   Balance                 230350 non-null  float64\n",
      " 4   Amount                  230387 non-null  float64\n",
      " 5   Third Party Account No  6832 non-null    float64\n",
      " 6   Third Party Name        223517 non-null  object \n",
      "dtypes: float64(4), object(3)\n",
      "memory usage: 12.3+ MB\n"
     ]
    }
   ],
   "source": [
    "data.info()"
   ]
  },
  {
   "cell_type": "code",
   "execution_count": 3,
   "id": "890b892d",
   "metadata": {},
   "outputs": [
    {
     "data": {
      "text/plain": [
       "(230596, 7)"
      ]
     },
     "execution_count": 3,
     "metadata": {},
     "output_type": "execute_result"
    }
   ],
   "source": [
    "data.shape "
   ]
  },
  {
   "cell_type": "code",
   "execution_count": 4,
   "id": "2813040d",
   "metadata": {},
   "outputs": [
    {
     "data": {
      "text/plain": [
       "Index(['Date', 'Timestamp', 'Account No', 'Balance', 'Amount',\n",
       "       'Third Party Account No', 'Third Party Name'],\n",
       "      dtype='object')"
      ]
     },
     "execution_count": 4,
     "metadata": {},
     "output_type": "execute_result"
    }
   ],
   "source": [
    "data.columns"
   ]
  },
  {
   "cell_type": "code",
   "execution_count": 5,
   "id": "55d03c33",
   "metadata": {},
   "outputs": [
    {
     "data": {
      "text/plain": [
       "Date                       object\n",
       "Timestamp                  object\n",
       "Account No                float64\n",
       "Balance                   float64\n",
       "Amount                    float64\n",
       "Third Party Account No    float64\n",
       "Third Party Name           object\n",
       "dtype: object"
      ]
     },
     "execution_count": 5,
     "metadata": {},
     "output_type": "execute_result"
    }
   ],
   "source": [
    "data.dtypes"
   ]
  },
  {
   "cell_type": "code",
   "execution_count": 6,
   "id": "04194698",
   "metadata": {},
   "outputs": [
    {
     "data": {
      "text/html": [
       "<div>\n",
       "<style scoped>\n",
       "    .dataframe tbody tr th:only-of-type {\n",
       "        vertical-align: middle;\n",
       "    }\n",
       "\n",
       "    .dataframe tbody tr th {\n",
       "        vertical-align: top;\n",
       "    }\n",
       "\n",
       "    .dataframe thead th {\n",
       "        text-align: right;\n",
       "    }\n",
       "</style>\n",
       "<table border=\"1\" class=\"dataframe\">\n",
       "  <thead>\n",
       "    <tr style=\"text-align: right;\">\n",
       "      <th></th>\n",
       "      <th>Account No</th>\n",
       "      <th>Balance</th>\n",
       "      <th>Amount</th>\n",
       "      <th>Third Party Account No</th>\n",
       "    </tr>\n",
       "  </thead>\n",
       "  <tbody>\n",
       "    <tr>\n",
       "      <th>count</th>\n",
       "      <td>2.303720e+05</td>\n",
       "      <td>230350.000000</td>\n",
       "      <td>230387.000000</td>\n",
       "      <td>6.832000e+03</td>\n",
       "    </tr>\n",
       "    <tr>\n",
       "      <th>mean</th>\n",
       "      <td>5.505993e+08</td>\n",
       "      <td>3609.351057</td>\n",
       "      <td>6.437717</td>\n",
       "      <td>5.370263e+08</td>\n",
       "    </tr>\n",
       "    <tr>\n",
       "      <th>std</th>\n",
       "      <td>2.560610e+08</td>\n",
       "      <td>5379.331174</td>\n",
       "      <td>508.200101</td>\n",
       "      <td>2.596927e+08</td>\n",
       "    </tr>\n",
       "    <tr>\n",
       "      <th>min</th>\n",
       "      <td>1.015313e+08</td>\n",
       "      <td>-5790.983500</td>\n",
       "      <td>-12240.000000</td>\n",
       "      <td>1.019085e+08</td>\n",
       "    </tr>\n",
       "    <tr>\n",
       "      <th>25%</th>\n",
       "      <td>3.314502e+08</td>\n",
       "      <td>373.453932</td>\n",
       "      <td>-74.000000</td>\n",
       "      <td>3.114679e+08</td>\n",
       "    </tr>\n",
       "    <tr>\n",
       "      <th>50%</th>\n",
       "      <td>5.501698e+08</td>\n",
       "      <td>1686.009850</td>\n",
       "      <td>-28.700000</td>\n",
       "      <td>5.381491e+08</td>\n",
       "    </tr>\n",
       "    <tr>\n",
       "      <th>75%</th>\n",
       "      <td>7.682718e+08</td>\n",
       "      <td>5215.031852</td>\n",
       "      <td>-12.060000</td>\n",
       "      <td>7.485097e+08</td>\n",
       "    </tr>\n",
       "    <tr>\n",
       "      <th>max</th>\n",
       "      <td>9.997527e+08</td>\n",
       "      <td>46804.158837</td>\n",
       "      <td>12240.000000</td>\n",
       "      <td>9.997527e+08</td>\n",
       "    </tr>\n",
       "  </tbody>\n",
       "</table>\n",
       "</div>"
      ],
      "text/plain": [
       "         Account No        Balance         Amount  Third Party Account No\n",
       "count  2.303720e+05  230350.000000  230387.000000            6.832000e+03\n",
       "mean   5.505993e+08    3609.351057       6.437717            5.370263e+08\n",
       "std    2.560610e+08    5379.331174     508.200101            2.596927e+08\n",
       "min    1.015313e+08   -5790.983500  -12240.000000            1.019085e+08\n",
       "25%    3.314502e+08     373.453932     -74.000000            3.114679e+08\n",
       "50%    5.501698e+08    1686.009850     -28.700000            5.381491e+08\n",
       "75%    7.682718e+08    5215.031852     -12.060000            7.485097e+08\n",
       "max    9.997527e+08   46804.158837   12240.000000            9.997527e+08"
      ]
     },
     "execution_count": 6,
     "metadata": {},
     "output_type": "execute_result"
    }
   ],
   "source": [
    "data.describe()"
   ]
  },
  {
   "cell_type": "code",
   "execution_count": 7,
   "id": "e918da86",
   "metadata": {},
   "outputs": [
    {
     "data": {
      "image/png": "[encoded data removed]",
      "text/plain": [
       "<Figure size 1000x600 with 1 Axes>"
      ]
     },
     "metadata": {},
     "output_type": "display_data"
    }
   ],
   "source": [
    "# Visualize missing values as a heatmap\n",
    "plt.figure(figsize=(10,6))\n",
    "sns.heatmap(data.isnull(), cbar=False)\n",
    "plt.title('Heatmap of Missing Values in Data')\n",
    "plt.show()"
   ]
  },
  {
   "cell_type": "markdown",
   "id": "399adedf",
   "metadata": {},
   "source": [
    "### This map is not giving clear missing values, as we have a large dataset, lets proceed normally"
   ]
  },
  {
   "cell_type": "code",
   "execution_count": 8,
   "id": "782f3693",
   "metadata": {},
   "outputs": [
    {
     "data": {
      "text/plain": [
       "Date                         229\n",
       "Timestamp                    251\n",
       "Account No                   224\n",
       "Balance                      246\n",
       "Amount                       209\n",
       "Third Party Account No    223764\n",
       "Third Party Name            7079\n",
       "dtype: int64"
      ]
     },
     "execution_count": 8,
     "metadata": {},
     "output_type": "execute_result"
    }
   ],
   "source": [
    "data.isnull().sum()"
   ]
  },
  {
   "cell_type": "code",
   "execution_count": 9,
   "id": "a1c5c147",
   "metadata": {},
   "outputs": [
    {
     "data": {
      "text/plain": [
       "Date                       0.099308\n",
       "Timestamp                  0.108848\n",
       "Account No                 0.097140\n",
       "Balance                    0.106680\n",
       "Amount                     0.090635\n",
       "Third Party Account No    97.037243\n",
       "Third Party Name           3.069871\n",
       "dtype: float64"
      ]
     },
     "execution_count": 9,
     "metadata": {},
     "output_type": "execute_result"
    }
   ],
   "source": [
    "# Calculate the percentage of null values for each column\n",
    "data.isnull().mean() * 100"
   ]
  },
  {
   "cell_type": "code",
   "execution_count": null,
   "id": "78324e75",
   "metadata": {},
   "outputs": [],
   "source": []
  },
  {
   "cell_type": "markdown",
   "id": "585e1ba0",
   "metadata": {},
   "source": [
    "### i want to to check the number of transactions of other users, to get more details"
   ]
  },
  {
   "cell_type": "code",
   "execution_count": 10,
   "id": "652281bf",
   "metadata": {},
   "outputs": [
    {
     "data": {
      "text/html": [
       "<div>\n",
       "<style scoped>\n",
       "    .dataframe tbody tr th:only-of-type {\n",
       "        vertical-align: middle;\n",
       "    }\n",
       "\n",
       "    .dataframe tbody tr th {\n",
       "        vertical-align: top;\n",
       "    }\n",
       "\n",
       "    .dataframe thead th {\n",
       "        text-align: right;\n",
       "    }\n",
       "</style>\n",
       "<table border=\"1\" class=\"dataframe\">\n",
       "  <thead>\n",
       "    <tr style=\"text-align: right;\">\n",
       "      <th></th>\n",
       "      <th>Account No</th>\n",
       "      <th>Number of Transactions</th>\n",
       "    </tr>\n",
       "  </thead>\n",
       "  <tbody>\n",
       "    <tr>\n",
       "      <th>0</th>\n",
       "      <td>101531259.0</td>\n",
       "      <td>123</td>\n",
       "    </tr>\n",
       "    <tr>\n",
       "      <th>1</th>\n",
       "      <td>104832000.0</td>\n",
       "      <td>164</td>\n",
       "    </tr>\n",
       "    <tr>\n",
       "      <th>2</th>\n",
       "      <td>105375973.0</td>\n",
       "      <td>158</td>\n",
       "    </tr>\n",
       "    <tr>\n",
       "      <th>3</th>\n",
       "      <td>106601471.0</td>\n",
       "      <td>193</td>\n",
       "    </tr>\n",
       "    <tr>\n",
       "      <th>4</th>\n",
       "      <td>108481285.0</td>\n",
       "      <td>368</td>\n",
       "    </tr>\n",
       "  </tbody>\n",
       "</table>\n",
       "</div>"
      ],
      "text/plain": [
       "    Account No  Number of Transactions\n",
       "0  101531259.0                     123\n",
       "1  104832000.0                     164\n",
       "2  105375973.0                     158\n",
       "3  106601471.0                     193\n",
       "4  108481285.0                     368"
      ]
     },
     "execution_count": 10,
     "metadata": {},
     "output_type": "execute_result"
    }
   ],
   "source": [
    "# 'Account No' and number of transactions for each account\n",
    "transactions_per_user = data.groupby('Account No').size()\n",
    "\n",
    "transactions_count = transactions_per_user.reset_index(name='Number of Transactions')\n",
    "transactions_count.head()"
   ]
  },
  {
   "cell_type": "code",
   "execution_count": 11,
   "id": "19b23361",
   "metadata": {},
   "outputs": [
    {
     "data": {
      "text/plain": [
       "236.03688524590163"
      ]
     },
     "execution_count": 11,
     "metadata": {},
     "output_type": "execute_result"
    }
   ],
   "source": [
    "# finding average number of transactions of all users\n",
    "#avg_transaction_per_user = \n",
    "transactions_per_user.mean()\n",
    "#avg_transaction_per_user"
   ]
  },
  {
   "cell_type": "markdown",
   "id": "b08a399f",
   "metadata": {},
   "source": [
    "### we have 224 missing values in account number, i think we can create a random account number"
   ]
  },
  {
   "cell_type": "code",
   "execution_count": 12,
   "id": "0815ef79",
   "metadata": {},
   "outputs": [
    {
     "data": {
      "text/plain": [
       "(999752673, 0)"
      ]
     },
     "execution_count": 12,
     "metadata": {},
     "output_type": "execute_result"
    }
   ],
   "source": [
    "# Generating unique account number to remove null values\n",
    "existing_acc_numbers = pd.to_numeric(data['Account No'], errors='coerce').dropna().unique()\n",
    "new_acc_number = int(max(existing_acc_numbers) + 1)\n",
    "\n",
    "# Replace null values in the \"Account No\" column with the new account number\n",
    "data['Account No'].fillna(new_acc_number, inplace=True)\n",
    "\n",
    "# Verifyong that there are no null values in the \"Account No\" column\n",
    "verification_result = data['Account No'].isnull().sum()\n",
    "\n",
    "new_acc_number, verification_result"
   ]
  },
  {
   "cell_type": "code",
   "execution_count": 13,
   "id": "fb772125",
   "metadata": {},
   "outputs": [
    {
     "name": "stdout",
     "output_type": "stream",
     "text": [
      "              Date Timestamp   Account No       Balance   Amount  \\\n",
      "527     01/01/2023     00:00  999752673.0    813.000000 -1143.00   \n",
      "1295    01/01/2023     00:00  999752673.0   2284.030000   -18.99   \n",
      "1335    01/01/2023     00:00  999752673.0   1542.030000   -18.99   \n",
      "1563    01/01/2023     00:00  999752673.0   3351.010000   -15.99   \n",
      "1703    01/01/2023     00:00  999752673.0   3785.780000   -18.99   \n",
      "...            ...       ...          ...           ...      ...   \n",
      "223332  30/11/2023     23:59  999752673.0  -1043.893200    -7.99   \n",
      "223657  30/11/2023     23:59  999752673.0  11517.049529   -15.99   \n",
      "226353  30/11/2023     23:59  999752673.0  -1692.102105   -15.99   \n",
      "229119  04/12/2023     10:03  999752673.0   2619.340104  -225.37   \n",
      "230360  06/12/2023     11:34  999752673.0     30.958899  -111.36   \n",
      "\n",
      "        Third Party Account No Third Party Name  \n",
      "527                        NaN          Halifax  \n",
      "1295                       NaN          PureGym  \n",
      "1335                       NaN          PureGym  \n",
      "1563                       NaN          Netflix  \n",
      "1703                       NaN          PureGym  \n",
      "...                        ...              ...  \n",
      "223332                     NaN           Disney  \n",
      "223657                     NaN          Netflix  \n",
      "226353                     NaN          Netflix  \n",
      "229119                     NaN          Topshop  \n",
      "230360                     NaN    Fitted Stitch  \n",
      "\n",
      "[224 rows x 7 columns]\n"
     ]
    }
   ],
   "source": [
    "print(data[(data['Account No'] == 999752673)  ])"
   ]
  },
  {
   "cell_type": "markdown",
   "id": "9193b92e",
   "metadata": {},
   "source": [
    "## what is done till now:\n",
    "- data exploration, using functions like shape(),info(),isnull().sum(),describe(), dtypes().\n",
    "- imputing null values in account number: by the taking the the average transaction count (taking mean),which is 236, and our missing values count is 224. So, I decided to generate a new account number instead of removing them.\n"
   ]
  },
  {
   "cell_type": "code",
   "execution_count": null,
   "id": "0fde871a",
   "metadata": {},
   "outputs": [],
   "source": []
  },
  {
   "cell_type": "code",
   "execution_count": 14,
   "id": "c2f01b57",
   "metadata": {},
   "outputs": [],
   "source": [
    "## float to integer\n",
    "data['Account No'] = data['Account No'].astype(int)"
   ]
  },
  {
   "cell_type": "code",
   "execution_count": 15,
   "id": "f534c5a8",
   "metadata": {},
   "outputs": [],
   "source": [
    "# Convert 'Third Party Account No' to nullable integer type\n",
    "data['Third Party Account No'] = data['Third Party Account No'].astype('Int64')"
   ]
  },
  {
   "cell_type": "code",
   "execution_count": 16,
   "id": "84ca7a64",
   "metadata": {},
   "outputs": [],
   "source": [
    "# Create a new 'Third Party' column\n",
    "data['Third Party'] = data['Third Party Name'].combine_first(data['Third Party Account No'])"
   ]
  },
  {
   "cell_type": "code",
   "execution_count": 17,
   "id": "0c32ae7e",
   "metadata": {},
   "outputs": [],
   "source": [
    "# Drop the original 'Third Party Account No' and 'Third Party Name' columns\n",
    "data.drop(columns=['Third Party Account No', 'Third Party Name'], inplace=True)"
   ]
  },
  {
   "cell_type": "code",
   "execution_count": 18,
   "id": "33832fd7",
   "metadata": {
    "scrolled": true
   },
   "outputs": [
    {
     "data": {
      "text/plain": [
       "Date           229\n",
       "Timestamp      251\n",
       "Account No       0\n",
       "Balance        246\n",
       "Amount         209\n",
       "Third Party    247\n",
       "dtype: int64"
      ]
     },
     "execution_count": 18,
     "metadata": {},
     "output_type": "execute_result"
    }
   ],
   "source": [
    "data.isnull().sum()"
   ]
  },
  {
   "cell_type": "code",
   "execution_count": 19,
   "id": "9d9b8442",
   "metadata": {},
   "outputs": [
    {
     "data": {
      "text/plain": [
       "977"
      ]
     },
     "execution_count": 19,
     "metadata": {},
     "output_type": "execute_result"
    }
   ],
   "source": [
    "data['Account No'].nunique() ## total no.of users"
   ]
  },
  {
   "cell_type": "code",
   "execution_count": 20,
   "id": "44aa5b21",
   "metadata": {},
   "outputs": [],
   "source": [
    "## find unique and similarities"
   ]
  },
  {
   "cell_type": "code",
   "execution_count": 21,
   "id": "ac6dc14b",
   "metadata": {},
   "outputs": [
    {
     "data": {
      "text/plain": [
       "Date              340\n",
       "Timestamp        1401\n",
       "Account No        977\n",
       "Balance        229888\n",
       "Amount          17314\n",
       "Third Party       756\n",
       "dtype: int64"
      ]
     },
     "execution_count": 21,
     "metadata": {},
     "output_type": "execute_result"
    }
   ],
   "source": [
    "data.nunique()"
   ]
  },
  {
   "cell_type": "markdown",
   "id": "3355da7f",
   "metadata": {},
   "source": [
    "## filling missing values in date and timestamp :\n",
    "##### 1. Date and Timestamp\n",
    "- Method Used: Forward Fill\n",
    "- Why?\n",
    "- Both the Date and Timestamp fields are critical for maintaining the sequence and continuity in time   series data.\n",
    "- Forward fill is appropriate here because it assumes that the missing date or timestamp can reasonably be replaced by the last known value, which is a common practice in time-sensitive data to maintain alignment in time series analysis.\n",
    "- This method helps avoid introducing artificial discontinuities in the time sequence, which could occur if we interpolated times or used backward fill."
   ]
  },
  {
   "cell_type": "code",
   "execution_count": 22,
   "id": "08beb693",
   "metadata": {},
   "outputs": [],
   "source": [
    "# Fill missing Date and Timestamp\n",
    "data['Date'] = data['Date'].fillna(method='ffill')\n",
    "data['Timestamp'] = data['Timestamp'].fillna(method='ffill')"
   ]
  },
  {
   "cell_type": "code",
   "execution_count": 23,
   "id": "858aed4a",
   "metadata": {},
   "outputs": [],
   "source": [
    "# Convert the 'not_happened_yet_date' column to datetime\n",
    "data['Date'] = pd.to_datetime(data['Date'], format='%d/%m/%Y')"
   ]
  },
  {
   "cell_type": "code",
   "execution_count": null,
   "id": "75f4839a",
   "metadata": {},
   "outputs": [],
   "source": []
  },
  {
   "cell_type": "markdown",
   "id": "3ba73efc",
   "metadata": {},
   "source": [
    "### i want to impute the missing values in amount and balance column  as well, but I have observed some abnormalities in account transactions"
   ]
  },
  {
   "cell_type": "code",
   "execution_count": 24,
   "id": "e8ea8a75",
   "metadata": {
    "scrolled": false
   },
   "outputs": [
    {
     "data": {
      "image/png": "[encoded data removed]",
      "text/plain": [
       "<Figure size 1200x800 with 4 Axes>"
      ]
     },
     "metadata": {},
     "output_type": "display_data"
    }
   ],
   "source": [
    "data.hist( figsize = (12,8) )\n",
    "plt.show() ## to see the distributions of data"
   ]
  },
  {
   "cell_type": "code",
   "execution_count": null,
   "id": "f600fd0d",
   "metadata": {},
   "outputs": [],
   "source": []
  },
  {
   "cell_type": "code",
   "execution_count": 25,
   "id": "3001495f",
   "metadata": {
    "scrolled": true
   },
   "outputs": [
    {
     "data": {
      "image/png": "[encoded data removed]",
      "text/plain": [
       "<Figure size 800x300 with 1 Axes>"
      ]
     },
     "metadata": {},
     "output_type": "display_data"
    },
    {
     "data": {
      "image/png": "[encoded data removed]",
      "text/plain": [
       "<Figure size 1200x600 with 1 Axes>"
      ]
     },
     "metadata": {},
     "output_type": "display_data"
    }
   ],
   "source": [
    "import matplotlib.pyplot as plt\n",
    "import pandas as pd\n",
    "\n",
    "# Plot the transaction frequency by hour\n",
    "plt.figure(figsize=(8, 3))\n",
    "plt.hist(pd.to_datetime(data['Timestamp']).dt.hour, bins=24, edgecolor='black')\n",
    "plt.title('Transaction Frequency by Hour')\n",
    "plt.xlabel('Hour of the Day')\n",
    "plt.ylabel('Number of Transactions')\n",
    "plt.xticks(range(24))  # Ensures ticks for every hour\n",
    "plt.tight_layout()  # Adjust layout to fit the figure size\n",
    "plt.show()\n",
    "\n",
    "# Plot the total credited amount to third parties by hour\n",
    "plt.figure(figsize=(12, 6))\n",
    "data.loc[data['Amount'] < 0].groupby(pd.to_datetime(data['Timestamp']).dt.hour)['Amount'].apply(lambda x: abs(x).sum()).plot(\n",
    "    kind='bar', color='darkgreen', edgecolor='black')\n",
    "plt.title('Total Credited Amount to Third Parties by Hour')\n",
    "plt.xlabel('Hour of the Day')\n",
    "plt.ylabel('Total Credited Amount ($)')\n",
    "plt.xticks(range(24))  # Ensures ticks for every hour\n",
    "plt.grid(axis='y', linestyle='--', linewidth=0.7)\n",
    "plt.tight_layout()  # Adjust layout to fit the figure size\n",
    "plt.show()\n"
   ]
  },
  {
   "cell_type": "code",
   "execution_count": null,
   "id": "bbc51758",
   "metadata": {},
   "outputs": [],
   "source": []
  },
  {
   "cell_type": "code",
   "execution_count": 29,
   "id": "9db2cf06",
   "metadata": {},
   "outputs": [
    {
     "data": {
      "image/png": "[encoded data removed]",
      "text/plain": [
       "<Figure size 1000x400 with 1 Axes>"
      ]
     },
     "metadata": {},
     "output_type": "display_data"
    },
    {
     "data": {
      "image/png": "[encoded data removed]",
      "text/plain": [
       "<Figure size 1200x600 with 1 Axes>"
      ]
     },
     "metadata": {},
     "output_type": "display_data"
    }
   ],
   "source": [
    "import matplotlib.pyplot as plt\n",
    "import pandas as pd\n",
    "\n",
    "# Plot the transaction frequency by half-hour intervals\n",
    "plt.figure(figsize=(10, 4))\n",
    "plt.hist(pd.to_datetime(data['Timestamp']).dt.round('30min').dt.strftime('%H:%M'), bins=48, edgecolor='black')\n",
    "plt.title('Transaction Frequency by Half-Hour Interval')\n",
    "plt.xlabel('Half-Hour Interval')\n",
    "plt.ylabel('Number of Transactions')\n",
    "plt.xticks(rotation=90)  # Rotate x-axis labels for better readability\n",
    "plt.tight_layout()  # Adjust layout to fit the figure size\n",
    "plt.show()\n",
    "\n",
    "# Plot the total credited amount to third parties by half-hour intervals\n",
    "plt.figure(figsize=(12, 6))\n",
    "data.loc[data['Amount'] < 0].groupby(pd.to_datetime(data['Timestamp']).dt.round('30min').dt.strftime('%H:%M'))['Amount'].apply(lambda x: abs(x).sum()).plot(\n",
    "    kind='bar', color='darkgreen', edgecolor='black')\n",
    "plt.title('Total Credited Amount to Third Parties by Half-Hour Interval')\n",
    "plt.xlabel('Half-Hour Interval')\n",
    "plt.ylabel('Total Credited Amount ($)')\n",
    "plt.xticks(rotation=90)  # Rotate x-axis labels for better readability\n",
    "plt.grid(axis='y', linestyle='--', linewidth=0.7)\n",
    "plt.tight_layout()  # Adjust layout to fit the figure size\n",
    "plt.show()\n"
   ]
  },
  {
   "cell_type": "markdown",
   "id": "fb2fce6a",
   "metadata": {},
   "source": [
    "## First plot:\n",
    "- transaction frequency by hour (activity at certain times of the day). \n",
    "- It appears that there's a peak in transactions towards the end of the day, around 23:00. \n",
    "## second plot:\n",
    "- plot shows the total credited amount to third parties by hour.\n",
    "- presents the absolute values of the negative amounts to reflect the spending positively."
   ]
  },
  {
   "cell_type": "code",
   "execution_count": 33,
   "id": "bf5cfa5b",
   "metadata": {},
   "outputs": [
    {
     "ename": "KeyError",
     "evalue": "\"None of [Int64Index([ 0,  0,  0,  0,  0,  0,  0,  0,  0,  0,\\n            ...\\n            13,  2,  4,  4,  9, 19,  4,  5,  6,  7],\\n           dtype='int64', length=1382)] are in the [columns]\"",
     "output_type": "error",
     "traceback": [
      "\u001b[1;31m---------------------------------------------------------------------------\u001b[0m",
      "\u001b[1;31mKeyError\u001b[0m                                  Traceback (most recent call last)",
      "Cell \u001b[1;32mIn[33], line 21\u001b[0m\n\u001b[0;32m     19\u001b[0m top_5_hours \u001b[38;5;241m=\u001b[39m {}\n\u001b[0;32m     20\u001b[0m \u001b[38;5;28;01mfor\u001b[39;00m account \u001b[38;5;129;01min\u001b[39;00m top_5_spenders\u001b[38;5;241m.\u001b[39mindex:\n\u001b[1;32m---> 21\u001b[0m     top_5_hours[account] \u001b[38;5;241m=\u001b[39m top_spenders_hours\u001b[38;5;241m.\u001b[39mloc[top_spenders_hours[\u001b[38;5;124m'\u001b[39m\u001b[38;5;124mAccount No\u001b[39m\u001b[38;5;124m'\u001b[39m] \u001b[38;5;241m==\u001b[39m account, pd\u001b[38;5;241m.\u001b[39mto_datetime(top_spenders_hours[\u001b[38;5;124m'\u001b[39m\u001b[38;5;124mTimestamp\u001b[39m\u001b[38;5;124m'\u001b[39m], \u001b[38;5;28mformat\u001b[39m\u001b[38;5;241m=\u001b[39m\u001b[38;5;124m'\u001b[39m\u001b[38;5;124m%\u001b[39m\u001b[38;5;124mH:\u001b[39m\u001b[38;5;124m%\u001b[39m\u001b[38;5;124mM\u001b[39m\u001b[38;5;124m'\u001b[39m)\u001b[38;5;241m.\u001b[39mdt\u001b[38;5;241m.\u001b[39mhour]\u001b[38;5;241m.\u001b[39mvalue_counts()\u001b[38;5;241m.\u001b[39midxmax()\n\u001b[0;32m     23\u001b[0m max_spending_hour, max_spending_amount, top_5_hours\n",
      "File \u001b[1;32m~\\AppData\\Local\\anaconda3\\Lib\\site-packages\\pandas\\core\\indexing.py:1067\u001b[0m, in \u001b[0;36m_LocationIndexer.__getitem__\u001b[1;34m(self, key)\u001b[0m\n\u001b[0;32m   1065\u001b[0m     \u001b[38;5;28;01mif\u001b[39;00m \u001b[38;5;28mself\u001b[39m\u001b[38;5;241m.\u001b[39m_is_scalar_access(key):\n\u001b[0;32m   1066\u001b[0m         \u001b[38;5;28;01mreturn\u001b[39;00m \u001b[38;5;28mself\u001b[39m\u001b[38;5;241m.\u001b[39mobj\u001b[38;5;241m.\u001b[39m_get_value(\u001b[38;5;241m*\u001b[39mkey, takeable\u001b[38;5;241m=\u001b[39m\u001b[38;5;28mself\u001b[39m\u001b[38;5;241m.\u001b[39m_takeable)\n\u001b[1;32m-> 1067\u001b[0m     \u001b[38;5;28;01mreturn\u001b[39;00m \u001b[38;5;28mself\u001b[39m\u001b[38;5;241m.\u001b[39m_getitem_tuple(key)\n\u001b[0;32m   1068\u001b[0m \u001b[38;5;28;01melse\u001b[39;00m:\n\u001b[0;32m   1069\u001b[0m     \u001b[38;5;66;03m# we by definition only have the 0th axis\u001b[39;00m\n\u001b[0;32m   1070\u001b[0m     axis \u001b[38;5;241m=\u001b[39m \u001b[38;5;28mself\u001b[39m\u001b[38;5;241m.\u001b[39maxis \u001b[38;5;129;01mor\u001b[39;00m \u001b[38;5;241m0\u001b[39m\n",
      "File \u001b[1;32m~\\AppData\\Local\\anaconda3\\Lib\\site-packages\\pandas\\core\\indexing.py:1256\u001b[0m, in \u001b[0;36m_LocIndexer._getitem_tuple\u001b[1;34m(self, tup)\u001b[0m\n\u001b[0;32m   1253\u001b[0m \u001b[38;5;28;01mif\u001b[39;00m \u001b[38;5;28mself\u001b[39m\u001b[38;5;241m.\u001b[39m_multi_take_opportunity(tup):\n\u001b[0;32m   1254\u001b[0m     \u001b[38;5;28;01mreturn\u001b[39;00m \u001b[38;5;28mself\u001b[39m\u001b[38;5;241m.\u001b[39m_multi_take(tup)\n\u001b[1;32m-> 1256\u001b[0m \u001b[38;5;28;01mreturn\u001b[39;00m \u001b[38;5;28mself\u001b[39m\u001b[38;5;241m.\u001b[39m_getitem_tuple_same_dim(tup)\n",
      "File \u001b[1;32m~\\AppData\\Local\\anaconda3\\Lib\\site-packages\\pandas\\core\\indexing.py:924\u001b[0m, in \u001b[0;36m_LocationIndexer._getitem_tuple_same_dim\u001b[1;34m(self, tup)\u001b[0m\n\u001b[0;32m    921\u001b[0m \u001b[38;5;28;01mif\u001b[39;00m com\u001b[38;5;241m.\u001b[39mis_null_slice(key):\n\u001b[0;32m    922\u001b[0m     \u001b[38;5;28;01mcontinue\u001b[39;00m\n\u001b[1;32m--> 924\u001b[0m retval \u001b[38;5;241m=\u001b[39m \u001b[38;5;28mgetattr\u001b[39m(retval, \u001b[38;5;28mself\u001b[39m\u001b[38;5;241m.\u001b[39mname)\u001b[38;5;241m.\u001b[39m_getitem_axis(key, axis\u001b[38;5;241m=\u001b[39mi)\n\u001b[0;32m    925\u001b[0m \u001b[38;5;66;03m# We should never have retval.ndim < self.ndim, as that should\u001b[39;00m\n\u001b[0;32m    926\u001b[0m \u001b[38;5;66;03m#  be handled by the _getitem_lowerdim call above.\u001b[39;00m\n\u001b[0;32m    927\u001b[0m \u001b[38;5;28;01massert\u001b[39;00m retval\u001b[38;5;241m.\u001b[39mndim \u001b[38;5;241m==\u001b[39m \u001b[38;5;28mself\u001b[39m\u001b[38;5;241m.\u001b[39mndim\n",
      "File \u001b[1;32m~\\AppData\\Local\\anaconda3\\Lib\\site-packages\\pandas\\core\\indexing.py:1301\u001b[0m, in \u001b[0;36m_LocIndexer._getitem_axis\u001b[1;34m(self, key, axis)\u001b[0m\n\u001b[0;32m   1298\u001b[0m     \u001b[38;5;28;01mif\u001b[39;00m \u001b[38;5;28mhasattr\u001b[39m(key, \u001b[38;5;124m\"\u001b[39m\u001b[38;5;124mndim\u001b[39m\u001b[38;5;124m\"\u001b[39m) \u001b[38;5;129;01mand\u001b[39;00m key\u001b[38;5;241m.\u001b[39mndim \u001b[38;5;241m>\u001b[39m \u001b[38;5;241m1\u001b[39m:\n\u001b[0;32m   1299\u001b[0m         \u001b[38;5;28;01mraise\u001b[39;00m \u001b[38;5;167;01mValueError\u001b[39;00m(\u001b[38;5;124m\"\u001b[39m\u001b[38;5;124mCannot index with multidimensional key\u001b[39m\u001b[38;5;124m\"\u001b[39m)\n\u001b[1;32m-> 1301\u001b[0m     \u001b[38;5;28;01mreturn\u001b[39;00m \u001b[38;5;28mself\u001b[39m\u001b[38;5;241m.\u001b[39m_getitem_iterable(key, axis\u001b[38;5;241m=\u001b[39maxis)\n\u001b[0;32m   1303\u001b[0m \u001b[38;5;66;03m# nested tuple slicing\u001b[39;00m\n\u001b[0;32m   1304\u001b[0m \u001b[38;5;28;01mif\u001b[39;00m is_nested_tuple(key, labels):\n",
      "File \u001b[1;32m~\\AppData\\Local\\anaconda3\\Lib\\site-packages\\pandas\\core\\indexing.py:1239\u001b[0m, in \u001b[0;36m_LocIndexer._getitem_iterable\u001b[1;34m(self, key, axis)\u001b[0m\n\u001b[0;32m   1236\u001b[0m \u001b[38;5;28mself\u001b[39m\u001b[38;5;241m.\u001b[39m_validate_key(key, axis)\n\u001b[0;32m   1238\u001b[0m \u001b[38;5;66;03m# A collection of keys\u001b[39;00m\n\u001b[1;32m-> 1239\u001b[0m keyarr, indexer \u001b[38;5;241m=\u001b[39m \u001b[38;5;28mself\u001b[39m\u001b[38;5;241m.\u001b[39m_get_listlike_indexer(key, axis)\n\u001b[0;32m   1240\u001b[0m \u001b[38;5;28;01mreturn\u001b[39;00m \u001b[38;5;28mself\u001b[39m\u001b[38;5;241m.\u001b[39mobj\u001b[38;5;241m.\u001b[39m_reindex_with_indexers(\n\u001b[0;32m   1241\u001b[0m     {axis: [keyarr, indexer]}, copy\u001b[38;5;241m=\u001b[39m\u001b[38;5;28;01mTrue\u001b[39;00m, allow_dups\u001b[38;5;241m=\u001b[39m\u001b[38;5;28;01mTrue\u001b[39;00m\n\u001b[0;32m   1242\u001b[0m )\n",
      "File \u001b[1;32m~\\AppData\\Local\\anaconda3\\Lib\\site-packages\\pandas\\core\\indexing.py:1432\u001b[0m, in \u001b[0;36m_LocIndexer._get_listlike_indexer\u001b[1;34m(self, key, axis)\u001b[0m\n\u001b[0;32m   1429\u001b[0m ax \u001b[38;5;241m=\u001b[39m \u001b[38;5;28mself\u001b[39m\u001b[38;5;241m.\u001b[39mobj\u001b[38;5;241m.\u001b[39m_get_axis(axis)\n\u001b[0;32m   1430\u001b[0m axis_name \u001b[38;5;241m=\u001b[39m \u001b[38;5;28mself\u001b[39m\u001b[38;5;241m.\u001b[39mobj\u001b[38;5;241m.\u001b[39m_get_axis_name(axis)\n\u001b[1;32m-> 1432\u001b[0m keyarr, indexer \u001b[38;5;241m=\u001b[39m ax\u001b[38;5;241m.\u001b[39m_get_indexer_strict(key, axis_name)\n\u001b[0;32m   1434\u001b[0m \u001b[38;5;28;01mreturn\u001b[39;00m keyarr, indexer\n",
      "File \u001b[1;32m~\\AppData\\Local\\anaconda3\\Lib\\site-packages\\pandas\\core\\indexes\\base.py:6070\u001b[0m, in \u001b[0;36mIndex._get_indexer_strict\u001b[1;34m(self, key, axis_name)\u001b[0m\n\u001b[0;32m   6067\u001b[0m \u001b[38;5;28;01melse\u001b[39;00m:\n\u001b[0;32m   6068\u001b[0m     keyarr, indexer, new_indexer \u001b[38;5;241m=\u001b[39m \u001b[38;5;28mself\u001b[39m\u001b[38;5;241m.\u001b[39m_reindex_non_unique(keyarr)\n\u001b[1;32m-> 6070\u001b[0m \u001b[38;5;28mself\u001b[39m\u001b[38;5;241m.\u001b[39m_raise_if_missing(keyarr, indexer, axis_name)\n\u001b[0;32m   6072\u001b[0m keyarr \u001b[38;5;241m=\u001b[39m \u001b[38;5;28mself\u001b[39m\u001b[38;5;241m.\u001b[39mtake(indexer)\n\u001b[0;32m   6073\u001b[0m \u001b[38;5;28;01mif\u001b[39;00m \u001b[38;5;28misinstance\u001b[39m(key, Index):\n\u001b[0;32m   6074\u001b[0m     \u001b[38;5;66;03m# GH 42790 - Preserve name from an Index\u001b[39;00m\n",
      "File \u001b[1;32m~\\AppData\\Local\\anaconda3\\Lib\\site-packages\\pandas\\core\\indexes\\base.py:6130\u001b[0m, in \u001b[0;36mIndex._raise_if_missing\u001b[1;34m(self, key, indexer, axis_name)\u001b[0m\n\u001b[0;32m   6128\u001b[0m     \u001b[38;5;28;01mif\u001b[39;00m use_interval_msg:\n\u001b[0;32m   6129\u001b[0m         key \u001b[38;5;241m=\u001b[39m \u001b[38;5;28mlist\u001b[39m(key)\n\u001b[1;32m-> 6130\u001b[0m     \u001b[38;5;28;01mraise\u001b[39;00m \u001b[38;5;167;01mKeyError\u001b[39;00m(\u001b[38;5;124mf\u001b[39m\u001b[38;5;124m\"\u001b[39m\u001b[38;5;124mNone of [\u001b[39m\u001b[38;5;132;01m{\u001b[39;00mkey\u001b[38;5;132;01m}\u001b[39;00m\u001b[38;5;124m] are in the [\u001b[39m\u001b[38;5;132;01m{\u001b[39;00maxis_name\u001b[38;5;132;01m}\u001b[39;00m\u001b[38;5;124m]\u001b[39m\u001b[38;5;124m\"\u001b[39m)\n\u001b[0;32m   6132\u001b[0m not_found \u001b[38;5;241m=\u001b[39m \u001b[38;5;28mlist\u001b[39m(ensure_index(key)[missing_mask\u001b[38;5;241m.\u001b[39mnonzero()[\u001b[38;5;241m0\u001b[39m]]\u001b[38;5;241m.\u001b[39munique())\n\u001b[0;32m   6133\u001b[0m \u001b[38;5;28;01mraise\u001b[39;00m \u001b[38;5;167;01mKeyError\u001b[39;00m(\u001b[38;5;124mf\u001b[39m\u001b[38;5;124m\"\u001b[39m\u001b[38;5;132;01m{\u001b[39;00mnot_found\u001b[38;5;132;01m}\u001b[39;00m\u001b[38;5;124m not in index\u001b[39m\u001b[38;5;124m\"\u001b[39m)\n",
      "\u001b[1;31mKeyError\u001b[0m: \"None of [Int64Index([ 0,  0,  0,  0,  0,  0,  0,  0,  0,  0,\\n            ...\\n            13,  2,  4,  4,  9, 19,  4,  5,  6,  7],\\n           dtype='int64', length=1382)] are in the [columns]\""
     ]
    }
   ],
   "source": [
    "# Calculate the spending for each account by summing the absolute values of negative amounts\n",
    "spending_per_account = data.loc[data['Amount'] < 0].groupby('Account No')['Amount'].apply(lambda x: abs(x).sum())\n",
    "\n",
    "# Identify the top 5 accounts with the highest spending\n",
    "top_5_spenders = spending_per_account.nlargest(5)\n",
    "\n",
    "# Calculate the overall spending by hour\n",
    "overall_spending_by_hour = data.loc[data['Amount'] < 0].groupby(pd.to_datetime(data['Timestamp'], format='%H:%M').dt.hour)['Amount'].apply(lambda x: abs(x).sum())\n",
    "\n",
    "# Determine the hour with the maximum overall spending\n",
    "max_spending_hour = overall_spending_by_hour.idxmax()\n",
    "max_spending_amount = overall_spending_by_hour.max()\n",
    "\n",
    "# For each top spender, calculate the hour in which they spend the most\n",
    "top_spenders_hours = data.loc[(data['Amount'] < 0) & (data['Account No'].isin(top_5_spenders.index))]\n",
    "top_spenders_most_active_hour = top_spenders_hours.groupby('Account No')['Amount'].apply(lambda x: abs(x).sum())\n",
    "\n",
    "# Find the most active hour of spending for each of the top 5 spenders\n",
    "top_5_hours = {}\n",
    "for account in top_5_spenders.index:\n",
    "    top_5_hours[account] = top_spenders_hours.loc[top_spenders_hours['Account No'] == account, pd.to_datetime(top_spenders_hours['Timestamp'], format='%H:%M').dt.hour].value_counts().idxmax()\n",
    "\n",
    "max_spending_hour, max_spending_amount, top_5_hours\n"
   ]
  },
  {
   "cell_type": "code",
   "execution_count": 32,
   "id": "e14378a0",
   "metadata": {},
   "outputs": [
    {
     "data": {
      "text/html": [
       "<div>\n",
       "<style scoped>\n",
       "    .dataframe tbody tr th:only-of-type {\n",
       "        vertical-align: middle;\n",
       "    }\n",
       "\n",
       "    .dataframe tbody tr th {\n",
       "        vertical-align: top;\n",
       "    }\n",
       "\n",
       "    .dataframe thead th {\n",
       "        text-align: right;\n",
       "    }\n",
       "</style>\n",
       "<table border=\"1\" class=\"dataframe\">\n",
       "  <thead>\n",
       "    <tr style=\"text-align: right;\">\n",
       "      <th></th>\n",
       "      <th>Date</th>\n",
       "      <th>Timestamp</th>\n",
       "      <th>Account No</th>\n",
       "      <th>Balance</th>\n",
       "      <th>Amount</th>\n",
       "      <th>Third Party</th>\n",
       "      <th>Hour</th>\n",
       "    </tr>\n",
       "  </thead>\n",
       "  <tbody>\n",
       "    <tr>\n",
       "      <th>0</th>\n",
       "      <td>2023-01-01</td>\n",
       "      <td>00:00</td>\n",
       "      <td>678330503</td>\n",
       "      <td>2971.000000</td>\n",
       "      <td>1584.00</td>\n",
       "      <td>Westport Care Home</td>\n",
       "      <td>0</td>\n",
       "    </tr>\n",
       "    <tr>\n",
       "      <th>1</th>\n",
       "      <td>2023-01-01</td>\n",
       "      <td>00:00</td>\n",
       "      <td>472213568</td>\n",
       "      <td>3792.000000</td>\n",
       "      <td>1950.00</td>\n",
       "      <td>Barbiee Boutique</td>\n",
       "      <td>0</td>\n",
       "    </tr>\n",
       "    <tr>\n",
       "      <th>2</th>\n",
       "      <td>2023-01-01</td>\n",
       "      <td>00:00</td>\n",
       "      <td>472213568</td>\n",
       "      <td>3012.000000</td>\n",
       "      <td>-780.00</td>\n",
       "      <td>283027736</td>\n",
       "      <td>0</td>\n",
       "    </tr>\n",
       "    <tr>\n",
       "      <th>3</th>\n",
       "      <td>2023-01-01</td>\n",
       "      <td>00:00</td>\n",
       "      <td>283027736</td>\n",
       "      <td>1787.000000</td>\n",
       "      <td>780.00</td>\n",
       "      <td>472213568</td>\n",
       "      <td>0</td>\n",
       "    </tr>\n",
       "    <tr>\n",
       "      <th>4</th>\n",
       "      <td>2023-01-01</td>\n",
       "      <td>00:00</td>\n",
       "      <td>624500124</td>\n",
       "      <td>3226.000000</td>\n",
       "      <td>1825.00</td>\n",
       "      <td>Fat Face</td>\n",
       "      <td>0</td>\n",
       "    </tr>\n",
       "    <tr>\n",
       "      <th>...</th>\n",
       "      <td>...</td>\n",
       "      <td>...</td>\n",
       "      <td>...</td>\n",
       "      <td>...</td>\n",
       "      <td>...</td>\n",
       "      <td>...</td>\n",
       "      <td>...</td>\n",
       "    </tr>\n",
       "    <tr>\n",
       "      <th>230591</th>\n",
       "      <td>2023-12-06</td>\n",
       "      <td>20:54</td>\n",
       "      <td>581655972</td>\n",
       "      <td>45935.206861</td>\n",
       "      <td>-41.06</td>\n",
       "      <td>Tesco</td>\n",
       "      <td>20</td>\n",
       "    </tr>\n",
       "    <tr>\n",
       "      <th>230592</th>\n",
       "      <td>2023-12-06</td>\n",
       "      <td>20:55</td>\n",
       "      <td>786141370</td>\n",
       "      <td>-244.837500</td>\n",
       "      <td>-62.35</td>\n",
       "      <td>Sainsbury Local</td>\n",
       "      <td>20</td>\n",
       "    </tr>\n",
       "    <tr>\n",
       "      <th>230593</th>\n",
       "      <td>2023-12-06</td>\n",
       "      <td>21:05</td>\n",
       "      <td>824916823</td>\n",
       "      <td>9709.172159</td>\n",
       "      <td>-32.94</td>\n",
       "      <td>Deliveroo</td>\n",
       "      <td>21</td>\n",
       "    </tr>\n",
       "    <tr>\n",
       "      <th>230594</th>\n",
       "      <td>2023-12-06</td>\n",
       "      <td>21:13</td>\n",
       "      <td>366550080</td>\n",
       "      <td>26834.165794</td>\n",
       "      <td>-19.25</td>\n",
       "      <td>Amazon</td>\n",
       "      <td>21</td>\n",
       "    </tr>\n",
       "    <tr>\n",
       "      <th>230595</th>\n",
       "      <td>2023-12-06</td>\n",
       "      <td>21:32</td>\n",
       "      <td>259015404</td>\n",
       "      <td>1145.349837</td>\n",
       "      <td>-37.64</td>\n",
       "      <td>JustEat</td>\n",
       "      <td>21</td>\n",
       "    </tr>\n",
       "  </tbody>\n",
       "</table>\n",
       "<p>230596 rows × 7 columns</p>\n",
       "</div>"
      ],
      "text/plain": [
       "             Date Timestamp  Account No       Balance   Amount  \\\n",
       "0      2023-01-01     00:00   678330503   2971.000000  1584.00   \n",
       "1      2023-01-01     00:00   472213568   3792.000000  1950.00   \n",
       "2      2023-01-01     00:00   472213568   3012.000000  -780.00   \n",
       "3      2023-01-01     00:00   283027736   1787.000000   780.00   \n",
       "4      2023-01-01     00:00   624500124   3226.000000  1825.00   \n",
       "...           ...       ...         ...           ...      ...   \n",
       "230591 2023-12-06     20:54   581655972  45935.206861   -41.06   \n",
       "230592 2023-12-06     20:55   786141370   -244.837500   -62.35   \n",
       "230593 2023-12-06     21:05   824916823   9709.172159   -32.94   \n",
       "230594 2023-12-06     21:13   366550080  26834.165794   -19.25   \n",
       "230595 2023-12-06     21:32   259015404   1145.349837   -37.64   \n",
       "\n",
       "               Third Party  Hour  \n",
       "0       Westport Care Home     0  \n",
       "1         Barbiee Boutique     0  \n",
       "2                283027736     0  \n",
       "3                472213568     0  \n",
       "4                 Fat Face     0  \n",
       "...                    ...   ...  \n",
       "230591               Tesco    20  \n",
       "230592     Sainsbury Local    20  \n",
       "230593           Deliveroo    21  \n",
       "230594              Amazon    21  \n",
       "230595             JustEat    21  \n",
       "\n",
       "[230596 rows x 7 columns]"
      ]
     },
     "execution_count": 32,
     "metadata": {},
     "output_type": "execute_result"
    }
   ],
   "source": [
    "data"
   ]
  },
  {
   "cell_type": "code",
   "execution_count": null,
   "id": "59bebc49",
   "metadata": {},
   "outputs": [],
   "source": [
    "data.isnull().sum()"
   ]
  },
  {
   "cell_type": "code",
   "execution_count": null,
   "id": "24792dd8",
   "metadata": {},
   "outputs": [],
   "source": []
  },
  {
   "cell_type": "code",
   "execution_count": null,
   "id": "ab8f58cb",
   "metadata": {},
   "outputs": [],
   "source": []
  },
  {
   "cell_type": "markdown",
   "id": "7fcfe24d",
   "metadata": {},
   "source": [
    "## how to impute amount and balance column \n",
    "\n",
    "## analyze the relationship between transaction direction (debit/credit) and balance:\n",
    "1. Segment the Data\n",
    "2. Statistical Summary\n",
    "3. Visual Analysis"
   ]
  },
  {
   "cell_type": "code",
   "execution_count": null,
   "id": "a65629e6",
   "metadata": {},
   "outputs": [],
   "source": [
    "# Identify debits and credits\n",
    "debits = data[data['Amount'] < 0]\n",
    "credits = data[data['Amount'] > 0]"
   ]
  },
  {
   "cell_type": "code",
   "execution_count": null,
   "id": "8034b560",
   "metadata": {},
   "outputs": [],
   "source": [
    "# Calculate statistics for debits and credits\n",
    "debit_stats = debits['Balance'].describe()\n",
    "credit_stats = credits['Balance'].describe()\n",
    "\n",
    "print(\"Debit Statistics:\\n\", debit_stats)\n",
    "print(\"\\nCredit Statistics:\\n\", credit_stats)"
   ]
  },
  {
   "cell_type": "code",
   "execution_count": null,
   "id": "05882369",
   "metadata": {},
   "outputs": [],
   "source": [
    "# Sort data by Date and Account No\n",
    "data.sort_values(by=['Account No', 'Date'], inplace=True)\n",
    "\n",
    "# Forward fill missing Balance and Amount\n",
    "data['Balance'] = data.groupby('Account No')['Balance'].fillna(method='ffill')\n",
    "data['Amount'] = data.groupby('Account No')['Amount'].fillna(method='ffill')"
   ]
  },
  {
   "cell_type": "code",
   "execution_count": null,
   "id": "2218fb71",
   "metadata": {},
   "outputs": [],
   "source": [
    "# Optional: Plot to visualize imputation effects\n",
    "import matplotlib.pyplot as plt\n",
    "\n",
    "# Filter for a specific account to visualize\n",
    "sample_account = data[data['Account No'] == 999752673]  # Replace some_account_number with an actual number\n",
    "\n",
    "plt.figure(figsize=(14, 7))\n",
    "plt.subplot(2, 1, 1)\n",
    "plt.plot(sample_account['Date'], sample_account['Balance'], marker='o', linestyle='-')\n",
    "plt.title('Balance Over Time')\n",
    "plt.xlabel('Date')\n",
    "plt.ylabel('Balance')\n",
    "\n",
    "plt.subplot(2, 1, 2)\n",
    "plt.plot(sample_account['Date'], sample_account['Amount'], marker='o', linestyle='-')\n",
    "plt.title('Transaction Amount Over Time')\n",
    "plt.xlabel('Date')\n",
    "plt.ylabel('Amount')\n",
    "\n",
    "plt.tight_layout()\n",
    "plt.show()"
   ]
  },
  {
   "cell_type": "code",
   "execution_count": null,
   "id": "cb2ba777",
   "metadata": {
    "scrolled": true
   },
   "outputs": [],
   "source": [
    "import matplotlib.pyplot as plt\n",
    "import seaborn as sns\n",
    "\n",
    "# Label the transactions as debit or credit\n",
    "data['Transaction Type'] = ['Credit' if amt > 0 else 'Debit' for amt in data['Amount']]\n",
    "\n",
    "# Plotting the distribution of Balances for debits and credits\n",
    "plt.figure(figsize=(6,3))\n",
    "sns.boxplot(x='Transaction Type', y='Balance', data=data)\n",
    "plt.title('Balance Distribution for Debits and Credits')\n",
    "plt.xlabel('Transaction Type')\n",
    "plt.ylabel('Balance')\n",
    "plt.show()"
   ]
  },
  {
   "cell_type": "code",
   "execution_count": null,
   "id": "955279f0",
   "metadata": {},
   "outputs": [],
   "source": [
    "# Interpolate missing values for Balance and Amount\n",
    "#data['Balance'] = data['Balance'].interpolate(method='linear')\n",
    "#data['Amount'] = data['Amount'].interpolate(method='linear')"
   ]
  },
  {
   "cell_type": "code",
   "execution_count": null,
   "id": "4525045d",
   "metadata": {},
   "outputs": [],
   "source": [
    "# nearest integer/ rounding\n",
    "data['Balance'] = data['Balance'].round().astype(int)\n",
    "data['Amount'] = data['Amount'].round().astype(int)"
   ]
  },
  {
   "cell_type": "code",
   "execution_count": null,
   "id": "8f238ffe",
   "metadata": {},
   "outputs": [],
   "source": [
    "# Calculate statistics for debits and credits\n",
    "debit_stats = debits['Balance'].describe()\n",
    "credit_stats = credits['Balance'].describe()"
   ]
  },
  {
   "cell_type": "code",
   "execution_count": null,
   "id": "f31413cb",
   "metadata": {},
   "outputs": [],
   "source": [
    "debit_stats"
   ]
  },
  {
   "cell_type": "code",
   "execution_count": null,
   "id": "8ebd894b",
   "metadata": {},
   "outputs": [],
   "source": [
    "credit_stats"
   ]
  },
  {
   "cell_type": "code",
   "execution_count": null,
   "id": "ec882654",
   "metadata": {},
   "outputs": [],
   "source": [
    "import pandas as pd\n",
    "\n",
    "# Assuming you have a DataFrame named 'data' containing your transaction data\n",
    "# Make sure you have columns named 'Date' and 'Timestamp' representing date and time respectively\n",
    "\n",
    "# Convert 'Date' and 'Timestamp' columns to string type if they're not already\n",
    "data['Date'] = data['Date'].astype(str)\n",
    "data['Timestamp'] = data['Timestamp'].astype(str)\n",
    "\n",
    "# Concatenate date and time columns\n",
    "data['Datetime'] = data['Date'] + ' ' + data['Timestamp']\n",
    "\n",
    "# Convert the concatenated string to datetime data type\n",
    "data['Datetime'] = pd.to_datetime(data['Datetime'])\n",
    "\n",
    "# Drop the original date and time columns if needed\n",
    "data = data.drop(columns=['Date', 'Timestamp'])\n"
   ]
  },
  {
   "cell_type": "code",
   "execution_count": null,
   "id": "2530f1fb",
   "metadata": {},
   "outputs": [],
   "source": [
    "# Reorder the columns with 'Datetime' as the first column\n",
    "data = data[['Datetime'] + [col for col in data.columns if col != 'Datetime']]"
   ]
  },
  {
   "cell_type": "code",
   "execution_count": null,
   "id": "7338fc12",
   "metadata": {},
   "outputs": [],
   "source": [
    "data"
   ]
  },
  {
   "cell_type": "code",
   "execution_count": null,
   "id": "7b5db57a",
   "metadata": {},
   "outputs": [],
   "source": [
    "import matplotlib.pyplot as plt\n",
    "\n",
    "# Resample data on a monthly basis and calculate the sum of transaction amounts\n",
    "monthly_transactions = data.resample('M', on='Datetime')['Amount'].sum()\n",
    "\n",
    "# Plot the monthly transaction amounts\n",
    "plt.figure(figsize=(10, 4))\n",
    "monthly_transactions.plot(title='Monthly Transaction Amounts Over Time')\n",
    "plt.xlabel('Month')\n",
    "plt.ylabel('Total Transaction Amount')\n",
    "plt.grid(True)\n",
    "plt.show()"
   ]
  },
  {
   "cell_type": "code",
   "execution_count": null,
   "id": "e625cf26",
   "metadata": {},
   "outputs": [],
   "source": [
    "# Resample data on a weekly basis and calculate the sum of transaction amounts\n",
    "weekly_transactions = data.resample('W', on='Datetime')['Amount'].sum()\n",
    "\n",
    "# Plot the weekly transaction amounts\n",
    "plt.figure(figsize=(14, 7))\n",
    "weekly_transactions.plot(title='Weekly Transaction Amounts Over Time')\n",
    "plt.xlabel('Week')\n",
    "plt.ylabel('Total Transaction Amount')\n",
    "plt.grid(True)\n",
    "plt.show()"
   ]
  },
  {
   "cell_type": "code",
   "execution_count": null,
   "id": "483fba44",
   "metadata": {},
   "outputs": [],
   "source": [
    "# Separate credits and debits\n",
    "credits = data[data['Amount'] > 0]\n",
    "debits = data[data['Amount'] < 0]\n",
    "\n",
    "# Resample credits and debits on a monthly basis and calculate the sum of transaction amounts\n",
    "monthly_credits = credits.resample('M', on='Datetime')['Amount'].sum()\n",
    "monthly_debits = debits.resample('M', on='Datetime')['Amount'].sum()\n",
    "\n",
    "# Plot the monthly transaction amounts for credits and debits\n",
    "plt.figure(figsize=(10,4))\n",
    "monthly_credits.plot(label='Credits', color='green')\n",
    "monthly_debits.plot(label='Debits', color='red')\n",
    "plt.title('Monthly Credits vs Debits Over Time')\n",
    "plt.xlabel('Month')\n",
    "plt.ylabel('Total Transaction Amount')\n",
    "plt.legend()\n",
    "plt.grid(True)\n",
    "plt.show()"
   ]
  },
  {
   "cell_type": "markdown",
   "id": "37575b24",
   "metadata": {},
   "source": [
    "## Key Observations:\n",
    "\n",
    "Volatility: The debits seem more volatile compared to credits, which could indicate varying spending habits or payment cycles.\n",
    "\n",
    "Trends: There might be specific months where credits or debits peak, which could correspond to seasonal factors, tax periods, or other cyclical events affecting transaction volumes."
   ]
  },
  {
   "cell_type": "code",
   "execution_count": null,
   "id": "921eaeab",
   "metadata": {},
   "outputs": [],
   "source": [
    "# Calculate weekly changes in transaction amounts\n",
    "weekly_changes = weekly_transactions.diff()\n",
    "\n",
    "# Identify top 5 weeks with the largest positive and negative changes\n",
    "top_increases = weekly_changes.nlargest(5)\n",
    "top_decreases = weekly_changes.nsmallest(5)\n",
    "\n",
    "# Filter data to include only the weeks identified\n",
    "significant_weeks = pd.concat([top_increases, top_decreases]).sort_index()\n",
    "significant_weeks_dates = significant_weeks.index\n",
    "\n",
    "# Filter the original data for the significant weeks to look at transaction details\n",
    "significant_transactions = data[(data['Datetime'] >= significant_weeks_dates.min()) & \n",
    "                                (data['Datetime'] <= significant_weeks_dates.max())]\n",
    "\n",
    "#significant_transactions.head(), top_increases, top_decreases"
   ]
  },
  {
   "cell_type": "code",
   "execution_count": null,
   "id": "0dbaa956",
   "metadata": {},
   "outputs": [],
   "source": [
    "import seaborn as sns\n",
    "\n",
    "# Create a subset for visualization based on significant weeks\n",
    "visual_subset = data[data['Datetime'].dt.week.isin(significant_weeks_dates.week)]\n",
    "\n",
    "# Plot transaction amounts for significant weeks\n",
    "plt.figure(figsize=(14, 7))\n",
    "sns.boxplot(x=visual_subset['Datetime'].dt.strftime('%Y-%m'), y='Amount', data=visual_subset)\n",
    "plt.xticks(rotation=45)\n",
    "plt.title('Transaction Amounts for months with Significant Changes')\n",
    "plt.xlabel('month')\n",
    "plt.ylabel('Transaction Amount')\n",
    "plt.grid(True)\n",
    "plt.show()"
   ]
  },
  {
   "cell_type": "code",
   "execution_count": null,
   "id": "d03d3e2e",
   "metadata": {},
   "outputs": [],
   "source": [
    "data"
   ]
  },
  {
   "cell_type": "code",
   "execution_count": null,
   "id": "841ef49d",
   "metadata": {},
   "outputs": [],
   "source": [
    "# Count the number of negative amounts (Debits)\n",
    "negative_amount_count = (data['Amount'] < 0).sum()\n",
    "print(f\"Count of negative amounts (Debits): {negative_amount_count}\")"
   ]
  },
  {
   "cell_type": "code",
   "execution_count": null,
   "id": "3ecda8c4",
   "metadata": {},
   "outputs": [],
   "source": [
    "# Count the number of negative amounts (credtis)\n",
    "negative_amount_count = (data['Amount'] > 0).sum()\n",
    "print(f\"Count of negative amounts (Debits): {negative_amount_count}\")"
   ]
  },
  {
   "cell_type": "code",
   "execution_count": null,
   "id": "abd3c937",
   "metadata": {},
   "outputs": [],
   "source": [
    "# Count the number of negative amounts (accounts balnce in negative)\n",
    "negative_amount_count = (data['Balance'] < 0).sum()\n",
    "print(f\"Count of negative amounts (Debits): {negative_amount_count}\")"
   ]
  },
  {
   "cell_type": "code",
   "execution_count": null,
   "id": "366db968",
   "metadata": {},
   "outputs": [],
   "source": []
  },
  {
   "cell_type": "markdown",
   "id": "1ee41cac",
   "metadata": {},
   "source": [
    "# Segmentation by Transaction Amount"
   ]
  },
  {
   "cell_type": "code",
   "execution_count": null,
   "id": "65631821",
   "metadata": {},
   "outputs": [],
   "source": [
    "# Define bins and labels for transaction amount segmentation\n",
    "amount_bins = [-float('inf'), 25, 50, float('inf')]\n",
    "amount_labels = ['Low', 'Medium', 'High']\n",
    "\n",
    "# Segment transactions based on Amount\n",
    "data['Amount_Segment'] = pd.cut(data['Amount'], bins=amount_bins, labels=amount_labels)\n",
    "print(data['Amount_Segment'].value_counts())\n"
   ]
  },
  {
   "cell_type": "markdown",
   "id": "83c2d07b",
   "metadata": {},
   "source": [
    "# Transaction Frequency Segmentation"
   ]
  },
  {
   "cell_type": "code",
   "execution_count": null,
   "id": "02e078e1",
   "metadata": {},
   "outputs": [],
   "source": [
    "# Count the number of transactions per account\n",
    "transaction_freq = data['Account No'].value_counts()\n",
    "\n",
    "# Define thresholds based on quantiles for segmentation\n",
    "freq_thresholds = [0, transaction_freq.quantile(0.33), transaction_freq.quantile(0.66), float('inf')]\n",
    "freq_labels = ['Low', 'Medium', 'High']\n",
    "\n",
    "# Segment customers based on transaction frequency\n",
    "data['Freq_Segment'] = pd.cut(data['Account No'].map(transaction_freq), bins=freq_thresholds, labels=freq_labels)\n",
    "print(data['Freq_Segment'].value_counts())"
   ]
  },
  {
   "cell_type": "markdown",
   "id": "de2e6940",
   "metadata": {},
   "source": [
    "# by date "
   ]
  },
  {
   "cell_type": "code",
   "execution_count": null,
   "id": "49e8a86f",
   "metadata": {},
   "outputs": [],
   "source": []
  },
  {
   "cell_type": "code",
   "execution_count": null,
   "id": "87f4ec12",
   "metadata": {},
   "outputs": [],
   "source": []
  },
  {
   "cell_type": "code",
   "execution_count": null,
   "id": "bbedad83",
   "metadata": {},
   "outputs": [],
   "source": []
  },
  {
   "cell_type": "code",
   "execution_count": null,
   "id": "f1fa7c7c",
   "metadata": {},
   "outputs": [],
   "source": [
    "# Calculate the interquartile range to determine outliers in transaction amounts\n",
    "Q1 = data['Amount'].quantile(0.25)\n",
    "Q3 = data['Amount'].quantile(0.75)\n",
    "IQR = Q3 - Q1\n",
    "upper_bound = Q3 + 1.5 * IQR\n",
    "lower_bound = Q1 - 1.5 * IQR\n",
    "\n",
    "# Filter transactions that are outliers\n",
    "outlier_transactions = data[(data['Amount'] > upper_bound) | (data['Amount'] < lower_bound)]\n",
    "\n",
    "# Display outlier transactions\n",
    "outlier_transactions.head(), outlier_transactions.describe()\n"
   ]
  },
  {
   "cell_type": "markdown",
   "id": "89540de6",
   "metadata": {},
   "source": [
    "## observations:\n",
    "Count: 28,533 transactions are identified as outliers.\n",
    "\n",
    "Mean Balance: 2,959.32, which indicates the average account balance after these transactions.\n",
    "\n",
    "Amount Range: From -12,240 to 12,240, showing both large credits and debits.\n",
    "\n",
    "Standard Deviation in Amount: 1,393.51, indicating a high variance in transaction amounts among outliers."
   ]
  },
  {
   "cell_type": "code",
   "execution_count": null,
   "id": "eee54919",
   "metadata": {},
   "outputs": [],
   "source": [
    "# Extract the hour from the Datetime for analysis\n",
    "outlier_transactions['Hour'] = outlier_transactions['Datetime'].dt.hour\n",
    "\n",
    "# Plot the distribution of outlier transactions across different hours of the day\n",
    "plt.figure(figsize=(10, 4))\n",
    "sns.countplot(x='Hour', data=outlier_transactions)\n",
    "plt.title('Distribution of Outlier Transactions by Hour of Day')\n",
    "plt.xlabel('Hour of Day')\n",
    "plt.ylabel('Count of Transactions')\n",
    "plt.grid(True)\n",
    "plt.show()"
   ]
  },
  {
   "cell_type": "markdown",
   "id": "3f38471b",
   "metadata": {},
   "source": [
    "## Insights\n",
    "Nighttime Transactions: Elevated levels of transaction activity during late hours could indicate fraudulent behavior, as these times are typically off-peak for regular consumer transactions.\n",
    "\n",
    "Regular Business Hours Activity: While there is also activity during regular hours, the spikes during unusual hours warrant closer scrutiny."
   ]
  },
  {
   "cell_type": "code",
   "execution_count": null,
   "id": "2e9e3cc3",
   "metadata": {},
   "outputs": [],
   "source": [
    "# Count the number of outlier transactions for each account\n",
    "account_outlier_counts = outlier_transactions['Account No'].value_counts()\n",
    "\n",
    "# Merge this with the main data to see if these accounts also show unusual transaction times\n",
    "outlier_accounts = pd.DataFrame(account_outlier_counts).reset_index()\n",
    "outlier_accounts.columns = ['Account No', 'Outlier Count']\n",
    "\n",
    "# Examine accounts with the highest number of outlier transactions\n",
    "high_outlier_accounts = outlier_accounts[outlier_accounts['Outlier Count'] > outlier_accounts['Outlier Count'].quantile(0.95)]\n",
    "\n",
    "# Display the details of accounts with high outlier transactions\n",
    "high_outlier_accounts.head(), high_outlier_accounts.describe()\n"
   ]
  },
  {
   "cell_type": "code",
   "execution_count": null,
   "id": "a5a443b5",
   "metadata": {},
   "outputs": [],
   "source": [
    "data['Third Party'].nunique()"
   ]
  },
  {
   "cell_type": "code",
   "execution_count": null,
   "id": "944a3e1e",
   "metadata": {},
   "outputs": [],
   "source": [
    "top_parties = data['Third Party'].value_counts().head(10)\n",
    "\n",
    "plt.figure(figsize=(7,3))\n",
    "sns.barplot(x=top_parties.values, y=top_parties.index, palette='viridis')\n",
    "plt.title('Top 10 Third Parties by Transaction Frequency', fontsize=16)\n",
    "plt.xlabel('Number of Transactions', fontsize=14)\n",
    "plt.ylabel('Third Party', fontsize=14)\n",
    "plt.grid(True, axis='x')\n",
    "plt.show()"
   ]
  },
  {
   "cell_type": "code",
   "execution_count": null,
   "id": "5d3062e8",
   "metadata": {},
   "outputs": [],
   "source": []
  },
  {
   "cell_type": "markdown",
   "id": "e8461c99",
   "metadata": {},
   "source": [
    "# Temporal analysis:"
   ]
  },
  {
   "cell_type": "code",
   "execution_count": null,
   "id": "60c89d8a",
   "metadata": {},
   "outputs": [],
   "source": [
    "## EDA\n",
    "import pandas as pd\n",
    "import matplotlib.pyplot as plt\n",
    "import seaborn as sns\n",
    "\n",
    "# Assuming 'data' is your DataFrame\n",
    "data['Datetime'] = pd.to_datetime(data['Datetime'])\n",
    "\n",
    "# Descriptive statistics\n",
    "print(data.describe())\n",
    "print(data['Transaction Type'].value_counts())\n",
    "\n",
    "# Missing values check\n",
    "print(data.isnull().sum())\n",
    "\n",
    "# New features\n",
    "data['Day of Week'] = data['Datetime'].dt.day_name()\n",
    "data['Hour of Day'] = data['Datetime'].dt.hour\n",
    "\n",
    "# Transaction trends\n",
    "plt.figure(figsize=(14, 7))\n",
    "sns.lineplot(x='Datetime', y='Amount', data=data)\n",
    "plt.title('Transaction Amount Over Time')\n",
    "plt.xlabel('Datetime')\n",
    "plt.ylabel('Amount')\n",
    "plt.show()\n",
    "\n",
    "# Distribution of transactions\n",
    "plt.figure(figsize=(10, 6))\n",
    "sns.histplot(data['Amount'], bins=30, kde=True)\n",
    "plt.title('Distribution of Transaction Amounts')\n",
    "plt.xlabel('Transaction Amount')\n",
    "plt.show()\n",
    "\n",
    "# Balance over time for a specific account\n",
    "sample_account = data[data['Account No'] == data['Account No'].unique()[0]]\n",
    "plt.figure(figsize=(14, 7))\n",
    "plt.plot(sample_account['Datetime'], sample_account['Balance'], marker='o')\n",
    "plt.title('Balance Over Time for Account No: {}'.format(sample_account['Account No'].iloc[0]))\n",
    "plt.xlabel('Datetime')\n",
    "plt.ylabel('Balance')\n",
    "plt.grid(True)\n",
    "plt.show()\n",
    "\n",
    "# Correlation matrix\n",
    "corr = data[['Balance', 'Amount']].corr()\n",
    "sns.heatmap(corr, annot=True, cmap='coolwarm')\n",
    "plt.title('Correlation Matrix')\n",
    "plt.show()"
   ]
  },
  {
   "cell_type": "code",
   "execution_count": null,
   "id": "66a11acc",
   "metadata": {},
   "outputs": [],
   "source": []
  },
  {
   "cell_type": "code",
   "execution_count": null,
   "id": "55daaff4",
   "metadata": {},
   "outputs": [],
   "source": [
    "# Assuming data is already loaded into a DataFrame named `data`\n",
    "# Convert 'Datetime' from string to datetime format if not already done\n",
    "data['Datetime'] = pd.to_datetime(data['Datetime'])\n",
    "\n",
    "# Create time-based features\n",
    "data['Hour'] = data['Datetime'].dt.hour\n",
    "data['Day of Week'] = data['Datetime'].dt.day_name()\n",
    "data['Month'] = data['Datetime'].dt.month\n",
    "\n",
    "# Plot transactions over time to identify peaks\n",
    "plt.figure(figsize=(12, 6))\n",
    "sns.lineplot(x='Hour', y='Amount', data=data, estimator=sum, ci=None)\n",
    "plt.title('Total Transaction Amount by Hour of Day')\n",
    "plt.show()\n",
    "\n",
    "# Analyzing transactions by day of week\n",
    "plt.figure(figsize=(12, 6))\n",
    "sns.barplot(x='Day of Week', y='Amount', data=data, estimator=sum)\n",
    "plt.title('Total Transaction Amount by Day of Week')\n",
    "plt.show()"
   ]
  },
  {
   "cell_type": "code",
   "execution_count": null,
   "id": "f39cdbae",
   "metadata": {},
   "outputs": [],
   "source": [
    "import pandas as pd\n",
    "import matplotlib.pyplot as plt\n",
    "import seaborn as sns\n",
    "\n",
    "# Load and prepare the data\n",
    "data['Month-Year'] = data['Datetime'].dt.to_period('M')\n",
    "monthly_data = data.groupby('Month-Year')['Amount'].sum()\n",
    "\n",
    "# Plotting a line graph of monthly transaction volumes over multiple years\n",
    "plt.figure(figsize=(14, 7))\n",
    "monthly_data.plot(title='Monthly Transaction Volumes Over Years')\n",
    "plt.xlabel('Month-Year')\n",
    "plt.ylabel('Total Transaction Volume')\n",
    "plt.grid(True)\n",
    "plt.show()\n",
    "\n",
    "# Creating a heatmap of monthly data for multiple years\n",
    "data['Year'] = data['Datetime'].dt.year\n",
    "data['Month'] = data['Datetime'].dt.month\n",
    "pivot_table = data.pivot_table(values='Amount', index='Month', columns='Year', aggfunc='sum')\n",
    "\n",
    "plt.figure(figsize=(12, 8))\n",
    "sns.heatmap(pivot_table, annot=True, fmt=\".0f\", linewidths=.5, cmap='Blues')\n",
    "plt.title('Heatmap of Transaction Volumes by Month and Year')\n",
    "plt.xlabel('Year')\n",
    "plt.ylabel('Month')\n",
    "plt.show()\n"
   ]
  },
  {
   "cell_type": "code",
   "execution_count": null,
   "id": "557003b9",
   "metadata": {},
   "outputs": [],
   "source": []
  },
  {
   "cell_type": "code",
   "execution_count": null,
   "id": "f74b07cb",
   "metadata": {},
   "outputs": [],
   "source": [
    "## marketing"
   ]
  },
  {
   "cell_type": "code",
   "execution_count": null,
   "id": "52d72af9",
   "metadata": {},
   "outputs": [],
   "source": [
    "data['Third Party Name'] = data['Third Party'].apply(lambda x: x if isinstance(x, str) else None)\n",
    "data['Third Party Account No'] = data['Third Party'].apply(lambda x: x if isinstance(x, int) else None)"
   ]
  },
  {
   "cell_type": "code",
   "execution_count": null,
   "id": "08dcf05b",
   "metadata": {},
   "outputs": [],
   "source": [
    "data['Third Party Name'] = data['Third Party Name'].str.upper().str.strip()"
   ]
  },
  {
   "cell_type": "code",
   "execution_count": null,
   "id": "0e0b9795",
   "metadata": {},
   "outputs": [],
   "source": [
    "frequent_parties = data['Third Party Name'].value_counts().head(10)"
   ]
  },
  {
   "cell_type": "code",
   "execution_count": null,
   "id": "3996eba2",
   "metadata": {},
   "outputs": [],
   "source": [
    "frequent_parties"
   ]
  },
  {
   "cell_type": "code",
   "execution_count": null,
   "id": "1d297b0b",
   "metadata": {},
   "outputs": [],
   "source": [
    "pivot_data = data.pivot_table(values='Amount', index='Third Party Name', aggfunc=['sum', 'count'])"
   ]
  },
  {
   "cell_type": "code",
   "execution_count": null,
   "id": "f477a90b",
   "metadata": {},
   "outputs": [],
   "source": [
    "import seaborn as sns\n",
    "import matplotlib.pyplot as plt\n",
    "\n",
    "# Top third parties by transaction count\n",
    "plt.figure(figsize=(10, 6))\n",
    "sns.barplot(x=frequent_parties.values, y=frequent_parties.index)\n",
    "plt.title('Most Frequent Third Parties')\n",
    "plt.xlabel('Number of Transactions')\n",
    "plt.ylabel('Third Party')\n",
    "plt.show()"
   ]
  },
  {
   "cell_type": "markdown",
   "id": "57eeef44",
   "metadata": {},
   "source": [
    "### Targeted Offers\n",
    "Co-branded Campaigns: Partner with popular third parties identified in the data, like Tesco or Amazon, to create co-branded offers. For instance, a \"Shop with Tesco and save on your next bank service fee\" campaign can drive transactions and build loyalty.\n",
    "\n",
    "Reward Programs: Develop rewards programs that incentivize customers to shop with these third parties. For example, double the reward points when using your bank's credit card at any of the top third-party merchants.\n",
    "\n",
    "Exclusive Deals: Negotiate exclusive deals or discounts with these third parties for your customers. If Fat Face is a popular merchant, an exclusive 10% discount for your bank's customers can be a strong incentive.\n",
    "\n",
    "Bundle Offers: Bundle banking services with third-party offerings. For instance, new account sign-ups could come with discount vouchers for Sports Direct or free delivery from Deliveroo."
   ]
  },
  {
   "cell_type": "code",
   "execution_count": null,
   "id": "0bab7e0e",
   "metadata": {},
   "outputs": [],
   "source": [
    "import pandas as pd\n",
    "\n",
    "# Assuming 'data' is your DataFrame already loaded from previous analysis or an external file\n",
    "\n",
    "# Define the top third parties from your provided list\n",
    "frequent_parties = ['Tesco', 'Sports Direct', 'Topshop', 'Amazon', 'Fat Face', \n",
    "                    'PureGym', 'Matalan', 'Netflix', 'JustEat', 'Deliveroo']\n",
    "\n",
    "# Filter your data to include only transactions with these top third parties\n",
    "top_data = data[data['Third Party'].isin(frequent_parties)]\n",
    "\n",
    "# Customer Profiling\n",
    "# Define a function to create profiles based on transactions with specific third parties\n",
    "def identify_profile(third_party):\n",
    "    if third_party in ['Amazon']:\n",
    "        return 'Tech-Savvy Shopper'\n",
    "    elif third_party in ['PureGym']:\n",
    "        return 'Fitness Enthusiast'\n",
    "    elif third_party in ['Sports Direct']:\n",
    "        return 'Sports Equipment Lover'\n",
    "    elif third_party in ['Tesco', 'Topshop', 'Fat Face', 'Matalan']:\n",
    "        return 'Regular Retail Shopper'\n",
    "    elif third_party in ['Netflix', 'JustEat', 'Deliveroo']:\n",
    "        return 'Home Entertainment Lover'\n",
    "    else:\n",
    "        return 'General Shopper'\n",
    "\n",
    "top_data['Customer Profile'] = top_data['Third Party'].apply(identify_profile)\n",
    "\n",
    "# Personalized Communication\n",
    "# Map personalized messages to different customer segments\n",
    "personalized_messages = {\n",
    "    'Tech-Savvy Shopper': \"Explore the latest tech gadgets on Amazon with our exclusive card rewards!\",\n",
    "    'Fitness Enthusiast': \"Stay fit and healthy! Enjoy special offers from PureGym just for you.\",\n",
    "    'Sports Equipment Lover': \"Get ready to elevate your game with the best deals from Sports Direct!\",\n",
    "    'Regular Retail Shopper': \"Discover the best shopping deals and enjoy exclusive rewards at Tesco and more!\",\n",
    "    'Home Entertainment Lover': \"Enhance your home entertainment with exclusive offers from Netflix, JustEat, and Deliveroo!\"\n",
    "}\n",
    "\n",
    "top_data['Personalized Message'] = top_data['Customer Profile'].map(personalized_messages)\n",
    "\n",
    "# Product Customization\n",
    "# Suggest products based on customer profiles\n",
    "product_suggestions = {\n",
    "    'Tech-Savvy Shopper': 'High-Tech Rewards Card',\n",
    "    'Fitness Enthusiast': 'Fitness Fanatic Credit Card',\n",
    "    'Sports Equipment Lover': 'Sports Rewards Card',\n",
    "    'Regular Retail Shopper': 'Premium Retail Rewards Card',\n",
    "    'Home Entertainment Lover': 'Entertainment Rewards Card'\n",
    "}\n",
    "\n",
    "top_data['Suggested Product'] = top_data['Customer Profile'].map(product_suggestions)\n",
    "\n",
    "# Display the enhanced dataset with profiles, messages, and product suggestions\n",
    "print(top_data[['Account No', 'Third Party', 'Customer Profile', 'Personalized Message', 'Suggested Product']])\n"
   ]
  },
  {
   "cell_type": "code",
   "execution_count": null,
   "id": "fc5e3c70",
   "metadata": {},
   "outputs": [],
   "source": []
  },
  {
   "cell_type": "code",
   "execution_count": null,
   "id": "5d9f9086",
   "metadata": {},
   "outputs": [],
   "source": [
    "import pandas as pd\n",
    "\n",
    "# Assuming 'data' is your DataFrame already loaded from previous analysis\n",
    "\n",
    "# Filter data for only the top third parties you are interested in\n",
    "frequent_parties = ['Tesco', 'Sports Direct', 'Topshop', 'Amazon', 'Fat Face', \n",
    "                    'PureGym', 'Matalan', 'Netflix', 'JustEat', 'Deliveroo']\n",
    "top_data = data[data['Third Party'].isin(frequent_parties)]\n",
    "\n",
    "# Calculate frequency of transactions for each third party\n",
    "transaction_frequencies = top_data['Third Party'].value_counts()\n",
    "\n",
    "# Calculate total amount spent at each third party\n",
    "total_spent = top_data.groupby('Third Party')['Amount'].sum()\n",
    "\n",
    "# Calculate the number of unique users (accounts) for each third party\n",
    "unique_users = top_data.groupby('Third Party')['Account No'].nunique()\n",
    "\n",
    "# Combine all these metrics into a single DataFrame for a comprehensive overview\n",
    "third_party_analysis = pd.DataFrame({\n",
    "    'Frequency of Transactions': transaction_frequencies,\n",
    "    'Total Amount Spent': total_spent,\n",
    "    'Unique Users': unique_users\n",
    "})\n",
    "\n",
    "# Print the combined analysis\n",
    "print(third_party_analysis)\n"
   ]
  },
  {
   "cell_type": "markdown",
   "id": "5a33fb00",
   "metadata": {},
   "source": [
    "### Analaysis\n",
    "Transaction Frequencies: This metric shows how many transactions each third party has, which helps identify the most frequented businesses by your customers.\n",
    "\n",
    "Total Amount Spent: Knowing the total amount spent can indicate the financial significance of each third party in your customers' spending habits.\n",
    "\n",
    "Unique Users: The number of unique users transacting with each third party highlights how widely used a third party is among your customer base, which can be crucial for targeted marketing strategies."
   ]
  },
  {
   "cell_type": "code",
   "execution_count": null,
   "id": "c4153aa2",
   "metadata": {},
   "outputs": [],
   "source": [
    "import pandas as pd\n",
    "import matplotlib.pyplot as plt\n",
    "import seaborn as sns\n",
    "\n",
    "# Assuming 'top_data' is already loaded and filtered for top third parties\n",
    "\n",
    "# Calculate necessary metrics\n",
    "transaction_frequencies = top_data['Third Party'].value_counts()\n",
    "total_spent = top_data.groupby('Third Party')['Amount'].sum()\n",
    "unique_users = top_data.groupby('Third Party')['Account No'].nunique()\n",
    "\n",
    "# Creating a DataFrame for easy visualization\n",
    "third_party_metrics = pd.DataFrame({\n",
    "    'Transaction Frequencies': transaction_frequencies,\n",
    "    'Total Amount Spent': total_spent,\n",
    "    'Unique Users': unique_users\n",
    "}).sort_values(by='Transaction Frequencies', ascending=False)  # Sorting for better visual representation\n",
    "\n",
    "# Plotting\n",
    "plt.figure(figsize=(14, 7))\n",
    "\n",
    "# Subplot 1: Transaction Frequencies\n",
    "plt.subplot(1, 3, 1)\n",
    "sns.barplot(x=third_party_metrics['Transaction Frequencies'], y=third_party_metrics.index, palette='viridis')\n",
    "plt.title('Transaction Frequencies')\n",
    "plt.xlabel('Number of Transactions')\n",
    "plt.ylabel('Third Party')\n",
    "\n",
    "# Subplot 2: Total Amount Spent\n",
    "plt.subplot(1, 3, 2)\n",
    "sns.barplot(x=third_party_metrics['Total Amount Spent'], y=third_party_metrics.index, palette='viridis')\n",
    "plt.title('Total Amount Spent')\n",
    "plt.xlabel('Total Spent ($)')\n",
    "plt.ylabel('')\n",
    "\n",
    "# Subplot 3: Unique Users\n",
    "plt.subplot(1, 3, 3)\n",
    "sns.barplot(x=third_party_metrics['Unique Users'], y=third_party_metrics.index, palette='viridis')\n",
    "plt.title('Unique Users')\n",
    "plt.xlabel('Number of Unique Users')\n",
    "plt.ylabel('')\n",
    "\n",
    "plt.tight_layout()\n",
    "plt.show()"
   ]
  },
  {
   "cell_type": "code",
   "execution_count": null,
   "id": "322b7a0b",
   "metadata": {},
   "outputs": [],
   "source": [
    "import pandas as pd\n",
    "import seaborn as sns\n",
    "import matplotlib.pyplot as plt\n",
    "\n",
    "# Assuming 'top_data' is already loaded and filtered for top third parties\n",
    "\n",
    "# Calculate the metrics for each third party\n",
    "transaction_frequencies = top_data['Third Party'].value_counts()\n",
    "total_spent = top_data.groupby('Third Party')['Amount'].sum()\n",
    "unique_users = top_data.groupby('Third Party')['Account No'].nunique()\n",
    "\n",
    "# Creating a DataFrame for the analysis\n",
    "analysis_df = pd.DataFrame({\n",
    "    'Transaction Frequencies': transaction_frequencies,\n",
    "    'Total Amount Spent': total_spent,\n",
    "    'Unique Users': unique_users\n",
    "})\n",
    "\n",
    "# Ensure the DataFrame only contains the top ten third parties based on transaction frequencies\n",
    "top_ten_third_parties = analysis_df.nlargest(10, 'Transaction Frequencies')\n",
    "\n",
    "# Generating a pairplot of the top ten third parties\n",
    "sns.pairplot(top_ten_third_parties, kind='scatter', diag_kind='kde', plot_kws={'alpha': 0.6, 's': 80, 'edgecolor': 'k'})\n",
    "plt.suptitle('Pairplot of Transaction Metrics for Top Ten Third Parties')\n",
    "plt.show()"
   ]
  },
  {
   "cell_type": "code",
   "execution_count": null,
   "id": "622e355e",
   "metadata": {},
   "outputs": [],
   "source": []
  },
  {
   "cell_type": "code",
   "execution_count": null,
   "id": "b0e5f020",
   "metadata": {},
   "outputs": [],
   "source": []
  },
  {
   "cell_type": "code",
   "execution_count": null,
   "id": "859fba96",
   "metadata": {},
   "outputs": [],
   "source": []
  },
  {
   "cell_type": "code",
   "execution_count": null,
   "id": "91a3a7e6",
   "metadata": {},
   "outputs": [],
   "source": []
  },
  {
   "cell_type": "code",
   "execution_count": null,
   "id": "3814fa13",
   "metadata": {},
   "outputs": [],
   "source": [
    "from sklearn.cluster import KMeans\n",
    "import pandas as pd\n",
    "import seaborn as sns\n",
    "import matplotlib.pyplot as plt\n",
    "\n",
    "# Assuming 'data' is your DataFrame and has the necessary columns\n",
    "# Select the features you want to use for clustering\n",
    "X = data[['Balance', 'Amount']].dropna()  # Dropping NA values to avoid errors during fitting\n",
    "\n",
    "# Scale the data if necessary - Here we are assuming it's already appropriately scaled for simplicity\n",
    "\n",
    "# Initialize KMeans with three clusters\n",
    "kmeans = KMeans(n_clusters=3, random_state=0)\n",
    "# Fit the model and predict cluster indices for X\n",
    "X['Cluster'] = kmeans.fit_predict(X)\n",
    "\n",
    "# Append cluster information back to the original data\n",
    "data = data.join(X['Cluster'], how='left', rsuffix='_cluster')\n",
    "\n",
    "# Analyze the characteristics of each cluster\n",
    "cluster_summary = data.groupby('Cluster').agg({\n",
    "    'Balance': ['mean', 'std'],\n",
    "    'Amount': ['mean', 'std', 'count']\n",
    "})\n",
    "print(cluster_summary)\n",
    "\n",
    "# Visualize the clusters\n",
    "sns.scatterplot(x='Balance', y='Amount', hue='Cluster', data=X, palette='viridis')\n",
    "plt.title('Customer Segmentation by Balance and Transaction Amount')\n",
    "plt.xlabel('Balance')\n",
    "plt.ylabel('Amount')\n",
    "plt.legend(title='Cluster')\n",
    "plt.show()\n"
   ]
  },
  {
   "cell_type": "code",
   "execution_count": null,
   "id": "523c868b",
   "metadata": {},
   "outputs": [],
   "source": []
  },
  {
   "cell_type": "code",
   "execution_count": null,
   "id": "2fb21b20",
   "metadata": {},
   "outputs": [],
   "source": []
  },
  {
   "cell_type": "code",
   "execution_count": null,
   "id": "54b26f6e",
   "metadata": {},
   "outputs": [],
   "source": []
  },
  {
   "cell_type": "code",
   "execution_count": null,
   "id": "c4f6f706",
   "metadata": {},
   "outputs": [],
   "source": []
  },
  {
   "cell_type": "markdown",
   "id": "a8117a9f",
   "metadata": {},
   "source": [
    "## Transactions that are several standard deviations away from the mean might be considered suspicious:\n",
    "- Transactions that are several standard deviations away from the mean might be considered suspicious:"
   ]
  },
  {
   "cell_type": "code",
   "execution_count": null,
   "id": "57aa305f",
   "metadata": {},
   "outputs": [],
   "source": [
    "# Calculate the mean and standard deviation\n",
    "mean_amount = data['Amount'].mean()\n",
    "std_amount = data['Amount'].std()\n",
    "\n",
    "# Identify outliers as transactions that are more than 3 standard deviations from the mean\n",
    "outliers = data[np.abs(data['Amount'] - mean_amount) > 3 * std_amount]\n",
    "\n",
    "# Display outliers\n",
    "outliers[['Date', 'Amount', 'Account No', 'Third Party', 'Transaction Direction']]"
   ]
  },
  {
   "cell_type": "markdown",
   "id": "9b9b1144",
   "metadata": {},
   "source": [
    "## transactions occurring repeatedly at the same time to the same third party, which could indicate automated or scripted fraud:\n",
    "- more than 5 times"
   ]
  },
  {
   "cell_type": "code",
   "execution_count": null,
   "id": "0a3c92db",
   "metadata": {
    "scrolled": true
   },
   "outputs": [],
   "source": [
    "# Group by account number, third party, and hour to see repetitive patterns\n",
    "repetitive_patterns = data.groupby(['Account No', 'Third Party', 'Timestamp']).size().reset_index(name='Count')\n",
    "\n",
    "# Filter for patterns that occur more than a threshold, e.g., more than 5 times\n",
    "suspicious_patterns = repetitive_patterns[repetitive_patterns['Count'] > 5]\n",
    "\n",
    "# Display suspicious repetitive patterns\n",
    "suspicious_patterns\n"
   ]
  },
  {
   "cell_type": "code",
   "execution_count": null,
   "id": "0d2269bb",
   "metadata": {},
   "outputs": [],
   "source": []
  },
  {
   "cell_type": "markdown",
   "id": "4b282c0d",
   "metadata": {},
   "source": [
    "## Visualisations"
   ]
  },
  {
   "cell_type": "code",
   "execution_count": null,
   "id": "3a029e25",
   "metadata": {},
   "outputs": [],
   "source": [
    "import seaborn as sns\n",
    "import matplotlib.pyplot as plt\n",
    "\n",
    "# Plot transaction amounts for outliers\n",
    "plt.figure(figsize=(10, 6))\n",
    "sns.scatterplot(x='Date', y='Amount', hue='Transaction Direction', data=outliers)\n",
    "plt.title('Outlier Transactions Over Time')\n",
    "plt.xlabel('Date')\n",
    "plt.ylabel('Transaction Amount')\n",
    "plt.show()"
   ]
  },
  {
   "cell_type": "code",
   "execution_count": null,
   "id": "f6745f2b",
   "metadata": {},
   "outputs": [],
   "source": [
    "import seaborn as sns\n",
    "import matplotlib.pyplot as plt\n",
    "\n",
    "# Plot transaction amounts for potential outliers\n",
    "plt.figure(figsize=(10, 6))\n",
    "sns.scatterplot(x='Date', y='Amount', hue='Transaction Direction', style='Day of Week', data=data)\n",
    "plt.title('Transaction Amounts Over Time')\n",
    "plt.xlabel('Date')\n",
    "plt.ylabel('Transaction Amount')\n",
    "plt.show()\n"
   ]
  },
  {
   "cell_type": "code",
   "execution_count": null,
   "id": "1c4458fc",
   "metadata": {},
   "outputs": [],
   "source": [
    "# Create pairplot for selected columns to visualize relationships and distributions\n",
    "sns.pairplot(data[['Amount', 'Balance', 'Transaction Direction']], hue='Transaction Direction', plot_kws={'alpha': 0.5})\n",
    "plt.suptitle('Pairplot of Transactions', size=16, y=1.02)\n",
    "plt.show()"
   ]
  },
  {
   "cell_type": "code",
   "execution_count": null,
   "id": "f35b99e7",
   "metadata": {},
   "outputs": [],
   "source": [
    "##"
   ]
  },
  {
   "cell_type": "code",
   "execution_count": null,
   "id": "afb5d9c4",
   "metadata": {},
   "outputs": [],
   "source": [
    "# Create individual scatter plots instead of a pairplot to avoid issues with KDE and non-numeric data types\n",
    "fig, axs = plt.subplots(1, 2, figsize=(14, 6))\n",
    "\n",
    "# Scatter plot of Amount vs. Balance\n",
    "sns.scatterplot(x='Amount', y='Balance', hue='Transaction Direction', data=data, ax=axs[0], alpha=0.5)\n",
    "axs[0].set_title('Scatter Plot of Amount vs. Balance')\n",
    "axs[0].set_xlabel('Amount')\n",
    "axs[0].set_ylabel('Balance')\n",
    "\n",
    "# Scatter plot of Amount vs. Hour of Transaction\n",
    "sns.scatterplot(x='Amount', y='Timestamp', hue='Transaction Direction', data=data, ax=axs[1], alpha=0.5)\n",
    "axs[1].set_title('Scatter Plot of Amount vs. Hour of Transaction')\n",
    "axs[1].set_xlabel('Amount')\n",
    "axs[1].set_ylabel('Hour of Transaction')\n",
    "\n",
    "plt.tight_layout()\n",
    "plt.show()"
   ]
  },
  {
   "cell_type": "code",
   "execution_count": null,
   "id": "8c6ee226",
   "metadata": {},
   "outputs": [],
   "source": []
  },
  {
   "cell_type": "markdown",
   "id": "ccaad85b",
   "metadata": {},
   "source": [
    "## Monthly Banking Activity: Insights from Total Spent, Total Credited, and Transaction Count"
   ]
  },
  {
   "cell_type": "code",
   "execution_count": null,
   "id": "4b06a4be",
   "metadata": {},
   "outputs": [],
   "source": [
    "\n",
    "# Using 'Grouper' to group by month directly\n",
    "\n",
    "monthly_data = data.groupby(['Account No', pd.Grouper(key='Date', freq='M')]).agg(\n",
    "    Total_Spent=pd.NamedAgg(column='Amount', aggfunc=lambda x: x[x < 0].sum()),\n",
    "    Total_Credited=pd.NamedAgg(column='Amount', aggfunc=lambda x: x[x >= 0].sum()),\n",
    "    Transaction_Count=pd.NamedAgg(column='Amount', aggfunc='count')\n",
    ").reset_index()\n",
    "\n",
    "# Converting 'Date' to 'Year-Month' format for easier reading\n",
    "monthly_data['Date'] = monthly_data['Date'].dt.to_period('M')\n",
    "\n",
    "# Display the first few rows of the modified monthly statistics\n",
    "monthly_data.head(5)\n"
   ]
  },
  {
   "cell_type": "code",
   "execution_count": null,
   "id": "9f37596b",
   "metadata": {},
   "outputs": [],
   "source": [
    "monthly_data.shape"
   ]
  },
  {
   "cell_type": "code",
   "execution_count": null,
   "id": "60aae7e7",
   "metadata": {},
   "outputs": [],
   "source": [
    "data['Account No'].unique().shape"
   ]
  },
  {
   "cell_type": "markdown",
   "id": "4f76e3ac",
   "metadata": {},
   "source": [
    "## checking all the users spending evry month or not"
   ]
  },
  {
   "cell_type": "code",
   "execution_count": null,
   "id": "84253c2e",
   "metadata": {},
   "outputs": [],
   "source": [
    "# To ensure each account's activity is accounted for in every expected month of the dataset, \n",
    "# we'll check which months each account has transactions and list any missing months.\n",
    "\n",
    "# First, get the full range of months from the dataset\n",
    "full_date_range = pd.period_range(data['Date'].min(), data['Date'].max(), freq='M')\n",
    "\n",
    "# Dictionary to store missing months for each account\n",
    "missing_months_dict = {}\n",
    "\n",
    "# Iterating over each account\n",
    "for account, group in data.groupby('Account No'):\n",
    "    present_months = group['Date'].dt.to_period('M').unique()\n",
    "    missing_months = full_date_range[~full_date_range.isin(present_months)]\n",
    "    if len(missing_months) > 0:\n",
    "        missing_months_dict[account] = missing_months\n",
    "\n",
    "# Create a list to store tuples of account number and missing month\n",
    "missing_months_list = []\n",
    "\n",
    "# Iterate over the dictionary and append tuples to the list\n",
    "for account, missing_months in missing_months_dict.items():\n",
    "    for month in missing_months:\n",
    "        missing_months_list.append((account, month))\n",
    "\n",
    "# Create a DataFrame from the list\n",
    "missing_months_df = pd.DataFrame(missing_months_list, columns=['Account No', 'Missing Month'])\n",
    "\n",
    "# Display the DataFrame\n",
    "print(missing_months_df)\n"
   ]
  },
  {
   "cell_type": "code",
   "execution_count": null,
   "id": "abc13c63",
   "metadata": {},
   "outputs": [],
   "source": [
    "## no.of transactions on each day..smtwthfss..\n",
    "# find any trends\n",
    "## his status at the end of month- whether he is in debt or credit"
   ]
  },
  {
   "cell_type": "code",
   "execution_count": null,
   "id": "0ed20890",
   "metadata": {},
   "outputs": [],
   "source": [
    "data"
   ]
  },
  {
   "cell_type": "markdown",
   "id": "0e46bff1",
   "metadata": {},
   "source": [
    "## fraud detection using transactional data"
   ]
  },
  {
   "cell_type": "code",
   "execution_count": null,
   "id": "a2f103de",
   "metadata": {},
   "outputs": [],
   "source": [
    "# Convert 'Date' and 'Timestamp' into a single datetime column for easier manipulation\n",
    "#data['Timestamp'] = pd.to_datetime(data['Date'] + ' ' + data['Timestamp'], errors='coerce')\n",
    "\n",
    "# Calculate mean and standard deviation for each account without storing them as columns\n",
    "mean_amounts = data.groupby('Account No')['Amount'].transform('mean')\n",
    "std_amounts = data.groupby('Account No')['Amount'].transform('std')\n",
    "\n",
    "# Identify high-value transactions\n",
    "high_value = data['Amount'] > (mean_amounts + 3 * std_amounts)\n",
    "\n",
    "# Detect frequent transactions in short times by counting the transactions per minute for each account\n",
    "frequent_transactions = data.groupby(['Account No', data['Timestamp'].dt.floor('min')])['Amount'].transform('size') > 3\n",
    "\n",
    "# Check for transactions that are round figures\n",
    "round_figure_transaction = data['Amount'].mod(1000) == 0\n",
    "\n",
    "# Combine the criteria to filter potential fraudulent transactions\n",
    "suspicious_transactions = data[high_value | frequent_transactions | round_figure_transaction]\n",
    "\n",
    "# Display the suspicious transactions\n",
    "print(suspicious_transactions[['Date', 'Timestamp', 'Account No', 'Amount', 'Third Party', 'Transaction Direction']])\n"
   ]
  },
  {
   "cell_type": "code",
   "execution_count": null,
   "id": "c3e44743",
   "metadata": {},
   "outputs": [],
   "source": [
    "suspicious_transactions"
   ]
  },
  {
   "cell_type": "code",
   "execution_count": null,
   "id": "41de204b",
   "metadata": {},
   "outputs": [],
   "source": [
    "import matplotlib.pyplot as plt\n",
    "import seaborn as sns\n",
    "\n",
    "# Assuming suspicious_transactions is already defined\n",
    "# and data['Timestamp'] has been created and is the datetime combination of 'Date' and 'Timestamp'\n",
    "\n",
    "# 1. Scatter Plot of Transaction Amounts Over Time\n",
    "plt.figure(figsize=(10, 6))\n",
    "sns.scatterplot(x='Timestamp', y='Amount', data=suspicious_transactions, hue='Transaction Direction', style='Transaction Direction')\n",
    "plt.title('Suspicious Transactions Over Time')\n",
    "plt.xlabel('Timestamp')\n",
    "plt.ylabel('Transaction Amount')\n",
    "plt.xticks(rotation=45)\n",
    "plt.legend(title='Transaction Type')\n",
    "plt.tight_layout()\n",
    "plt.show()\n",
    "\n",
    "# 2. Histogram of Transaction Amounts\n",
    "plt.figure(figsize=(10, 6))\n",
    "sns.histplot(suspicious_transactions['Amount'], bins=30, kde=False, color='red')\n",
    "plt.title('Distribution of Suspicious Transaction Amounts')\n",
    "plt.xlabel('Transaction Amount')\n",
    "plt.ylabel('Frequency')\n",
    "plt.show()\n"
   ]
  },
  {
   "cell_type": "code",
   "execution_count": null,
   "id": "470d9960",
   "metadata": {},
   "outputs": [],
   "source": [
    "import seaborn as sns\n",
    "import matplotlib.pyplot as plt\n",
    "\n",
    "# Assuming suspicious_transactions is already defined\n",
    "# and data['Timestamp'] has been created and is the datetime combination of 'Date' and 'Timestamp'\n",
    "\n",
    "# Extract more features from 'Timestamp' if needed\n",
    "suspicious_transactions['Hour of Day'] = suspicious_transactions['Timestamp'].dt.hour\n",
    "suspicious_transactions['Day of Week'] = suspicious_transactions['Timestamp'].dt.dayofweek\n",
    "\n",
    "# Select columns to include in the pairplot\n",
    "# Including 'Amount', 'Hour of Day', and 'Day of Week'\n",
    "# If 'Transaction Direction' is categorical, it can be used as a hue\n",
    "plot_data = suspicious_transactions[['Amount', 'Hour of Day', 'Day of Week', 'Transaction Direction']]\n",
    "\n",
    "# Create the pairplot\n",
    "sns.pairplot(plot_data, hue='Transaction Direction', diag_kind='kde', plot_kws={'alpha': 0.6, 's': 60, 'edgecolor': 'k'}, height=3)\n",
    "plt.suptitle('Pairplot of Suspicious Transactions')\n",
    "plt.show()\n"
   ]
  },
  {
   "cell_type": "code",
   "execution_count": null,
   "id": "24aa2ab2",
   "metadata": {},
   "outputs": [],
   "source": []
  }
 ],
 "metadata": {
  "kernelspec": {
   "display_name": "Python 3 (ipykernel)",
   "language": "python",
   "name": "python3"
  },
  "language_info": {
   "codemirror_mode": {
    "name": "ipython",
    "version": 3
   },
   "file_extension": ".py",
   "mimetype": "text/x-python",
   "name": "python",
   "nbconvert_exporter": "python",
   "pygments_lexer": "ipython3",
   "version": "3.11.4"
  }
 },
 "nbformat": 4,
 "nbformat_minor": 5
}
